{
 "cells": [
  {
   "cell_type": "code",
   "execution_count": 1,
   "metadata": {},
   "outputs": [],
   "source": [
    "import os\n",
    "import pandas as pd\n",
    "import numpy as np\n",
    "import urllib.request, json\n",
    "from shapely.geometry import Polygon"
   ]
  },
  {
   "cell_type": "code",
   "execution_count": 30,
   "metadata": {},
   "outputs": [],
   "source": [
    "def get_area(filename, geojson_prop):\n",
    "    \n",
    "    with open(os.path.join('..','..','data','shapefiles',filename), 'r') as file:\n",
    "        data_polygon = json.load(file)\n",
    "\n",
    "    df_area = []\n",
    "    for feature in data_polygon['features']:\n",
    "        poly = Polygon(feature['geometry']['coordinates'][0])\n",
    "\n",
    "        prop = feature['properties']\n",
    "\n",
    "        province, district, subdist = prop[geojson_prop['province']], prop[geojson_prop['district']], prop[geojson_prop['subdist']]\n",
    "\n",
    "        df_area.append([province, district, subdist, round(poly.area*111111,2)])\n",
    "\n",
    "    df_area = pd.DataFrame.from_records(df_area)\n",
    "    df_area.columns = ['province','district', 'subdist', 'area']\n",
    "    \n",
    "    df_area.dropna(axis='index', how='any', inplace=True)\n",
    "    df_area.drop_duplicates(keep='first', inplace=True)\n",
    "    \n",
    "    return df_area"
   ]
  },
  {
   "cell_type": "code",
   "execution_count": 31,
   "metadata": {},
   "outputs": [
    {
     "name": "stdout",
     "output_type": "stream",
     "text": [
      "Bangkok: 169\n",
      "Nakhon: 170\n",
      "Krabi: 65\n"
     ]
    }
   ],
   "source": [
    "df_area_BK = get_area(\n",
    "    filename =  'Bangkok-subdistricts.geojson',\n",
    "    geojson_prop = {\n",
    "        'province':'PNAME',\n",
    "        'district':'DNAME',\n",
    "        'subdist':'SNAME'\n",
    "    }\n",
    ")\n",
    "df_area_NK = get_area(\n",
    "    filename =  'Nakhon-subdistricts.geojson',\n",
    "    geojson_prop = {\n",
    "        'province':'PV_TN',\n",
    "        'district':'AP_TN',\n",
    "        'subdist':'TB_TN'\n",
    "    }\n",
    ")\n",
    "df_area_KB = get_area(\n",
    "    filename =  'Krabi-subdistricts.geojson',\n",
    "    geojson_prop = {\n",
    "        'province':'PV_TN',\n",
    "        'district':'AP_TN',\n",
    "        'subdist':'TB_TN'\n",
    "    }\n",
    ")\n",
    "\n",
    "print('Bangkok:', len(df_area_BK))\n",
    "print('Nakhon:', len(df_area_NK))\n",
    "print('Krabi:', len(df_area_KB))"
   ]
  },
  {
   "cell_type": "code",
   "execution_count": 39,
   "metadata": {},
   "outputs": [
    {
     "data": {
      "text/html": [
       "<div>\n",
       "<style scoped>\n",
       "    .dataframe tbody tr th:only-of-type {\n",
       "        vertical-align: middle;\n",
       "    }\n",
       "\n",
       "    .dataframe tbody tr th {\n",
       "        vertical-align: top;\n",
       "    }\n",
       "\n",
       "    .dataframe thead th {\n",
       "        text-align: right;\n",
       "    }\n",
       "</style>\n",
       "<table border=\"1\" class=\"dataframe\">\n",
       "  <thead>\n",
       "    <tr style=\"text-align: right;\">\n",
       "      <th></th>\n",
       "      <th>province</th>\n",
       "      <th>district</th>\n",
       "      <th>subdist</th>\n",
       "      <th>area</th>\n",
       "    </tr>\n",
       "  </thead>\n",
       "  <tbody>\n",
       "    <tr>\n",
       "      <th>0</th>\n",
       "      <td>กรุงเทพมหานคร</td>\n",
       "      <td>เขตบางเขน</td>\n",
       "      <td>แขวงท่าแร้ง</td>\n",
       "      <td>212.97</td>\n",
       "    </tr>\n",
       "    <tr>\n",
       "      <th>1</th>\n",
       "      <td>กรุงเทพมหานคร</td>\n",
       "      <td>เขตคลองสามวา</td>\n",
       "      <td>แขวงทรายกองดินใต้</td>\n",
       "      <td>161.16</td>\n",
       "    </tr>\n",
       "    <tr>\n",
       "      <th>2</th>\n",
       "      <td>กรุงเทพมหานคร</td>\n",
       "      <td>เขตคลองสามวา</td>\n",
       "      <td>แขวงทรายกองดิน</td>\n",
       "      <td>98.90</td>\n",
       "    </tr>\n",
       "    <tr>\n",
       "      <th>3</th>\n",
       "      <td>กรุงเทพมหานคร</td>\n",
       "      <td>เขตราชเทวี</td>\n",
       "      <td>แขวงมักกะสัน</td>\n",
       "      <td>22.99</td>\n",
       "    </tr>\n",
       "    <tr>\n",
       "      <th>4</th>\n",
       "      <td>กรุงเทพมหานคร</td>\n",
       "      <td>เขตพระนคร</td>\n",
       "      <td>แขวงตลาดยอด</td>\n",
       "      <td>1.75</td>\n",
       "    </tr>\n",
       "  </tbody>\n",
       "</table>\n",
       "</div>"
      ],
      "text/plain": [
       "        province      district            subdist    area\n",
       "0  กรุงเทพมหานคร     เขตบางเขน        แขวงท่าแร้ง  212.97\n",
       "1  กรุงเทพมหานคร  เขตคลองสามวา  แขวงทรายกองดินใต้  161.16\n",
       "2  กรุงเทพมหานคร  เขตคลองสามวา     แขวงทรายกองดิน   98.90\n",
       "3  กรุงเทพมหานคร    เขตราชเทวี       แขวงมักกะสัน   22.99\n",
       "4  กรุงเทพมหานคร     เขตพระนคร        แขวงตลาดยอด    1.75"
      ]
     },
     "execution_count": 39,
     "metadata": {},
     "output_type": "execute_result"
    }
   ],
   "source": [
    "df_area = pd.concat([df_area_BK,df_area_NK,df_area_KB])\n",
    "df_area.reset_index(drop=True, inplace=True)\n",
    "df_area.head()"
   ]
  },
  {
   "cell_type": "code",
   "execution_count": 40,
   "metadata": {},
   "outputs": [
    {
     "data": {
      "text/html": [
       "<div>\n",
       "<style scoped>\n",
       "    .dataframe tbody tr th:only-of-type {\n",
       "        vertical-align: middle;\n",
       "    }\n",
       "\n",
       "    .dataframe tbody tr th {\n",
       "        vertical-align: top;\n",
       "    }\n",
       "\n",
       "    .dataframe thead th {\n",
       "        text-align: right;\n",
       "    }\n",
       "</style>\n",
       "<table border=\"1\" class=\"dataframe\">\n",
       "  <thead>\n",
       "    <tr style=\"text-align: right;\">\n",
       "      <th></th>\n",
       "      <th>province</th>\n",
       "      <th>district</th>\n",
       "      <th>subdist</th>\n",
       "      <th>area</th>\n",
       "    </tr>\n",
       "  </thead>\n",
       "  <tbody>\n",
       "    <tr>\n",
       "      <th>399</th>\n",
       "      <td>กระบี่</td>\n",
       "      <td>เกาะลันตา</td>\n",
       "      <td>เกาะลันตาใหญ่</td>\n",
       "      <td>2.31</td>\n",
       "    </tr>\n",
       "    <tr>\n",
       "      <th>400</th>\n",
       "      <td>กระบี่</td>\n",
       "      <td>เกาะลันตา</td>\n",
       "      <td>เกาะลันตาใหญ่</td>\n",
       "      <td>31.58</td>\n",
       "    </tr>\n",
       "    <tr>\n",
       "      <th>401</th>\n",
       "      <td>กระบี่</td>\n",
       "      <td>ปลายพระยา</td>\n",
       "      <td>เขาต่อ</td>\n",
       "      <td>965.90</td>\n",
       "    </tr>\n",
       "    <tr>\n",
       "      <th>402</th>\n",
       "      <td>กระบี่</td>\n",
       "      <td>ปลายพระยา</td>\n",
       "      <td>ปลายพระยา</td>\n",
       "      <td>2161.03</td>\n",
       "    </tr>\n",
       "    <tr>\n",
       "      <th>403</th>\n",
       "      <td>กระบี่</td>\n",
       "      <td>ปลายพระยา</td>\n",
       "      <td>เขาเขน</td>\n",
       "      <td>1012.55</td>\n",
       "    </tr>\n",
       "  </tbody>\n",
       "</table>\n",
       "</div>"
      ],
      "text/plain": [
       "    province   district        subdist     area\n",
       "399   กระบี่  เกาะลันตา  เกาะลันตาใหญ่     2.31\n",
       "400   กระบี่  เกาะลันตา  เกาะลันตาใหญ่    31.58\n",
       "401   กระบี่  ปลายพระยา         เขาต่อ   965.90\n",
       "402   กระบี่  ปลายพระยา      ปลายพระยา  2161.03\n",
       "403   กระบี่  ปลายพระยา         เขาเขน  1012.55"
      ]
     },
     "execution_count": 40,
     "metadata": {},
     "output_type": "execute_result"
    }
   ],
   "source": [
    "df_area.tail()"
   ]
  },
  {
   "cell_type": "code",
   "execution_count": 42,
   "metadata": {},
   "outputs": [],
   "source": [
    "df_area.to_csv(os.path.join('..','..','data','shapefiles','area.csv'), index=None)"
   ]
  }
 ],
 "metadata": {
  "kernelspec": {
   "display_name": "Python 3",
   "language": "python",
   "name": "python3"
  },
  "language_info": {
   "codemirror_mode": {
    "name": "ipython",
    "version": 3
   },
   "file_extension": ".py",
   "mimetype": "text/x-python",
   "name": "python",
   "nbconvert_exporter": "python",
   "pygments_lexer": "ipython3",
   "version": "3.5.2"
  }
 },
 "nbformat": 4,
 "nbformat_minor": 2
}
