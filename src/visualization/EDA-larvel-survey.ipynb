{
 "cells": [
  {
   "cell_type": "markdown",
   "metadata": {},
   "source": [
    "# Surveillance survey indexes\n",
    "\n",
    "TODO:\n",
    "1. Load data from CSV into DataFrame\n",
    "2. Visualize data statistics"
   ]
  },
  {
   "cell_type": "code",
   "execution_count": 1,
   "metadata": {},
   "outputs": [
    {
     "data": {
      "text/html": [
       "<style>.container { width:100% !important; }</style>"
      ],
      "text/plain": [
       "<IPython.core.display.HTML object>"
      ]
     },
     "metadata": {},
     "output_type": "display_data"
    },
    {
     "data": {
      "text/html": [
       "<script>requirejs.config({paths: { 'plotly': ['https://cdn.plot.ly/plotly-latest.min']},});if(!window.Plotly) {{require(['plotly'],function(plotly) {window.Plotly=plotly;});}}</script>"
      ],
      "text/vnd.plotly.v1+html": [
       "<script>requirejs.config({paths: { 'plotly': ['https://cdn.plot.ly/plotly-latest.min']},});if(!window.Plotly) {{require(['plotly'],function(plotly) {window.Plotly=plotly;});}}</script>"
      ]
     },
     "metadata": {},
     "output_type": "display_data"
    }
   ],
   "source": [
    "from IPython.core.display import display, HTML\n",
    "display(HTML(\"<style>.container { width:100% !important; }</style>\"))\n",
    "\n",
    "from IPython.core.interactiveshell import InteractiveShell\n",
    "InteractiveShell.ast_node_interactivity = \"all\"\n",
    "\n",
    "from plotly.graph_objs import *\n",
    "import plotly.graph_objs as go\n",
    "from plotly.offline import download_plotlyjs, init_notebook_mode, plot, iplot\n",
    "init_notebook_mode(connected=True)\n",
    "\n",
    "import matplotlib as mpl\n",
    "import matplotlib.cm as cm\n",
    "import matplotlib.pyplot as plt\n",
    "\n",
    "from collections import Counter\n",
    "import numpy as np\n",
    "import pandas as pd\n",
    "import os"
   ]
  },
  {
   "cell_type": "markdown",
   "metadata": {},
   "source": [
    "## 1. Load data from CSV into DataFrame"
   ]
  },
  {
   "cell_type": "code",
   "execution_count": 2,
   "metadata": {},
   "outputs": [
    {
     "data": {
      "text/html": [
       "<div>\n",
       "<style scoped>\n",
       "    .dataframe tbody tr th:only-of-type {\n",
       "        vertical-align: middle;\n",
       "    }\n",
       "\n",
       "    .dataframe tbody tr th {\n",
       "        vertical-align: top;\n",
       "    }\n",
       "\n",
       "    .dataframe thead th {\n",
       "        text-align: right;\n",
       "    }\n",
       "</style>\n",
       "<table border=\"1\" class=\"dataframe\">\n",
       "  <thead>\n",
       "    <tr style=\"text-align: right;\">\n",
       "      <th></th>\n",
       "      <th>district</th>\n",
       "      <th>subdist</th>\n",
       "      <th>village</th>\n",
       "      <th>hi</th>\n",
       "      <th>ci</th>\n",
       "      <th>bi</th>\n",
       "    </tr>\n",
       "    <tr>\n",
       "      <th>date</th>\n",
       "      <th></th>\n",
       "      <th></th>\n",
       "      <th></th>\n",
       "      <th></th>\n",
       "      <th></th>\n",
       "      <th></th>\n",
       "    </tr>\n",
       "  </thead>\n",
       "  <tbody>\n",
       "    <tr>\n",
       "      <th>2011-02-01</th>\n",
       "      <td>ทุ่งสง</td>\n",
       "      <td>นาหลวงเสน</td>\n",
       "      <td>ประดู่</td>\n",
       "      <td>25.0</td>\n",
       "      <td>2.77</td>\n",
       "      <td>25.0</td>\n",
       "    </tr>\n",
       "    <tr>\n",
       "      <th>2011-02-01</th>\n",
       "      <td>ฉวาง</td>\n",
       "      <td>นาแว</td>\n",
       "      <td>ทุ่งกระจูด</td>\n",
       "      <td>15.0</td>\n",
       "      <td>3.06</td>\n",
       "      <td>15.0</td>\n",
       "    </tr>\n",
       "    <tr>\n",
       "      <th>2011-02-01</th>\n",
       "      <td>ฉวาง</td>\n",
       "      <td>นาแว</td>\n",
       "      <td>ควนสวรรค์</td>\n",
       "      <td>17.5</td>\n",
       "      <td>2.86</td>\n",
       "      <td>17.5</td>\n",
       "    </tr>\n",
       "    <tr>\n",
       "      <th>2011-02-01</th>\n",
       "      <td>ฉวาง</td>\n",
       "      <td>นาแว</td>\n",
       "      <td>ควนยูง</td>\n",
       "      <td>22.5</td>\n",
       "      <td>3.35</td>\n",
       "      <td>22.5</td>\n",
       "    </tr>\n",
       "    <tr>\n",
       "      <th>2011-02-01</th>\n",
       "      <td>ทุ่งสง</td>\n",
       "      <td>นาไม้ไผ่</td>\n",
       "      <td>บอมอง</td>\n",
       "      <td>20.0</td>\n",
       "      <td>2.91</td>\n",
       "      <td>22.5</td>\n",
       "    </tr>\n",
       "  </tbody>\n",
       "</table>\n",
       "</div>"
      ],
      "text/plain": [
       "           district    subdist     village    hi    ci    bi\n",
       "date                                                        \n",
       "2011-02-01   ทุ่งสง  นาหลวงเสน      ประดู่  25.0  2.77  25.0\n",
       "2011-02-01     ฉวาง       นาแว  ทุ่งกระจูด  15.0  3.06  15.0\n",
       "2011-02-01     ฉวาง       นาแว   ควนสวรรค์  17.5  2.86  17.5\n",
       "2011-02-01     ฉวาง       นาแว      ควนยูง  22.5  3.35  22.5\n",
       "2011-02-01   ทุ่งสง   นาไม้ไผ่       บอมอง  20.0  2.91  22.5"
      ]
     },
     "execution_count": 2,
     "metadata": {},
     "output_type": "execute_result"
    },
    {
     "data": {
      "text/html": [
       "<div>\n",
       "<style scoped>\n",
       "    .dataframe tbody tr th:only-of-type {\n",
       "        vertical-align: middle;\n",
       "    }\n",
       "\n",
       "    .dataframe tbody tr th {\n",
       "        vertical-align: top;\n",
       "    }\n",
       "\n",
       "    .dataframe thead th {\n",
       "        text-align: right;\n",
       "    }\n",
       "</style>\n",
       "<table border=\"1\" class=\"dataframe\">\n",
       "  <thead>\n",
       "    <tr style=\"text-align: right;\">\n",
       "      <th></th>\n",
       "      <th>district</th>\n",
       "      <th>subdist</th>\n",
       "      <th>village</th>\n",
       "      <th>hi</th>\n",
       "      <th>ci</th>\n",
       "      <th>bi</th>\n",
       "    </tr>\n",
       "    <tr>\n",
       "      <th>date</th>\n",
       "      <th></th>\n",
       "      <th></th>\n",
       "      <th></th>\n",
       "      <th></th>\n",
       "      <th></th>\n",
       "      <th></th>\n",
       "    </tr>\n",
       "  </thead>\n",
       "  <tbody>\n",
       "    <tr>\n",
       "      <th>2017-06-01</th>\n",
       "      <td>ร่อนพิบูลย์</td>\n",
       "      <td>หินตก</td>\n",
       "      <td>ปลายราง</td>\n",
       "      <td>10.00</td>\n",
       "      <td>4.33</td>\n",
       "      <td>37.50</td>\n",
       "    </tr>\n",
       "    <tr>\n",
       "      <th>2017-06-01</th>\n",
       "      <td>ร่อนพิบูลย์</td>\n",
       "      <td>หินตก</td>\n",
       "      <td>พรุชิง</td>\n",
       "      <td>11.25</td>\n",
       "      <td>4.99</td>\n",
       "      <td>45.00</td>\n",
       "    </tr>\n",
       "    <tr>\n",
       "      <th>2017-06-01</th>\n",
       "      <td>ร่อนพิบูลย์</td>\n",
       "      <td>หินตก</td>\n",
       "      <td>คีรีใหม่</td>\n",
       "      <td>10.00</td>\n",
       "      <td>3.98</td>\n",
       "      <td>36.25</td>\n",
       "    </tr>\n",
       "    <tr>\n",
       "      <th>2017-06-01</th>\n",
       "      <td>บางขัน</td>\n",
       "      <td>บางขัน</td>\n",
       "      <td>พรุเตย</td>\n",
       "      <td>10.00</td>\n",
       "      <td>1.61</td>\n",
       "      <td>10.00</td>\n",
       "    </tr>\n",
       "    <tr>\n",
       "      <th>2017-06-01</th>\n",
       "      <td>ฉวาง</td>\n",
       "      <td>ห้วยปริก</td>\n",
       "      <td>ปากกา</td>\n",
       "      <td>17.00</td>\n",
       "      <td>3.18</td>\n",
       "      <td>17.00</td>\n",
       "    </tr>\n",
       "  </tbody>\n",
       "</table>\n",
       "</div>"
      ],
      "text/plain": [
       "               district   subdist   village     hi    ci     bi\n",
       "date                                                           \n",
       "2017-06-01  ร่อนพิบูลย์     หินตก   ปลายราง  10.00  4.33  37.50\n",
       "2017-06-01  ร่อนพิบูลย์     หินตก    พรุชิง  11.25  4.99  45.00\n",
       "2017-06-01  ร่อนพิบูลย์     หินตก  คีรีใหม่  10.00  3.98  36.25\n",
       "2017-06-01       บางขัน    บางขัน    พรุเตย  10.00  1.61  10.00\n",
       "2017-06-01         ฉวาง  ห้วยปริก     ปากกา  17.00  3.18  17.00"
      ]
     },
     "execution_count": 2,
     "metadata": {},
     "output_type": "execute_result"
    },
    {
     "name": "stdout",
     "output_type": "stream",
     "text": [
      "Total: 873\n"
     ]
    }
   ],
   "source": [
    "df = pd.read_csv('../data/breeding-sites/larval-survey.csv') \n",
    "df = df.replace(0, np.nan)\n",
    "df = df.dropna(axis=0, how='any')\n",
    "df = df.reset_index(drop=True)\n",
    "df = df.loc[df['province'] == 'นครศรีธรรมราช']\n",
    "df = df.drop('province', axis=1)\n",
    "df['date'] = pd.to_datetime(df['date'], format='%Y-%m')\n",
    "df = df.set_index('date')\n",
    "df = df.sort_index()\n",
    "# df = df['2015':'2018']\n",
    "df.head()\n",
    "df.tail()\n",
    "print('Total:', len(df))"
   ]
  },
  {
   "cell_type": "markdown",
   "metadata": {},
   "source": [
    "##  2. Visualize data statistics"
   ]
  },
  {
   "cell_type": "code",
   "execution_count": 3,
   "metadata": {},
   "outputs": [
    {
     "data": {
      "application/vnd.plotly.v1+json": {
       "data": [
        {
         "marker": {
          "color": "rgb(158,202,225)",
          "line": {
           "color": "rgb(8,48,107)",
           "width": 1.5
          }
         },
         "opacity": 0.8,
         "text": [
          217,
          73,
          115,
          120,
          77,
          77,
          194
         ],
         "textposition": "auto",
         "type": "bar",
         "uid": "17220e",
         "x": [
          2016,
          2017,
          2011,
          2012,
          2013,
          2014,
          2015
         ],
         "y": [
          217,
          73,
          115,
          120,
          77,
          77,
          194
         ]
        }
       ],
       "layout": {
        "height": 550,
        "title": "Data Points for each Year",
        "width": 750,
        "xaxis": {
         "autorange": true,
         "range": [
          2010.5,
          2017.5
         ],
         "title": "Year",
         "type": "linear"
        },
        "yaxis": {
         "autorange": true,
         "range": [
          0,
          228.42105263157896
         ],
         "title": "Frequency",
         "type": "linear"
        }
       }
      },
      "text/html": [
       "<div id=\"af6b59c3-14ba-44f4-9ecc-54d67dc3f2e0\" style=\"height: 550px; width: 750px;\" class=\"plotly-graph-div\"></div><script type=\"text/javascript\">require([\"plotly\"], function(Plotly) { window.PLOTLYENV=window.PLOTLYENV || {};window.PLOTLYENV.BASE_URL=\"https://plot.ly\";Plotly.newPlot(\"af6b59c3-14ba-44f4-9ecc-54d67dc3f2e0\", [{\"textposition\": \"auto\", \"y\": [217, 73, 115, 120, 77, 77, 194], \"opacity\": 0.8, \"marker\": {\"line\": {\"width\": 1.5, \"color\": \"rgb(8,48,107)\"}, \"color\": \"rgb(158,202,225)\"}, \"text\": [217, 73, 115, 120, 77, 77, 194], \"x\": [2016, 2017, 2011, 2012, 2013, 2014, 2015], \"type\": \"bar\"}], {\"yaxis\": {\"title\": \"Frequency\"}, \"xaxis\": {\"title\": \"Year\"}, \"height\": 550, \"title\": \"Data Points for each Year\", \"width\": 750}, {\"linkText\": \"Export to plot.ly\", \"showLink\": true})});</script>"
      ],
      "text/vnd.plotly.v1+html": [
       "<div id=\"af6b59c3-14ba-44f4-9ecc-54d67dc3f2e0\" style=\"height: 550px; width: 750px;\" class=\"plotly-graph-div\"></div><script type=\"text/javascript\">require([\"plotly\"], function(Plotly) { window.PLOTLYENV=window.PLOTLYENV || {};window.PLOTLYENV.BASE_URL=\"https://plot.ly\";Plotly.newPlot(\"af6b59c3-14ba-44f4-9ecc-54d67dc3f2e0\", [{\"textposition\": \"auto\", \"y\": [217, 73, 115, 120, 77, 77, 194], \"opacity\": 0.8, \"marker\": {\"line\": {\"width\": 1.5, \"color\": \"rgb(8,48,107)\"}, \"color\": \"rgb(158,202,225)\"}, \"text\": [217, 73, 115, 120, 77, 77, 194], \"x\": [2016, 2017, 2011, 2012, 2013, 2014, 2015], \"type\": \"bar\"}], {\"yaxis\": {\"title\": \"Frequency\"}, \"xaxis\": {\"title\": \"Year\"}, \"height\": 550, \"title\": \"Data Points for each Year\", \"width\": 750}, {\"linkText\": \"Export to plot.ly\", \"showLink\": true})});</script>"
      ]
     },
     "metadata": {},
     "output_type": "display_data"
    }
   ],
   "source": [
    "count = dict(Counter(df.index.year))\n",
    "key, val = [], []\n",
    "for k in count:\n",
    "    key.append(k)\n",
    "    val.append(count[k])\n",
    "\n",
    "trace_bar_actual = go.Bar( \n",
    "    x = key,\n",
    "    y = val,\n",
    "    text = val,\n",
    "    textposition = 'auto',\n",
    "    marker=dict(\n",
    "                color='rgb(158,202,225)',\n",
    "                line=dict(\n",
    "                    color='rgb(8,48,107)',\n",
    "                    width=1.5),\n",
    "            ),\n",
    "    opacity=0.8\n",
    ")\n",
    "layout = go.Layout(\n",
    "    title='Data Points for each Year',\n",
    "    height=550,\n",
    "    width=750,\n",
    "    yaxis= dict(title='Frequency'),\n",
    "    xaxis= dict(title='Year')\n",
    ")\n",
    "fig = go.Figure(data=[trace_bar_actual], layout=layout)\n",
    "iplot(fig)"
   ]
  },
  {
   "cell_type": "code",
   "execution_count": 4,
   "metadata": {},
   "outputs": [
    {
     "data": {
      "application/vnd.plotly.v1+json": {
       "data": [
        {
         "marker": {
          "color": "rgb(158,202,225)",
          "line": {
           "color": "rgb(8,48,107)",
           "width": 1.5
          }
         },
         "opacity": 0.8,
         "text": [
          79,
          114,
          114,
          86,
          100,
          64,
          70,
          68,
          58,
          32,
          31,
          57
         ],
         "textposition": "auto",
         "type": "bar",
         "uid": "e57c6c",
         "x": [
          1,
          2,
          3,
          4,
          5,
          6,
          7,
          8,
          9,
          10,
          11,
          12
         ],
         "y": [
          79,
          114,
          114,
          86,
          100,
          64,
          70,
          68,
          58,
          32,
          31,
          57
         ]
        }
       ],
       "layout": {
        "height": 550,
        "title": "Data Points for each Month",
        "width": 750,
        "xaxis": {
         "autorange": true,
         "range": [
          0.5,
          12.5
         ],
         "title": "month",
         "type": "linear"
        },
        "yaxis": {
         "autorange": true,
         "range": [
          0,
          120
         ],
         "title": "Frequency",
         "type": "linear"
        }
       }
      },
      "text/html": [
       "<div id=\"49ba132d-304e-405d-8ce9-ebb87929aa49\" style=\"height: 550px; width: 750px;\" class=\"plotly-graph-div\"></div><script type=\"text/javascript\">require([\"plotly\"], function(Plotly) { window.PLOTLYENV=window.PLOTLYENV || {};window.PLOTLYENV.BASE_URL=\"https://plot.ly\";Plotly.newPlot(\"49ba132d-304e-405d-8ce9-ebb87929aa49\", [{\"textposition\": \"auto\", \"y\": [79, 114, 114, 86, 100, 64, 70, 68, 58, 32, 31, 57], \"opacity\": 0.8, \"marker\": {\"line\": {\"width\": 1.5, \"color\": \"rgb(8,48,107)\"}, \"color\": \"rgb(158,202,225)\"}, \"text\": [79, 114, 114, 86, 100, 64, 70, 68, 58, 32, 31, 57], \"x\": [1, 2, 3, 4, 5, 6, 7, 8, 9, 10, 11, 12], \"type\": \"bar\"}], {\"yaxis\": {\"title\": \"Frequency\"}, \"xaxis\": {\"title\": \"month\"}, \"height\": 550, \"title\": \"Data Points for each Month\", \"width\": 750}, {\"linkText\": \"Export to plot.ly\", \"showLink\": true})});</script>"
      ],
      "text/vnd.plotly.v1+html": [
       "<div id=\"49ba132d-304e-405d-8ce9-ebb87929aa49\" style=\"height: 550px; width: 750px;\" class=\"plotly-graph-div\"></div><script type=\"text/javascript\">require([\"plotly\"], function(Plotly) { window.PLOTLYENV=window.PLOTLYENV || {};window.PLOTLYENV.BASE_URL=\"https://plot.ly\";Plotly.newPlot(\"49ba132d-304e-405d-8ce9-ebb87929aa49\", [{\"textposition\": \"auto\", \"y\": [79, 114, 114, 86, 100, 64, 70, 68, 58, 32, 31, 57], \"opacity\": 0.8, \"marker\": {\"line\": {\"width\": 1.5, \"color\": \"rgb(8,48,107)\"}, \"color\": \"rgb(158,202,225)\"}, \"text\": [79, 114, 114, 86, 100, 64, 70, 68, 58, 32, 31, 57], \"x\": [1, 2, 3, 4, 5, 6, 7, 8, 9, 10, 11, 12], \"type\": \"bar\"}], {\"yaxis\": {\"title\": \"Frequency\"}, \"xaxis\": {\"title\": \"month\"}, \"height\": 550, \"title\": \"Data Points for each Month\", \"width\": 750}, {\"linkText\": \"Export to plot.ly\", \"showLink\": true})});</script>"
      ]
     },
     "metadata": {},
     "output_type": "display_data"
    }
   ],
   "source": [
    "count = dict(Counter(df.index.month))\n",
    "key, val = [], []\n",
    "for k in count:\n",
    "    key.append(k)\n",
    "    val.append(count[k])\n",
    "\n",
    "trace_bar_actual = go.Bar( \n",
    "    x = key,\n",
    "    y = val,\n",
    "    text = val,\n",
    "    textposition = 'auto',\n",
    "    marker=dict(\n",
    "                color='rgb(158,202,225)',\n",
    "                line=dict(\n",
    "                    color='rgb(8,48,107)',\n",
    "                    width=1.5),\n",
    "            ),\n",
    "    opacity=0.8\n",
    ")\n",
    "layout = go.Layout(\n",
    "    title='Data Points for each Month',\n",
    "    height=550,\n",
    "    width=750,\n",
    "    yaxis= dict(title='Frequency'),\n",
    "    xaxis= dict(title='month')\n",
    ")\n",
    "fig = go.Figure(data=[trace_bar_actual], layout=layout)\n",
    "iplot(fig)"
   ]
  },
  {
   "cell_type": "code",
   "execution_count": 5,
   "metadata": {
    "scrolled": false
   },
   "outputs": [
    {
     "data": {
      "application/vnd.plotly.v1+json": {
       "data": [
        {
         "boxmean": true,
         "name": "นาหลวงเสน",
         "type": "box",
         "uid": "4d7d1a",
         "y": [
          25,
          62.5,
          242.5,
          30,
          23,
          33
         ]
        },
        {
         "boxmean": true,
         "name": "นาแว",
         "type": "box",
         "uid": "9c1077",
         "y": [
          15,
          17.5,
          22.5,
          12.5,
          20,
          20,
          30,
          27.5,
          32.5,
          35,
          30,
          17.5,
          20,
          25,
          37.5,
          42.5,
          65,
          57.5,
          18,
          57.81,
          68,
          4,
          36,
          18,
          20,
          15,
          12.5,
          15,
          17.5,
          12.5,
          15,
          20,
          30,
          10,
          12.5,
          15
         ]
        },
        {
         "boxmean": true,
         "name": "นาไม้ไผ่",
         "type": "box",
         "uid": "4be067",
         "y": [
          22.5,
          95,
          22.5,
          22.5
         ]
        },
        {
         "boxmean": true,
         "name": "เขาขาว",
         "type": "box",
         "uid": "49d17d",
         "y": [
          27.5,
          100,
          82.5,
          78.75,
          67.5,
          45,
          41,
          35,
          17.5,
          37.5,
          45,
          29,
          135,
          20
         ]
        },
        {
         "boxmean": true,
         "name": "ที่วัง",
         "type": "box",
         "uid": "3e3978",
         "y": [
          17.5,
          22.5,
          37.5,
          76.92,
          34,
          34,
          57.5,
          45,
          40,
          45,
          45,
          32.5,
          23,
          120,
          15,
          15,
          45,
          47.5,
          45,
          57.5,
          27.5,
          12.5
         ]
        },
        {
         "boxmean": true,
         "name": "เขาพระทอง",
         "type": "box",
         "uid": "5405ac",
         "y": [
          27.5,
          22.5,
          15,
          15,
          2.5,
          30,
          50,
          32.5,
          22.5,
          25,
          15,
          22.5,
          20,
          17.5,
          32.5,
          25,
          30,
          32.5,
          30,
          15,
          32.5,
          40,
          35,
          22.5,
          30,
          30,
          18.75,
          12.5,
          30,
          30,
          20,
          42.5,
          37.5,
          46.25,
          49.17
         ]
        },
        {
         "boxmean": true,
         "name": "บางขัน",
         "type": "box",
         "uid": "0235a7",
         "y": [
          20,
          20,
          27.5,
          20,
          27.5,
          12.5,
          25,
          17.5,
          20,
          72.5,
          22.5,
          7.5,
          12.5,
          15,
          20,
          12.5,
          22.5,
          17.5,
          32.5,
          15,
          35,
          7.5,
          90,
          12.5,
          17.5,
          7.5,
          5,
          7.5,
          5,
          5,
          5,
          7.5,
          5,
          5,
          5,
          5,
          2.5,
          5,
          10,
          5,
          7.5,
          5,
          7.5,
          5,
          27.5,
          5,
          7.5,
          5,
          7.5,
          5,
          5,
          5,
          7.5,
          5,
          2.5,
          5,
          5,
          7.5,
          7.5,
          7.5,
          7.5,
          7.5,
          10
         ]
        },
        {
         "boxmean": true,
         "name": "วังอ่าง",
         "type": "box",
         "uid": "49d6b0",
         "y": [
          55,
          22.5,
          25,
          35,
          2.5,
          20,
          15,
          22.5,
          12.5,
          2.5,
          27.5,
          27.5,
          32.5,
          27,
          164.56,
          37,
          22.5,
          10,
          27.5,
          17.5,
          17.5,
          45,
          10,
          25,
          37.5,
          30,
          20,
          20,
          35,
          32.5,
          20,
          32.5,
          11.25,
          17.5,
          15,
          22.5,
          15,
          26.25,
          22.5,
          11.25,
          20,
          47.5,
          17.5,
          20,
          47.5
         ]
        },
        {
         "boxmean": true,
         "name": "เกาะขันธ์",
         "type": "box",
         "uid": "45220b",
         "y": [
          12.5,
          25,
          10,
          13.75,
          20,
          22.5,
          2.5,
          12.5,
          15,
          25,
          17.5,
          20,
          25,
          27.5,
          22.5,
          22.5,
          35,
          27.5,
          15,
          22.5,
          12.5,
          17.5,
          12.5,
          27.5,
          37.5,
          17.5,
          35,
          15,
          27.5,
          17.5,
          7.5,
          17.5,
          22.5,
          17.5,
          60
         ]
        },
        {
         "boxmean": true,
         "name": "กะเปียด",
         "type": "box",
         "uid": "92a27a",
         "y": [
          47.5,
          25,
          30
         ]
        },
        {
         "boxmean": true,
         "name": "ท่าเสม็ด",
         "type": "box",
         "uid": "275068",
         "y": [
          22.5
         ]
        },
        {
         "boxmean": true,
         "name": "บ้านตูล",
         "type": "box",
         "uid": "d9ad01",
         "y": [
          22.5,
          22.5,
          15,
          13.75,
          20,
          27.5,
          15,
          22.5,
          15,
          15,
          150,
          5,
          25,
          32.5,
          27.5,
          20,
          15,
          31,
          42.5,
          15,
          30,
          37.5,
          32.5,
          31.25,
          22.5,
          28.75,
          32.5,
          27.5,
          13.75,
          30,
          36.25
         ]
        },
        {
         "boxmean": true,
         "name": "บ้านนิคม",
         "type": "box",
         "uid": "d3c8c0",
         "y": [
          75,
          17.5,
          15,
          25,
          15,
          102.5,
          27.5,
          7.5,
          10,
          30,
          12.5,
          5,
          5,
          2.5,
          2.5,
          5,
          5,
          5,
          5,
          7.5,
          15,
          5,
          5,
          5,
          7.5,
          5,
          7.5,
          10
         ]
        },
        {
         "boxmean": true,
         "name": "บ้านลำนาว",
         "type": "box",
         "uid": "de4c29",
         "y": [
          35,
          32.5,
          30,
          15,
          20,
          20,
          20,
          20,
          12.5,
          17.5,
          17.5,
          2.5,
          17.5,
          20,
          25,
          12.5,
          20,
          25,
          10,
          15,
          2.5,
          2.5,
          7.5,
          2.5,
          5,
          2.5,
          7.5,
          2.5,
          5,
          5,
          7.5,
          5,
          7.5,
          7.5,
          10,
          7.5,
          7.5,
          5,
          7.5,
          7.5,
          5,
          5,
          7.5,
          5,
          5,
          5,
          5,
          7.5,
          7.5
         ]
        },
        {
         "boxmean": true,
         "name": "จันดี",
         "type": "box",
         "uid": "f109fb",
         "y": [
          77.5
         ]
        },
        {
         "boxmean": true,
         "name": "ฉวาง",
         "type": "box",
         "uid": "c300bb",
         "y": [
          65
         ]
        },
        {
         "boxmean": true,
         "name": "ไม้เรียง",
         "type": "box",
         "uid": "f87197",
         "y": [
          75,
          95.41
         ]
        },
        {
         "boxmean": true,
         "name": "ห้วยปริก",
         "type": "box",
         "uid": "c01a68",
         "y": [
          22.5,
          20,
          17.5,
          20,
          16.67,
          15,
          22.5,
          15.83,
          21.25,
          10.83,
          11.67,
          15.19,
          17.5,
          23.33,
          17
         ]
        },
        {
         "boxmean": true,
         "name": "ควนหนองหงษ์",
         "type": "box",
         "uid": "e2bac6",
         "y": [
          32.5,
          40,
          27.5,
          22.5,
          12.5,
          30,
          15,
          47.5,
          20,
          32.5,
          40,
          35,
          30,
          35,
          35,
          32.5,
          12.5,
          40,
          35,
          20,
          37.5,
          38.75,
          15,
          22.5,
          23.75,
          16.25,
          12.5,
          21.25,
          15,
          23.75,
          28.75,
          47.5
         ]
        },
        {
         "boxmean": true,
         "name": "ท่าประจะ",
         "type": "box",
         "uid": "144f55",
         "y": [
          30,
          15,
          30,
          30,
          17.5,
          2.5,
          17.5,
          12.5,
          32.5,
          17.5,
          22.5,
          15,
          55,
          23.75,
          38.75,
          12.5,
          16.25,
          32.5,
          55,
          38.75,
          22.5
         ]
        },
        {
         "boxmean": true,
         "name": "หนองหงส์",
         "type": "box",
         "uid": "b005a0",
         "y": [
          8,
          10,
          22.5
         ]
        },
        {
         "boxmean": true,
         "name": "ท่ายาง",
         "type": "box",
         "uid": "aa0cf3",
         "y": [
          80,
          240,
          15,
          12.5,
          15,
          22.5,
          12.5,
          12.5
         ]
        },
        {
         "boxmean": true,
         "name": "ช้างซ้าย",
         "type": "box",
         "uid": "be165e",
         "y": [
          3.57,
          3.57,
          12.5,
          8,
          11,
          8,
          11,
          28,
          32,
          60,
          102
         ]
        },
        {
         "boxmean": true,
         "name": "พิปูน",
         "type": "box",
         "uid": "65a500",
         "y": [
          72.5,
          77.5,
          65
         ]
        },
        {
         "boxmean": true,
         "name": "ปากพูน",
         "type": "box",
         "uid": "3a2102",
         "y": [
          6,
          6,
          60
         ]
        },
        {
         "boxmean": true,
         "name": "ถ้ำใหญ่",
         "type": "box",
         "uid": "2c07e2",
         "y": [
          140,
          112.5,
          97.5,
          75,
          8,
          40
         ]
        },
        {
         "boxmean": true,
         "name": "น้ำตก",
         "type": "box",
         "uid": "373e6d",
         "y": [
          122.5,
          13,
          117.5,
          27.5,
          22.5,
          27.5,
          20
         ]
        },
        {
         "boxmean": true,
         "name": "ควนกรด",
         "type": "box",
         "uid": "385468",
         "y": [
          65,
          20,
          60,
          195,
          45,
          27.5
         ]
        },
        {
         "boxmean": true,
         "name": "ชะอวด",
         "type": "box",
         "uid": "4112ac",
         "y": [
          10,
          42.5
         ]
        },
        {
         "boxmean": true,
         "name": "สวนหลวง",
         "type": "box",
         "uid": "cb1058",
         "y": [
          147.5,
          5,
          56,
          16
         ]
        },
        {
         "boxmean": true,
         "name": "ปากพนังฝั่งตะวันตก",
         "type": "box",
         "uid": "0e4d9c",
         "y": [
          32.5
         ]
        },
        {
         "boxmean": true,
         "name": "ควนทอง",
         "type": "box",
         "uid": "6434e0",
         "y": [
          30,
          25,
          72.5
         ]
        },
        {
         "boxmean": true,
         "name": "พรหมโลก",
         "type": "box",
         "uid": "16c1ff",
         "y": [
          22.5,
          25,
          30
         ]
        },
        {
         "boxmean": true,
         "name": "ท่าศาลา",
         "type": "box",
         "uid": "609232",
         "y": [
          105,
          50,
          102,
          20,
          67.5,
          45
         ]
        },
        {
         "boxmean": true,
         "name": "ร่อนพิบูลย์",
         "type": "box",
         "uid": "2c2718",
         "y": [
          5,
          15
         ]
        },
        {
         "boxmean": true,
         "name": "หัวไทร",
         "type": "box",
         "uid": "c4c465",
         "y": [
          2.5,
          32.5
         ]
        },
        {
         "boxmean": true,
         "name": "กำโลน",
         "type": "box",
         "uid": "406472",
         "y": [
          37.5,
          5,
          16.67,
          10,
          6.67,
          13.33,
          3.33,
          3.33,
          9,
          33,
          34
         ]
        },
        {
         "boxmean": true,
         "name": "ทุ่งใส",
         "type": "box",
         "uid": "b15c43",
         "y": [
          55,
          22.5,
          145,
          150,
          62.5,
          52.5,
          35,
          25,
          75
         ]
        },
        {
         "boxmean": true,
         "name": "ทุ่งโพธิ์",
         "type": "box",
         "uid": "67e43f",
         "y": [
          5,
          17.5,
          40,
          40,
          35,
          27.5,
          45,
          32.5,
          42.5,
          40,
          27.5,
          31.25,
          23.75,
          15,
          22.5,
          28.75,
          28.75,
          42.5
         ]
        },
        {
         "boxmean": true,
         "name": "ช้างกลาง",
         "type": "box",
         "uid": "f50294",
         "y": [
          10,
          5,
          22.5,
          60,
          20,
          21
         ]
        },
        {
         "boxmean": true,
         "name": "แม่เจ้าอยู่หัว",
         "type": "box",
         "uid": "323d8c",
         "y": [
          7.5,
          17.5
         ]
        },
        {
         "boxmean": true,
         "name": "ทุ่งสง",
         "type": "box",
         "uid": "f3e184",
         "y": [
          20,
          185
         ]
        },
        {
         "boxmean": true,
         "name": "ปริก",
         "type": "box",
         "uid": "902698",
         "y": [
          47.5,
          107.5,
          15,
          20,
          15,
          17.5,
          12.5,
          15,
          17.5,
          15,
          7.5,
          12.5,
          22.5,
          17.5,
          37.5,
          30,
          20,
          10,
          15,
          17.5
         ]
        },
        {
         "boxmean": true,
         "name": "ปากแพรก",
         "type": "box",
         "uid": "5ee0df",
         "y": [
          15
         ]
        },
        {
         "boxmean": true,
         "name": "ดุสิต",
         "type": "box",
         "uid": "efebbc",
         "y": [
          105,
          140,
          2
         ]
        },
        {
         "boxmean": true,
         "name": "ท้องเนียน",
         "type": "box",
         "uid": "bf5ef6",
         "y": [
          195,
          16.67,
          72.5,
          60
         ]
        },
        {
         "boxmean": true,
         "name": "นาพรุ",
         "type": "box",
         "uid": "839fb5",
         "y": [
          4,
          13,
          4,
          9,
          10,
          6,
          320,
          18,
          13,
          6,
          52
         ]
        },
        {
         "boxmean": true,
         "name": "ปากนคร",
         "type": "box",
         "uid": "7bc13d",
         "y": [
          53,
          38,
          27,
          151.85
         ]
        },
        {
         "boxmean": true,
         "name": "สิชล",
         "type": "box",
         "uid": "6ed65d",
         "y": [
          72.5
         ]
        },
        {
         "boxmean": true,
         "name": "นาหมอบุญ",
         "type": "box",
         "uid": "b2e540",
         "y": [
          27.5,
          20,
          32.5
         ]
        },
        {
         "boxmean": true,
         "name": "โพธิ์เสด็จ",
         "type": "box",
         "uid": "d27edb",
         "y": [
          7.41,
          17.5
         ]
        },
        {
         "boxmean": true,
         "name": "นาบอน",
         "type": "box",
         "uid": "c99f19",
         "y": [
          68,
          22.5
         ]
        },
        {
         "boxmean": true,
         "name": "ท่าซัก",
         "type": "box",
         "uid": "88b68a",
         "y": [
          75,
          39.47,
          75.86,
          84.21,
          54
         ]
        },
        {
         "boxmean": true,
         "name": "นาสาร",
         "type": "box",
         "uid": "9f4e6a",
         "y": [
          110.81,
          202.04,
          16,
          21,
          42.5
         ]
        },
        {
         "boxmean": true,
         "name": "บางรูป",
         "type": "box",
         "uid": "b5fb81",
         "y": [
          150
         ]
        },
        {
         "boxmean": true,
         "name": "วังหิน",
         "type": "box",
         "uid": "74f7dd",
         "y": [
          32.5,
          20,
          12.5,
          2.5,
          2.5,
          7.5,
          7.5,
          10,
          7.5
         ]
        },
        {
         "boxmean": true,
         "name": "ท่าไร่",
         "type": "box",
         "uid": "0ba8bb",
         "y": [
          10,
          7,
          6,
          68
         ]
        },
        {
         "boxmean": true,
         "name": "ชะมาย",
         "type": "box",
         "uid": "5af927",
         "y": [
          42.5,
          30.88,
          6.67
         ]
        },
        {
         "boxmean": true,
         "name": "ยางค้อม",
         "type": "box",
         "uid": "296892",
         "y": [
          33.33
         ]
        },
        {
         "boxmean": true,
         "name": "ถ้ำพรรณรา",
         "type": "box",
         "uid": "625e80",
         "y": [
          20,
          6,
          27,
          27
         ]
        },
        {
         "boxmean": true,
         "name": "ไสหร้า",
         "type": "box",
         "uid": "c05292",
         "y": [
          7.14
         ]
        },
        {
         "boxmean": true,
         "name": "โพธิ์ทอง",
         "type": "box",
         "uid": "d9d150",
         "y": [
          255.26
         ]
        },
        {
         "boxmean": true,
         "name": "สี่ขีด",
         "type": "box",
         "uid": "3f4d01",
         "y": [
          30,
          5,
          2.5,
          20
         ]
        },
        {
         "boxmean": true,
         "name": "กรุงชิง",
         "type": "box",
         "uid": "4915ea",
         "y": [
          66.67,
          10
         ]
        },
        {
         "boxmean": true,
         "name": "นาเขลียง",
         "type": "box",
         "uid": "6a8aa3",
         "y": [
          4,
          5,
          17.5,
          12.5
         ]
        },
        {
         "boxmean": true,
         "name": "เชียรเขา",
         "type": "box",
         "uid": "8c4ee9",
         "y": [
          1
         ]
        },
        {
         "boxmean": true,
         "name": "ดอนตรอ",
         "type": "box",
         "uid": "c31449",
         "y": [
          45,
          6
         ]
        },
        {
         "boxmean": true,
         "name": "ทางพูน",
         "type": "box",
         "uid": "82440b",
         "y": [
          19,
          7,
          10,
          10
         ]
        },
        {
         "boxmean": true,
         "name": "ไทยบุรี",
         "type": "box",
         "uid": "5aed3d",
         "y": [
          56,
          14,
          33.33
         ]
        },
        {
         "boxmean": true,
         "name": "ท่าดี",
         "type": "box",
         "uid": "59e305",
         "y": [
          1,
          10,
          30
         ]
        },
        {
         "boxmean": true,
         "name": "เขาแก้ว",
         "type": "box",
         "uid": "760441",
         "y": [
          2,
          9
         ]
        },
        {
         "boxmean": true,
         "name": "ขุนทะเล",
         "type": "box",
         "uid": "6cb628",
         "y": [
          6,
          6,
          32.5,
          107.5
         ]
        },
        {
         "boxmean": true,
         "name": "ควนพัง",
         "type": "box",
         "uid": "2c95be",
         "y": [
          14,
          7
         ]
        },
        {
         "boxmean": true,
         "name": "มะม่วงสองต้น",
         "type": "box",
         "uid": "602e2c",
         "y": [
          24,
          17,
          57.5
         ]
        },
        {
         "boxmean": true,
         "name": "สระแก้ว",
         "type": "box",
         "uid": "7eab9f",
         "y": [
          72,
          29,
          21,
          9
         ]
        },
        {
         "boxmean": true,
         "name": "นาเคียน",
         "type": "box",
         "uid": "73f94f",
         "y": [
          13,
          15,
          42,
          38
         ]
        },
        {
         "boxmean": true,
         "name": "ท้ายสำเภา",
         "type": "box",
         "uid": "39e554",
         "y": [
          115,
          37
         ]
        },
        {
         "boxmean": true,
         "name": "บางจาก",
         "type": "box",
         "uid": "c5dee9",
         "y": [
          5,
          7
         ]
        },
        {
         "boxmean": true,
         "name": "เขาโร",
         "type": "box",
         "uid": "74b6d2",
         "y": [
          13,
          65,
          36,
          62.5,
          17.5
         ]
        },
        {
         "boxmean": true,
         "name": "ดอนตะโก",
         "type": "box",
         "uid": "a23ed1",
         "y": [
          4
         ]
        },
        {
         "boxmean": true,
         "name": "หินตก",
         "type": "box",
         "uid": "61ef76",
         "y": [
          4,
          62,
          6,
          20,
          22.5,
          23.75,
          27.5,
          42.5,
          42.5,
          41.25,
          35,
          37.5,
          45,
          36.25
         ]
        },
        {
         "boxmean": true,
         "name": "ควนชุม",
         "type": "box",
         "uid": "5b4ecf",
         "y": [
          10
         ]
        },
        {
         "boxmean": true,
         "name": "เขาพระ",
         "type": "box",
         "uid": "9056ee",
         "y": [
          17.5,
          23,
          27.5,
          15,
          21.25
         ]
        },
        {
         "boxmean": true,
         "name": "ทอนหงส์",
         "type": "box",
         "uid": "289ad1",
         "y": [
          50,
          35,
          32
         ]
        },
        {
         "boxmean": true,
         "name": "นบพิตำ",
         "type": "box",
         "uid": "bf5539",
         "y": [
          40,
          27,
          28,
          67.5,
          60
         ]
        },
        {
         "boxmean": true,
         "name": "ท่าขึ้น",
         "type": "box",
         "uid": "f5d4d0",
         "y": [
          20
         ]
        },
        {
         "boxmean": true,
         "name": "ขนอม",
         "type": "box",
         "uid": "db4fd9",
         "y": [
          15,
          5
         ]
        },
        {
         "boxmean": true,
         "name": "ทุ่งปรัง",
         "type": "box",
         "uid": "c1eda5",
         "y": [
          26,
          7,
          55,
          45
         ]
        },
        {
         "boxmean": true,
         "name": "หน้าสตน",
         "type": "box",
         "uid": "602d02",
         "y": [
          136,
          8
         ]
        },
        {
         "boxmean": true,
         "name": "กรุงหยัน",
         "type": "box",
         "uid": "c86a4d",
         "y": [
          16.13,
          12.5,
          10,
          17.5,
          12.5,
          20,
          17.5,
          15,
          15,
          12.5,
          12.5,
          10,
          7.5,
          10,
          11.25,
          17.5,
          20,
          10,
          10,
          10,
          15,
          12.5,
          7.5,
          12.5,
          17.5,
          10,
          9.9,
          15,
          12.5,
          17.5,
          12.5,
          12.9,
          10,
          10,
          15,
          7.5,
          10,
          11.25,
          10,
          15,
          10,
          15,
          10,
          22.5,
          12.5,
          17.5,
          12.5,
          12.5,
          15,
          15,
          13.89,
          23.81,
          12.2,
          31.25,
          15,
          15,
          17.5,
          11.25,
          9.01,
          15,
          23.81,
          13.89,
          10,
          10,
          15,
          17.5,
          12.5,
          16,
          15.5
         ]
        },
        {
         "boxmean": true,
         "name": "กุแหระ",
         "type": "box",
         "uid": "8321d6",
         "y": [
          20,
          22.5,
          12.5,
          10,
          15,
          17.5,
          15,
          15,
          12.5,
          15,
          8.75,
          7.5,
          15,
          22.5,
          30,
          17.5,
          22.5,
          12.5,
          20,
          15,
          15,
          30,
          22.5,
          20,
          12.5,
          15,
          20,
          14.17,
          36.25,
          28.75,
          26,
          22.5
         ]
        },
        {
         "boxmean": true,
         "name": "ท้องลำเจียก",
         "type": "box",
         "uid": "db027c",
         "y": [
          15
         ]
        },
        {
         "boxmean": true,
         "name": "กำแพงเซา",
         "type": "box",
         "uid": "709725",
         "y": [
          57.5
         ]
        },
        {
         "boxmean": true,
         "name": "ทุ่งสัง",
         "type": "box",
         "uid": "b3c5b0",
         "y": [
          12.5
         ]
        },
        {
         "boxmean": true,
         "name": "กะทูน",
         "type": "box",
         "uid": "8f495a",
         "y": [
          29.17,
          26.67,
          26.25,
          20.83,
          20,
          17.5,
          18.75,
          15,
          11.25,
          8.75,
          20.83,
          20,
          18.75
         ]
        },
        {
         "boxmean": true,
         "name": "การะเกด",
         "type": "box",
         "uid": "ed2053",
         "y": [
          32.5
         ]
        },
        {
         "boxmean": true,
         "name": "แหลม",
         "type": "box",
         "uid": "e4ec4e",
         "y": [
          12.5
         ]
        },
        {
         "boxmean": true,
         "name": "เสาเภา",
         "type": "box",
         "uid": "830379",
         "y": [
          50
         ]
        },
        {
         "boxmean": true,
         "name": "ไชยมนตรี",
         "type": "box",
         "uid": "7297ae",
         "y": [
          53.33
         ]
        },
        {
         "boxmean": true,
         "name": "ขอนหาด",
         "type": "box",
         "uid": "334e3f",
         "y": [
          37.5
         ]
        },
        {
         "boxmean": true,
         "name": "แก้วแสน",
         "type": "box",
         "uid": "2cd047",
         "y": [
          73.33,
          100,
          22.5,
          85,
          30
         ]
        },
        {
         "boxmean": true,
         "name": "สามตำบล",
         "type": "box",
         "uid": "9d43a3",
         "y": [
          45
         ]
        },
        {
         "boxmean": true,
         "name": "นางหลง",
         "type": "box",
         "uid": "9fc509",
         "y": [
          40
         ]
        },
        {
         "boxmean": true,
         "name": "นาโพธิ์",
         "type": "box",
         "uid": "38b7f1",
         "y": [
          52.5,
          52.5,
          92.5,
          32.5,
          35,
          42.5
         ]
        },
        {
         "boxmean": true,
         "name": "อินคีรี",
         "type": "box",
         "uid": "ed06a2",
         "y": [
          52.5,
          47.5
         ]
        }
       ],
       "layout": {
        "autosize": true,
        "title": "Box Plot Styling Standard Deviation",
        "xaxis": {
         "autorange": true,
         "range": [
          -0.5,
          104.5
         ],
         "title": "Year",
         "type": "category"
        },
        "yaxis": {
         "autorange": true,
         "range": [
          -16.72222222222222,
          337.72222222222223
         ],
         "title": "Frequency",
         "type": "linear"
        }
       }
      },
      "text/html": [
       "<div id=\"337d5b5b-ccde-4e94-8acd-80b9236e098b\" style=\"height: 600px; width: 100%;\" class=\"plotly-graph-div\"></div><script type=\"text/javascript\">require([\"plotly\"], function(Plotly) { window.PLOTLYENV=window.PLOTLYENV || {};window.PLOTLYENV.BASE_URL=\"https://plot.ly\";Plotly.newPlot(\"337d5b5b-ccde-4e94-8acd-80b9236e098b\", [{\"y\": [25.0, 62.5, 242.5, 30.0, 23.0, 33.0], \"type\": \"box\", \"name\": \"\\u0e19\\u0e32\\u0e2b\\u0e25\\u0e27\\u0e07\\u0e40\\u0e2a\\u0e19\", \"boxmean\": true}, {\"y\": [15.0, 17.5, 22.5, 12.5, 20.0, 20.0, 30.0, 27.5, 32.5, 35.0, 30.0, 17.5, 20.0, 25.0, 37.5, 42.5, 65.0, 57.5, 18.0, 57.81, 68.0, 4.0, 36.0, 18.0, 20.0, 15.0, 12.5, 15.0, 17.5, 12.5, 15.0, 20.0, 30.0, 10.0, 12.5, 15.0], \"type\": \"box\", \"name\": \"\\u0e19\\u0e32\\u0e41\\u0e27\", \"boxmean\": true}, {\"y\": [22.5, 95.0, 22.5, 22.5], \"type\": \"box\", \"name\": \"\\u0e19\\u0e32\\u0e44\\u0e21\\u0e49\\u0e44\\u0e1c\\u0e48\", \"boxmean\": true}, {\"y\": [27.5, 100.0, 82.5, 78.75, 67.5, 45.0, 41.0, 35.0, 17.5, 37.5, 45.0, 29.0, 135.0, 20.0], \"type\": \"box\", \"name\": \"\\u0e40\\u0e02\\u0e32\\u0e02\\u0e32\\u0e27\", \"boxmean\": true}, {\"y\": [17.5, 22.5, 37.5, 76.92, 34.0, 34.0, 57.5, 45.0, 40.0, 45.0, 45.0, 32.5, 23.0, 120.0, 15.0, 15.0, 45.0, 47.5, 45.0, 57.5, 27.5, 12.5], \"type\": \"box\", \"name\": \"\\u0e17\\u0e35\\u0e48\\u0e27\\u0e31\\u0e07\", \"boxmean\": true}, {\"y\": [27.5, 22.5, 15.0, 15.0, 2.5, 30.0, 50.0, 32.5, 22.5, 25.0, 15.0, 22.5, 20.0, 17.5, 32.5, 25.0, 30.0, 32.5, 30.0, 15.0, 32.5, 40.0, 35.0, 22.5, 30.0, 30.0, 18.75, 12.5, 30.0, 30.0, 20.0, 42.5, 37.5, 46.25, 49.17], \"type\": \"box\", \"name\": \"\\u0e40\\u0e02\\u0e32\\u0e1e\\u0e23\\u0e30\\u0e17\\u0e2d\\u0e07\", \"boxmean\": true}, {\"y\": [20.0, 20.0, 27.5, 20.0, 27.5, 12.5, 25.0, 17.5, 20.0, 72.5, 22.5, 7.5, 12.5, 15.0, 20.0, 12.5, 22.5, 17.5, 32.5, 15.0, 35.0, 7.5, 90.0, 12.5, 17.5, 7.5, 5.0, 7.5, 5.0, 5.0, 5.0, 7.5, 5.0, 5.0, 5.0, 5.0, 2.5, 5.0, 10.0, 5.0, 7.5, 5.0, 7.5, 5.0, 27.5, 5.0, 7.5, 5.0, 7.5, 5.0, 5.0, 5.0, 7.5, 5.0, 2.5, 5.0, 5.0, 7.5, 7.5, 7.5, 7.5, 7.5, 10.0], \"type\": \"box\", \"name\": \"\\u0e1a\\u0e32\\u0e07\\u0e02\\u0e31\\u0e19\", \"boxmean\": true}, {\"y\": [55.0, 22.5, 25.0, 35.0, 2.5, 20.0, 15.0, 22.5, 12.5, 2.5, 27.5, 27.5, 32.5, 27.0, 164.56, 37.0, 22.5, 10.0, 27.5, 17.5, 17.5, 45.0, 10.0, 25.0, 37.5, 30.0, 20.0, 20.0, 35.0, 32.5, 20.0, 32.5, 11.25, 17.5, 15.0, 22.5, 15.0, 26.25, 22.5, 11.25, 20.0, 47.5, 17.5, 20.0, 47.5], \"type\": \"box\", \"name\": \"\\u0e27\\u0e31\\u0e07\\u0e2d\\u0e48\\u0e32\\u0e07\", \"boxmean\": true}, {\"y\": [12.5, 25.0, 10.0, 13.75, 20.0, 22.5, 2.5, 12.5, 15.0, 25.0, 17.5, 20.0, 25.0, 27.5, 22.5, 22.5, 35.0, 27.5, 15.0, 22.5, 12.5, 17.5, 12.5, 27.5, 37.5, 17.5, 35.0, 15.0, 27.5, 17.5, 7.5, 17.5, 22.5, 17.5, 60.0], \"type\": \"box\", \"name\": \"\\u0e40\\u0e01\\u0e32\\u0e30\\u0e02\\u0e31\\u0e19\\u0e18\\u0e4c\", \"boxmean\": true}, {\"y\": [47.5, 25.0, 30.0], \"type\": \"box\", \"name\": \"\\u0e01\\u0e30\\u0e40\\u0e1b\\u0e35\\u0e22\\u0e14\", \"boxmean\": true}, {\"y\": [22.5], \"type\": \"box\", \"name\": \"\\u0e17\\u0e48\\u0e32\\u0e40\\u0e2a\\u0e21\\u0e47\\u0e14\", \"boxmean\": true}, {\"y\": [22.5, 22.5, 15.0, 13.75, 20.0, 27.5, 15.0, 22.5, 15.0, 15.0, 150.0, 5.0, 25.0, 32.5, 27.5, 20.0, 15.0, 31.0, 42.5, 15.0, 30.0, 37.5, 32.5, 31.25, 22.5, 28.75, 32.5, 27.5, 13.75, 30.0, 36.25], \"type\": \"box\", \"name\": \"\\u0e1a\\u0e49\\u0e32\\u0e19\\u0e15\\u0e39\\u0e25\", \"boxmean\": true}, {\"y\": [75.0, 17.5, 15.0, 25.0, 15.0, 102.5, 27.5, 7.5, 10.0, 30.0, 12.5, 5.0, 5.0, 2.5, 2.5, 5.0, 5.0, 5.0, 5.0, 7.5, 15.0, 5.0, 5.0, 5.0, 7.5, 5.0, 7.5, 10.0], \"type\": \"box\", \"name\": \"\\u0e1a\\u0e49\\u0e32\\u0e19\\u0e19\\u0e34\\u0e04\\u0e21\", \"boxmean\": true}, {\"y\": [35.0, 32.5, 30.0, 15.0, 20.0, 20.0, 20.0, 20.0, 12.5, 17.5, 17.5, 2.5, 17.5, 20.0, 25.0, 12.5, 20.0, 25.0, 10.0, 15.0, 2.5, 2.5, 7.5, 2.5, 5.0, 2.5, 7.5, 2.5, 5.0, 5.0, 7.5, 5.0, 7.5, 7.5, 10.0, 7.5, 7.5, 5.0, 7.5, 7.5, 5.0, 5.0, 7.5, 5.0, 5.0, 5.0, 5.0, 7.5, 7.5], \"type\": \"box\", \"name\": \"\\u0e1a\\u0e49\\u0e32\\u0e19\\u0e25\\u0e33\\u0e19\\u0e32\\u0e27\", \"boxmean\": true}, {\"y\": [77.5], \"type\": \"box\", \"name\": \"\\u0e08\\u0e31\\u0e19\\u0e14\\u0e35\", \"boxmean\": true}, {\"y\": [65.0], \"type\": \"box\", \"name\": \"\\u0e09\\u0e27\\u0e32\\u0e07\", \"boxmean\": true}, {\"y\": [75.0, 95.41], \"type\": \"box\", \"name\": \"\\u0e44\\u0e21\\u0e49\\u0e40\\u0e23\\u0e35\\u0e22\\u0e07\", \"boxmean\": true}, {\"y\": [22.5, 20.0, 17.5, 20.0, 16.67, 15.0, 22.5, 15.83, 21.25, 10.83, 11.67, 15.19, 17.5, 23.33, 17.0], \"type\": \"box\", \"name\": \"\\u0e2b\\u0e49\\u0e27\\u0e22\\u0e1b\\u0e23\\u0e34\\u0e01\", \"boxmean\": true}, {\"y\": [32.5, 40.0, 27.5, 22.5, 12.5, 30.0, 15.0, 47.5, 20.0, 32.5, 40.0, 35.0, 30.0, 35.0, 35.0, 32.5, 12.5, 40.0, 35.0, 20.0, 37.5, 38.75, 15.0, 22.5, 23.75, 16.25, 12.5, 21.25, 15.0, 23.75, 28.75, 47.5], \"type\": \"box\", \"name\": \"\\u0e04\\u0e27\\u0e19\\u0e2b\\u0e19\\u0e2d\\u0e07\\u0e2b\\u0e07\\u0e29\\u0e4c\", \"boxmean\": true}, {\"y\": [30.0, 15.0, 30.0, 30.0, 17.5, 2.5, 17.5, 12.5, 32.5, 17.5, 22.5, 15.0, 55.0, 23.75, 38.75, 12.5, 16.25, 32.5, 55.0, 38.75, 22.5], \"type\": \"box\", \"name\": \"\\u0e17\\u0e48\\u0e32\\u0e1b\\u0e23\\u0e30\\u0e08\\u0e30\", \"boxmean\": true}, {\"y\": [8.0, 10.0, 22.5], \"type\": \"box\", \"name\": \"\\u0e2b\\u0e19\\u0e2d\\u0e07\\u0e2b\\u0e07\\u0e2a\\u0e4c\", \"boxmean\": true}, {\"y\": [80.0, 240.0, 15.0, 12.5, 15.0, 22.5, 12.5, 12.5], \"type\": \"box\", \"name\": \"\\u0e17\\u0e48\\u0e32\\u0e22\\u0e32\\u0e07\", \"boxmean\": true}, {\"y\": [3.57, 3.57, 12.5, 8.0, 11.0, 8.0, 11.0, 28.0, 32.0, 60.0, 102.0], \"type\": \"box\", \"name\": \"\\u0e0a\\u0e49\\u0e32\\u0e07\\u0e0b\\u0e49\\u0e32\\u0e22\", \"boxmean\": true}, {\"y\": [72.5, 77.5, 65.0], \"type\": \"box\", \"name\": \"\\u0e1e\\u0e34\\u0e1b\\u0e39\\u0e19\", \"boxmean\": true}, {\"y\": [6.0, 6.0, 60.0], \"type\": \"box\", \"name\": \"\\u0e1b\\u0e32\\u0e01\\u0e1e\\u0e39\\u0e19\", \"boxmean\": true}, {\"y\": [140.0, 112.5, 97.5, 75.0, 8.0, 40.0], \"type\": \"box\", \"name\": \"\\u0e16\\u0e49\\u0e33\\u0e43\\u0e2b\\u0e0d\\u0e48\", \"boxmean\": true}, {\"y\": [122.5, 13.0, 117.5, 27.5, 22.5, 27.5, 20.0], \"type\": \"box\", \"name\": \"\\u0e19\\u0e49\\u0e33\\u0e15\\u0e01\", \"boxmean\": true}, {\"y\": [65.0, 20.0, 60.0, 195.0, 45.0, 27.5], \"type\": \"box\", \"name\": \"\\u0e04\\u0e27\\u0e19\\u0e01\\u0e23\\u0e14\", \"boxmean\": true}, {\"y\": [10.0, 42.5], \"type\": \"box\", \"name\": \"\\u0e0a\\u0e30\\u0e2d\\u0e27\\u0e14\", \"boxmean\": true}, {\"y\": [147.5, 5.0, 56.0, 16.0], \"type\": \"box\", \"name\": \"\\u0e2a\\u0e27\\u0e19\\u0e2b\\u0e25\\u0e27\\u0e07\", \"boxmean\": true}, {\"y\": [32.5], \"type\": \"box\", \"name\": \"\\u0e1b\\u0e32\\u0e01\\u0e1e\\u0e19\\u0e31\\u0e07\\u0e1d\\u0e31\\u0e48\\u0e07\\u0e15\\u0e30\\u0e27\\u0e31\\u0e19\\u0e15\\u0e01\", \"boxmean\": true}, {\"y\": [30.0, 25.0, 72.5], \"type\": \"box\", \"name\": \"\\u0e04\\u0e27\\u0e19\\u0e17\\u0e2d\\u0e07\", \"boxmean\": true}, {\"y\": [22.5, 25.0, 30.0], \"type\": \"box\", \"name\": \"\\u0e1e\\u0e23\\u0e2b\\u0e21\\u0e42\\u0e25\\u0e01\", \"boxmean\": true}, {\"y\": [105.0, 50.0, 102.0, 20.0, 67.5, 45.0], \"type\": \"box\", \"name\": \"\\u0e17\\u0e48\\u0e32\\u0e28\\u0e32\\u0e25\\u0e32\", \"boxmean\": true}, {\"y\": [5.0, 15.0], \"type\": \"box\", \"name\": \"\\u0e23\\u0e48\\u0e2d\\u0e19\\u0e1e\\u0e34\\u0e1a\\u0e39\\u0e25\\u0e22\\u0e4c\", \"boxmean\": true}, {\"y\": [2.5, 32.5], \"type\": \"box\", \"name\": \"\\u0e2b\\u0e31\\u0e27\\u0e44\\u0e17\\u0e23\", \"boxmean\": true}, {\"y\": [37.5, 5.0, 16.67, 10.0, 6.67, 13.33, 3.33, 3.33, 9.0, 33.0, 34.0], \"type\": \"box\", \"name\": \"\\u0e01\\u0e33\\u0e42\\u0e25\\u0e19\", \"boxmean\": true}, {\"y\": [55.0, 22.5, 145.0, 150.0, 62.5, 52.5, 35.0, 25.0, 75.0], \"type\": \"box\", \"name\": \"\\u0e17\\u0e38\\u0e48\\u0e07\\u0e43\\u0e2a\", \"boxmean\": true}, {\"y\": [5.0, 17.5, 40.0, 40.0, 35.0, 27.5, 45.0, 32.5, 42.5, 40.0, 27.5, 31.25, 23.75, 15.0, 22.5, 28.75, 28.75, 42.5], \"type\": \"box\", \"name\": \"\\u0e17\\u0e38\\u0e48\\u0e07\\u0e42\\u0e1e\\u0e18\\u0e34\\u0e4c\", \"boxmean\": true}, {\"y\": [10.0, 5.0, 22.5, 60.0, 20.0, 21.0], \"type\": \"box\", \"name\": \"\\u0e0a\\u0e49\\u0e32\\u0e07\\u0e01\\u0e25\\u0e32\\u0e07\", \"boxmean\": true}, {\"y\": [7.5, 17.5], \"type\": \"box\", \"name\": \"\\u0e41\\u0e21\\u0e48\\u0e40\\u0e08\\u0e49\\u0e32\\u0e2d\\u0e22\\u0e39\\u0e48\\u0e2b\\u0e31\\u0e27\", \"boxmean\": true}, {\"y\": [20.0, 185.0], \"type\": \"box\", \"name\": \"\\u0e17\\u0e38\\u0e48\\u0e07\\u0e2a\\u0e07\", \"boxmean\": true}, {\"y\": [47.5, 107.5, 15.0, 20.0, 15.0, 17.5, 12.5, 15.0, 17.5, 15.0, 7.5, 12.5, 22.5, 17.5, 37.5, 30.0, 20.0, 10.0, 15.0, 17.5], \"type\": \"box\", \"name\": \"\\u0e1b\\u0e23\\u0e34\\u0e01\", \"boxmean\": true}, {\"y\": [15.0], \"type\": \"box\", \"name\": \"\\u0e1b\\u0e32\\u0e01\\u0e41\\u0e1e\\u0e23\\u0e01\", \"boxmean\": true}, {\"y\": [105.0, 140.0, 2.0], \"type\": \"box\", \"name\": \"\\u0e14\\u0e38\\u0e2a\\u0e34\\u0e15\", \"boxmean\": true}, {\"y\": [195.0, 16.67, 72.5, 60.0], \"type\": \"box\", \"name\": \"\\u0e17\\u0e49\\u0e2d\\u0e07\\u0e40\\u0e19\\u0e35\\u0e22\\u0e19\", \"boxmean\": true}, {\"y\": [4.0, 13.0, 4.0, 9.0, 10.0, 6.0, 320.0, 18.0, 13.0, 6.0, 52.0], \"type\": \"box\", \"name\": \"\\u0e19\\u0e32\\u0e1e\\u0e23\\u0e38\", \"boxmean\": true}, {\"y\": [53.0, 38.0, 27.0, 151.85], \"type\": \"box\", \"name\": \"\\u0e1b\\u0e32\\u0e01\\u0e19\\u0e04\\u0e23\", \"boxmean\": true}, {\"y\": [72.5], \"type\": \"box\", \"name\": \"\\u0e2a\\u0e34\\u0e0a\\u0e25\", \"boxmean\": true}, {\"y\": [27.5, 20.0, 32.5], \"type\": \"box\", \"name\": \"\\u0e19\\u0e32\\u0e2b\\u0e21\\u0e2d\\u0e1a\\u0e38\\u0e0d\", \"boxmean\": true}, {\"y\": [7.41, 17.5], \"type\": \"box\", \"name\": \"\\u0e42\\u0e1e\\u0e18\\u0e34\\u0e4c\\u0e40\\u0e2a\\u0e14\\u0e47\\u0e08\", \"boxmean\": true}, {\"y\": [68.0, 22.5], \"type\": \"box\", \"name\": \"\\u0e19\\u0e32\\u0e1a\\u0e2d\\u0e19\", \"boxmean\": true}, {\"y\": [75.0, 39.47, 75.86, 84.21, 54.0], \"type\": \"box\", \"name\": \"\\u0e17\\u0e48\\u0e32\\u0e0b\\u0e31\\u0e01\", \"boxmean\": true}, {\"y\": [110.81, 202.04, 16.0, 21.0, 42.5], \"type\": \"box\", \"name\": \"\\u0e19\\u0e32\\u0e2a\\u0e32\\u0e23\", \"boxmean\": true}, {\"y\": [150.0], \"type\": \"box\", \"name\": \"\\u0e1a\\u0e32\\u0e07\\u0e23\\u0e39\\u0e1b\", \"boxmean\": true}, {\"y\": [32.5, 20.0, 12.5, 2.5, 2.5, 7.5, 7.5, 10.0, 7.5], \"type\": \"box\", \"name\": \"\\u0e27\\u0e31\\u0e07\\u0e2b\\u0e34\\u0e19\", \"boxmean\": true}, {\"y\": [10.0, 7.0, 6.0, 68.0], \"type\": \"box\", \"name\": \"\\u0e17\\u0e48\\u0e32\\u0e44\\u0e23\\u0e48\", \"boxmean\": true}, {\"y\": [42.5, 30.88, 6.67], \"type\": \"box\", \"name\": \"\\u0e0a\\u0e30\\u0e21\\u0e32\\u0e22\", \"boxmean\": true}, {\"y\": [33.33], \"type\": \"box\", \"name\": \"\\u0e22\\u0e32\\u0e07\\u0e04\\u0e49\\u0e2d\\u0e21\", \"boxmean\": true}, {\"y\": [20.0, 6.0, 27.0, 27.0], \"type\": \"box\", \"name\": \"\\u0e16\\u0e49\\u0e33\\u0e1e\\u0e23\\u0e23\\u0e13\\u0e23\\u0e32\", \"boxmean\": true}, {\"y\": [7.14], \"type\": \"box\", \"name\": \"\\u0e44\\u0e2a\\u0e2b\\u0e23\\u0e49\\u0e32\", \"boxmean\": true}, {\"y\": [255.26], \"type\": \"box\", \"name\": \"\\u0e42\\u0e1e\\u0e18\\u0e34\\u0e4c\\u0e17\\u0e2d\\u0e07\", \"boxmean\": true}, {\"y\": [30.0, 5.0, 2.5, 20.0], \"type\": \"box\", \"name\": \"\\u0e2a\\u0e35\\u0e48\\u0e02\\u0e35\\u0e14\", \"boxmean\": true}, {\"y\": [66.67, 10.0], \"type\": \"box\", \"name\": \"\\u0e01\\u0e23\\u0e38\\u0e07\\u0e0a\\u0e34\\u0e07\", \"boxmean\": true}, {\"y\": [4.0, 5.0, 17.5, 12.5], \"type\": \"box\", \"name\": \"\\u0e19\\u0e32\\u0e40\\u0e02\\u0e25\\u0e35\\u0e22\\u0e07\", \"boxmean\": true}, {\"y\": [1.0], \"type\": \"box\", \"name\": \"\\u0e40\\u0e0a\\u0e35\\u0e22\\u0e23\\u0e40\\u0e02\\u0e32\", \"boxmean\": true}, {\"y\": [45.0, 6.0], \"type\": \"box\", \"name\": \"\\u0e14\\u0e2d\\u0e19\\u0e15\\u0e23\\u0e2d\", \"boxmean\": true}, {\"y\": [19.0, 7.0, 10.0, 10.0], \"type\": \"box\", \"name\": \"\\u0e17\\u0e32\\u0e07\\u0e1e\\u0e39\\u0e19\", \"boxmean\": true}, {\"y\": [56.0, 14.0, 33.33], \"type\": \"box\", \"name\": \"\\u0e44\\u0e17\\u0e22\\u0e1a\\u0e38\\u0e23\\u0e35\", \"boxmean\": true}, {\"y\": [1.0, 10.0, 30.0], \"type\": \"box\", \"name\": \"\\u0e17\\u0e48\\u0e32\\u0e14\\u0e35\", \"boxmean\": true}, {\"y\": [2.0, 9.0], \"type\": \"box\", \"name\": \"\\u0e40\\u0e02\\u0e32\\u0e41\\u0e01\\u0e49\\u0e27\", \"boxmean\": true}, {\"y\": [6.0, 6.0, 32.5, 107.5], \"type\": \"box\", \"name\": \"\\u0e02\\u0e38\\u0e19\\u0e17\\u0e30\\u0e40\\u0e25\", \"boxmean\": true}, {\"y\": [14.0, 7.0], \"type\": \"box\", \"name\": \"\\u0e04\\u0e27\\u0e19\\u0e1e\\u0e31\\u0e07\", \"boxmean\": true}, {\"y\": [24.0, 17.0, 57.5], \"type\": \"box\", \"name\": \"\\u0e21\\u0e30\\u0e21\\u0e48\\u0e27\\u0e07\\u0e2a\\u0e2d\\u0e07\\u0e15\\u0e49\\u0e19\", \"boxmean\": true}, {\"y\": [72.0, 29.0, 21.0, 9.0], \"type\": \"box\", \"name\": \"\\u0e2a\\u0e23\\u0e30\\u0e41\\u0e01\\u0e49\\u0e27\", \"boxmean\": true}, {\"y\": [13.0, 15.0, 42.0, 38.0], \"type\": \"box\", \"name\": \"\\u0e19\\u0e32\\u0e40\\u0e04\\u0e35\\u0e22\\u0e19\", \"boxmean\": true}, {\"y\": [115.0, 37.0], \"type\": \"box\", \"name\": \"\\u0e17\\u0e49\\u0e32\\u0e22\\u0e2a\\u0e33\\u0e40\\u0e20\\u0e32\", \"boxmean\": true}, {\"y\": [5.0, 7.0], \"type\": \"box\", \"name\": \"\\u0e1a\\u0e32\\u0e07\\u0e08\\u0e32\\u0e01\", \"boxmean\": true}, {\"y\": [13.0, 65.0, 36.0, 62.5, 17.5], \"type\": \"box\", \"name\": \"\\u0e40\\u0e02\\u0e32\\u0e42\\u0e23\", \"boxmean\": true}, {\"y\": [4.0], \"type\": \"box\", \"name\": \"\\u0e14\\u0e2d\\u0e19\\u0e15\\u0e30\\u0e42\\u0e01\", \"boxmean\": true}, {\"y\": [4.0, 62.0, 6.0, 20.0, 22.5, 23.75, 27.5, 42.5, 42.5, 41.25, 35.0, 37.5, 45.0, 36.25], \"type\": \"box\", \"name\": \"\\u0e2b\\u0e34\\u0e19\\u0e15\\u0e01\", \"boxmean\": true}, {\"y\": [10.0], \"type\": \"box\", \"name\": \"\\u0e04\\u0e27\\u0e19\\u0e0a\\u0e38\\u0e21\", \"boxmean\": true}, {\"y\": [17.5, 23.0, 27.5, 15.0, 21.25], \"type\": \"box\", \"name\": \"\\u0e40\\u0e02\\u0e32\\u0e1e\\u0e23\\u0e30\", \"boxmean\": true}, {\"y\": [50.0, 35.0, 32.0], \"type\": \"box\", \"name\": \"\\u0e17\\u0e2d\\u0e19\\u0e2b\\u0e07\\u0e2a\\u0e4c\", \"boxmean\": true}, {\"y\": [40.0, 27.0, 28.0, 67.5, 60.0], \"type\": \"box\", \"name\": \"\\u0e19\\u0e1a\\u0e1e\\u0e34\\u0e15\\u0e33\", \"boxmean\": true}, {\"y\": [20.0], \"type\": \"box\", \"name\": \"\\u0e17\\u0e48\\u0e32\\u0e02\\u0e36\\u0e49\\u0e19\", \"boxmean\": true}, {\"y\": [15.0, 5.0], \"type\": \"box\", \"name\": \"\\u0e02\\u0e19\\u0e2d\\u0e21\", \"boxmean\": true}, {\"y\": [26.0, 7.0, 55.0, 45.0], \"type\": \"box\", \"name\": \"\\u0e17\\u0e38\\u0e48\\u0e07\\u0e1b\\u0e23\\u0e31\\u0e07\", \"boxmean\": true}, {\"y\": [136.0, 8.0], \"type\": \"box\", \"name\": \"\\u0e2b\\u0e19\\u0e49\\u0e32\\u0e2a\\u0e15\\u0e19\", \"boxmean\": true}, {\"y\": [16.13, 12.5, 10.0, 17.5, 12.5, 20.0, 17.5, 15.0, 15.0, 12.5, 12.5, 10.0, 7.5, 10.0, 11.25, 17.5, 20.0, 10.0, 10.0, 10.0, 15.0, 12.5, 7.5, 12.5, 17.5, 10.0, 9.9, 15.0, 12.5, 17.5, 12.5, 12.9, 10.0, 10.0, 15.0, 7.5, 10.0, 11.25, 10.0, 15.0, 10.0, 15.0, 10.0, 22.5, 12.5, 17.5, 12.5, 12.5, 15.0, 15.0, 13.89, 23.81, 12.2, 31.25, 15.0, 15.0, 17.5, 11.25, 9.01, 15.0, 23.81, 13.89, 10.0, 10.0, 15.0, 17.5, 12.5, 16.0, 15.5], \"type\": \"box\", \"name\": \"\\u0e01\\u0e23\\u0e38\\u0e07\\u0e2b\\u0e22\\u0e31\\u0e19\", \"boxmean\": true}, {\"y\": [20.0, 22.5, 12.5, 10.0, 15.0, 17.5, 15.0, 15.0, 12.5, 15.0, 8.75, 7.5, 15.0, 22.5, 30.0, 17.5, 22.5, 12.5, 20.0, 15.0, 15.0, 30.0, 22.5, 20.0, 12.5, 15.0, 20.0, 14.17, 36.25, 28.75, 26.0, 22.5], \"type\": \"box\", \"name\": \"\\u0e01\\u0e38\\u0e41\\u0e2b\\u0e23\\u0e30\", \"boxmean\": true}, {\"y\": [15.0], \"type\": \"box\", \"name\": \"\\u0e17\\u0e49\\u0e2d\\u0e07\\u0e25\\u0e33\\u0e40\\u0e08\\u0e35\\u0e22\\u0e01\", \"boxmean\": true}, {\"y\": [57.5], \"type\": \"box\", \"name\": \"\\u0e01\\u0e33\\u0e41\\u0e1e\\u0e07\\u0e40\\u0e0b\\u0e32\", \"boxmean\": true}, {\"y\": [12.5], \"type\": \"box\", \"name\": \"\\u0e17\\u0e38\\u0e48\\u0e07\\u0e2a\\u0e31\\u0e07\", \"boxmean\": true}, {\"y\": [29.17, 26.67, 26.25, 20.83, 20.0, 17.5, 18.75, 15.0, 11.25, 8.75, 20.83, 20.0, 18.75], \"type\": \"box\", \"name\": \"\\u0e01\\u0e30\\u0e17\\u0e39\\u0e19\", \"boxmean\": true}, {\"y\": [32.5], \"type\": \"box\", \"name\": \"\\u0e01\\u0e32\\u0e23\\u0e30\\u0e40\\u0e01\\u0e14\", \"boxmean\": true}, {\"y\": [12.5], \"type\": \"box\", \"name\": \"\\u0e41\\u0e2b\\u0e25\\u0e21\", \"boxmean\": true}, {\"y\": [50.0], \"type\": \"box\", \"name\": \"\\u0e40\\u0e2a\\u0e32\\u0e40\\u0e20\\u0e32\", \"boxmean\": true}, {\"y\": [53.33], \"type\": \"box\", \"name\": \"\\u0e44\\u0e0a\\u0e22\\u0e21\\u0e19\\u0e15\\u0e23\\u0e35\", \"boxmean\": true}, {\"y\": [37.5], \"type\": \"box\", \"name\": \"\\u0e02\\u0e2d\\u0e19\\u0e2b\\u0e32\\u0e14\", \"boxmean\": true}, {\"y\": [73.33, 100.0, 22.5, 85.0, 30.0], \"type\": \"box\", \"name\": \"\\u0e41\\u0e01\\u0e49\\u0e27\\u0e41\\u0e2a\\u0e19\", \"boxmean\": true}, {\"y\": [45.0], \"type\": \"box\", \"name\": \"\\u0e2a\\u0e32\\u0e21\\u0e15\\u0e33\\u0e1a\\u0e25\", \"boxmean\": true}, {\"y\": [40.0], \"type\": \"box\", \"name\": \"\\u0e19\\u0e32\\u0e07\\u0e2b\\u0e25\\u0e07\", \"boxmean\": true}, {\"y\": [52.5, 52.5, 92.5, 32.5, 35.0, 42.5], \"type\": \"box\", \"name\": \"\\u0e19\\u0e32\\u0e42\\u0e1e\\u0e18\\u0e34\\u0e4c\", \"boxmean\": true}, {\"y\": [52.5, 47.5], \"type\": \"box\", \"name\": \"\\u0e2d\\u0e34\\u0e19\\u0e04\\u0e35\\u0e23\\u0e35\", \"boxmean\": true}], {\"yaxis\": {\"title\": \"Frequency\"}, \"xaxis\": {\"title\": \"Year\"}, \"height\": 600, \"title\": \"Box Plot Styling Standard Deviation\"}, {\"linkText\": \"Export to plot.ly\", \"showLink\": true})});</script>"
      ],
      "text/vnd.plotly.v1+html": [
       "<div id=\"337d5b5b-ccde-4e94-8acd-80b9236e098b\" style=\"height: 600px; width: 100%;\" class=\"plotly-graph-div\"></div><script type=\"text/javascript\">require([\"plotly\"], function(Plotly) { window.PLOTLYENV=window.PLOTLYENV || {};window.PLOTLYENV.BASE_URL=\"https://plot.ly\";Plotly.newPlot(\"337d5b5b-ccde-4e94-8acd-80b9236e098b\", [{\"y\": [25.0, 62.5, 242.5, 30.0, 23.0, 33.0], \"type\": \"box\", \"name\": \"\\u0e19\\u0e32\\u0e2b\\u0e25\\u0e27\\u0e07\\u0e40\\u0e2a\\u0e19\", \"boxmean\": true}, {\"y\": [15.0, 17.5, 22.5, 12.5, 20.0, 20.0, 30.0, 27.5, 32.5, 35.0, 30.0, 17.5, 20.0, 25.0, 37.5, 42.5, 65.0, 57.5, 18.0, 57.81, 68.0, 4.0, 36.0, 18.0, 20.0, 15.0, 12.5, 15.0, 17.5, 12.5, 15.0, 20.0, 30.0, 10.0, 12.5, 15.0], \"type\": \"box\", \"name\": \"\\u0e19\\u0e32\\u0e41\\u0e27\", \"boxmean\": true}, {\"y\": [22.5, 95.0, 22.5, 22.5], \"type\": \"box\", \"name\": \"\\u0e19\\u0e32\\u0e44\\u0e21\\u0e49\\u0e44\\u0e1c\\u0e48\", \"boxmean\": true}, {\"y\": [27.5, 100.0, 82.5, 78.75, 67.5, 45.0, 41.0, 35.0, 17.5, 37.5, 45.0, 29.0, 135.0, 20.0], \"type\": \"box\", \"name\": \"\\u0e40\\u0e02\\u0e32\\u0e02\\u0e32\\u0e27\", \"boxmean\": true}, {\"y\": [17.5, 22.5, 37.5, 76.92, 34.0, 34.0, 57.5, 45.0, 40.0, 45.0, 45.0, 32.5, 23.0, 120.0, 15.0, 15.0, 45.0, 47.5, 45.0, 57.5, 27.5, 12.5], \"type\": \"box\", \"name\": \"\\u0e17\\u0e35\\u0e48\\u0e27\\u0e31\\u0e07\", \"boxmean\": true}, {\"y\": [27.5, 22.5, 15.0, 15.0, 2.5, 30.0, 50.0, 32.5, 22.5, 25.0, 15.0, 22.5, 20.0, 17.5, 32.5, 25.0, 30.0, 32.5, 30.0, 15.0, 32.5, 40.0, 35.0, 22.5, 30.0, 30.0, 18.75, 12.5, 30.0, 30.0, 20.0, 42.5, 37.5, 46.25, 49.17], \"type\": \"box\", \"name\": \"\\u0e40\\u0e02\\u0e32\\u0e1e\\u0e23\\u0e30\\u0e17\\u0e2d\\u0e07\", \"boxmean\": true}, {\"y\": [20.0, 20.0, 27.5, 20.0, 27.5, 12.5, 25.0, 17.5, 20.0, 72.5, 22.5, 7.5, 12.5, 15.0, 20.0, 12.5, 22.5, 17.5, 32.5, 15.0, 35.0, 7.5, 90.0, 12.5, 17.5, 7.5, 5.0, 7.5, 5.0, 5.0, 5.0, 7.5, 5.0, 5.0, 5.0, 5.0, 2.5, 5.0, 10.0, 5.0, 7.5, 5.0, 7.5, 5.0, 27.5, 5.0, 7.5, 5.0, 7.5, 5.0, 5.0, 5.0, 7.5, 5.0, 2.5, 5.0, 5.0, 7.5, 7.5, 7.5, 7.5, 7.5, 10.0], \"type\": \"box\", \"name\": \"\\u0e1a\\u0e32\\u0e07\\u0e02\\u0e31\\u0e19\", \"boxmean\": true}, {\"y\": [55.0, 22.5, 25.0, 35.0, 2.5, 20.0, 15.0, 22.5, 12.5, 2.5, 27.5, 27.5, 32.5, 27.0, 164.56, 37.0, 22.5, 10.0, 27.5, 17.5, 17.5, 45.0, 10.0, 25.0, 37.5, 30.0, 20.0, 20.0, 35.0, 32.5, 20.0, 32.5, 11.25, 17.5, 15.0, 22.5, 15.0, 26.25, 22.5, 11.25, 20.0, 47.5, 17.5, 20.0, 47.5], \"type\": \"box\", \"name\": \"\\u0e27\\u0e31\\u0e07\\u0e2d\\u0e48\\u0e32\\u0e07\", \"boxmean\": true}, {\"y\": [12.5, 25.0, 10.0, 13.75, 20.0, 22.5, 2.5, 12.5, 15.0, 25.0, 17.5, 20.0, 25.0, 27.5, 22.5, 22.5, 35.0, 27.5, 15.0, 22.5, 12.5, 17.5, 12.5, 27.5, 37.5, 17.5, 35.0, 15.0, 27.5, 17.5, 7.5, 17.5, 22.5, 17.5, 60.0], \"type\": \"box\", \"name\": \"\\u0e40\\u0e01\\u0e32\\u0e30\\u0e02\\u0e31\\u0e19\\u0e18\\u0e4c\", \"boxmean\": true}, {\"y\": [47.5, 25.0, 30.0], \"type\": \"box\", \"name\": \"\\u0e01\\u0e30\\u0e40\\u0e1b\\u0e35\\u0e22\\u0e14\", \"boxmean\": true}, {\"y\": [22.5], \"type\": \"box\", \"name\": \"\\u0e17\\u0e48\\u0e32\\u0e40\\u0e2a\\u0e21\\u0e47\\u0e14\", \"boxmean\": true}, {\"y\": [22.5, 22.5, 15.0, 13.75, 20.0, 27.5, 15.0, 22.5, 15.0, 15.0, 150.0, 5.0, 25.0, 32.5, 27.5, 20.0, 15.0, 31.0, 42.5, 15.0, 30.0, 37.5, 32.5, 31.25, 22.5, 28.75, 32.5, 27.5, 13.75, 30.0, 36.25], \"type\": \"box\", \"name\": \"\\u0e1a\\u0e49\\u0e32\\u0e19\\u0e15\\u0e39\\u0e25\", \"boxmean\": true}, {\"y\": [75.0, 17.5, 15.0, 25.0, 15.0, 102.5, 27.5, 7.5, 10.0, 30.0, 12.5, 5.0, 5.0, 2.5, 2.5, 5.0, 5.0, 5.0, 5.0, 7.5, 15.0, 5.0, 5.0, 5.0, 7.5, 5.0, 7.5, 10.0], \"type\": \"box\", \"name\": \"\\u0e1a\\u0e49\\u0e32\\u0e19\\u0e19\\u0e34\\u0e04\\u0e21\", \"boxmean\": true}, {\"y\": [35.0, 32.5, 30.0, 15.0, 20.0, 20.0, 20.0, 20.0, 12.5, 17.5, 17.5, 2.5, 17.5, 20.0, 25.0, 12.5, 20.0, 25.0, 10.0, 15.0, 2.5, 2.5, 7.5, 2.5, 5.0, 2.5, 7.5, 2.5, 5.0, 5.0, 7.5, 5.0, 7.5, 7.5, 10.0, 7.5, 7.5, 5.0, 7.5, 7.5, 5.0, 5.0, 7.5, 5.0, 5.0, 5.0, 5.0, 7.5, 7.5], \"type\": \"box\", \"name\": \"\\u0e1a\\u0e49\\u0e32\\u0e19\\u0e25\\u0e33\\u0e19\\u0e32\\u0e27\", \"boxmean\": true}, {\"y\": [77.5], \"type\": \"box\", \"name\": \"\\u0e08\\u0e31\\u0e19\\u0e14\\u0e35\", \"boxmean\": true}, {\"y\": [65.0], \"type\": \"box\", \"name\": \"\\u0e09\\u0e27\\u0e32\\u0e07\", \"boxmean\": true}, {\"y\": [75.0, 95.41], \"type\": \"box\", \"name\": \"\\u0e44\\u0e21\\u0e49\\u0e40\\u0e23\\u0e35\\u0e22\\u0e07\", \"boxmean\": true}, {\"y\": [22.5, 20.0, 17.5, 20.0, 16.67, 15.0, 22.5, 15.83, 21.25, 10.83, 11.67, 15.19, 17.5, 23.33, 17.0], \"type\": \"box\", \"name\": \"\\u0e2b\\u0e49\\u0e27\\u0e22\\u0e1b\\u0e23\\u0e34\\u0e01\", \"boxmean\": true}, {\"y\": [32.5, 40.0, 27.5, 22.5, 12.5, 30.0, 15.0, 47.5, 20.0, 32.5, 40.0, 35.0, 30.0, 35.0, 35.0, 32.5, 12.5, 40.0, 35.0, 20.0, 37.5, 38.75, 15.0, 22.5, 23.75, 16.25, 12.5, 21.25, 15.0, 23.75, 28.75, 47.5], \"type\": \"box\", \"name\": \"\\u0e04\\u0e27\\u0e19\\u0e2b\\u0e19\\u0e2d\\u0e07\\u0e2b\\u0e07\\u0e29\\u0e4c\", \"boxmean\": true}, {\"y\": [30.0, 15.0, 30.0, 30.0, 17.5, 2.5, 17.5, 12.5, 32.5, 17.5, 22.5, 15.0, 55.0, 23.75, 38.75, 12.5, 16.25, 32.5, 55.0, 38.75, 22.5], \"type\": \"box\", \"name\": \"\\u0e17\\u0e48\\u0e32\\u0e1b\\u0e23\\u0e30\\u0e08\\u0e30\", \"boxmean\": true}, {\"y\": [8.0, 10.0, 22.5], \"type\": \"box\", \"name\": \"\\u0e2b\\u0e19\\u0e2d\\u0e07\\u0e2b\\u0e07\\u0e2a\\u0e4c\", \"boxmean\": true}, {\"y\": [80.0, 240.0, 15.0, 12.5, 15.0, 22.5, 12.5, 12.5], \"type\": \"box\", \"name\": \"\\u0e17\\u0e48\\u0e32\\u0e22\\u0e32\\u0e07\", \"boxmean\": true}, {\"y\": [3.57, 3.57, 12.5, 8.0, 11.0, 8.0, 11.0, 28.0, 32.0, 60.0, 102.0], \"type\": \"box\", \"name\": \"\\u0e0a\\u0e49\\u0e32\\u0e07\\u0e0b\\u0e49\\u0e32\\u0e22\", \"boxmean\": true}, {\"y\": [72.5, 77.5, 65.0], \"type\": \"box\", \"name\": \"\\u0e1e\\u0e34\\u0e1b\\u0e39\\u0e19\", \"boxmean\": true}, {\"y\": [6.0, 6.0, 60.0], \"type\": \"box\", \"name\": \"\\u0e1b\\u0e32\\u0e01\\u0e1e\\u0e39\\u0e19\", \"boxmean\": true}, {\"y\": [140.0, 112.5, 97.5, 75.0, 8.0, 40.0], \"type\": \"box\", \"name\": \"\\u0e16\\u0e49\\u0e33\\u0e43\\u0e2b\\u0e0d\\u0e48\", \"boxmean\": true}, {\"y\": [122.5, 13.0, 117.5, 27.5, 22.5, 27.5, 20.0], \"type\": \"box\", \"name\": \"\\u0e19\\u0e49\\u0e33\\u0e15\\u0e01\", \"boxmean\": true}, {\"y\": [65.0, 20.0, 60.0, 195.0, 45.0, 27.5], \"type\": \"box\", \"name\": \"\\u0e04\\u0e27\\u0e19\\u0e01\\u0e23\\u0e14\", \"boxmean\": true}, {\"y\": [10.0, 42.5], \"type\": \"box\", \"name\": \"\\u0e0a\\u0e30\\u0e2d\\u0e27\\u0e14\", \"boxmean\": true}, {\"y\": [147.5, 5.0, 56.0, 16.0], \"type\": \"box\", \"name\": \"\\u0e2a\\u0e27\\u0e19\\u0e2b\\u0e25\\u0e27\\u0e07\", \"boxmean\": true}, {\"y\": [32.5], \"type\": \"box\", \"name\": \"\\u0e1b\\u0e32\\u0e01\\u0e1e\\u0e19\\u0e31\\u0e07\\u0e1d\\u0e31\\u0e48\\u0e07\\u0e15\\u0e30\\u0e27\\u0e31\\u0e19\\u0e15\\u0e01\", \"boxmean\": true}, {\"y\": [30.0, 25.0, 72.5], \"type\": \"box\", \"name\": \"\\u0e04\\u0e27\\u0e19\\u0e17\\u0e2d\\u0e07\", \"boxmean\": true}, {\"y\": [22.5, 25.0, 30.0], \"type\": \"box\", \"name\": \"\\u0e1e\\u0e23\\u0e2b\\u0e21\\u0e42\\u0e25\\u0e01\", \"boxmean\": true}, {\"y\": [105.0, 50.0, 102.0, 20.0, 67.5, 45.0], \"type\": \"box\", \"name\": \"\\u0e17\\u0e48\\u0e32\\u0e28\\u0e32\\u0e25\\u0e32\", \"boxmean\": true}, {\"y\": [5.0, 15.0], \"type\": \"box\", \"name\": \"\\u0e23\\u0e48\\u0e2d\\u0e19\\u0e1e\\u0e34\\u0e1a\\u0e39\\u0e25\\u0e22\\u0e4c\", \"boxmean\": true}, {\"y\": [2.5, 32.5], \"type\": \"box\", \"name\": \"\\u0e2b\\u0e31\\u0e27\\u0e44\\u0e17\\u0e23\", \"boxmean\": true}, {\"y\": [37.5, 5.0, 16.67, 10.0, 6.67, 13.33, 3.33, 3.33, 9.0, 33.0, 34.0], \"type\": \"box\", \"name\": \"\\u0e01\\u0e33\\u0e42\\u0e25\\u0e19\", \"boxmean\": true}, {\"y\": [55.0, 22.5, 145.0, 150.0, 62.5, 52.5, 35.0, 25.0, 75.0], \"type\": \"box\", \"name\": \"\\u0e17\\u0e38\\u0e48\\u0e07\\u0e43\\u0e2a\", \"boxmean\": true}, {\"y\": [5.0, 17.5, 40.0, 40.0, 35.0, 27.5, 45.0, 32.5, 42.5, 40.0, 27.5, 31.25, 23.75, 15.0, 22.5, 28.75, 28.75, 42.5], \"type\": \"box\", \"name\": \"\\u0e17\\u0e38\\u0e48\\u0e07\\u0e42\\u0e1e\\u0e18\\u0e34\\u0e4c\", \"boxmean\": true}, {\"y\": [10.0, 5.0, 22.5, 60.0, 20.0, 21.0], \"type\": \"box\", \"name\": \"\\u0e0a\\u0e49\\u0e32\\u0e07\\u0e01\\u0e25\\u0e32\\u0e07\", \"boxmean\": true}, {\"y\": [7.5, 17.5], \"type\": \"box\", \"name\": \"\\u0e41\\u0e21\\u0e48\\u0e40\\u0e08\\u0e49\\u0e32\\u0e2d\\u0e22\\u0e39\\u0e48\\u0e2b\\u0e31\\u0e27\", \"boxmean\": true}, {\"y\": [20.0, 185.0], \"type\": \"box\", \"name\": \"\\u0e17\\u0e38\\u0e48\\u0e07\\u0e2a\\u0e07\", \"boxmean\": true}, {\"y\": [47.5, 107.5, 15.0, 20.0, 15.0, 17.5, 12.5, 15.0, 17.5, 15.0, 7.5, 12.5, 22.5, 17.5, 37.5, 30.0, 20.0, 10.0, 15.0, 17.5], \"type\": \"box\", \"name\": \"\\u0e1b\\u0e23\\u0e34\\u0e01\", \"boxmean\": true}, {\"y\": [15.0], \"type\": \"box\", \"name\": \"\\u0e1b\\u0e32\\u0e01\\u0e41\\u0e1e\\u0e23\\u0e01\", \"boxmean\": true}, {\"y\": [105.0, 140.0, 2.0], \"type\": \"box\", \"name\": \"\\u0e14\\u0e38\\u0e2a\\u0e34\\u0e15\", \"boxmean\": true}, {\"y\": [195.0, 16.67, 72.5, 60.0], \"type\": \"box\", \"name\": \"\\u0e17\\u0e49\\u0e2d\\u0e07\\u0e40\\u0e19\\u0e35\\u0e22\\u0e19\", \"boxmean\": true}, {\"y\": [4.0, 13.0, 4.0, 9.0, 10.0, 6.0, 320.0, 18.0, 13.0, 6.0, 52.0], \"type\": \"box\", \"name\": \"\\u0e19\\u0e32\\u0e1e\\u0e23\\u0e38\", \"boxmean\": true}, {\"y\": [53.0, 38.0, 27.0, 151.85], \"type\": \"box\", \"name\": \"\\u0e1b\\u0e32\\u0e01\\u0e19\\u0e04\\u0e23\", \"boxmean\": true}, {\"y\": [72.5], \"type\": \"box\", \"name\": \"\\u0e2a\\u0e34\\u0e0a\\u0e25\", \"boxmean\": true}, {\"y\": [27.5, 20.0, 32.5], \"type\": \"box\", \"name\": \"\\u0e19\\u0e32\\u0e2b\\u0e21\\u0e2d\\u0e1a\\u0e38\\u0e0d\", \"boxmean\": true}, {\"y\": [7.41, 17.5], \"type\": \"box\", \"name\": \"\\u0e42\\u0e1e\\u0e18\\u0e34\\u0e4c\\u0e40\\u0e2a\\u0e14\\u0e47\\u0e08\", \"boxmean\": true}, {\"y\": [68.0, 22.5], \"type\": \"box\", \"name\": \"\\u0e19\\u0e32\\u0e1a\\u0e2d\\u0e19\", \"boxmean\": true}, {\"y\": [75.0, 39.47, 75.86, 84.21, 54.0], \"type\": \"box\", \"name\": \"\\u0e17\\u0e48\\u0e32\\u0e0b\\u0e31\\u0e01\", \"boxmean\": true}, {\"y\": [110.81, 202.04, 16.0, 21.0, 42.5], \"type\": \"box\", \"name\": \"\\u0e19\\u0e32\\u0e2a\\u0e32\\u0e23\", \"boxmean\": true}, {\"y\": [150.0], \"type\": \"box\", \"name\": \"\\u0e1a\\u0e32\\u0e07\\u0e23\\u0e39\\u0e1b\", \"boxmean\": true}, {\"y\": [32.5, 20.0, 12.5, 2.5, 2.5, 7.5, 7.5, 10.0, 7.5], \"type\": \"box\", \"name\": \"\\u0e27\\u0e31\\u0e07\\u0e2b\\u0e34\\u0e19\", \"boxmean\": true}, {\"y\": [10.0, 7.0, 6.0, 68.0], \"type\": \"box\", \"name\": \"\\u0e17\\u0e48\\u0e32\\u0e44\\u0e23\\u0e48\", \"boxmean\": true}, {\"y\": [42.5, 30.88, 6.67], \"type\": \"box\", \"name\": \"\\u0e0a\\u0e30\\u0e21\\u0e32\\u0e22\", \"boxmean\": true}, {\"y\": [33.33], \"type\": \"box\", \"name\": \"\\u0e22\\u0e32\\u0e07\\u0e04\\u0e49\\u0e2d\\u0e21\", \"boxmean\": true}, {\"y\": [20.0, 6.0, 27.0, 27.0], \"type\": \"box\", \"name\": \"\\u0e16\\u0e49\\u0e33\\u0e1e\\u0e23\\u0e23\\u0e13\\u0e23\\u0e32\", \"boxmean\": true}, {\"y\": [7.14], \"type\": \"box\", \"name\": \"\\u0e44\\u0e2a\\u0e2b\\u0e23\\u0e49\\u0e32\", \"boxmean\": true}, {\"y\": [255.26], \"type\": \"box\", \"name\": \"\\u0e42\\u0e1e\\u0e18\\u0e34\\u0e4c\\u0e17\\u0e2d\\u0e07\", \"boxmean\": true}, {\"y\": [30.0, 5.0, 2.5, 20.0], \"type\": \"box\", \"name\": \"\\u0e2a\\u0e35\\u0e48\\u0e02\\u0e35\\u0e14\", \"boxmean\": true}, {\"y\": [66.67, 10.0], \"type\": \"box\", \"name\": \"\\u0e01\\u0e23\\u0e38\\u0e07\\u0e0a\\u0e34\\u0e07\", \"boxmean\": true}, {\"y\": [4.0, 5.0, 17.5, 12.5], \"type\": \"box\", \"name\": \"\\u0e19\\u0e32\\u0e40\\u0e02\\u0e25\\u0e35\\u0e22\\u0e07\", \"boxmean\": true}, {\"y\": [1.0], \"type\": \"box\", \"name\": \"\\u0e40\\u0e0a\\u0e35\\u0e22\\u0e23\\u0e40\\u0e02\\u0e32\", \"boxmean\": true}, {\"y\": [45.0, 6.0], \"type\": \"box\", \"name\": \"\\u0e14\\u0e2d\\u0e19\\u0e15\\u0e23\\u0e2d\", \"boxmean\": true}, {\"y\": [19.0, 7.0, 10.0, 10.0], \"type\": \"box\", \"name\": \"\\u0e17\\u0e32\\u0e07\\u0e1e\\u0e39\\u0e19\", \"boxmean\": true}, {\"y\": [56.0, 14.0, 33.33], \"type\": \"box\", \"name\": \"\\u0e44\\u0e17\\u0e22\\u0e1a\\u0e38\\u0e23\\u0e35\", \"boxmean\": true}, {\"y\": [1.0, 10.0, 30.0], \"type\": \"box\", \"name\": \"\\u0e17\\u0e48\\u0e32\\u0e14\\u0e35\", \"boxmean\": true}, {\"y\": [2.0, 9.0], \"type\": \"box\", \"name\": \"\\u0e40\\u0e02\\u0e32\\u0e41\\u0e01\\u0e49\\u0e27\", \"boxmean\": true}, {\"y\": [6.0, 6.0, 32.5, 107.5], \"type\": \"box\", \"name\": \"\\u0e02\\u0e38\\u0e19\\u0e17\\u0e30\\u0e40\\u0e25\", \"boxmean\": true}, {\"y\": [14.0, 7.0], \"type\": \"box\", \"name\": \"\\u0e04\\u0e27\\u0e19\\u0e1e\\u0e31\\u0e07\", \"boxmean\": true}, {\"y\": [24.0, 17.0, 57.5], \"type\": \"box\", \"name\": \"\\u0e21\\u0e30\\u0e21\\u0e48\\u0e27\\u0e07\\u0e2a\\u0e2d\\u0e07\\u0e15\\u0e49\\u0e19\", \"boxmean\": true}, {\"y\": [72.0, 29.0, 21.0, 9.0], \"type\": \"box\", \"name\": \"\\u0e2a\\u0e23\\u0e30\\u0e41\\u0e01\\u0e49\\u0e27\", \"boxmean\": true}, {\"y\": [13.0, 15.0, 42.0, 38.0], \"type\": \"box\", \"name\": \"\\u0e19\\u0e32\\u0e40\\u0e04\\u0e35\\u0e22\\u0e19\", \"boxmean\": true}, {\"y\": [115.0, 37.0], \"type\": \"box\", \"name\": \"\\u0e17\\u0e49\\u0e32\\u0e22\\u0e2a\\u0e33\\u0e40\\u0e20\\u0e32\", \"boxmean\": true}, {\"y\": [5.0, 7.0], \"type\": \"box\", \"name\": \"\\u0e1a\\u0e32\\u0e07\\u0e08\\u0e32\\u0e01\", \"boxmean\": true}, {\"y\": [13.0, 65.0, 36.0, 62.5, 17.5], \"type\": \"box\", \"name\": \"\\u0e40\\u0e02\\u0e32\\u0e42\\u0e23\", \"boxmean\": true}, {\"y\": [4.0], \"type\": \"box\", \"name\": \"\\u0e14\\u0e2d\\u0e19\\u0e15\\u0e30\\u0e42\\u0e01\", \"boxmean\": true}, {\"y\": [4.0, 62.0, 6.0, 20.0, 22.5, 23.75, 27.5, 42.5, 42.5, 41.25, 35.0, 37.5, 45.0, 36.25], \"type\": \"box\", \"name\": \"\\u0e2b\\u0e34\\u0e19\\u0e15\\u0e01\", \"boxmean\": true}, {\"y\": [10.0], \"type\": \"box\", \"name\": \"\\u0e04\\u0e27\\u0e19\\u0e0a\\u0e38\\u0e21\", \"boxmean\": true}, {\"y\": [17.5, 23.0, 27.5, 15.0, 21.25], \"type\": \"box\", \"name\": \"\\u0e40\\u0e02\\u0e32\\u0e1e\\u0e23\\u0e30\", \"boxmean\": true}, {\"y\": [50.0, 35.0, 32.0], \"type\": \"box\", \"name\": \"\\u0e17\\u0e2d\\u0e19\\u0e2b\\u0e07\\u0e2a\\u0e4c\", \"boxmean\": true}, {\"y\": [40.0, 27.0, 28.0, 67.5, 60.0], \"type\": \"box\", \"name\": \"\\u0e19\\u0e1a\\u0e1e\\u0e34\\u0e15\\u0e33\", \"boxmean\": true}, {\"y\": [20.0], \"type\": \"box\", \"name\": \"\\u0e17\\u0e48\\u0e32\\u0e02\\u0e36\\u0e49\\u0e19\", \"boxmean\": true}, {\"y\": [15.0, 5.0], \"type\": \"box\", \"name\": \"\\u0e02\\u0e19\\u0e2d\\u0e21\", \"boxmean\": true}, {\"y\": [26.0, 7.0, 55.0, 45.0], \"type\": \"box\", \"name\": \"\\u0e17\\u0e38\\u0e48\\u0e07\\u0e1b\\u0e23\\u0e31\\u0e07\", \"boxmean\": true}, {\"y\": [136.0, 8.0], \"type\": \"box\", \"name\": \"\\u0e2b\\u0e19\\u0e49\\u0e32\\u0e2a\\u0e15\\u0e19\", \"boxmean\": true}, {\"y\": [16.13, 12.5, 10.0, 17.5, 12.5, 20.0, 17.5, 15.0, 15.0, 12.5, 12.5, 10.0, 7.5, 10.0, 11.25, 17.5, 20.0, 10.0, 10.0, 10.0, 15.0, 12.5, 7.5, 12.5, 17.5, 10.0, 9.9, 15.0, 12.5, 17.5, 12.5, 12.9, 10.0, 10.0, 15.0, 7.5, 10.0, 11.25, 10.0, 15.0, 10.0, 15.0, 10.0, 22.5, 12.5, 17.5, 12.5, 12.5, 15.0, 15.0, 13.89, 23.81, 12.2, 31.25, 15.0, 15.0, 17.5, 11.25, 9.01, 15.0, 23.81, 13.89, 10.0, 10.0, 15.0, 17.5, 12.5, 16.0, 15.5], \"type\": \"box\", \"name\": \"\\u0e01\\u0e23\\u0e38\\u0e07\\u0e2b\\u0e22\\u0e31\\u0e19\", \"boxmean\": true}, {\"y\": [20.0, 22.5, 12.5, 10.0, 15.0, 17.5, 15.0, 15.0, 12.5, 15.0, 8.75, 7.5, 15.0, 22.5, 30.0, 17.5, 22.5, 12.5, 20.0, 15.0, 15.0, 30.0, 22.5, 20.0, 12.5, 15.0, 20.0, 14.17, 36.25, 28.75, 26.0, 22.5], \"type\": \"box\", \"name\": \"\\u0e01\\u0e38\\u0e41\\u0e2b\\u0e23\\u0e30\", \"boxmean\": true}, {\"y\": [15.0], \"type\": \"box\", \"name\": \"\\u0e17\\u0e49\\u0e2d\\u0e07\\u0e25\\u0e33\\u0e40\\u0e08\\u0e35\\u0e22\\u0e01\", \"boxmean\": true}, {\"y\": [57.5], \"type\": \"box\", \"name\": \"\\u0e01\\u0e33\\u0e41\\u0e1e\\u0e07\\u0e40\\u0e0b\\u0e32\", \"boxmean\": true}, {\"y\": [12.5], \"type\": \"box\", \"name\": \"\\u0e17\\u0e38\\u0e48\\u0e07\\u0e2a\\u0e31\\u0e07\", \"boxmean\": true}, {\"y\": [29.17, 26.67, 26.25, 20.83, 20.0, 17.5, 18.75, 15.0, 11.25, 8.75, 20.83, 20.0, 18.75], \"type\": \"box\", \"name\": \"\\u0e01\\u0e30\\u0e17\\u0e39\\u0e19\", \"boxmean\": true}, {\"y\": [32.5], \"type\": \"box\", \"name\": \"\\u0e01\\u0e32\\u0e23\\u0e30\\u0e40\\u0e01\\u0e14\", \"boxmean\": true}, {\"y\": [12.5], \"type\": \"box\", \"name\": \"\\u0e41\\u0e2b\\u0e25\\u0e21\", \"boxmean\": true}, {\"y\": [50.0], \"type\": \"box\", \"name\": \"\\u0e40\\u0e2a\\u0e32\\u0e40\\u0e20\\u0e32\", \"boxmean\": true}, {\"y\": [53.33], \"type\": \"box\", \"name\": \"\\u0e44\\u0e0a\\u0e22\\u0e21\\u0e19\\u0e15\\u0e23\\u0e35\", \"boxmean\": true}, {\"y\": [37.5], \"type\": \"box\", \"name\": \"\\u0e02\\u0e2d\\u0e19\\u0e2b\\u0e32\\u0e14\", \"boxmean\": true}, {\"y\": [73.33, 100.0, 22.5, 85.0, 30.0], \"type\": \"box\", \"name\": \"\\u0e41\\u0e01\\u0e49\\u0e27\\u0e41\\u0e2a\\u0e19\", \"boxmean\": true}, {\"y\": [45.0], \"type\": \"box\", \"name\": \"\\u0e2a\\u0e32\\u0e21\\u0e15\\u0e33\\u0e1a\\u0e25\", \"boxmean\": true}, {\"y\": [40.0], \"type\": \"box\", \"name\": \"\\u0e19\\u0e32\\u0e07\\u0e2b\\u0e25\\u0e07\", \"boxmean\": true}, {\"y\": [52.5, 52.5, 92.5, 32.5, 35.0, 42.5], \"type\": \"box\", \"name\": \"\\u0e19\\u0e32\\u0e42\\u0e1e\\u0e18\\u0e34\\u0e4c\", \"boxmean\": true}, {\"y\": [52.5, 47.5], \"type\": \"box\", \"name\": \"\\u0e2d\\u0e34\\u0e19\\u0e04\\u0e35\\u0e23\\u0e35\", \"boxmean\": true}], {\"yaxis\": {\"title\": \"Frequency\"}, \"xaxis\": {\"title\": \"Year\"}, \"height\": 600, \"title\": \"Box Plot Styling Standard Deviation\"}, {\"linkText\": \"Export to plot.ly\", \"showLink\": true})});</script>"
      ]
     },
     "metadata": {},
     "output_type": "display_data"
    }
   ],
   "source": [
    "data = []\n",
    "subdist_list = df['subdist'].unique()\n",
    "for subdist in subdist_list:\n",
    "    tmp = df.loc[df['subdist'] == subdist].copy()\n",
    "#     print(tmp['bi'])\n",
    "    trace = go.Box(\n",
    "        y=tmp['bi'].values,\n",
    "        name=subdist,\n",
    "        boxmean=True,\n",
    "#         boxpoints='all',\n",
    "#         jitter=0.5,\n",
    "    )\n",
    "    data.append(trace)\n",
    "    \n",
    "layout = go.Layout(\n",
    "    title='Box Plot Styling Standard Deviation',\n",
    "    height=600,\n",
    "#     width=1700,\n",
    "    yaxis= dict(title='Frequency'),\n",
    "    xaxis= dict(title='Year')\n",
    ")\n",
    "fig = go.Figure(data=data, layout=layout)\n",
    "iplot(fig)"
   ]
  },
  {
   "cell_type": "code",
   "execution_count": 6,
   "metadata": {},
   "outputs": [
    {
     "data": {
      "application/vnd.plotly.v1+json": {
       "data": [
        {
         "marker": {
          "color": "rgb(158,202,225)",
          "line": {
           "color": "rgb(8,48,107)",
           "width": 1.5
          }
         },
         "opacity": 0.8,
         "text": [
          6,
          36,
          4,
          14,
          22,
          35,
          63,
          45,
          35,
          3,
          1,
          31,
          28,
          49,
          1,
          1,
          2,
          15,
          32,
          21,
          3,
          8,
          11,
          3,
          3,
          6,
          7,
          6,
          2,
          4,
          1,
          3,
          3,
          6,
          2,
          2,
          11,
          9,
          18,
          6,
          2,
          2,
          20,
          1,
          3,
          4,
          11,
          4,
          1,
          3,
          2,
          2,
          5,
          5,
          1,
          9,
          4,
          3,
          1,
          4,
          1,
          1,
          4,
          2,
          4,
          1,
          2,
          4,
          3,
          3,
          2,
          4,
          2,
          3,
          4,
          4,
          2,
          2,
          5,
          1,
          14,
          1,
          5,
          3,
          5,
          1,
          2,
          4,
          2,
          69,
          32,
          1,
          1,
          1,
          13,
          1,
          1,
          1,
          1,
          1,
          5,
          1,
          1,
          6,
          2
         ],
         "textposition": "auto",
         "type": "bar",
         "uid": "900e44",
         "x": [
          "นาหลวงเสน",
          "นาแว",
          "นาไม้ไผ่",
          "เขาขาว",
          "ที่วัง",
          "เขาพระทอง",
          "บางขัน",
          "วังอ่าง",
          "เกาะขันธ์",
          "กะเปียด",
          "ท่าเสม็ด",
          "บ้านตูล",
          "บ้านนิคม",
          "บ้านลำนาว",
          "จันดี",
          "ฉวาง",
          "ไม้เรียง",
          "ห้วยปริก",
          "ควนหนองหงษ์",
          "ท่าประจะ",
          "หนองหงส์",
          "ท่ายาง",
          "ช้างซ้าย",
          "พิปูน",
          "ปากพูน",
          "ถ้ำใหญ่",
          "น้ำตก",
          "ควนกรด",
          "ชะอวด",
          "สวนหลวง",
          "ปากพนังฝั่งตะวันตก",
          "ควนทอง",
          "พรหมโลก",
          "ท่าศาลา",
          "ร่อนพิบูลย์",
          "หัวไทร",
          "กำโลน",
          "ทุ่งใส",
          "ทุ่งโพธิ์",
          "ช้างกลาง",
          "แม่เจ้าอยู่หัว",
          "ทุ่งสง",
          "ปริก",
          "ปากแพรก",
          "ดุสิต",
          "ท้องเนียน",
          "นาพรุ",
          "ปากนคร",
          "สิชล",
          "นาหมอบุญ",
          "โพธิ์เสด็จ",
          "นาบอน",
          "ท่าซัก",
          "นาสาร",
          "บางรูป",
          "วังหิน",
          "ท่าไร่",
          "ชะมาย",
          "ยางค้อม",
          "ถ้ำพรรณรา",
          "ไสหร้า",
          "โพธิ์ทอง",
          "สี่ขีด",
          "กรุงชิง",
          "นาเขลียง",
          "เชียรเขา",
          "ดอนตรอ",
          "ทางพูน",
          "ไทยบุรี",
          "ท่าดี",
          "เขาแก้ว",
          "ขุนทะเล",
          "ควนพัง",
          "มะม่วงสองต้น",
          "สระแก้ว",
          "นาเคียน",
          "ท้ายสำเภา",
          "บางจาก",
          "เขาโร",
          "ดอนตะโก",
          "หินตก",
          "ควนชุม",
          "เขาพระ",
          "ทอนหงส์",
          "นบพิตำ",
          "ท่าขึ้น",
          "ขนอม",
          "ทุ่งปรัง",
          "หน้าสตน",
          "กรุงหยัน",
          "กุแหระ",
          "ท้องลำเจียก",
          "กำแพงเซา",
          "ทุ่งสัง",
          "กะทูน",
          "การะเกด",
          "แหลม",
          "เสาเภา",
          "ไชยมนตรี",
          "ขอนหาด",
          "แก้วแสน",
          "สามตำบล",
          "นางหลง",
          "นาโพธิ์",
          "อินคีรี"
         ],
         "y": [
          6,
          36,
          4,
          14,
          22,
          35,
          63,
          45,
          35,
          3,
          1,
          31,
          28,
          49,
          1,
          1,
          2,
          15,
          32,
          21,
          3,
          8,
          11,
          3,
          3,
          6,
          7,
          6,
          2,
          4,
          1,
          3,
          3,
          6,
          2,
          2,
          11,
          9,
          18,
          6,
          2,
          2,
          20,
          1,
          3,
          4,
          11,
          4,
          1,
          3,
          2,
          2,
          5,
          5,
          1,
          9,
          4,
          3,
          1,
          4,
          1,
          1,
          4,
          2,
          4,
          1,
          2,
          4,
          3,
          3,
          2,
          4,
          2,
          3,
          4,
          4,
          2,
          2,
          5,
          1,
          14,
          1,
          5,
          3,
          5,
          1,
          2,
          4,
          2,
          69,
          32,
          1,
          1,
          1,
          13,
          1,
          1,
          1,
          1,
          1,
          5,
          1,
          1,
          6,
          2
         ]
        }
       ],
       "layout": {
        "height": 550,
        "title": "Data Points for each Subdistrict",
        "width": 1700,
        "xaxis": {
         "autorange": true,
         "range": [
          -0.5,
          104.5
         ],
         "title": "Year",
         "type": "category"
        },
        "yaxis": {
         "autorange": true,
         "range": [
          0,
          72.63157894736842
         ],
         "title": "Frequency",
         "type": "linear"
        }
       }
      },
      "text/html": [
       "<div id=\"74bfadb6-0d08-41bc-9ac4-4b93da69249a\" style=\"height: 550px; width: 1700px;\" class=\"plotly-graph-div\"></div><script type=\"text/javascript\">require([\"plotly\"], function(Plotly) { window.PLOTLYENV=window.PLOTLYENV || {};window.PLOTLYENV.BASE_URL=\"https://plot.ly\";Plotly.newPlot(\"74bfadb6-0d08-41bc-9ac4-4b93da69249a\", [{\"textposition\": \"auto\", \"y\": [6, 36, 4, 14, 22, 35, 63, 45, 35, 3, 1, 31, 28, 49, 1, 1, 2, 15, 32, 21, 3, 8, 11, 3, 3, 6, 7, 6, 2, 4, 1, 3, 3, 6, 2, 2, 11, 9, 18, 6, 2, 2, 20, 1, 3, 4, 11, 4, 1, 3, 2, 2, 5, 5, 1, 9, 4, 3, 1, 4, 1, 1, 4, 2, 4, 1, 2, 4, 3, 3, 2, 4, 2, 3, 4, 4, 2, 2, 5, 1, 14, 1, 5, 3, 5, 1, 2, 4, 2, 69, 32, 1, 1, 1, 13, 1, 1, 1, 1, 1, 5, 1, 1, 6, 2], \"opacity\": 0.8, \"marker\": {\"line\": {\"width\": 1.5, \"color\": \"rgb(8,48,107)\"}, \"color\": \"rgb(158,202,225)\"}, \"text\": [6, 36, 4, 14, 22, 35, 63, 45, 35, 3, 1, 31, 28, 49, 1, 1, 2, 15, 32, 21, 3, 8, 11, 3, 3, 6, 7, 6, 2, 4, 1, 3, 3, 6, 2, 2, 11, 9, 18, 6, 2, 2, 20, 1, 3, 4, 11, 4, 1, 3, 2, 2, 5, 5, 1, 9, 4, 3, 1, 4, 1, 1, 4, 2, 4, 1, 2, 4, 3, 3, 2, 4, 2, 3, 4, 4, 2, 2, 5, 1, 14, 1, 5, 3, 5, 1, 2, 4, 2, 69, 32, 1, 1, 1, 13, 1, 1, 1, 1, 1, 5, 1, 1, 6, 2], \"x\": [\"\\u0e19\\u0e32\\u0e2b\\u0e25\\u0e27\\u0e07\\u0e40\\u0e2a\\u0e19\", \"\\u0e19\\u0e32\\u0e41\\u0e27\", \"\\u0e19\\u0e32\\u0e44\\u0e21\\u0e49\\u0e44\\u0e1c\\u0e48\", \"\\u0e40\\u0e02\\u0e32\\u0e02\\u0e32\\u0e27\", \"\\u0e17\\u0e35\\u0e48\\u0e27\\u0e31\\u0e07\", \"\\u0e40\\u0e02\\u0e32\\u0e1e\\u0e23\\u0e30\\u0e17\\u0e2d\\u0e07\", \"\\u0e1a\\u0e32\\u0e07\\u0e02\\u0e31\\u0e19\", \"\\u0e27\\u0e31\\u0e07\\u0e2d\\u0e48\\u0e32\\u0e07\", \"\\u0e40\\u0e01\\u0e32\\u0e30\\u0e02\\u0e31\\u0e19\\u0e18\\u0e4c\", \"\\u0e01\\u0e30\\u0e40\\u0e1b\\u0e35\\u0e22\\u0e14\", \"\\u0e17\\u0e48\\u0e32\\u0e40\\u0e2a\\u0e21\\u0e47\\u0e14\", \"\\u0e1a\\u0e49\\u0e32\\u0e19\\u0e15\\u0e39\\u0e25\", \"\\u0e1a\\u0e49\\u0e32\\u0e19\\u0e19\\u0e34\\u0e04\\u0e21\", \"\\u0e1a\\u0e49\\u0e32\\u0e19\\u0e25\\u0e33\\u0e19\\u0e32\\u0e27\", \"\\u0e08\\u0e31\\u0e19\\u0e14\\u0e35\", \"\\u0e09\\u0e27\\u0e32\\u0e07\", \"\\u0e44\\u0e21\\u0e49\\u0e40\\u0e23\\u0e35\\u0e22\\u0e07\", \"\\u0e2b\\u0e49\\u0e27\\u0e22\\u0e1b\\u0e23\\u0e34\\u0e01\", \"\\u0e04\\u0e27\\u0e19\\u0e2b\\u0e19\\u0e2d\\u0e07\\u0e2b\\u0e07\\u0e29\\u0e4c\", \"\\u0e17\\u0e48\\u0e32\\u0e1b\\u0e23\\u0e30\\u0e08\\u0e30\", \"\\u0e2b\\u0e19\\u0e2d\\u0e07\\u0e2b\\u0e07\\u0e2a\\u0e4c\", \"\\u0e17\\u0e48\\u0e32\\u0e22\\u0e32\\u0e07\", \"\\u0e0a\\u0e49\\u0e32\\u0e07\\u0e0b\\u0e49\\u0e32\\u0e22\", \"\\u0e1e\\u0e34\\u0e1b\\u0e39\\u0e19\", \"\\u0e1b\\u0e32\\u0e01\\u0e1e\\u0e39\\u0e19\", \"\\u0e16\\u0e49\\u0e33\\u0e43\\u0e2b\\u0e0d\\u0e48\", \"\\u0e19\\u0e49\\u0e33\\u0e15\\u0e01\", \"\\u0e04\\u0e27\\u0e19\\u0e01\\u0e23\\u0e14\", \"\\u0e0a\\u0e30\\u0e2d\\u0e27\\u0e14\", \"\\u0e2a\\u0e27\\u0e19\\u0e2b\\u0e25\\u0e27\\u0e07\", \"\\u0e1b\\u0e32\\u0e01\\u0e1e\\u0e19\\u0e31\\u0e07\\u0e1d\\u0e31\\u0e48\\u0e07\\u0e15\\u0e30\\u0e27\\u0e31\\u0e19\\u0e15\\u0e01\", \"\\u0e04\\u0e27\\u0e19\\u0e17\\u0e2d\\u0e07\", \"\\u0e1e\\u0e23\\u0e2b\\u0e21\\u0e42\\u0e25\\u0e01\", \"\\u0e17\\u0e48\\u0e32\\u0e28\\u0e32\\u0e25\\u0e32\", \"\\u0e23\\u0e48\\u0e2d\\u0e19\\u0e1e\\u0e34\\u0e1a\\u0e39\\u0e25\\u0e22\\u0e4c\", \"\\u0e2b\\u0e31\\u0e27\\u0e44\\u0e17\\u0e23\", \"\\u0e01\\u0e33\\u0e42\\u0e25\\u0e19\", \"\\u0e17\\u0e38\\u0e48\\u0e07\\u0e43\\u0e2a\", \"\\u0e17\\u0e38\\u0e48\\u0e07\\u0e42\\u0e1e\\u0e18\\u0e34\\u0e4c\", \"\\u0e0a\\u0e49\\u0e32\\u0e07\\u0e01\\u0e25\\u0e32\\u0e07\", \"\\u0e41\\u0e21\\u0e48\\u0e40\\u0e08\\u0e49\\u0e32\\u0e2d\\u0e22\\u0e39\\u0e48\\u0e2b\\u0e31\\u0e27\", \"\\u0e17\\u0e38\\u0e48\\u0e07\\u0e2a\\u0e07\", \"\\u0e1b\\u0e23\\u0e34\\u0e01\", \"\\u0e1b\\u0e32\\u0e01\\u0e41\\u0e1e\\u0e23\\u0e01\", \"\\u0e14\\u0e38\\u0e2a\\u0e34\\u0e15\", \"\\u0e17\\u0e49\\u0e2d\\u0e07\\u0e40\\u0e19\\u0e35\\u0e22\\u0e19\", \"\\u0e19\\u0e32\\u0e1e\\u0e23\\u0e38\", \"\\u0e1b\\u0e32\\u0e01\\u0e19\\u0e04\\u0e23\", \"\\u0e2a\\u0e34\\u0e0a\\u0e25\", \"\\u0e19\\u0e32\\u0e2b\\u0e21\\u0e2d\\u0e1a\\u0e38\\u0e0d\", \"\\u0e42\\u0e1e\\u0e18\\u0e34\\u0e4c\\u0e40\\u0e2a\\u0e14\\u0e47\\u0e08\", \"\\u0e19\\u0e32\\u0e1a\\u0e2d\\u0e19\", \"\\u0e17\\u0e48\\u0e32\\u0e0b\\u0e31\\u0e01\", \"\\u0e19\\u0e32\\u0e2a\\u0e32\\u0e23\", \"\\u0e1a\\u0e32\\u0e07\\u0e23\\u0e39\\u0e1b\", \"\\u0e27\\u0e31\\u0e07\\u0e2b\\u0e34\\u0e19\", \"\\u0e17\\u0e48\\u0e32\\u0e44\\u0e23\\u0e48\", \"\\u0e0a\\u0e30\\u0e21\\u0e32\\u0e22\", \"\\u0e22\\u0e32\\u0e07\\u0e04\\u0e49\\u0e2d\\u0e21\", \"\\u0e16\\u0e49\\u0e33\\u0e1e\\u0e23\\u0e23\\u0e13\\u0e23\\u0e32\", \"\\u0e44\\u0e2a\\u0e2b\\u0e23\\u0e49\\u0e32\", \"\\u0e42\\u0e1e\\u0e18\\u0e34\\u0e4c\\u0e17\\u0e2d\\u0e07\", \"\\u0e2a\\u0e35\\u0e48\\u0e02\\u0e35\\u0e14\", \"\\u0e01\\u0e23\\u0e38\\u0e07\\u0e0a\\u0e34\\u0e07\", \"\\u0e19\\u0e32\\u0e40\\u0e02\\u0e25\\u0e35\\u0e22\\u0e07\", \"\\u0e40\\u0e0a\\u0e35\\u0e22\\u0e23\\u0e40\\u0e02\\u0e32\", \"\\u0e14\\u0e2d\\u0e19\\u0e15\\u0e23\\u0e2d\", \"\\u0e17\\u0e32\\u0e07\\u0e1e\\u0e39\\u0e19\", \"\\u0e44\\u0e17\\u0e22\\u0e1a\\u0e38\\u0e23\\u0e35\", \"\\u0e17\\u0e48\\u0e32\\u0e14\\u0e35\", \"\\u0e40\\u0e02\\u0e32\\u0e41\\u0e01\\u0e49\\u0e27\", \"\\u0e02\\u0e38\\u0e19\\u0e17\\u0e30\\u0e40\\u0e25\", \"\\u0e04\\u0e27\\u0e19\\u0e1e\\u0e31\\u0e07\", \"\\u0e21\\u0e30\\u0e21\\u0e48\\u0e27\\u0e07\\u0e2a\\u0e2d\\u0e07\\u0e15\\u0e49\\u0e19\", \"\\u0e2a\\u0e23\\u0e30\\u0e41\\u0e01\\u0e49\\u0e27\", \"\\u0e19\\u0e32\\u0e40\\u0e04\\u0e35\\u0e22\\u0e19\", \"\\u0e17\\u0e49\\u0e32\\u0e22\\u0e2a\\u0e33\\u0e40\\u0e20\\u0e32\", \"\\u0e1a\\u0e32\\u0e07\\u0e08\\u0e32\\u0e01\", \"\\u0e40\\u0e02\\u0e32\\u0e42\\u0e23\", \"\\u0e14\\u0e2d\\u0e19\\u0e15\\u0e30\\u0e42\\u0e01\", \"\\u0e2b\\u0e34\\u0e19\\u0e15\\u0e01\", \"\\u0e04\\u0e27\\u0e19\\u0e0a\\u0e38\\u0e21\", \"\\u0e40\\u0e02\\u0e32\\u0e1e\\u0e23\\u0e30\", \"\\u0e17\\u0e2d\\u0e19\\u0e2b\\u0e07\\u0e2a\\u0e4c\", \"\\u0e19\\u0e1a\\u0e1e\\u0e34\\u0e15\\u0e33\", \"\\u0e17\\u0e48\\u0e32\\u0e02\\u0e36\\u0e49\\u0e19\", \"\\u0e02\\u0e19\\u0e2d\\u0e21\", \"\\u0e17\\u0e38\\u0e48\\u0e07\\u0e1b\\u0e23\\u0e31\\u0e07\", \"\\u0e2b\\u0e19\\u0e49\\u0e32\\u0e2a\\u0e15\\u0e19\", \"\\u0e01\\u0e23\\u0e38\\u0e07\\u0e2b\\u0e22\\u0e31\\u0e19\", \"\\u0e01\\u0e38\\u0e41\\u0e2b\\u0e23\\u0e30\", \"\\u0e17\\u0e49\\u0e2d\\u0e07\\u0e25\\u0e33\\u0e40\\u0e08\\u0e35\\u0e22\\u0e01\", \"\\u0e01\\u0e33\\u0e41\\u0e1e\\u0e07\\u0e40\\u0e0b\\u0e32\", \"\\u0e17\\u0e38\\u0e48\\u0e07\\u0e2a\\u0e31\\u0e07\", \"\\u0e01\\u0e30\\u0e17\\u0e39\\u0e19\", \"\\u0e01\\u0e32\\u0e23\\u0e30\\u0e40\\u0e01\\u0e14\", \"\\u0e41\\u0e2b\\u0e25\\u0e21\", \"\\u0e40\\u0e2a\\u0e32\\u0e40\\u0e20\\u0e32\", \"\\u0e44\\u0e0a\\u0e22\\u0e21\\u0e19\\u0e15\\u0e23\\u0e35\", \"\\u0e02\\u0e2d\\u0e19\\u0e2b\\u0e32\\u0e14\", \"\\u0e41\\u0e01\\u0e49\\u0e27\\u0e41\\u0e2a\\u0e19\", \"\\u0e2a\\u0e32\\u0e21\\u0e15\\u0e33\\u0e1a\\u0e25\", \"\\u0e19\\u0e32\\u0e07\\u0e2b\\u0e25\\u0e07\", \"\\u0e19\\u0e32\\u0e42\\u0e1e\\u0e18\\u0e34\\u0e4c\", \"\\u0e2d\\u0e34\\u0e19\\u0e04\\u0e35\\u0e23\\u0e35\"], \"type\": \"bar\"}], {\"yaxis\": {\"title\": \"Frequency\"}, \"xaxis\": {\"title\": \"Year\"}, \"height\": 550, \"title\": \"Data Points for each Subdistrict\", \"width\": 1700}, {\"linkText\": \"Export to plot.ly\", \"showLink\": true})});</script>"
      ],
      "text/vnd.plotly.v1+html": [
       "<div id=\"74bfadb6-0d08-41bc-9ac4-4b93da69249a\" style=\"height: 550px; width: 1700px;\" class=\"plotly-graph-div\"></div><script type=\"text/javascript\">require([\"plotly\"], function(Plotly) { window.PLOTLYENV=window.PLOTLYENV || {};window.PLOTLYENV.BASE_URL=\"https://plot.ly\";Plotly.newPlot(\"74bfadb6-0d08-41bc-9ac4-4b93da69249a\", [{\"textposition\": \"auto\", \"y\": [6, 36, 4, 14, 22, 35, 63, 45, 35, 3, 1, 31, 28, 49, 1, 1, 2, 15, 32, 21, 3, 8, 11, 3, 3, 6, 7, 6, 2, 4, 1, 3, 3, 6, 2, 2, 11, 9, 18, 6, 2, 2, 20, 1, 3, 4, 11, 4, 1, 3, 2, 2, 5, 5, 1, 9, 4, 3, 1, 4, 1, 1, 4, 2, 4, 1, 2, 4, 3, 3, 2, 4, 2, 3, 4, 4, 2, 2, 5, 1, 14, 1, 5, 3, 5, 1, 2, 4, 2, 69, 32, 1, 1, 1, 13, 1, 1, 1, 1, 1, 5, 1, 1, 6, 2], \"opacity\": 0.8, \"marker\": {\"line\": {\"width\": 1.5, \"color\": \"rgb(8,48,107)\"}, \"color\": \"rgb(158,202,225)\"}, \"text\": [6, 36, 4, 14, 22, 35, 63, 45, 35, 3, 1, 31, 28, 49, 1, 1, 2, 15, 32, 21, 3, 8, 11, 3, 3, 6, 7, 6, 2, 4, 1, 3, 3, 6, 2, 2, 11, 9, 18, 6, 2, 2, 20, 1, 3, 4, 11, 4, 1, 3, 2, 2, 5, 5, 1, 9, 4, 3, 1, 4, 1, 1, 4, 2, 4, 1, 2, 4, 3, 3, 2, 4, 2, 3, 4, 4, 2, 2, 5, 1, 14, 1, 5, 3, 5, 1, 2, 4, 2, 69, 32, 1, 1, 1, 13, 1, 1, 1, 1, 1, 5, 1, 1, 6, 2], \"x\": [\"\\u0e19\\u0e32\\u0e2b\\u0e25\\u0e27\\u0e07\\u0e40\\u0e2a\\u0e19\", \"\\u0e19\\u0e32\\u0e41\\u0e27\", \"\\u0e19\\u0e32\\u0e44\\u0e21\\u0e49\\u0e44\\u0e1c\\u0e48\", \"\\u0e40\\u0e02\\u0e32\\u0e02\\u0e32\\u0e27\", \"\\u0e17\\u0e35\\u0e48\\u0e27\\u0e31\\u0e07\", \"\\u0e40\\u0e02\\u0e32\\u0e1e\\u0e23\\u0e30\\u0e17\\u0e2d\\u0e07\", \"\\u0e1a\\u0e32\\u0e07\\u0e02\\u0e31\\u0e19\", \"\\u0e27\\u0e31\\u0e07\\u0e2d\\u0e48\\u0e32\\u0e07\", \"\\u0e40\\u0e01\\u0e32\\u0e30\\u0e02\\u0e31\\u0e19\\u0e18\\u0e4c\", \"\\u0e01\\u0e30\\u0e40\\u0e1b\\u0e35\\u0e22\\u0e14\", \"\\u0e17\\u0e48\\u0e32\\u0e40\\u0e2a\\u0e21\\u0e47\\u0e14\", \"\\u0e1a\\u0e49\\u0e32\\u0e19\\u0e15\\u0e39\\u0e25\", \"\\u0e1a\\u0e49\\u0e32\\u0e19\\u0e19\\u0e34\\u0e04\\u0e21\", \"\\u0e1a\\u0e49\\u0e32\\u0e19\\u0e25\\u0e33\\u0e19\\u0e32\\u0e27\", \"\\u0e08\\u0e31\\u0e19\\u0e14\\u0e35\", \"\\u0e09\\u0e27\\u0e32\\u0e07\", \"\\u0e44\\u0e21\\u0e49\\u0e40\\u0e23\\u0e35\\u0e22\\u0e07\", \"\\u0e2b\\u0e49\\u0e27\\u0e22\\u0e1b\\u0e23\\u0e34\\u0e01\", \"\\u0e04\\u0e27\\u0e19\\u0e2b\\u0e19\\u0e2d\\u0e07\\u0e2b\\u0e07\\u0e29\\u0e4c\", \"\\u0e17\\u0e48\\u0e32\\u0e1b\\u0e23\\u0e30\\u0e08\\u0e30\", \"\\u0e2b\\u0e19\\u0e2d\\u0e07\\u0e2b\\u0e07\\u0e2a\\u0e4c\", \"\\u0e17\\u0e48\\u0e32\\u0e22\\u0e32\\u0e07\", \"\\u0e0a\\u0e49\\u0e32\\u0e07\\u0e0b\\u0e49\\u0e32\\u0e22\", \"\\u0e1e\\u0e34\\u0e1b\\u0e39\\u0e19\", \"\\u0e1b\\u0e32\\u0e01\\u0e1e\\u0e39\\u0e19\", \"\\u0e16\\u0e49\\u0e33\\u0e43\\u0e2b\\u0e0d\\u0e48\", \"\\u0e19\\u0e49\\u0e33\\u0e15\\u0e01\", \"\\u0e04\\u0e27\\u0e19\\u0e01\\u0e23\\u0e14\", \"\\u0e0a\\u0e30\\u0e2d\\u0e27\\u0e14\", \"\\u0e2a\\u0e27\\u0e19\\u0e2b\\u0e25\\u0e27\\u0e07\", \"\\u0e1b\\u0e32\\u0e01\\u0e1e\\u0e19\\u0e31\\u0e07\\u0e1d\\u0e31\\u0e48\\u0e07\\u0e15\\u0e30\\u0e27\\u0e31\\u0e19\\u0e15\\u0e01\", \"\\u0e04\\u0e27\\u0e19\\u0e17\\u0e2d\\u0e07\", \"\\u0e1e\\u0e23\\u0e2b\\u0e21\\u0e42\\u0e25\\u0e01\", \"\\u0e17\\u0e48\\u0e32\\u0e28\\u0e32\\u0e25\\u0e32\", \"\\u0e23\\u0e48\\u0e2d\\u0e19\\u0e1e\\u0e34\\u0e1a\\u0e39\\u0e25\\u0e22\\u0e4c\", \"\\u0e2b\\u0e31\\u0e27\\u0e44\\u0e17\\u0e23\", \"\\u0e01\\u0e33\\u0e42\\u0e25\\u0e19\", \"\\u0e17\\u0e38\\u0e48\\u0e07\\u0e43\\u0e2a\", \"\\u0e17\\u0e38\\u0e48\\u0e07\\u0e42\\u0e1e\\u0e18\\u0e34\\u0e4c\", \"\\u0e0a\\u0e49\\u0e32\\u0e07\\u0e01\\u0e25\\u0e32\\u0e07\", \"\\u0e41\\u0e21\\u0e48\\u0e40\\u0e08\\u0e49\\u0e32\\u0e2d\\u0e22\\u0e39\\u0e48\\u0e2b\\u0e31\\u0e27\", \"\\u0e17\\u0e38\\u0e48\\u0e07\\u0e2a\\u0e07\", \"\\u0e1b\\u0e23\\u0e34\\u0e01\", \"\\u0e1b\\u0e32\\u0e01\\u0e41\\u0e1e\\u0e23\\u0e01\", \"\\u0e14\\u0e38\\u0e2a\\u0e34\\u0e15\", \"\\u0e17\\u0e49\\u0e2d\\u0e07\\u0e40\\u0e19\\u0e35\\u0e22\\u0e19\", \"\\u0e19\\u0e32\\u0e1e\\u0e23\\u0e38\", \"\\u0e1b\\u0e32\\u0e01\\u0e19\\u0e04\\u0e23\", \"\\u0e2a\\u0e34\\u0e0a\\u0e25\", \"\\u0e19\\u0e32\\u0e2b\\u0e21\\u0e2d\\u0e1a\\u0e38\\u0e0d\", \"\\u0e42\\u0e1e\\u0e18\\u0e34\\u0e4c\\u0e40\\u0e2a\\u0e14\\u0e47\\u0e08\", \"\\u0e19\\u0e32\\u0e1a\\u0e2d\\u0e19\", \"\\u0e17\\u0e48\\u0e32\\u0e0b\\u0e31\\u0e01\", \"\\u0e19\\u0e32\\u0e2a\\u0e32\\u0e23\", \"\\u0e1a\\u0e32\\u0e07\\u0e23\\u0e39\\u0e1b\", \"\\u0e27\\u0e31\\u0e07\\u0e2b\\u0e34\\u0e19\", \"\\u0e17\\u0e48\\u0e32\\u0e44\\u0e23\\u0e48\", \"\\u0e0a\\u0e30\\u0e21\\u0e32\\u0e22\", \"\\u0e22\\u0e32\\u0e07\\u0e04\\u0e49\\u0e2d\\u0e21\", \"\\u0e16\\u0e49\\u0e33\\u0e1e\\u0e23\\u0e23\\u0e13\\u0e23\\u0e32\", \"\\u0e44\\u0e2a\\u0e2b\\u0e23\\u0e49\\u0e32\", \"\\u0e42\\u0e1e\\u0e18\\u0e34\\u0e4c\\u0e17\\u0e2d\\u0e07\", \"\\u0e2a\\u0e35\\u0e48\\u0e02\\u0e35\\u0e14\", \"\\u0e01\\u0e23\\u0e38\\u0e07\\u0e0a\\u0e34\\u0e07\", \"\\u0e19\\u0e32\\u0e40\\u0e02\\u0e25\\u0e35\\u0e22\\u0e07\", \"\\u0e40\\u0e0a\\u0e35\\u0e22\\u0e23\\u0e40\\u0e02\\u0e32\", \"\\u0e14\\u0e2d\\u0e19\\u0e15\\u0e23\\u0e2d\", \"\\u0e17\\u0e32\\u0e07\\u0e1e\\u0e39\\u0e19\", \"\\u0e44\\u0e17\\u0e22\\u0e1a\\u0e38\\u0e23\\u0e35\", \"\\u0e17\\u0e48\\u0e32\\u0e14\\u0e35\", \"\\u0e40\\u0e02\\u0e32\\u0e41\\u0e01\\u0e49\\u0e27\", \"\\u0e02\\u0e38\\u0e19\\u0e17\\u0e30\\u0e40\\u0e25\", \"\\u0e04\\u0e27\\u0e19\\u0e1e\\u0e31\\u0e07\", \"\\u0e21\\u0e30\\u0e21\\u0e48\\u0e27\\u0e07\\u0e2a\\u0e2d\\u0e07\\u0e15\\u0e49\\u0e19\", \"\\u0e2a\\u0e23\\u0e30\\u0e41\\u0e01\\u0e49\\u0e27\", \"\\u0e19\\u0e32\\u0e40\\u0e04\\u0e35\\u0e22\\u0e19\", \"\\u0e17\\u0e49\\u0e32\\u0e22\\u0e2a\\u0e33\\u0e40\\u0e20\\u0e32\", \"\\u0e1a\\u0e32\\u0e07\\u0e08\\u0e32\\u0e01\", \"\\u0e40\\u0e02\\u0e32\\u0e42\\u0e23\", \"\\u0e14\\u0e2d\\u0e19\\u0e15\\u0e30\\u0e42\\u0e01\", \"\\u0e2b\\u0e34\\u0e19\\u0e15\\u0e01\", \"\\u0e04\\u0e27\\u0e19\\u0e0a\\u0e38\\u0e21\", \"\\u0e40\\u0e02\\u0e32\\u0e1e\\u0e23\\u0e30\", \"\\u0e17\\u0e2d\\u0e19\\u0e2b\\u0e07\\u0e2a\\u0e4c\", \"\\u0e19\\u0e1a\\u0e1e\\u0e34\\u0e15\\u0e33\", \"\\u0e17\\u0e48\\u0e32\\u0e02\\u0e36\\u0e49\\u0e19\", \"\\u0e02\\u0e19\\u0e2d\\u0e21\", \"\\u0e17\\u0e38\\u0e48\\u0e07\\u0e1b\\u0e23\\u0e31\\u0e07\", \"\\u0e2b\\u0e19\\u0e49\\u0e32\\u0e2a\\u0e15\\u0e19\", \"\\u0e01\\u0e23\\u0e38\\u0e07\\u0e2b\\u0e22\\u0e31\\u0e19\", \"\\u0e01\\u0e38\\u0e41\\u0e2b\\u0e23\\u0e30\", \"\\u0e17\\u0e49\\u0e2d\\u0e07\\u0e25\\u0e33\\u0e40\\u0e08\\u0e35\\u0e22\\u0e01\", \"\\u0e01\\u0e33\\u0e41\\u0e1e\\u0e07\\u0e40\\u0e0b\\u0e32\", \"\\u0e17\\u0e38\\u0e48\\u0e07\\u0e2a\\u0e31\\u0e07\", \"\\u0e01\\u0e30\\u0e17\\u0e39\\u0e19\", \"\\u0e01\\u0e32\\u0e23\\u0e30\\u0e40\\u0e01\\u0e14\", \"\\u0e41\\u0e2b\\u0e25\\u0e21\", \"\\u0e40\\u0e2a\\u0e32\\u0e40\\u0e20\\u0e32\", \"\\u0e44\\u0e0a\\u0e22\\u0e21\\u0e19\\u0e15\\u0e23\\u0e35\", \"\\u0e02\\u0e2d\\u0e19\\u0e2b\\u0e32\\u0e14\", \"\\u0e41\\u0e01\\u0e49\\u0e27\\u0e41\\u0e2a\\u0e19\", \"\\u0e2a\\u0e32\\u0e21\\u0e15\\u0e33\\u0e1a\\u0e25\", \"\\u0e19\\u0e32\\u0e07\\u0e2b\\u0e25\\u0e07\", \"\\u0e19\\u0e32\\u0e42\\u0e1e\\u0e18\\u0e34\\u0e4c\", \"\\u0e2d\\u0e34\\u0e19\\u0e04\\u0e35\\u0e23\\u0e35\"], \"type\": \"bar\"}], {\"yaxis\": {\"title\": \"Frequency\"}, \"xaxis\": {\"title\": \"Year\"}, \"height\": 550, \"title\": \"Data Points for each Subdistrict\", \"width\": 1700}, {\"linkText\": \"Export to plot.ly\", \"showLink\": true})});</script>"
      ]
     },
     "metadata": {},
     "output_type": "display_data"
    }
   ],
   "source": [
    "arr = []\n",
    "subdist_list = df['subdist'].unique()\n",
    "for subdist in subdist_list:\n",
    "    tmp = df.loc[df['subdist'] == subdist].copy()\n",
    "    arr.append([subdist, len(tmp['bi'])])\n",
    "\n",
    "arr = pd.DataFrame.from_records(arr)\n",
    "arr.columns = ['subdist', 'freq']\n",
    "# arr = arr.sort_values('freq', ascending=0)\n",
    "\n",
    "trace = go.Bar( \n",
    "    x = arr['subdist'],\n",
    "    y = arr['freq'],\n",
    "    text = arr['freq'],\n",
    "    textposition = 'auto',\n",
    "    marker=dict(\n",
    "                color='rgb(158,202,225)',\n",
    "                line=dict(\n",
    "                    color='rgb(8,48,107)',\n",
    "                    width=1.5),\n",
    "            ),\n",
    "    opacity=0.8\n",
    ")\n",
    "layout = go.Layout(\n",
    "    title='Data Points for each Subdistrict',\n",
    "    height=550,\n",
    "    width=1700,\n",
    "    yaxis= dict(title='Frequency'),\n",
    "    xaxis= dict(title='Year')\n",
    ")\n",
    "fig = go.Figure(data=[trace], layout=layout)\n",
    "iplot(fig)"
   ]
  },
  {
   "cell_type": "code",
   "execution_count": 7,
   "metadata": {
    "scrolled": false
   },
   "outputs": [
    {
     "data": {
      "text/html": [
       "<div>\n",
       "<style scoped>\n",
       "    .dataframe tbody tr th:only-of-type {\n",
       "        vertical-align: middle;\n",
       "    }\n",
       "\n",
       "    .dataframe tbody tr th {\n",
       "        vertical-align: top;\n",
       "    }\n",
       "\n",
       "    .dataframe thead th {\n",
       "        text-align: right;\n",
       "    }\n",
       "</style>\n",
       "<table border=\"1\" class=\"dataframe\">\n",
       "  <thead>\n",
       "    <tr style=\"text-align: right;\">\n",
       "      <th></th>\n",
       "      <th>district</th>\n",
       "      <th>subdist</th>\n",
       "      <th>village</th>\n",
       "      <th>hi</th>\n",
       "      <th>ci</th>\n",
       "      <th>bi</th>\n",
       "    </tr>\n",
       "    <tr>\n",
       "      <th>date</th>\n",
       "      <th></th>\n",
       "      <th></th>\n",
       "      <th></th>\n",
       "      <th></th>\n",
       "      <th></th>\n",
       "      <th></th>\n",
       "    </tr>\n",
       "  </thead>\n",
       "  <tbody>\n",
       "    <tr>\n",
       "      <th>2011-02-01</th>\n",
       "      <td>ทุ่งสง</td>\n",
       "      <td>นาหลวงเสน</td>\n",
       "      <td>ประดู่</td>\n",
       "      <td>25.0</td>\n",
       "      <td>2.77</td>\n",
       "      <td>25.0</td>\n",
       "    </tr>\n",
       "    <tr>\n",
       "      <th>2011-07-01</th>\n",
       "      <td>ทุ่งสง</td>\n",
       "      <td>นาหลวงเสน</td>\n",
       "      <td>คอกช้าง</td>\n",
       "      <td>30.0</td>\n",
       "      <td>6.65</td>\n",
       "      <td>62.5</td>\n",
       "    </tr>\n",
       "    <tr>\n",
       "      <th>2012-02-01</th>\n",
       "      <td>ทุ่งสง</td>\n",
       "      <td>นาหลวงเสน</td>\n",
       "      <td>ใต้</td>\n",
       "      <td>18.0</td>\n",
       "      <td>4.59</td>\n",
       "      <td>30.0</td>\n",
       "    </tr>\n",
       "    <tr>\n",
       "      <th>2012-05-01</th>\n",
       "      <td>ทุ่งสง</td>\n",
       "      <td>นาหลวงเสน</td>\n",
       "      <td>ใต้</td>\n",
       "      <td>12.0</td>\n",
       "      <td>3.54</td>\n",
       "      <td>23.0</td>\n",
       "    </tr>\n",
       "    <tr>\n",
       "      <th>2012-08-01</th>\n",
       "      <td>ทุ่งสง</td>\n",
       "      <td>นาหลวงเสน</td>\n",
       "      <td>นาหลวงเสน</td>\n",
       "      <td>16.0</td>\n",
       "      <td>2.76</td>\n",
       "      <td>33.0</td>\n",
       "    </tr>\n",
       "  </tbody>\n",
       "</table>\n",
       "</div>"
      ],
      "text/plain": [
       "           district    subdist    village    hi    ci    bi\n",
       "date                                                       \n",
       "2011-02-01   ทุ่งสง  นาหลวงเสน     ประดู่  25.0  2.77  25.0\n",
       "2011-07-01   ทุ่งสง  นาหลวงเสน    คอกช้าง  30.0  6.65  62.5\n",
       "2012-02-01   ทุ่งสง  นาหลวงเสน        ใต้  18.0  4.59  30.0\n",
       "2012-05-01   ทุ่งสง  นาหลวงเสน        ใต้  12.0  3.54  23.0\n",
       "2012-08-01   ทุ่งสง  นาหลวงเสน  นาหลวงเสน  16.0  2.76  33.0"
      ]
     },
     "execution_count": 7,
     "metadata": {},
     "output_type": "execute_result"
    },
    {
     "data": {
      "text/html": [
       "<div>\n",
       "<style scoped>\n",
       "    .dataframe tbody tr th:only-of-type {\n",
       "        vertical-align: middle;\n",
       "    }\n",
       "\n",
       "    .dataframe tbody tr th {\n",
       "        vertical-align: top;\n",
       "    }\n",
       "\n",
       "    .dataframe thead th {\n",
       "        text-align: right;\n",
       "    }\n",
       "</style>\n",
       "<table border=\"1\" class=\"dataframe\">\n",
       "  <thead>\n",
       "    <tr style=\"text-align: right;\">\n",
       "      <th></th>\n",
       "      <th>district</th>\n",
       "      <th>subdist</th>\n",
       "      <th>village</th>\n",
       "      <th>hi</th>\n",
       "      <th>ci</th>\n",
       "      <th>bi</th>\n",
       "    </tr>\n",
       "    <tr>\n",
       "      <th>date</th>\n",
       "      <th></th>\n",
       "      <th></th>\n",
       "      <th></th>\n",
       "      <th></th>\n",
       "      <th></th>\n",
       "      <th></th>\n",
       "    </tr>\n",
       "  </thead>\n",
       "  <tbody>\n",
       "    <tr>\n",
       "      <th>2017-03-01</th>\n",
       "      <td>ทุ่งสง</td>\n",
       "      <td>นาโพธิ์</td>\n",
       "      <td>นาโพธิ์</td>\n",
       "      <td>22.5</td>\n",
       "      <td>5.65</td>\n",
       "      <td>32.5</td>\n",
       "    </tr>\n",
       "    <tr>\n",
       "      <th>2017-03-01</th>\n",
       "      <td>ทุ่งสง</td>\n",
       "      <td>นาโพธิ์</td>\n",
       "      <td>บนควน</td>\n",
       "      <td>32.5</td>\n",
       "      <td>6.93</td>\n",
       "      <td>35.0</td>\n",
       "    </tr>\n",
       "    <tr>\n",
       "      <th>2017-06-01</th>\n",
       "      <td>ทุ่งสง</td>\n",
       "      <td>นาโพธิ์</td>\n",
       "      <td>เกาะปราง</td>\n",
       "      <td>15.0</td>\n",
       "      <td>8.95</td>\n",
       "      <td>42.5</td>\n",
       "    </tr>\n",
       "    <tr>\n",
       "      <th>2017-02-01</th>\n",
       "      <td>พรหมคีรี</td>\n",
       "      <td>อินคีรี</td>\n",
       "      <td>น้ำแคบ</td>\n",
       "      <td>12.5</td>\n",
       "      <td>7.02</td>\n",
       "      <td>52.5</td>\n",
       "    </tr>\n",
       "    <tr>\n",
       "      <th>2017-04-01</th>\n",
       "      <td>พรหมคีรี</td>\n",
       "      <td>อินคีรี</td>\n",
       "      <td>น้ำแคบ</td>\n",
       "      <td>10.0</td>\n",
       "      <td>6.51</td>\n",
       "      <td>47.5</td>\n",
       "    </tr>\n",
       "  </tbody>\n",
       "</table>\n",
       "</div>"
      ],
      "text/plain": [
       "            district  subdist   village    hi    ci    bi\n",
       "date                                                     \n",
       "2017-03-01    ทุ่งสง  นาโพธิ์   นาโพธิ์  22.5  5.65  32.5\n",
       "2017-03-01    ทุ่งสง  นาโพธิ์     บนควน  32.5  6.93  35.0\n",
       "2017-06-01    ทุ่งสง  นาโพธิ์  เกาะปราง  15.0  8.95  42.5\n",
       "2017-02-01  พรหมคีรี  อินคีรี    น้ำแคบ  12.5  7.02  52.5\n",
       "2017-04-01  พรหมคีรี  อินคีรี    น้ำแคบ  10.0  6.51  47.5"
      ]
     },
     "execution_count": 7,
     "metadata": {},
     "output_type": "execute_result"
    }
   ],
   "source": [
    "df_filtered = []\n",
    "subdist_list = df['subdist'].unique()\n",
    "for subdist in subdist_list:\n",
    "    tmp = df.loc[df['subdist'] == subdist].copy()\n",
    "    df_filtered.append(tmp[np.abs(tmp['bi']-tmp['bi'].mean()) <= (1*tmp['bi'].std())].copy())\n",
    "    \n",
    "df_filtered = pd.concat(df_filtered, axis=0)\n",
    "df_filtered.head()\n",
    "df_filtered.tail()"
   ]
  },
  {
   "cell_type": "code",
   "execution_count": 8,
   "metadata": {},
   "outputs": [],
   "source": [
    "# df_meta = []\n",
    "# DIR = '../tensorflow/object_detection/GSV/นครศรีธรรมราช/'\n",
    "# districts = os.listdir(DIR)\n",
    "# for district in districts:\n",
    "#     subdists = os.listdir(os.path.join(DIR, district))\n",
    "    \n",
    "#     for subdist in subdists:     \n",
    "#         path = os.path.join(DIR, district, subdist, 'original')\n",
    "#         if not os.path.exists(path):\n",
    "#             continue\n",
    "        \n",
    "#         files = os.listdir(path)\n",
    "#         for file in files:\n",
    "#             file = file[:-4]\n",
    "#             lat, lng, degree, date = file.split('_')\n",
    "#             df_meta.append([lat, lng, degree, date])\n",
    "            \n",
    "# df_meta = pd.DataFrame.from_records(df_meta)\n",
    "# df_meta.columns = ['lat', 'lng', 'degree', 'date']\n",
    "# df_meta['date'] = pd.to_datetime(df_meta['date'], format='%Y-%m')"
   ]
  },
  {
   "cell_type": "code",
   "execution_count": 9,
   "metadata": {},
   "outputs": [
    {
     "data": {
      "text/html": [
       "<div>\n",
       "<style scoped>\n",
       "    .dataframe tbody tr th:only-of-type {\n",
       "        vertical-align: middle;\n",
       "    }\n",
       "\n",
       "    .dataframe tbody tr th {\n",
       "        vertical-align: top;\n",
       "    }\n",
       "\n",
       "    .dataframe thead th {\n",
       "        text-align: right;\n",
       "    }\n",
       "</style>\n",
       "<table border=\"1\" class=\"dataframe\">\n",
       "  <thead>\n",
       "    <tr style=\"text-align: right;\">\n",
       "      <th></th>\n",
       "      <th>lat</th>\n",
       "      <th>lng</th>\n",
       "      <th>degree</th>\n",
       "    </tr>\n",
       "    <tr>\n",
       "      <th>date</th>\n",
       "      <th></th>\n",
       "      <th></th>\n",
       "      <th></th>\n",
       "    </tr>\n",
       "  </thead>\n",
       "  <tbody>\n",
       "    <tr>\n",
       "      <th>2016-01-01</th>\n",
       "      <td>9.116177</td>\n",
       "      <td>99.670922</td>\n",
       "      <td>72</td>\n",
       "    </tr>\n",
       "    <tr>\n",
       "      <th>2016-01-01</th>\n",
       "      <td>9.281042</td>\n",
       "      <td>99.733532</td>\n",
       "      <td>0</td>\n",
       "    </tr>\n",
       "    <tr>\n",
       "      <th>2016-01-01</th>\n",
       "      <td>9.312261</td>\n",
       "      <td>99.710716</td>\n",
       "      <td>216</td>\n",
       "    </tr>\n",
       "    <tr>\n",
       "      <th>2016-01-01</th>\n",
       "      <td>9.125009</td>\n",
       "      <td>99.731638</td>\n",
       "      <td>72</td>\n",
       "    </tr>\n",
       "    <tr>\n",
       "      <th>2016-01-01</th>\n",
       "      <td>9.105161</td>\n",
       "      <td>99.716666</td>\n",
       "      <td>216</td>\n",
       "    </tr>\n",
       "  </tbody>\n",
       "</table>\n",
       "</div>"
      ],
      "text/plain": [
       "                 lat        lng  degree\n",
       "date                                   \n",
       "2016-01-01  9.116177  99.670922      72\n",
       "2016-01-01  9.281042  99.733532       0\n",
       "2016-01-01  9.312261  99.710716     216\n",
       "2016-01-01  9.125009  99.731638      72\n",
       "2016-01-01  9.105161  99.716666     216"
      ]
     },
     "execution_count": 9,
     "metadata": {},
     "output_type": "execute_result"
    },
    {
     "data": {
      "text/plain": [
       "957717"
      ]
     },
     "execution_count": 9,
     "metadata": {},
     "output_type": "execute_result"
    }
   ],
   "source": [
    "df_meta = pd.read_csv('../data/gsv_meta.csv')\n",
    "df_meta['date'] = pd.to_datetime(df_meta['date'], format='%Y-%m')\n",
    "df_meta = df_meta.set_index('date')\n",
    "df_meta = df_meta.sort_index()\n",
    "df_meta = df_meta['2016']\n",
    "df_meta.head()\n",
    "len(df_meta)"
   ]
  },
  {
   "cell_type": "code",
   "execution_count": 10,
   "metadata": {},
   "outputs": [],
   "source": [
    "month = ['Jan','Feb','Mar','Apr','May','Jun','Jul','Aug','Sep','Oct','Nov','Dec']"
   ]
  },
  {
   "cell_type": "code",
   "execution_count": 11,
   "metadata": {},
   "outputs": [
    {
     "data": {
      "application/vnd.plotly.v1+json": {
       "data": [
        {
         "marker": {
          "color": "rgb(158,202,225)",
          "line": {
           "color": "rgb(8,48,107)",
           "width": 1.5
          }
         },
         "opacity": 0.8,
         "text": [
          6295,
          7015,
          307441,
          157699,
          317489,
          104646,
          9958,
          15,
          5,
          20,
          30,
          47104
         ],
         "textposition": "auto",
         "type": "bar",
         "uid": "ab5112",
         "x": [
          "Jan",
          "Feb",
          "Mar",
          "Apr",
          "May",
          "Jun",
          "Jul",
          "Aug",
          "Sep",
          "Oct",
          "Nov",
          "Dec"
         ],
         "y": [
          6295,
          7015,
          307441,
          157699,
          317489,
          104646,
          9958,
          15,
          5,
          20,
          30,
          47104
         ]
        }
       ],
       "layout": {
        "autosize": true,
        "title": "Data Points for each Year",
        "xaxis": {
         "autorange": true,
         "range": [
          -0.5,
          11.5
         ],
         "title": "Year",
         "type": "category"
        },
        "yaxis": {
         "autorange": true,
         "range": [
          0,
          334198.94736842107
         ],
         "title": "Frequency",
         "type": "linear"
        }
       }
      },
      "text/html": [
       "<div id=\"d641938e-1303-4f94-aa32-d377a5167290\" style=\"height: 550px; width: 100%;\" class=\"plotly-graph-div\"></div><script type=\"text/javascript\">require([\"plotly\"], function(Plotly) { window.PLOTLYENV=window.PLOTLYENV || {};window.PLOTLYENV.BASE_URL=\"https://plot.ly\";Plotly.newPlot(\"d641938e-1303-4f94-aa32-d377a5167290\", [{\"textposition\": \"auto\", \"y\": [6295, 7015, 307441, 157699, 317489, 104646, 9958, 15, 5, 20, 30, 47104], \"opacity\": 0.8, \"marker\": {\"line\": {\"width\": 1.5, \"color\": \"rgb(8,48,107)\"}, \"color\": \"rgb(158,202,225)\"}, \"text\": [6295, 7015, 307441, 157699, 317489, 104646, 9958, 15, 5, 20, 30, 47104], \"x\": [\"Jan\", \"Feb\", \"Mar\", \"Apr\", \"May\", \"Jun\", \"Jul\", \"Aug\", \"Sep\", \"Oct\", \"Nov\", \"Dec\"], \"type\": \"bar\"}], {\"yaxis\": {\"title\": \"Frequency\"}, \"xaxis\": {\"title\": \"Year\"}, \"height\": 550, \"title\": \"Data Points for each Year\"}, {\"linkText\": \"Export to plot.ly\", \"showLink\": true})});</script>"
      ],
      "text/vnd.plotly.v1+html": [
       "<div id=\"d641938e-1303-4f94-aa32-d377a5167290\" style=\"height: 550px; width: 100%;\" class=\"plotly-graph-div\"></div><script type=\"text/javascript\">require([\"plotly\"], function(Plotly) { window.PLOTLYENV=window.PLOTLYENV || {};window.PLOTLYENV.BASE_URL=\"https://plot.ly\";Plotly.newPlot(\"d641938e-1303-4f94-aa32-d377a5167290\", [{\"textposition\": \"auto\", \"y\": [6295, 7015, 307441, 157699, 317489, 104646, 9958, 15, 5, 20, 30, 47104], \"opacity\": 0.8, \"marker\": {\"line\": {\"width\": 1.5, \"color\": \"rgb(8,48,107)\"}, \"color\": \"rgb(158,202,225)\"}, \"text\": [6295, 7015, 307441, 157699, 317489, 104646, 9958, 15, 5, 20, 30, 47104], \"x\": [\"Jan\", \"Feb\", \"Mar\", \"Apr\", \"May\", \"Jun\", \"Jul\", \"Aug\", \"Sep\", \"Oct\", \"Nov\", \"Dec\"], \"type\": \"bar\"}], {\"yaxis\": {\"title\": \"Frequency\"}, \"xaxis\": {\"title\": \"Year\"}, \"height\": 550, \"title\": \"Data Points for each Year\"}, {\"linkText\": \"Export to plot.ly\", \"showLink\": true})});</script>"
      ]
     },
     "metadata": {},
     "output_type": "display_data"
    }
   ],
   "source": [
    "count = dict(Counter(df_meta.index.month))\n",
    "key, val = [], []\n",
    "for k in count:\n",
    "    key.append(month[k-1])\n",
    "    val.append(count[k])\n",
    "    \n",
    "trace_bar_actual = go.Bar( \n",
    "    x = key,\n",
    "    y = val,\n",
    "    text = val,\n",
    "    textposition = 'auto',\n",
    "    marker=dict(\n",
    "                color='rgb(158,202,225)',\n",
    "                line=dict(\n",
    "                    color='rgb(8,48,107)',\n",
    "                    width=1.5),\n",
    "            ),\n",
    "    opacity=0.8\n",
    ")\n",
    "layout = go.Layout(\n",
    "    title='Data Points for each Year',\n",
    "    height=550,\n",
    "#     width=1500,\n",
    "    yaxis= dict(title='Frequency'),\n",
    "    xaxis= dict(title='Year')\n",
    ")\n",
    "fig = go.Figure(data=[trace_bar_actual], layout=layout)\n",
    "iplot(fig)"
   ]
  },
  {
   "cell_type": "code",
   "execution_count": 12,
   "metadata": {},
   "outputs": [],
   "source": [
    "URL = 'https://raw.githubusercontent.com/pcrete/Mosquito_Breeding_Sites_Detector/master/geojson/province/%E0%B8%99%E0%B8%84%E0%B8%A3%E0%B8%A8%E0%B8%A3%E0%B8%B5%E0%B8%98%E0%B8%A3%E0%B8%A3%E0%B8%A1%E0%B8%A3%E0%B8%B2%E0%B8%8A.geojson'\n",
    "import urllib.request, json \n",
    "with urllib.request.urlopen(URL) as url:\n",
    "    data_polygon = json.loads(url.read().decode())"
   ]
  },
  {
   "cell_type": "code",
   "execution_count": 13,
   "metadata": {},
   "outputs": [
    {
     "name": "stdout",
     "output_type": "stream",
     "text": [
      "28.453699885452462 31.437258193014088\n"
     ]
    }
   ],
   "source": [
    "mapbox_access_token = 'pk.eyJ1IjoiYWxpc2hvYmVpcmkiLCJhIjoiY2ozYnM3YTUxMDAxeDMzcGNjbmZyMmplZiJ9.ZjmQ0C2MNs1AzEBC_Syadg'\n",
    "\n",
    "mean, sd = df.bi.mean(), df.bi.std()\n",
    "print(mean, sd)\n",
    "\n",
    "norm = mpl.colors.Normalize(vmin=mean-sd, vmax=mean+sd)\n",
    "cmap = cm.Blues\n",
    "\n",
    "polygons = []\n",
    "for feature in data_polygon['features']:\n",
    "    prop = feature['properties']\n",
    "    province = prop['PV_TN']\n",
    "    district = prop['AP_TN']\n",
    "    subdist = prop['TB_TN']\n",
    "    \n",
    "    value = df[(df.district == district) & (df.subdist == subdist)].bi.mean()\n",
    "    m = cm.ScalarMappable(norm=norm, cmap=cmap)\n",
    "    r,g,b,a = m.to_rgba(value)\n",
    "    r,g,b,a = str(int(r*255)), str(int(g*255)), str(int(b*255)), str(1.0)\n",
    "    rgba = 'rgba('+r+','+g+','+b+','+a+')'\n",
    "    \n",
    "    polygons.append(\n",
    "        dict(\n",
    "            sourcetype = 'geojson',\n",
    "            source = feature,\n",
    "            type = 'fill',\n",
    "            color = rgba\n",
    "        )\n",
    "    )\n",
    "\n",
    "data = Data([\n",
    "    Scattermapbox(\n",
    "        lat=1,\n",
    "        lon=1,\n",
    "        mode='markers',\n",
    "        marker=Marker(\n",
    "            size=0\n",
    "        ),\n",
    "        text=['Montreal'],\n",
    "    )\n",
    "])\n",
    "\n",
    "layout = Layout(\n",
    "    autosize=True,\n",
    "    hovermode='closest',\n",
    "    width=1500,\n",
    "    height=800,\n",
    "    mapbox=dict(\n",
    "        accesstoken=mapbox_access_token,\n",
    "        bearing=0,\n",
    "        center=dict(\n",
    "            lat=df_meta.lat[0],\n",
    "            lon=df_meta.lng[0]\n",
    "        ),\n",
    "        pitch=0,\n",
    "        zoom=8,\n",
    "        style='light', # dark,satellite,streets,light\n",
    "        layers=polygons,\n",
    "    ),\n",
    ")\n",
    "\n",
    "fig = dict(data=data, layout=layout)\n",
    "iplot(fig, filename='Montreal Mapbox')"
   ]
  }
 ],
 "metadata": {
  "kernelspec": {
   "display_name": "Python 3",
   "language": "python",
   "name": "python3"
  },
  "language_info": {
   "codemirror_mode": {
    "name": "ipython",
    "version": 3
   },
   "file_extension": ".py",
   "mimetype": "text/x-python",
   "name": "python",
   "nbconvert_exporter": "python",
   "pygments_lexer": "ipython3",
   "version": "3.5.2"
  }
 },
 "nbformat": 4,
 "nbformat_minor": 2
}
