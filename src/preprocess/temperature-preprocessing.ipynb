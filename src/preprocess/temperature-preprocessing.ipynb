{
 "cells": [
  {
   "cell_type": "markdown",
   "metadata": {},
   "source": [
    "# Rainfall Preprocessing"
   ]
  },
  {
   "cell_type": "code",
   "execution_count": 1,
   "metadata": {},
   "outputs": [],
   "source": [
    "from IPython.core.interactiveshell import InteractiveShell\n",
    "InteractiveShell.ast_node_interactivity = \"all\""
   ]
  },
  {
   "cell_type": "code",
   "execution_count": 2,
   "metadata": {},
   "outputs": [
    {
     "data": {
      "text/html": [
       "<div>\n",
       "<style scoped>\n",
       "    .dataframe tbody tr th:only-of-type {\n",
       "        vertical-align: middle;\n",
       "    }\n",
       "\n",
       "    .dataframe tbody tr th {\n",
       "        vertical-align: top;\n",
       "    }\n",
       "\n",
       "    .dataframe thead th {\n",
       "        text-align: right;\n",
       "    }\n",
       "</style>\n",
       "<table border=\"1\" class=\"dataframe\">\n",
       "  <thead>\n",
       "    <tr style=\"text-align: right;\">\n",
       "      <th></th>\n",
       "      <th>TB_IDN</th>\n",
       "      <th>2014_01</th>\n",
       "      <th>2014_02</th>\n",
       "      <th>2014_03</th>\n",
       "      <th>2014_04</th>\n",
       "      <th>2014_05</th>\n",
       "      <th>2014_06</th>\n",
       "      <th>2014_07</th>\n",
       "      <th>2014_08</th>\n",
       "      <th>2014_09</th>\n",
       "      <th>...</th>\n",
       "      <th>2017_08</th>\n",
       "      <th>2017_09</th>\n",
       "      <th>2017_10</th>\n",
       "      <th>2017_11</th>\n",
       "      <th>2017_12</th>\n",
       "      <th>2018_01</th>\n",
       "      <th>2018_02</th>\n",
       "      <th>2018_03</th>\n",
       "      <th>2018_04</th>\n",
       "      <th>2018_05</th>\n",
       "    </tr>\n",
       "  </thead>\n",
       "  <tbody>\n",
       "    <tr>\n",
       "      <th>0</th>\n",
       "      <td>100101</td>\n",
       "      <td>34.39</td>\n",
       "      <td>36.77</td>\n",
       "      <td>39.61</td>\n",
       "      <td>37.45</td>\n",
       "      <td>40.71</td>\n",
       "      <td>40.61</td>\n",
       "      <td>35.39</td>\n",
       "      <td>39.49</td>\n",
       "      <td>39.01</td>\n",
       "      <td>...</td>\n",
       "      <td>37.23</td>\n",
       "      <td>35.99</td>\n",
       "      <td>34.43</td>\n",
       "      <td>33.31</td>\n",
       "      <td>33.07</td>\n",
       "      <td>34.85</td>\n",
       "      <td>36.11</td>\n",
       "      <td>38.01</td>\n",
       "      <td>38.39</td>\n",
       "      <td>35.83</td>\n",
       "    </tr>\n",
       "  </tbody>\n",
       "</table>\n",
       "<p>1 rows × 54 columns</p>\n",
       "</div>"
      ],
      "text/plain": [
       "   TB_IDN  2014_01  2014_02  2014_03  2014_04  2014_05  2014_06  2014_07  \\\n",
       "0  100101    34.39    36.77    39.61    37.45    40.71    40.61    35.39   \n",
       "\n",
       "   2014_08  2014_09   ...     2017_08  2017_09  2017_10  2017_11  2017_12  \\\n",
       "0    39.49    39.01   ...       37.23    35.99    34.43    33.31    33.07   \n",
       "\n",
       "   2018_01  2018_02  2018_03  2018_04  2018_05  \n",
       "0    34.85    36.11    38.01    38.39    35.83  \n",
       "\n",
       "[1 rows x 54 columns]"
      ]
     },
     "execution_count": 2,
     "metadata": {},
     "output_type": "execute_result"
    }
   ],
   "source": [
    "import os\n",
    "import json\n",
    "import pandas as pd\n",
    "import numpy as np\n",
    "from tqdm import tqdm_notebook\n",
    "\n",
    "df_temperature = pd.read_csv(os.path.join('..', '..', 'data', 'weather', 'csv', 'land-surface-temperature.csv'))\n",
    "df_temperature.head(1)"
   ]
  },
  {
   "cell_type": "code",
   "execution_count": 3,
   "metadata": {},
   "outputs": [],
   "source": [
    "months = df_temperature.columns[1:].values\n",
    "addrcodes = df_temperature['TB_IDN'].values"
   ]
  },
  {
   "cell_type": "code",
   "execution_count": 9,
   "metadata": {},
   "outputs": [],
   "source": [
    "indexes_addrcode = []\n",
    "indexes_month = []\n",
    "\n",
    "values = []\n",
    "\n",
    "for addrcode in addrcodes:\n",
    "    for month in months:\n",
    "        indexes_addrcode.append(addrcode)\n",
    "        indexes_month.append(month)\n",
    "        \n",
    "    values += list(df_temperature.loc[df_temperature['TB_IDN'] == addrcode].values[0][1:])\n",
    "        \n",
    "indexes_addrcode = np.reshape(np.array(indexes_addrcode),(-1, 1))\n",
    "indexes_month = np.reshape(np.array(indexes_month),(-1, 1))\n",
    "\n",
    "values = np.reshape(np.array(values),(-1, 1))\n",
    "values = np.concatenate((indexes_addrcode, indexes_month, values), axis=1)"
   ]
  },
  {
   "cell_type": "code",
   "execution_count": 10,
   "metadata": {},
   "outputs": [
    {
     "data": {
      "text/html": [
       "<div>\n",
       "<style scoped>\n",
       "    .dataframe tbody tr th:only-of-type {\n",
       "        vertical-align: middle;\n",
       "    }\n",
       "\n",
       "    .dataframe tbody tr th {\n",
       "        vertical-align: top;\n",
       "    }\n",
       "\n",
       "    .dataframe thead th {\n",
       "        text-align: right;\n",
       "    }\n",
       "</style>\n",
       "<table border=\"1\" class=\"dataframe\">\n",
       "  <thead>\n",
       "    <tr style=\"text-align: right;\">\n",
       "      <th></th>\n",
       "      <th></th>\n",
       "      <th>temperature</th>\n",
       "    </tr>\n",
       "    <tr>\n",
       "      <th>addrcode</th>\n",
       "      <th>date</th>\n",
       "      <th></th>\n",
       "    </tr>\n",
       "  </thead>\n",
       "  <tbody>\n",
       "    <tr>\n",
       "      <th rowspan=\"10\" valign=\"top\">100101</th>\n",
       "      <th>2014-01-01</th>\n",
       "      <td>34.39</td>\n",
       "    </tr>\n",
       "    <tr>\n",
       "      <th>2014-02-01</th>\n",
       "      <td>36.77</td>\n",
       "    </tr>\n",
       "    <tr>\n",
       "      <th>2014-03-01</th>\n",
       "      <td>39.61</td>\n",
       "    </tr>\n",
       "    <tr>\n",
       "      <th>2014-04-01</th>\n",
       "      <td>37.45</td>\n",
       "    </tr>\n",
       "    <tr>\n",
       "      <th>2014-05-01</th>\n",
       "      <td>40.71</td>\n",
       "    </tr>\n",
       "    <tr>\n",
       "      <th>2014-06-01</th>\n",
       "      <td>40.61</td>\n",
       "    </tr>\n",
       "    <tr>\n",
       "      <th>2014-07-01</th>\n",
       "      <td>35.39</td>\n",
       "    </tr>\n",
       "    <tr>\n",
       "      <th>2014-08-01</th>\n",
       "      <td>39.49</td>\n",
       "    </tr>\n",
       "    <tr>\n",
       "      <th>2014-09-01</th>\n",
       "      <td>39.01</td>\n",
       "    </tr>\n",
       "    <tr>\n",
       "      <th>2014-10-01</th>\n",
       "      <td>35.93</td>\n",
       "    </tr>\n",
       "  </tbody>\n",
       "</table>\n",
       "</div>"
      ],
      "text/plain": [
       "                    temperature\n",
       "addrcode date                  \n",
       "100101   2014-01-01       34.39\n",
       "         2014-02-01       36.77\n",
       "         2014-03-01       39.61\n",
       "         2014-04-01       37.45\n",
       "         2014-05-01       40.71\n",
       "         2014-06-01       40.61\n",
       "         2014-07-01       35.39\n",
       "         2014-08-01       39.49\n",
       "         2014-09-01       39.01\n",
       "         2014-10-01       35.93"
      ]
     },
     "execution_count": 10,
     "metadata": {},
     "output_type": "execute_result"
    }
   ],
   "source": [
    "df_temperature = pd.DataFrame.from_records(values, columns=['addrcode','date','temperature'])\n",
    "df_temperature['date'] = pd.to_datetime(df_temperature['date'], format='%Y_%m')\n",
    "df_temperature.set_index(['addrcode','date'], inplace=True)\n",
    "df_temperature.head(10)"
   ]
  },
  {
   "cell_type": "code",
   "execution_count": 11,
   "metadata": {},
   "outputs": [],
   "source": [
    "df_temperature.to_csv(os.path.join('..', '..', 'data', 'weather', 'temperature.csv'))"
   ]
  },
  {
   "cell_type": "code",
   "execution_count": null,
   "metadata": {},
   "outputs": [],
   "source": []
  }
 ],
 "metadata": {
  "kernelspec": {
   "display_name": "Python 3",
   "language": "python",
   "name": "python3"
  },
  "language_info": {
   "codemirror_mode": {
    "name": "ipython",
    "version": 3
   },
   "file_extension": ".py",
   "mimetype": "text/x-python",
   "name": "python",
   "nbconvert_exporter": "python",
   "pygments_lexer": "ipython3",
   "version": "3.5.2"
  }
 },
 "nbformat": 4,
 "nbformat_minor": 2
}
