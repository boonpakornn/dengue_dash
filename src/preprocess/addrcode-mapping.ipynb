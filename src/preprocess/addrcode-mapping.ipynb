{
 "cells": [
  {
   "cell_type": "markdown",
   "metadata": {},
   "source": [
    "# ADDRCODE Mapping for Dengue Case Data "
   ]
  },
  {
   "cell_type": "code",
   "execution_count": 1,
   "metadata": {},
   "outputs": [],
   "source": [
    "from IPython.core.interactiveshell import InteractiveShell\n",
    "InteractiveShell.ast_node_interactivity = \"all\"\n",
    "\n",
    "import os\n",
    "import pandas as pd\n",
    "from collections import Counter"
   ]
  },
  {
   "cell_type": "code",
   "execution_count": 2,
   "metadata": {},
   "outputs": [
    {
     "data": {
      "text/html": [
       "<div>\n",
       "<style scoped>\n",
       "    .dataframe tbody tr th:only-of-type {\n",
       "        vertical-align: middle;\n",
       "    }\n",
       "\n",
       "    .dataframe tbody tr th {\n",
       "        vertical-align: top;\n",
       "    }\n",
       "\n",
       "    .dataframe thead th {\n",
       "        text-align: right;\n",
       "    }\n",
       "</style>\n",
       "<table border=\"1\" class=\"dataframe\">\n",
       "  <thead>\n",
       "    <tr style=\"text-align: right;\">\n",
       "      <th></th>\n",
       "      <th>Cases</th>\n",
       "    </tr>\n",
       "    <tr>\n",
       "      <th>Subdistrict_Code</th>\n",
       "      <th></th>\n",
       "    </tr>\n",
       "  </thead>\n",
       "  <tbody>\n",
       "    <tr>\n",
       "      <th>801702</th>\n",
       "      <td>63</td>\n",
       "    </tr>\n",
       "    <tr>\n",
       "      <th>80101</th>\n",
       "      <td>62</td>\n",
       "    </tr>\n",
       "    <tr>\n",
       "      <th>80120</th>\n",
       "      <td>58</td>\n",
       "    </tr>\n",
       "    <tr>\n",
       "      <th>801401</th>\n",
       "      <td>40</td>\n",
       "    </tr>\n",
       "    <tr>\n",
       "      <th>801001</th>\n",
       "      <td>38</td>\n",
       "    </tr>\n",
       "  </tbody>\n",
       "</table>\n",
       "</div>"
      ],
      "text/plain": [
       "                  Cases\n",
       "Subdistrict_Code       \n",
       "801702               63\n",
       "80101                62\n",
       "80120                58\n",
       "801401               40\n",
       "801001               38"
      ]
     },
     "execution_count": 2,
     "metadata": {},
     "output_type": "execute_result"
    },
    {
     "data": {
      "text/plain": [
       "166"
      ]
     },
     "execution_count": 2,
     "metadata": {},
     "output_type": "execute_result"
    }
   ],
   "source": [
    "df_DHF = pd.read_csv(os.path.join('..','..','data','dengue-cases','2016.csv'))\n",
    "df_DHF = df_DHF.set_index('ID')\n",
    "df_DHF = df_DHF.loc[df_DHF['PROVINCE'] == 80]\n",
    "df_DHF = df_DHF.astype(str)\n",
    "df_DHF['CODE'] = df_DHF['PROVINCE'] + df_DHF['ADDRCODE']\n",
    "df_DHF['CODE'] = df_DHF['CODE'].str[:-2]\n",
    "\n",
    "df_DHF = pd.DataFrame.from_records(Counter(df_DHF['CODE'].values).most_common())\n",
    "df_DHF.columns = ['Subdistrict_Code', 'Cases']\n",
    "df_DHF = df_DHF.set_index('Subdistrict_Code')\n",
    "df_DHF.head()\n",
    "len(df_DHF)"
   ]
  },
  {
   "cell_type": "code",
   "execution_count": 3,
   "metadata": {
    "scrolled": true
   },
   "outputs": [
    {
     "data": {
      "text/html": [
       "<div>\n",
       "<style scoped>\n",
       "    .dataframe tbody tr th:only-of-type {\n",
       "        vertical-align: middle;\n",
       "    }\n",
       "\n",
       "    .dataframe tbody tr th {\n",
       "        vertical-align: top;\n",
       "    }\n",
       "\n",
       "    .dataframe thead th {\n",
       "        text-align: right;\n",
       "    }\n",
       "</style>\n",
       "<table border=\"1\" class=\"dataframe\">\n",
       "  <thead>\n",
       "    <tr style=\"text-align: right;\">\n",
       "      <th></th>\n",
       "      <th>Subdistrict_Name</th>\n",
       "      <th>District_Code</th>\n",
       "      <th>District_Name</th>\n",
       "      <th>Province_Code</th>\n",
       "      <th>Province_Name</th>\n",
       "    </tr>\n",
       "    <tr>\n",
       "      <th>Subdistrict_Code</th>\n",
       "      <th></th>\n",
       "      <th></th>\n",
       "      <th></th>\n",
       "      <th></th>\n",
       "      <th></th>\n",
       "    </tr>\n",
       "  </thead>\n",
       "  <tbody>\n",
       "    <tr>\n",
       "      <th>800101</th>\n",
       "      <td>ในเมือง</td>\n",
       "      <td>8001</td>\n",
       "      <td>เมืองนครศรีธรรมราช</td>\n",
       "      <td>80</td>\n",
       "      <td>นครศรีธรรมราช</td>\n",
       "    </tr>\n",
       "    <tr>\n",
       "      <th>800102</th>\n",
       "      <td>ท่าวัง</td>\n",
       "      <td>8001</td>\n",
       "      <td>เมืองนครศรีธรรมราช</td>\n",
       "      <td>80</td>\n",
       "      <td>นครศรีธรรมราช</td>\n",
       "    </tr>\n",
       "    <tr>\n",
       "      <th>800103</th>\n",
       "      <td>คลัง</td>\n",
       "      <td>8001</td>\n",
       "      <td>เมืองนครศรีธรรมราช</td>\n",
       "      <td>80</td>\n",
       "      <td>นครศรีธรรมราช</td>\n",
       "    </tr>\n",
       "    <tr>\n",
       "      <th>800106</th>\n",
       "      <td>ท่าไร่</td>\n",
       "      <td>8001</td>\n",
       "      <td>เมืองนครศรีธรรมราช</td>\n",
       "      <td>80</td>\n",
       "      <td>นครศรีธรรมราช</td>\n",
       "    </tr>\n",
       "    <tr>\n",
       "      <th>800107</th>\n",
       "      <td>ปากนคร</td>\n",
       "      <td>8001</td>\n",
       "      <td>เมืองนครศรีธรรมราช</td>\n",
       "      <td>80</td>\n",
       "      <td>นครศรีธรรมราช</td>\n",
       "    </tr>\n",
       "  </tbody>\n",
       "</table>\n",
       "</div>"
      ],
      "text/plain": [
       "                 Subdistrict_Name  District_Code       District_Name  \\\n",
       "Subdistrict_Code                                                       \n",
       "800101                    ในเมือง           8001  เมืองนครศรีธรรมราช   \n",
       "800102                     ท่าวัง           8001  เมืองนครศรีธรรมราช   \n",
       "800103                       คลัง           8001  เมืองนครศรีธรรมราช   \n",
       "800106                     ท่าไร่           8001  เมืองนครศรีธรรมราช   \n",
       "800107                     ปากนคร           8001  เมืองนครศรีธรรมราช   \n",
       "\n",
       "                  Province_Code  Province_Name  \n",
       "Subdistrict_Code                                \n",
       "800101                       80  นครศรีธรรมราช  \n",
       "800102                       80  นครศรีธรรมราช  \n",
       "800103                       80  นครศรีธรรมราช  \n",
       "800106                       80  นครศรีธรรมราช  \n",
       "800107                       80  นครศรีธรรมราช  "
      ]
     },
     "execution_count": 3,
     "metadata": {},
     "output_type": "execute_result"
    },
    {
     "data": {
      "text/plain": [
       "170"
      ]
     },
     "execution_count": 3,
     "metadata": {},
     "output_type": "execute_result"
    }
   ],
   "source": [
    "df_code = pd.read_csv(os.path.join('..','..','data','dengue-cases','province_dist_sub_code.csv'))\n",
    "df_code['Subdistrict_Code'] = df_code['Subdistrict_Code'].astype(str) \n",
    "df_code = df_code.set_index('Subdistrict_Code')\n",
    "df_code = df_code.loc[df_code['Province_Code'] == 80]\n",
    "df_code.head()\n",
    "len(df_code)"
   ]
  },
  {
   "cell_type": "code",
   "execution_count": 4,
   "metadata": {
    "scrolled": false
   },
   "outputs": [
    {
     "data": {
      "text/html": [
       "<div>\n",
       "<style scoped>\n",
       "    .dataframe tbody tr th:only-of-type {\n",
       "        vertical-align: middle;\n",
       "    }\n",
       "\n",
       "    .dataframe tbody tr th {\n",
       "        vertical-align: top;\n",
       "    }\n",
       "\n",
       "    .dataframe thead th {\n",
       "        text-align: right;\n",
       "    }\n",
       "</style>\n",
       "<table border=\"1\" class=\"dataframe\">\n",
       "  <thead>\n",
       "    <tr style=\"text-align: right;\">\n",
       "      <th></th>\n",
       "      <th>subdist</th>\n",
       "      <th>district</th>\n",
       "      <th>province</th>\n",
       "      <th>cases</th>\n",
       "    </tr>\n",
       "  </thead>\n",
       "  <tbody>\n",
       "    <tr>\n",
       "      <th>0</th>\n",
       "      <td>ในเมือง</td>\n",
       "      <td>เมืองนครศรีธรรมราช</td>\n",
       "      <td>นครศรีธรรมราช</td>\n",
       "      <td>0.0</td>\n",
       "    </tr>\n",
       "    <tr>\n",
       "      <th>1</th>\n",
       "      <td>ท่าวัง</td>\n",
       "      <td>เมืองนครศรีธรรมราช</td>\n",
       "      <td>นครศรีธรรมราช</td>\n",
       "      <td>0.0</td>\n",
       "    </tr>\n",
       "    <tr>\n",
       "      <th>2</th>\n",
       "      <td>คลัง</td>\n",
       "      <td>เมืองนครศรีธรรมราช</td>\n",
       "      <td>นครศรีธรรมราช</td>\n",
       "      <td>0.0</td>\n",
       "    </tr>\n",
       "    <tr>\n",
       "      <th>3</th>\n",
       "      <td>ท่าไร่</td>\n",
       "      <td>เมืองนครศรีธรรมราช</td>\n",
       "      <td>นครศรีธรรมราช</td>\n",
       "      <td>0.0</td>\n",
       "    </tr>\n",
       "    <tr>\n",
       "      <th>4</th>\n",
       "      <td>ปากนคร</td>\n",
       "      <td>เมืองนครศรีธรรมราช</td>\n",
       "      <td>นครศรีธรรมราช</td>\n",
       "      <td>0.0</td>\n",
       "    </tr>\n",
       "  </tbody>\n",
       "</table>\n",
       "</div>"
      ],
      "text/plain": [
       "   subdist            district       province  cases\n",
       "0  ในเมือง  เมืองนครศรีธรรมราช  นครศรีธรรมราช    0.0\n",
       "1   ท่าวัง  เมืองนครศรีธรรมราช  นครศรีธรรมราช    0.0\n",
       "2     คลัง  เมืองนครศรีธรรมราช  นครศรีธรรมราช    0.0\n",
       "3   ท่าไร่  เมืองนครศรีธรรมราช  นครศรีธรรมราช    0.0\n",
       "4   ปากนคร  เมืองนครศรีธรรมราช  นครศรีธรรมราช    0.0"
      ]
     },
     "execution_count": 4,
     "metadata": {},
     "output_type": "execute_result"
    }
   ],
   "source": [
    "df_dengue_caces = df_code.join(df_DHF)\n",
    "df_dengue_caces = df_dengue_caces.fillna(0)\n",
    "df_dengue_caces = df_dengue_caces.dropna(how='any', axis=0)\n",
    "df_dengue_caces = df_dengue_caces.reset_index()\n",
    "df_dengue_caces = df_dengue_caces.drop(['Subdistrict_Code', 'District_Code', 'Province_Code'], axis=1)\n",
    "df_dengue_caces.columns = ['subdist', 'district', 'province', 'cases']\n",
    "df_dengue_caces.head()"
   ]
  },
  {
   "cell_type": "code",
   "execution_count": 5,
   "metadata": {},
   "outputs": [],
   "source": [
    "df_dengue_caces.to_csv(os.path.join('..','..','data','dengue-cases','dengue_caces_2016.csv'), index=None)"
   ]
  }
 ],
 "metadata": {
  "kernelspec": {
   "display_name": "Python 3",
   "language": "python",
   "name": "python3"
  },
  "language_info": {
   "codemirror_mode": {
    "name": "ipython",
    "version": 3
   },
   "file_extension": ".py",
   "mimetype": "text/x-python",
   "name": "python",
   "nbconvert_exporter": "python",
   "pygments_lexer": "ipython3",
   "version": "3.5.2"
  }
 },
 "nbformat": 4,
 "nbformat_minor": 2
}
