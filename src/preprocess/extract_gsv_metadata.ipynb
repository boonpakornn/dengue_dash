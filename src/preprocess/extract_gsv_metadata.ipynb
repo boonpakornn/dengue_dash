{
 "cells": [
  {
   "cell_type": "code",
   "execution_count": 97,
   "metadata": {},
   "outputs": [],
   "source": [
    "import zipfile\n",
    "import pandas as pd\n",
    "from glob import glob\n",
    "from tqdm import tqdm\n",
    "\n",
    "def get_gsv_meta(folder, out_filename):\n",
    "    gsv_meta = []\n",
    "    for district in tqdm(glob(folder)):\n",
    "        archive = zipfile.ZipFile(district, 'r')\n",
    "\n",
    "        for file in archive.filelist:\n",
    "            filename = file.filename\n",
    "            if '.json' in filename:\n",
    "                lat, lng, degree, date = filename.split('/')[-1:][0][:-5].split('_')\n",
    "                gsv_meta.append([date, lat, lng, degree])\n",
    "\n",
    "    df_gsv = pd.DataFrame.from_records(gsv_meta, columns=['date','lat','lng', 'degree'])\n",
    "    df_gsv.date = pd.to_datetime(df_gsv.date)\n",
    "    df_gsv.to_csv(out_filename, index=None)\n",
    "    print('length:', len(df_gsv))"
   ]
  },
  {
   "cell_type": "code",
   "execution_count": 98,
   "metadata": {},
   "outputs": [
    {
     "name": "stderr",
     "output_type": "stream",
     "text": [
      "100%|██████████| 8/8 [00:05<00:00,  1.50it/s]\n"
     ]
    },
    {
     "name": "stdout",
     "output_type": "stream",
     "text": [
      "length: 386819\n"
     ]
    }
   ],
   "source": [
    "get_gsv_meta('Krabi-zips/*', 'Krabi-gsv-meta.csv')"
   ]
  },
  {
   "cell_type": "code",
   "execution_count": 99,
   "metadata": {},
   "outputs": [
    {
     "name": "stderr",
     "output_type": "stream",
     "text": [
      "100%|██████████| 50/50 [00:13<00:00,  3.76it/s]\n"
     ]
    },
    {
     "name": "stdout",
     "output_type": "stream",
     "text": [
      "length: 790450\n"
     ]
    }
   ],
   "source": [
    "get_gsv_meta('Bangkok-zips/*', 'Bangkok-gsv-meta.csv')"
   ]
  }
 ],
 "metadata": {
  "kernelspec": {
   "display_name": "Python 3",
   "language": "python",
   "name": "python3"
  },
  "language_info": {
   "codemirror_mode": {
    "name": "ipython",
    "version": 3
   },
   "file_extension": ".py",
   "mimetype": "text/x-python",
   "name": "python",
   "nbconvert_exporter": "python",
   "pygments_lexer": "ipython3",
   "version": "3.5.2"
  }
 },
 "nbformat": 4,
 "nbformat_minor": 2
}
