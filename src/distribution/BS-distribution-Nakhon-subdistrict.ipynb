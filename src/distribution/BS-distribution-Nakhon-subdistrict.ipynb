{
 "cells": [
  {
   "cell_type": "markdown",
   "metadata": {},
   "source": [
    "# Breeding Site Distribution of Nakhon-Si-Thammarat in Sub District Level"
   ]
  },
  {
   "cell_type": "code",
   "execution_count": 51,
   "metadata": {},
   "outputs": [
    {
     "data": {
      "text/html": [
       "<style>.container { width:100% !important; }</style>"
      ],
      "text/plain": [
       "<IPython.core.display.HTML object>"
      ]
     },
     "metadata": {},
     "output_type": "display_data"
    },
    {
     "data": {
      "text/html": [
       "<script>requirejs.config({paths: { 'plotly': ['https://cdn.plot.ly/plotly-latest.min']},});if(!window.Plotly) {{require(['plotly'],function(plotly) {window.Plotly=plotly;});}}</script>"
      ],
      "text/vnd.plotly.v1+html": [
       "<script>requirejs.config({paths: { 'plotly': ['https://cdn.plot.ly/plotly-latest.min']},});if(!window.Plotly) {{require(['plotly'],function(plotly) {window.Plotly=plotly;});}}</script>"
      ]
     },
     "metadata": {},
     "output_type": "display_data"
    }
   ],
   "source": [
    "from IPython.core.display import display, HTML\n",
    "display(HTML(\"<style>.container { width:100% !important; }</style>\"))\n",
    "\n",
    "from IPython.core.interactiveshell import InteractiveShell\n",
    "InteractiveShell.ast_node_interactivity = \"all\"\n",
    "\n",
    "from plotly import tools\n",
    "from plotly.graph_objs import *\n",
    "from plotly.offline import download_plotlyjs, init_notebook_mode, plot, iplot\n",
    "init_notebook_mode(connected=True)\n",
    "\n",
    "import plotly.graph_objs as go\n",
    "import matplotlib as mpl\n",
    "import matplotlib.cm as cm\n",
    "import matplotlib.pyplot as plt\n",
    "import numpy as np\n",
    "import pandas as pd\n",
    "import seaborn as sns\n",
    "import os\n",
    "import json\n",
    "import itertools\n",
    "\n",
    "from tqdm import tqdm\n",
    "from copy import deepcopy\n",
    "from scipy.stats.stats import pearsonr, spearmanr\n",
    "from shapely.geometry import Polygon\n",
    "from collections import Counter\n",
    "\n",
    "sns.set(color_codes=True)\n",
    "\n",
    "data_dir = os.path.join('..','..','data')"
   ]
  },
  {
   "cell_type": "markdown",
   "metadata": {},
   "source": [
    "## 0. Helper Function"
   ]
  },
  {
   "cell_type": "code",
   "execution_count": 52,
   "metadata": {},
   "outputs": [],
   "source": [
    "def get_detect(df_detect, addrcode, columns=None):\n",
    "    if columns is None:\n",
    "        detect = round(df_detect.loc[df_detect['addrcode'] == addrcode].mean()['total'], 2)\n",
    "    else:\n",
    "        # Breeding Site Feature\n",
    "        detect = df_detect.loc[df_detect['addrcode'] == addrcode][columns].copy()\n",
    "    return detect\n",
    "\n",
    "def get_area(df_area, addrcode):\n",
    "    area = round(df_area.loc[df_area['addrcode'] == addrcode]['area'].mean(), 2)\n",
    "    return area\n",
    "\n",
    "def get_population(df_population, addrcode):\n",
    "    population = round(df_population.loc[df_population['addrcode'] == addrcode]['population'].mean(), 2)\n",
    "    return population\n",
    "\n",
    "def get_gsv_coverage(df_gsv_coverage, addrcode):\n",
    "    coverage = df_gsv_coverage.loc[df_gsv_coverage['addrcode'] == addrcode]['image_area'].mean()\n",
    "    return coverage\n",
    "\n",
    "def get_dict_info(df_dictionary, addrcode):\n",
    "    dict_info = df_dictionary.loc[df_dictionary['addrcode'] == addrcode]\n",
    "    return dict_info\n",
    "\n",
    "def get_percentage(part, whole):\n",
    "    return 100 * float(part)/float(whole)\n",
    "\n",
    "def get_hectare(area):\n",
    "    return area*111111*0.0001"
   ]
  },
  {
   "cell_type": "markdown",
   "metadata": {},
   "source": [
    "## 1. Load Data"
   ]
  },
  {
   "cell_type": "code",
   "execution_count": 53,
   "metadata": {},
   "outputs": [
    {
     "data": {
      "text/html": [
       "<div>\n",
       "<style scoped>\n",
       "    .dataframe tbody tr th:only-of-type {\n",
       "        vertical-align: middle;\n",
       "    }\n",
       "\n",
       "    .dataframe tbody tr th {\n",
       "        vertical-align: top;\n",
       "    }\n",
       "\n",
       "    .dataframe thead th {\n",
       "        text-align: right;\n",
       "    }\n",
       "</style>\n",
       "<table border=\"1\" class=\"dataframe\">\n",
       "  <thead>\n",
       "    <tr style=\"text-align: right;\">\n",
       "      <th></th>\n",
       "      <th>addrcode</th>\n",
       "      <th>bin</th>\n",
       "      <th>bowl</th>\n",
       "      <th>bucket</th>\n",
       "      <th>cup</th>\n",
       "      <th>jar</th>\n",
       "      <th>pottedplant</th>\n",
       "      <th>tire</th>\n",
       "      <th>vase</th>\n",
       "      <th>total</th>\n",
       "    </tr>\n",
       "    <tr>\n",
       "      <th>date</th>\n",
       "      <th></th>\n",
       "      <th></th>\n",
       "      <th></th>\n",
       "      <th></th>\n",
       "      <th></th>\n",
       "      <th></th>\n",
       "      <th></th>\n",
       "      <th></th>\n",
       "      <th></th>\n",
       "      <th></th>\n",
       "    </tr>\n",
       "  </thead>\n",
       "  <tbody>\n",
       "    <tr>\n",
       "      <th>2011-12-01</th>\n",
       "      <td>103802</td>\n",
       "      <td>270</td>\n",
       "      <td>15</td>\n",
       "      <td>829</td>\n",
       "      <td>9</td>\n",
       "      <td>71</td>\n",
       "      <td>2246</td>\n",
       "      <td>165</td>\n",
       "      <td>4</td>\n",
       "      <td>3609</td>\n",
       "    </tr>\n",
       "  </tbody>\n",
       "</table>\n",
       "</div>"
      ],
      "text/plain": [
       "            addrcode  bin  bowl  bucket  cup  jar  pottedplant  tire  vase  \\\n",
       "date                                                                         \n",
       "2011-12-01    103802  270    15     829    9   71         2246   165     4   \n",
       "\n",
       "            total  \n",
       "date               \n",
       "2011-12-01   3609  "
      ]
     },
     "execution_count": 53,
     "metadata": {},
     "output_type": "execute_result"
    },
    {
     "data": {
      "text/html": [
       "<div>\n",
       "<style scoped>\n",
       "    .dataframe tbody tr th:only-of-type {\n",
       "        vertical-align: middle;\n",
       "    }\n",
       "\n",
       "    .dataframe tbody tr th {\n",
       "        vertical-align: top;\n",
       "    }\n",
       "\n",
       "    .dataframe thead th {\n",
       "        text-align: right;\n",
       "    }\n",
       "</style>\n",
       "<table border=\"1\" class=\"dataframe\">\n",
       "  <thead>\n",
       "    <tr style=\"text-align: right;\">\n",
       "      <th></th>\n",
       "      <th>addrcode</th>\n",
       "      <th>area</th>\n",
       "    </tr>\n",
       "  </thead>\n",
       "  <tbody>\n",
       "    <tr>\n",
       "      <th>0</th>\n",
       "      <td>100101</td>\n",
       "      <td>14.11</td>\n",
       "    </tr>\n",
       "  </tbody>\n",
       "</table>\n",
       "</div>"
      ],
      "text/plain": [
       "   addrcode   area\n",
       "0    100101  14.11"
      ]
     },
     "execution_count": 53,
     "metadata": {},
     "output_type": "execute_result"
    },
    {
     "data": {
      "text/html": [
       "<div>\n",
       "<style scoped>\n",
       "    .dataframe tbody tr th:only-of-type {\n",
       "        vertical-align: middle;\n",
       "    }\n",
       "\n",
       "    .dataframe tbody tr th {\n",
       "        vertical-align: top;\n",
       "    }\n",
       "\n",
       "    .dataframe thead th {\n",
       "        text-align: right;\n",
       "    }\n",
       "</style>\n",
       "<table border=\"1\" class=\"dataframe\">\n",
       "  <thead>\n",
       "    <tr style=\"text-align: right;\">\n",
       "      <th></th>\n",
       "      <th>addrcode</th>\n",
       "      <th>population</th>\n",
       "    </tr>\n",
       "  </thead>\n",
       "  <tbody>\n",
       "    <tr>\n",
       "      <th>0</th>\n",
       "      <td>800101</td>\n",
       "      <td>43678</td>\n",
       "    </tr>\n",
       "  </tbody>\n",
       "</table>\n",
       "</div>"
      ],
      "text/plain": [
       "   addrcode  population\n",
       "0    800101       43678"
      ]
     },
     "execution_count": 53,
     "metadata": {},
     "output_type": "execute_result"
    },
    {
     "data": {
      "text/html": [
       "<div>\n",
       "<style scoped>\n",
       "    .dataframe tbody tr th:only-of-type {\n",
       "        vertical-align: middle;\n",
       "    }\n",
       "\n",
       "    .dataframe tbody tr th {\n",
       "        vertical-align: top;\n",
       "    }\n",
       "\n",
       "    .dataframe thead th {\n",
       "        text-align: right;\n",
       "    }\n",
       "</style>\n",
       "<table border=\"1\" class=\"dataframe\">\n",
       "  <thead>\n",
       "    <tr style=\"text-align: right;\">\n",
       "      <th></th>\n",
       "      <th>addrcode</th>\n",
       "      <th>subdistrict_th</th>\n",
       "      <th>subdistrict_en</th>\n",
       "      <th>district_code</th>\n",
       "      <th>district_th</th>\n",
       "      <th>district_en</th>\n",
       "      <th>province_code</th>\n",
       "      <th>province_th</th>\n",
       "      <th>province_en</th>\n",
       "      <th>LAT</th>\n",
       "      <th>LONG</th>\n",
       "      <th>Population</th>\n",
       "    </tr>\n",
       "  </thead>\n",
       "  <tbody>\n",
       "    <tr>\n",
       "      <th>0</th>\n",
       "      <td>100101</td>\n",
       "      <td>พระบรมมหาราชวัง</td>\n",
       "      <td>Phra Borom Maha Ratchawang</td>\n",
       "      <td>1001</td>\n",
       "      <td>พระนคร</td>\n",
       "      <td>Phra Nakhon</td>\n",
       "      <td>10</td>\n",
       "      <td>กรุงเทพมหานคร</td>\n",
       "      <td>Bangkok</td>\n",
       "      <td>13.751</td>\n",
       "      <td>100.492</td>\n",
       "      <td>4089</td>\n",
       "    </tr>\n",
       "  </tbody>\n",
       "</table>\n",
       "</div>"
      ],
      "text/plain": [
       "   addrcode   subdistrict_th              subdistrict_en  district_code  \\\n",
       "0    100101  พระบรมมหาราชวัง  Phra Borom Maha Ratchawang           1001   \n",
       "\n",
       "  district_th  district_en  province_code    province_th province_en     LAT  \\\n",
       "0      พระนคร  Phra Nakhon             10  กรุงเทพมหานคร     Bangkok  13.751   \n",
       "\n",
       "      LONG  Population  \n",
       "0  100.492        4089  "
      ]
     },
     "execution_count": 53,
     "metadata": {},
     "output_type": "execute_result"
    },
    {
     "data": {
      "text/html": [
       "<div>\n",
       "<style scoped>\n",
       "    .dataframe tbody tr th:only-of-type {\n",
       "        vertical-align: middle;\n",
       "    }\n",
       "\n",
       "    .dataframe tbody tr th {\n",
       "        vertical-align: top;\n",
       "    }\n",
       "\n",
       "    .dataframe thead th {\n",
       "        text-align: right;\n",
       "    }\n",
       "</style>\n",
       "<table border=\"1\" class=\"dataframe\">\n",
       "  <thead>\n",
       "    <tr style=\"text-align: right;\">\n",
       "      <th></th>\n",
       "      <th>addrcode</th>\n",
       "      <th>land_area</th>\n",
       "      <th>image_area</th>\n",
       "    </tr>\n",
       "  </thead>\n",
       "  <tbody>\n",
       "    <tr>\n",
       "      <th>0</th>\n",
       "      <td>100508</td>\n",
       "      <td>212.97</td>\n",
       "      <td>194.85</td>\n",
       "    </tr>\n",
       "  </tbody>\n",
       "</table>\n",
       "</div>"
      ],
      "text/plain": [
       "   addrcode  land_area  image_area\n",
       "0    100508     212.97      194.85"
      ]
     },
     "execution_count": 53,
     "metadata": {},
     "output_type": "execute_result"
    }
   ],
   "source": [
    "# Load Detected Breeding Sites\n",
    "df_detect = pd.read_csv(os.path.join(data_dir,'breeding-sites','csv','addrcode-index','detection.csv')) \n",
    "df_detect['date'] = pd.to_datetime(df_detect['date'], format='%Y-%m')\n",
    "df_detect['addrcode'] = df_detect['addrcode'].astype('int')\n",
    "df_detect = df_detect.set_index('date')\n",
    "df_detect = df_detect.sort_index()\n",
    "\n",
    "df_detect.head(1)\n",
    "# print('Total data points:',len(df_detect))\n",
    "\n",
    "# Area\n",
    "df_area = pd.read_csv(os.path.join(data_dir,'shapefiles','csv','subdistricts-area.csv')) \n",
    "df_area['addrcode'] = df_area['addrcode'].astype('int')\n",
    "df_area.head(1)\n",
    "# print('Total data points:',len(df_area))\n",
    "\n",
    "# Population \n",
    "df_population = pd.read_csv(os.path.join(data_dir,'population','addrcode-index','population.csv')) \n",
    "df_population['addrcode'] = df_population['addrcode'].astype('int')\n",
    "df_population.head(1)\n",
    "# print('Total data points:',len(df_population))\n",
    "\n",
    "df_dictionary = pd.read_csv(os.path.join(data_dir,'shapefiles','csv','addrcode-dictionary.csv')) \n",
    "df_dictionary['addrcode'] = df_dictionary['addrcode'].astype('int')\n",
    "df_dictionary.head(1)\n",
    "\n",
    "df_gsv_coverage = pd.read_csv(os.path.join(data_dir,'shapefiles','csv','gsv-coverage.csv')) \n",
    "df_gsv_coverage['addrcode'] = df_gsv_coverage['addrcode'].astype('int')\n",
    "df_gsv_coverage.head(1)"
   ]
  },
  {
   "cell_type": "code",
   "execution_count": 54,
   "metadata": {},
   "outputs": [
    {
     "data": {
      "text/html": [
       "<div>\n",
       "<style scoped>\n",
       "    .dataframe tbody tr th:only-of-type {\n",
       "        vertical-align: middle;\n",
       "    }\n",
       "\n",
       "    .dataframe tbody tr th {\n",
       "        vertical-align: top;\n",
       "    }\n",
       "\n",
       "    .dataframe thead th {\n",
       "        text-align: right;\n",
       "    }\n",
       "</style>\n",
       "<table border=\"1\" class=\"dataframe\">\n",
       "  <thead>\n",
       "    <tr style=\"text-align: right;\">\n",
       "      <th></th>\n",
       "      <th>District</th>\n",
       "      <th>Subdistrict</th>\n",
       "      <th>Area (ha)</th>\n",
       "      <th>Area of Images (ha)</th>\n",
       "      <th>Population</th>\n",
       "      <th>No. of BS</th>\n",
       "      <th>BS/ha land</th>\n",
       "      <th>BS/ha image</th>\n",
       "      <th>BS/person</th>\n",
       "      <th>Jar (%)</th>\n",
       "      <th>Bucket (%)</th>\n",
       "      <th>Potted plant (%)</th>\n",
       "      <th>Tire (%)</th>\n",
       "      <th>Bin (%)</th>\n",
       "      <th>Bowl (%)</th>\n",
       "      <th>Cup (%)</th>\n",
       "      <th>Vase (%)</th>\n",
       "    </tr>\n",
       "  </thead>\n",
       "  <tbody>\n",
       "    <tr>\n",
       "      <th>0</th>\n",
       "      <td>Tham Phannara</td>\n",
       "      <td>Tham Phannara</td>\n",
       "      <td>5469.11</td>\n",
       "      <td>410.11</td>\n",
       "      <td>7833</td>\n",
       "      <td>439</td>\n",
       "      <td>0.08</td>\n",
       "      <td>1.07</td>\n",
       "      <td>0.06</td>\n",
       "      <td>1.82</td>\n",
       "      <td>42.60</td>\n",
       "      <td>24.37</td>\n",
       "      <td>20.50</td>\n",
       "      <td>9.79</td>\n",
       "      <td>0.68</td>\n",
       "      <td>0.23</td>\n",
       "      <td>0.0</td>\n",
       "    </tr>\n",
       "    <tr>\n",
       "      <th>1</th>\n",
       "      <td>Thung Song</td>\n",
       "      <td>Thi Wang</td>\n",
       "      <td>7999.21</td>\n",
       "      <td>540.22</td>\n",
       "      <td>13912</td>\n",
       "      <td>723</td>\n",
       "      <td>0.09</td>\n",
       "      <td>1.34</td>\n",
       "      <td>0.05</td>\n",
       "      <td>0.55</td>\n",
       "      <td>65.42</td>\n",
       "      <td>20.06</td>\n",
       "      <td>10.37</td>\n",
       "      <td>2.90</td>\n",
       "      <td>0.14</td>\n",
       "      <td>0.55</td>\n",
       "      <td>0.0</td>\n",
       "    </tr>\n",
       "    <tr>\n",
       "      <th>2</th>\n",
       "      <td>Chulabhorn</td>\n",
       "      <td>Khuan Nong Kwa</td>\n",
       "      <td>2758.00</td>\n",
       "      <td>223.44</td>\n",
       "      <td>3311</td>\n",
       "      <td>123</td>\n",
       "      <td>0.04</td>\n",
       "      <td>0.55</td>\n",
       "      <td>0.04</td>\n",
       "      <td>4.07</td>\n",
       "      <td>21.95</td>\n",
       "      <td>58.54</td>\n",
       "      <td>10.57</td>\n",
       "      <td>4.88</td>\n",
       "      <td>0.00</td>\n",
       "      <td>0.00</td>\n",
       "      <td>0.0</td>\n",
       "    </tr>\n",
       "    <tr>\n",
       "      <th>3</th>\n",
       "      <td>Chulabhorn</td>\n",
       "      <td>Sam Tambon</td>\n",
       "      <td>4457.22</td>\n",
       "      <td>166.22</td>\n",
       "      <td>7033</td>\n",
       "      <td>227</td>\n",
       "      <td>0.05</td>\n",
       "      <td>1.37</td>\n",
       "      <td>0.03</td>\n",
       "      <td>0.00</td>\n",
       "      <td>34.36</td>\n",
       "      <td>26.43</td>\n",
       "      <td>26.87</td>\n",
       "      <td>10.57</td>\n",
       "      <td>0.88</td>\n",
       "      <td>0.88</td>\n",
       "      <td>0.0</td>\n",
       "    </tr>\n",
       "    <tr>\n",
       "      <th>4</th>\n",
       "      <td>Cha-uat</td>\n",
       "      <td>Ban Tun</td>\n",
       "      <td>8270.33</td>\n",
       "      <td>657.11</td>\n",
       "      <td>7133</td>\n",
       "      <td>340</td>\n",
       "      <td>0.04</td>\n",
       "      <td>0.52</td>\n",
       "      <td>0.05</td>\n",
       "      <td>2.65</td>\n",
       "      <td>50.00</td>\n",
       "      <td>35.88</td>\n",
       "      <td>9.41</td>\n",
       "      <td>1.18</td>\n",
       "      <td>0.29</td>\n",
       "      <td>0.59</td>\n",
       "      <td>0.0</td>\n",
       "    </tr>\n",
       "  </tbody>\n",
       "</table>\n",
       "</div>"
      ],
      "text/plain": [
       "        District     Subdistrict  Area (ha)  Area of Images (ha)  Population  \\\n",
       "0  Tham Phannara   Tham Phannara    5469.11               410.11        7833   \n",
       "1     Thung Song        Thi Wang    7999.21               540.22       13912   \n",
       "2     Chulabhorn  Khuan Nong Kwa    2758.00               223.44        3311   \n",
       "3     Chulabhorn      Sam Tambon    4457.22               166.22        7033   \n",
       "4        Cha-uat         Ban Tun    8270.33               657.11        7133   \n",
       "\n",
       "   No. of BS  BS/ha land  BS/ha image  BS/person  Jar (%)  Bucket (%)  \\\n",
       "0        439        0.08         1.07       0.06     1.82       42.60   \n",
       "1        723        0.09         1.34       0.05     0.55       65.42   \n",
       "2        123        0.04         0.55       0.04     4.07       21.95   \n",
       "3        227        0.05         1.37       0.03     0.00       34.36   \n",
       "4        340        0.04         0.52       0.05     2.65       50.00   \n",
       "\n",
       "   Potted plant (%)  Tire (%)  Bin (%)  Bowl (%)  Cup (%)  Vase (%)  \n",
       "0             24.37     20.50     9.79      0.68     0.23       0.0  \n",
       "1             20.06     10.37     2.90      0.14     0.55       0.0  \n",
       "2             58.54     10.57     4.88      0.00     0.00       0.0  \n",
       "3             26.43     26.87    10.57      0.88     0.88       0.0  \n",
       "4             35.88      9.41     1.18      0.29     0.59       0.0  "
      ]
     },
     "execution_count": 54,
     "metadata": {},
     "output_type": "execute_result"
    }
   ],
   "source": [
    "brd_sites=['bin','bowl','bucket','cup','jar','pottedplant','tire','vase']\n",
    "distribution_entry = []\n",
    "p = 0\n",
    "for addrcode in df_detect['addrcode'].unique():\n",
    "    \n",
    "    if str(addrcode)[:2] == '80':\n",
    "        \n",
    "        dict_info = get_dict_info(df_dictionary, addrcode)\n",
    "        district = get_dict_info(df_dictionary, addrcode).iloc[0]['district_en']\n",
    "        subdist = get_dict_info(df_dictionary, addrcode).iloc[0]['subdistrict_en']\n",
    "        land_area = get_hectare(get_area(df_area, addrcode))\n",
    "        image_area =  get_hectare(get_gsv_coverage(df_gsv_coverage, addrcode))\n",
    "        population = get_population(df_population, addrcode)\n",
    "        bs_total = get_detect(df_detect, addrcode)\n",
    "        bs_classes = get_detect(df_detect, addrcode, brd_sites)\n",
    "\n",
    "        distribution_entry.append([\n",
    "            district,\n",
    "            subdist,\n",
    "            land_area,\n",
    "            image_area,\n",
    "            population,\n",
    "            bs_total,\n",
    "            bs_total/land_area,\n",
    "            bs_total/image_area,\n",
    "            bs_total/population,\n",
    "            get_percentage(bs_classes.jar, bs_total),\n",
    "            get_percentage(bs_classes.bucket, bs_total),\n",
    "            get_percentage(bs_classes.pottedplant, bs_total),\n",
    "            get_percentage(bs_classes.tire, bs_total),\n",
    "            get_percentage(bs_classes.bin, bs_total),\n",
    "            get_percentage(bs_classes.bowl, bs_total),\n",
    "            get_percentage(bs_classes.cup, bs_total),\n",
    "            get_percentage(bs_classes.vase, bs_total)\n",
    "        ])\n",
    "        \n",
    "df_distribution = pd.DataFrame.from_records(\n",
    "    distribution_entry, \n",
    "    columns=[\n",
    "        'District',\n",
    "        'Subdistrict',\n",
    "        'Area (ha)',\n",
    "        'Area of Images (ha)',\n",
    "        'Population',\n",
    "        'No. of BS',\n",
    "        'BS/ha land',\n",
    "        'BS/ha image',\n",
    "        'BS/person',\n",
    "        'Jar (%)',\n",
    "        'Bucket (%)',\n",
    "        'Potted plant (%)',\n",
    "        'Tire (%)',\n",
    "        'Bin (%)',\n",
    "        'Bowl (%)',\n",
    "        'Cup (%)',\n",
    "        'Vase (%)'\n",
    "    ])\n",
    "df_distribution = df_distribution.round(2)\n",
    "df_distribution[['No. of BS','Population']] = df_distribution[['No. of BS','Population']].astype(int)\n",
    "df_distribution.head()\n",
    "df_distribution.to_csv('Nakhon-subdist.csv')"
   ]
  },
  {
   "cell_type": "markdown",
   "metadata": {},
   "source": [
    "## 2. Statistics"
   ]
  },
  {
   "cell_type": "code",
   "execution_count": 55,
   "metadata": {},
   "outputs": [
    {
     "data": {
      "text/html": [
       "<div>\n",
       "<style scoped>\n",
       "    .dataframe tbody tr th:only-of-type {\n",
       "        vertical-align: middle;\n",
       "    }\n",
       "\n",
       "    .dataframe tbody tr th {\n",
       "        vertical-align: top;\n",
       "    }\n",
       "\n",
       "    .dataframe thead th {\n",
       "        text-align: right;\n",
       "    }\n",
       "</style>\n",
       "<table border=\"1\" class=\"dataframe\">\n",
       "  <thead>\n",
       "    <tr style=\"text-align: right;\">\n",
       "      <th></th>\n",
       "      <th>Area (ha)</th>\n",
       "      <th>Area of Images (ha)</th>\n",
       "      <th>Population</th>\n",
       "      <th>No. of BS</th>\n",
       "      <th>BS/ha land</th>\n",
       "      <th>BS/ha image</th>\n",
       "      <th>BS/person</th>\n",
       "      <th>Jar (%)</th>\n",
       "      <th>Bucket (%)</th>\n",
       "      <th>Potted plant (%)</th>\n",
       "      <th>Tire (%)</th>\n",
       "      <th>Bin (%)</th>\n",
       "      <th>Bowl (%)</th>\n",
       "      <th>Cup (%)</th>\n",
       "      <th>Vase (%)</th>\n",
       "    </tr>\n",
       "  </thead>\n",
       "  <tbody>\n",
       "    <tr>\n",
       "      <th>count</th>\n",
       "      <td>167.00</td>\n",
       "      <td>167.00</td>\n",
       "      <td>167.00</td>\n",
       "      <td>167.00</td>\n",
       "      <td>167.00</td>\n",
       "      <td>167.00</td>\n",
       "      <td>167.00</td>\n",
       "      <td>167.00</td>\n",
       "      <td>167.00</td>\n",
       "      <td>167.00</td>\n",
       "      <td>167.00</td>\n",
       "      <td>167.00</td>\n",
       "      <td>167.00</td>\n",
       "      <td>167.00</td>\n",
       "      <td>167.00</td>\n",
       "    </tr>\n",
       "    <tr>\n",
       "      <th>mean</th>\n",
       "      <td>5897.67</td>\n",
       "      <td>481.76</td>\n",
       "      <td>9281.75</td>\n",
       "      <td>506.64</td>\n",
       "      <td>0.20</td>\n",
       "      <td>1.08</td>\n",
       "      <td>0.06</td>\n",
       "      <td>3.19</td>\n",
       "      <td>41.00</td>\n",
       "      <td>34.62</td>\n",
       "      <td>10.27</td>\n",
       "      <td>9.58</td>\n",
       "      <td>0.58</td>\n",
       "      <td>0.66</td>\n",
       "      <td>0.10</td>\n",
       "    </tr>\n",
       "    <tr>\n",
       "      <th>std</th>\n",
       "      <td>4860.62</td>\n",
       "      <td>257.34</td>\n",
       "      <td>6545.12</td>\n",
       "      <td>432.66</td>\n",
       "      <td>0.60</td>\n",
       "      <td>0.78</td>\n",
       "      <td>0.04</td>\n",
       "      <td>3.31</td>\n",
       "      <td>15.12</td>\n",
       "      <td>12.30</td>\n",
       "      <td>6.35</td>\n",
       "      <td>8.72</td>\n",
       "      <td>0.54</td>\n",
       "      <td>0.55</td>\n",
       "      <td>0.18</td>\n",
       "    </tr>\n",
       "    <tr>\n",
       "      <th>min</th>\n",
       "      <td>228.56</td>\n",
       "      <td>73.67</td>\n",
       "      <td>885.00</td>\n",
       "      <td>2.00</td>\n",
       "      <td>0.00</td>\n",
       "      <td>0.01</td>\n",
       "      <td>0.00</td>\n",
       "      <td>0.00</td>\n",
       "      <td>0.00</td>\n",
       "      <td>0.00</td>\n",
       "      <td>0.00</td>\n",
       "      <td>0.00</td>\n",
       "      <td>0.00</td>\n",
       "      <td>0.00</td>\n",
       "      <td>0.00</td>\n",
       "    </tr>\n",
       "    <tr>\n",
       "      <th>25%</th>\n",
       "      <td>2768.94</td>\n",
       "      <td>307.39</td>\n",
       "      <td>5630.00</td>\n",
       "      <td>214.00</td>\n",
       "      <td>0.04</td>\n",
       "      <td>0.54</td>\n",
       "      <td>0.03</td>\n",
       "      <td>1.04</td>\n",
       "      <td>30.44</td>\n",
       "      <td>26.26</td>\n",
       "      <td>6.28</td>\n",
       "      <td>2.77</td>\n",
       "      <td>0.19</td>\n",
       "      <td>0.30</td>\n",
       "      <td>0.00</td>\n",
       "    </tr>\n",
       "    <tr>\n",
       "      <th>50%</th>\n",
       "      <td>4748.00</td>\n",
       "      <td>428.11</td>\n",
       "      <td>7821.00</td>\n",
       "      <td>426.00</td>\n",
       "      <td>0.08</td>\n",
       "      <td>0.91</td>\n",
       "      <td>0.05</td>\n",
       "      <td>1.90</td>\n",
       "      <td>37.27</td>\n",
       "      <td>31.78</td>\n",
       "      <td>8.73</td>\n",
       "      <td>7.02</td>\n",
       "      <td>0.51</td>\n",
       "      <td>0.56</td>\n",
       "      <td>0.00</td>\n",
       "    </tr>\n",
       "    <tr>\n",
       "      <th>75%</th>\n",
       "      <td>7959.77</td>\n",
       "      <td>646.50</td>\n",
       "      <td>11036.00</td>\n",
       "      <td>623.00</td>\n",
       "      <td>0.14</td>\n",
       "      <td>1.37</td>\n",
       "      <td>0.07</td>\n",
       "      <td>4.14</td>\n",
       "      <td>51.17</td>\n",
       "      <td>41.60</td>\n",
       "      <td>12.77</td>\n",
       "      <td>13.98</td>\n",
       "      <td>0.80</td>\n",
       "      <td>0.96</td>\n",
       "      <td>0.14</td>\n",
       "    </tr>\n",
       "    <tr>\n",
       "      <th>max</th>\n",
       "      <td>43399.62</td>\n",
       "      <td>1687.44</td>\n",
       "      <td>43678.00</td>\n",
       "      <td>2851.00</td>\n",
       "      <td>6.06</td>\n",
       "      <td>5.31</td>\n",
       "      <td>0.24</td>\n",
       "      <td>15.25</td>\n",
       "      <td>86.67</td>\n",
       "      <td>75.00</td>\n",
       "      <td>50.00</td>\n",
       "      <td>50.00</td>\n",
       "      <td>3.28</td>\n",
       "      <td>3.28</td>\n",
       "      <td>0.88</td>\n",
       "    </tr>\n",
       "  </tbody>\n",
       "</table>\n",
       "</div>"
      ],
      "text/plain": [
       "       Area (ha)  Area of Images (ha)  Population  No. of BS  BS/ha land  \\\n",
       "count     167.00               167.00      167.00     167.00      167.00   \n",
       "mean     5897.67               481.76     9281.75     506.64        0.20   \n",
       "std      4860.62               257.34     6545.12     432.66        0.60   \n",
       "min       228.56                73.67      885.00       2.00        0.00   \n",
       "25%      2768.94               307.39     5630.00     214.00        0.04   \n",
       "50%      4748.00               428.11     7821.00     426.00        0.08   \n",
       "75%      7959.77               646.50    11036.00     623.00        0.14   \n",
       "max     43399.62              1687.44    43678.00    2851.00        6.06   \n",
       "\n",
       "       BS/ha image  BS/person  Jar (%)  Bucket (%)  Potted plant (%)  \\\n",
       "count       167.00     167.00   167.00      167.00            167.00   \n",
       "mean          1.08       0.06     3.19       41.00             34.62   \n",
       "std           0.78       0.04     3.31       15.12             12.30   \n",
       "min           0.01       0.00     0.00        0.00              0.00   \n",
       "25%           0.54       0.03     1.04       30.44             26.26   \n",
       "50%           0.91       0.05     1.90       37.27             31.78   \n",
       "75%           1.37       0.07     4.14       51.17             41.60   \n",
       "max           5.31       0.24    15.25       86.67             75.00   \n",
       "\n",
       "       Tire (%)  Bin (%)  Bowl (%)  Cup (%)  Vase (%)  \n",
       "count    167.00   167.00    167.00   167.00    167.00  \n",
       "mean      10.27     9.58      0.58     0.66      0.10  \n",
       "std        6.35     8.72      0.54     0.55      0.18  \n",
       "min        0.00     0.00      0.00     0.00      0.00  \n",
       "25%        6.28     2.77      0.19     0.30      0.00  \n",
       "50%        8.73     7.02      0.51     0.56      0.00  \n",
       "75%       12.77    13.98      0.80     0.96      0.14  \n",
       "max       50.00    50.00      3.28     3.28      0.88  "
      ]
     },
     "execution_count": 55,
     "metadata": {},
     "output_type": "execute_result"
    }
   ],
   "source": [
    "df_distribution.describe().round(2)\n",
    "df_distribution.describe().round(2).to_csv('Nakhon-subdist-stat.csv')"
   ]
  },
  {
   "cell_type": "markdown",
   "metadata": {},
   "source": [
    "## 3. Boxplot"
   ]
  },
  {
   "cell_type": "code",
   "execution_count": 56,
   "metadata": {},
   "outputs": [
    {
     "data": {
      "text/plain": [
       "<matplotlib.figure.Figure at 0x7f6932a9c898>"
      ]
     },
     "execution_count": 56,
     "metadata": {},
     "output_type": "execute_result"
    },
    {
     "data": {
      "text/plain": [
       "<matplotlib.axes._subplots.AxesSubplot at 0x7f6932a960b8>"
      ]
     },
     "execution_count": 56,
     "metadata": {},
     "output_type": "execute_result"
    },
    {
     "data": {
      "image/png": "[encoded data removed]",
      "text/plain": [
       "<matplotlib.figure.Figure at 0x7f6932a9c898>"
      ]
     },
     "metadata": {},
     "output_type": "display_data"
    }
   ],
   "source": [
    "sns.set()\n",
    "plt.figure(figsize=(12,4))\n",
    "plt.style.use(['seaborn-notebook'])\n",
    "sns.boxplot(df_distribution['BS/ha land'])"
   ]
  },
  {
   "cell_type": "code",
   "execution_count": 57,
   "metadata": {},
   "outputs": [
    {
     "data": {
      "text/plain": [
       "<matplotlib.figure.Figure at 0x7f6932a86b38>"
      ]
     },
     "execution_count": 57,
     "metadata": {},
     "output_type": "execute_result"
    },
    {
     "data": {
      "text/plain": [
       "<matplotlib.axes._subplots.AxesSubplot at 0x7f6938e149e8>"
      ]
     },
     "execution_count": 57,
     "metadata": {},
     "output_type": "execute_result"
    },
    {
     "data": {
      "image/png": "[encoded data removed]",
      "text/plain": [
       "<matplotlib.figure.Figure at 0x7f6932a86b38>"
      ]
     },
     "metadata": {},
     "output_type": "display_data"
    }
   ],
   "source": [
    "plt.figure(figsize=(12,4))\n",
    "sns.boxplot(df_distribution['BS/ha image'])"
   ]
  },
  {
   "cell_type": "code",
   "execution_count": 58,
   "metadata": {},
   "outputs": [
    {
     "data": {
      "text/plain": [
       "<matplotlib.figure.Figure at 0x7f6932aa6358>"
      ]
     },
     "execution_count": 58,
     "metadata": {},
     "output_type": "execute_result"
    },
    {
     "data": {
      "text/plain": [
       "<matplotlib.axes._subplots.AxesSubplot at 0x7f6932a42630>"
      ]
     },
     "execution_count": 58,
     "metadata": {},
     "output_type": "execute_result"
    },
    {
     "data": {
      "image/png": "[encoded data removed]",
      "text/plain": [
       "<matplotlib.figure.Figure at 0x7f6932aa6358>"
      ]
     },
     "metadata": {},
     "output_type": "display_data"
    }
   ],
   "source": [
    "plt.figure(figsize=(12,4))\n",
    "sns.boxplot(df_distribution['BS/person'])"
   ]
  },
  {
   "cell_type": "markdown",
   "metadata": {},
   "source": [
    "## 4. Distribution Plot"
   ]
  },
  {
   "cell_type": "code",
   "execution_count": 64,
   "metadata": {},
   "outputs": [
    {
     "data": {
      "text/plain": [
       "<matplotlib.figure.Figure at 0x7f693292d630>"
      ]
     },
     "execution_count": 64,
     "metadata": {},
     "output_type": "execute_result"
    },
    {
     "data": {
      "text/plain": [
       "Text(0.5,1,'Nakhon-Subdistricts')"
      ]
     },
     "execution_count": 64,
     "metadata": {},
     "output_type": "execute_result"
    },
    {
     "data": {
      "text/plain": [
       "<matplotlib.axes._subplots.AxesSubplot at 0x7f693292d828>"
      ]
     },
     "execution_count": 64,
     "metadata": {},
     "output_type": "execute_result"
    },
    {
     "data": {
      "text/plain": [
       "<matplotlib.axes._subplots.AxesSubplot at 0x7f693292d828>"
      ]
     },
     "execution_count": 64,
     "metadata": {},
     "output_type": "execute_result"
    },
    {
     "data": {
      "text/plain": [
       "<matplotlib.axes._subplots.AxesSubplot at 0x7f693292d828>"
      ]
     },
     "execution_count": 64,
     "metadata": {},
     "output_type": "execute_result"
    },
    {
     "data": {
      "text/plain": [
       "<matplotlib.axes._subplots.AxesSubplot at 0x7f693292d828>"
      ]
     },
     "execution_count": 64,
     "metadata": {},
     "output_type": "execute_result"
    },
    {
     "data": {
      "text/plain": [
       "<matplotlib.axes._subplots.AxesSubplot at 0x7f693292d828>"
      ]
     },
     "execution_count": 64,
     "metadata": {},
     "output_type": "execute_result"
    },
    {
     "data": {
      "text/plain": [
       "<matplotlib.legend.Legend at 0x7f69328d97b8>"
      ]
     },
     "execution_count": 64,
     "metadata": {},
     "output_type": "execute_result"
    },
    {
     "data": {
      "image/png": "[encoded data removed]",
      "text/plain": [
       "<matplotlib.figure.Figure at 0x7f693292d630>"
      ]
     },
     "metadata": {},
     "output_type": "display_data"
    }
   ],
   "source": [
    "sns.set(font_scale=1.5)\n",
    "plt.figure(figsize=(12,6))\n",
    "plt.title('Nakhon-Subdistricts')\n",
    "sns.distplot(df_distribution['Bin (%)'], label=\"Bin (%)\", axlabel='Percentage (%)')\n",
    "sns.distplot(df_distribution['Bucket (%)'], label=\"Bucket (%)\", axlabel='Percentage (%)')\n",
    "sns.distplot(df_distribution['Potted plant (%)'], label=\"Potted plant (%)\", axlabel='Percentage (%)')\n",
    "sns.distplot(df_distribution['Tire (%)'], label=\"Tire (%)\", axlabel='Percentage (%)')\n",
    "sns.distplot(df_distribution[['Jar (%)']], label=\"Jar (%)\", axlabel='Percentage (%)')\n",
    "plt.legend()\n"
   ]
  },
  {
   "cell_type": "code",
   "execution_count": 63,
   "metadata": {},
   "outputs": [
    {
     "data": {
      "text/plain": [
       "<matplotlib.figure.Figure at 0x7f6932916400>"
      ]
     },
     "execution_count": 63,
     "metadata": {},
     "output_type": "execute_result"
    },
    {
     "data": {
      "text/plain": [
       "Text(0.5,1,'Nakhon-Subdistricts')"
      ]
     },
     "execution_count": 63,
     "metadata": {},
     "output_type": "execute_result"
    },
    {
     "data": {
      "text/plain": [
       "<matplotlib.axes._subplots.AxesSubplot at 0x7f6932916588>"
      ]
     },
     "execution_count": 63,
     "metadata": {},
     "output_type": "execute_result"
    },
    {
     "data": {
      "text/plain": [
       "<matplotlib.axes._subplots.AxesSubplot at 0x7f6932916588>"
      ]
     },
     "execution_count": 63,
     "metadata": {},
     "output_type": "execute_result"
    },
    {
     "data": {
      "text/plain": [
       "<matplotlib.legend.Legend at 0x7f6932a63710>"
      ]
     },
     "execution_count": 63,
     "metadata": {},
     "output_type": "execute_result"
    },
    {
     "data": {
      "image/png": "[encoded data removed]",
      "text/plain": [
       "<matplotlib.figure.Figure at 0x7f6932916400>"
      ]
     },
     "metadata": {},
     "output_type": "display_data"
    }
   ],
   "source": [
    "sns.set(font_scale=1.5)\n",
    "plt.figure(figsize=(12,6))\n",
    "plt.title('Nakhon-Subdistricts')\n",
    "sns.distplot(df_distribution['Cup (%)'], label=\"Cup (%)\", axlabel='Percentage (%)')\n",
    "sns.distplot(df_distribution['Bowl (%)'], label=\"Bowl (%)\", axlabel='Percentage (%)')\n",
    "plt.legend()"
   ]
  },
  {
   "cell_type": "code",
   "execution_count": 62,
   "metadata": {},
   "outputs": [
    {
     "data": {
      "text/plain": [
       "<matplotlib.figure.Figure at 0x7f693295b080>"
      ]
     },
     "execution_count": 62,
     "metadata": {},
     "output_type": "execute_result"
    },
    {
     "data": {
      "text/plain": [
       "Text(0.5,1,'Nakhon-Subdistricts')"
      ]
     },
     "execution_count": 62,
     "metadata": {},
     "output_type": "execute_result"
    },
    {
     "data": {
      "text/plain": [
       "<matplotlib.axes._subplots.AxesSubplot at 0x7f693295b208>"
      ]
     },
     "execution_count": 62,
     "metadata": {},
     "output_type": "execute_result"
    },
    {
     "data": {
      "text/plain": [
       "<matplotlib.legend.Legend at 0x7f6932a4fe80>"
      ]
     },
     "execution_count": 62,
     "metadata": {},
     "output_type": "execute_result"
    },
    {
     "data": {
      "image/png": "[encoded data removed]",
      "text/plain": [
       "<matplotlib.figure.Figure at 0x7f693295b080>"
      ]
     },
     "metadata": {},
     "output_type": "display_data"
    }
   ],
   "source": [
    "sns.set(font_scale=1.5)\n",
    "plt.figure(figsize=(12,6))\n",
    "plt.title('Nakhon-Subdistricts')\n",
    "sns.distplot(df_distribution['Vase (%)'], label=\"Vase (%)\", axlabel='Percentage (%)')\n",
    "plt.legend()"
   ]
  },
  {
   "cell_type": "code",
   "execution_count": null,
   "metadata": {},
   "outputs": [],
   "source": []
  }
 ],
 "metadata": {
  "kernelspec": {
   "display_name": "Python 3",
   "language": "python",
   "name": "python3"
  },
  "language_info": {
   "codemirror_mode": {
    "name": "ipython",
    "version": 3
   },
   "file_extension": ".py",
   "mimetype": "text/x-python",
   "name": "python",
   "nbconvert_exporter": "python",
   "pygments_lexer": "ipython3",
   "version": "3.5.2"
  }
 },
 "nbformat": 4,
 "nbformat_minor": 2
}
