{
 "cells": [
  {
   "cell_type": "code",
   "execution_count": 1,
   "metadata": {},
   "outputs": [
    {
     "data": {
      "text/html": [
       "<div>\n",
       "<style scoped>\n",
       "    .dataframe tbody tr th:only-of-type {\n",
       "        vertical-align: middle;\n",
       "    }\n",
       "\n",
       "    .dataframe tbody tr th {\n",
       "        vertical-align: top;\n",
       "    }\n",
       "\n",
       "    .dataframe thead th {\n",
       "        text-align: right;\n",
       "    }\n",
       "</style>\n",
       "<table border=\"1\" class=\"dataframe\">\n",
       "  <thead>\n",
       "    <tr style=\"text-align: right;\">\n",
       "      <th></th>\n",
       "      <th>date</th>\n",
       "      <th>province</th>\n",
       "      <th>district</th>\n",
       "      <th>subdist</th>\n",
       "      <th>village</th>\n",
       "      <th>hi</th>\n",
       "      <th>ci</th>\n",
       "      <th>bi</th>\n",
       "      <th>province_en</th>\n",
       "      <th>district_en</th>\n",
       "      <th>subdist_en</th>\n",
       "    </tr>\n",
       "  </thead>\n",
       "  <tbody>\n",
       "    <tr>\n",
       "      <th>0</th>\n",
       "      <td>2017-6</td>\n",
       "      <td>กระบี่</td>\n",
       "      <td>คลองท่อม</td>\n",
       "      <td>ห้วยน้ำขาว</td>\n",
       "      <td>ห้วยน้ำขาว</td>\n",
       "      <td>22.5</td>\n",
       "      <td>6.47</td>\n",
       "      <td>22.5</td>\n",
       "      <td>Krabi</td>\n",
       "      <td>Khlong Thom</td>\n",
       "      <td>Huai Nam Khao</td>\n",
       "    </tr>\n",
       "    <tr>\n",
       "      <th>1</th>\n",
       "      <td>2017-6</td>\n",
       "      <td>กระบี่</td>\n",
       "      <td>คลองท่อม</td>\n",
       "      <td>ห้วยน้ำขาว</td>\n",
       "      <td>น้ำร้อน</td>\n",
       "      <td>15.0</td>\n",
       "      <td>4.52</td>\n",
       "      <td>17.5</td>\n",
       "      <td>Krabi</td>\n",
       "      <td>Khlong Thom</td>\n",
       "      <td>Huai Nam Khao</td>\n",
       "    </tr>\n",
       "    <tr>\n",
       "      <th>2</th>\n",
       "      <td>2017-6</td>\n",
       "      <td>นครศรีธรรมราช</td>\n",
       "      <td>ฉวาง</td>\n",
       "      <td>ห้วยปริก</td>\n",
       "      <td>ปากกา</td>\n",
       "      <td>17.0</td>\n",
       "      <td>3.18</td>\n",
       "      <td>17.0</td>\n",
       "      <td>Nakhon Si Thammarat</td>\n",
       "      <td>Chawang</td>\n",
       "      <td>Huai Prik</td>\n",
       "    </tr>\n",
       "    <tr>\n",
       "      <th>3</th>\n",
       "      <td>2017-6</td>\n",
       "      <td>นครศรีธรรมราช</td>\n",
       "      <td>ทุ่งสง</td>\n",
       "      <td>ควนกรด</td>\n",
       "      <td>หนองเสม็ด</td>\n",
       "      <td>25.0</td>\n",
       "      <td>4.51</td>\n",
       "      <td>27.5</td>\n",
       "      <td>Nakhon Si Thammarat</td>\n",
       "      <td>Thung Song</td>\n",
       "      <td>Khuan Krot</td>\n",
       "    </tr>\n",
       "    <tr>\n",
       "      <th>4</th>\n",
       "      <td>2017-6</td>\n",
       "      <td>นครศรีธรรมราช</td>\n",
       "      <td>ทุ่งสง</td>\n",
       "      <td>นาโพธิ์</td>\n",
       "      <td>เกาะปราง</td>\n",
       "      <td>15.0</td>\n",
       "      <td>8.95</td>\n",
       "      <td>42.5</td>\n",
       "      <td>Nakhon Si Thammarat</td>\n",
       "      <td>Thung Song</td>\n",
       "      <td>Na Pho</td>\n",
       "    </tr>\n",
       "  </tbody>\n",
       "</table>\n",
       "</div>"
      ],
      "text/plain": [
       "     date       province  district     subdist     village    hi    ci    bi  \\\n",
       "0  2017-6         กระบี่  คลองท่อม  ห้วยน้ำขาว  ห้วยน้ำขาว  22.5  6.47  22.5   \n",
       "1  2017-6         กระบี่  คลองท่อม  ห้วยน้ำขาว     น้ำร้อน  15.0  4.52  17.5   \n",
       "2  2017-6  นครศรีธรรมราช      ฉวาง    ห้วยปริก       ปากกา  17.0  3.18  17.0   \n",
       "3  2017-6  นครศรีธรรมราช    ทุ่งสง      ควนกรด   หนองเสม็ด  25.0  4.51  27.5   \n",
       "4  2017-6  นครศรีธรรมราช    ทุ่งสง     นาโพธิ์    เกาะปราง  15.0  8.95  42.5   \n",
       "\n",
       "           province_en  district_en     subdist_en  \n",
       "0                Krabi  Khlong Thom  Huai Nam Khao  \n",
       "1                Krabi  Khlong Thom  Huai Nam Khao  \n",
       "2  Nakhon Si Thammarat      Chawang      Huai Prik  \n",
       "3  Nakhon Si Thammarat   Thung Song     Khuan Krot  \n",
       "4  Nakhon Si Thammarat   Thung Song         Na Pho  "
      ]
     },
     "execution_count": 1,
     "metadata": {},
     "output_type": "execute_result"
    }
   ],
   "source": [
    "import os\n",
    "import json\n",
    "import pandas as pd\n",
    "from tqdm import tqdm_notebook\n",
    "\n",
    "df_larval = pd.read_csv(os.path.join('..', 'data', 'breeding-sites', 'larval-survey-en.csv'))\n",
    "df_larval.head()"
   ]
  },
  {
   "cell_type": "markdown",
   "metadata": {},
   "source": [
    "## Shapefile"
   ]
  },
  {
   "cell_type": "code",
   "execution_count": 2,
   "metadata": {},
   "outputs": [],
   "source": [
    "with open(os.path.join('..', 'data','shapefiles','Nakhon-Si-Thammarat.geojson')) as f:\n",
    "    data = json.load(f)"
   ]
  },
  {
   "cell_type": "code",
   "execution_count": 3,
   "metadata": {},
   "outputs": [],
   "source": [
    "for i, feature in enumerate(data['features']):\n",
    "    prop = feature['properties']\n",
    "\n",
    "    province = prop['PV_TN']\n",
    "    district = prop['AP_TN']\n",
    "    subdist = prop['TB_TN']\n",
    "    \n",
    "    df_tmp = df_larval.loc[(df_larval['province'] == province) & \n",
    "                       (df_larval['district'] == district)]\n",
    "    province_en, district_en = df_tmp[['province_en','district_en']].values[0]\n",
    "    \n",
    "    prop['PV_EN'] = province_en\n",
    "    prop['AP_EN'] = district_en"
   ]
  },
  {
   "cell_type": "code",
   "execution_count": 4,
   "metadata": {},
   "outputs": [
    {
     "data": {
      "text/plain": [
       "{'AP_EN': 'Mueang Nakhon Si Thammarat',\n",
       " 'AP_IDN': '8001',\n",
       " 'AP_TN': 'เมืองนครศรีธรรมราช',\n",
       " 'PV_EN': 'Nakhon Si Thammarat',\n",
       " 'PV_IDN': '80',\n",
       " 'PV_TN': 'นครศรีธรรมราช',\n",
       " 'TB_EN': 'Pak Phun',\n",
       " 'TB_IDN': '800120',\n",
       " 'TB_TN': 'ปากพูน'}"
      ]
     },
     "execution_count": 4,
     "metadata": {},
     "output_type": "execute_result"
    }
   ],
   "source": [
    "data['features'][2]['properties']"
   ]
  },
  {
   "cell_type": "code",
   "execution_count": 5,
   "metadata": {},
   "outputs": [],
   "source": [
    "with open(os.path.join('..', 'data', 'shapefiles', 'Nakhon-Si-Thammarat-en.geojson'), 'w') as FILE:\n",
    "    json.dump(data, FILE, indent=4, ensure_ascii=False, sort_keys=True)"
   ]
  },
  {
   "cell_type": "markdown",
   "metadata": {},
   "source": [
    "## Dictonary file"
   ]
  },
  {
   "cell_type": "code",
   "execution_count": 6,
   "metadata": {},
   "outputs": [
    {
     "data": {
      "text/html": [
       "<div>\n",
       "<style scoped>\n",
       "    .dataframe tbody tr th:only-of-type {\n",
       "        vertical-align: middle;\n",
       "    }\n",
       "\n",
       "    .dataframe tbody tr th {\n",
       "        vertical-align: top;\n",
       "    }\n",
       "\n",
       "    .dataframe thead th {\n",
       "        text-align: right;\n",
       "    }\n",
       "</style>\n",
       "<table border=\"1\" class=\"dataframe\">\n",
       "  <thead>\n",
       "    <tr style=\"text-align: right;\">\n",
       "      <th></th>\n",
       "      <th>province_th</th>\n",
       "      <th>district_th</th>\n",
       "      <th>subdist_th</th>\n",
       "      <th>province_en</th>\n",
       "      <th>district_en</th>\n",
       "      <th>subdist_en</th>\n",
       "    </tr>\n",
       "  </thead>\n",
       "  <tbody>\n",
       "    <tr>\n",
       "      <th>0</th>\n",
       "      <td>นครศรีธรรมราช</td>\n",
       "      <td>พรหมคีรี</td>\n",
       "      <td>ทอนหงส์</td>\n",
       "      <td>Nakhon Si Thammarat</td>\n",
       "      <td>Phrom Khiri</td>\n",
       "      <td>Thon Hong</td>\n",
       "    </tr>\n",
       "    <tr>\n",
       "      <th>1</th>\n",
       "      <td>นครศรีธรรมราช</td>\n",
       "      <td>ท่าศาลา</td>\n",
       "      <td>โมคลาน</td>\n",
       "      <td>Nakhon Si Thammarat</td>\n",
       "      <td>Tha Sala</td>\n",
       "      <td>Mo Khlan</td>\n",
       "    </tr>\n",
       "    <tr>\n",
       "      <th>2</th>\n",
       "      <td>นครศรีธรรมราช</td>\n",
       "      <td>เมืองนครศรีธรรมราช</td>\n",
       "      <td>ปากพูน</td>\n",
       "      <td>Nakhon Si Thammarat</td>\n",
       "      <td>Mueang Nakhon Si Thammarat</td>\n",
       "      <td>Pak Phun</td>\n",
       "    </tr>\n",
       "    <tr>\n",
       "      <th>3</th>\n",
       "      <td>นครศรีธรรมราช</td>\n",
       "      <td>พิปูน</td>\n",
       "      <td>พิปูน</td>\n",
       "      <td>Nakhon Si Thammarat</td>\n",
       "      <td>Phipun</td>\n",
       "      <td>Phipun</td>\n",
       "    </tr>\n",
       "    <tr>\n",
       "      <th>4</th>\n",
       "      <td>นครศรีธรรมราช</td>\n",
       "      <td>ท่าศาลา</td>\n",
       "      <td>ดอนตะโก</td>\n",
       "      <td>Nakhon Si Thammarat</td>\n",
       "      <td>Tha Sala</td>\n",
       "      <td>Don Tako</td>\n",
       "    </tr>\n",
       "  </tbody>\n",
       "</table>\n",
       "</div>"
      ],
      "text/plain": [
       "     province_th         district_th subdist_th          province_en  \\\n",
       "0  นครศรีธรรมราช            พรหมคีรี    ทอนหงส์  Nakhon Si Thammarat   \n",
       "1  นครศรีธรรมราช             ท่าศาลา     โมคลาน  Nakhon Si Thammarat   \n",
       "2  นครศรีธรรมราช  เมืองนครศรีธรรมราช     ปากพูน  Nakhon Si Thammarat   \n",
       "3  นครศรีธรรมราช               พิปูน      พิปูน  Nakhon Si Thammarat   \n",
       "4  นครศรีธรรมราช             ท่าศาลา    ดอนตะโก  Nakhon Si Thammarat   \n",
       "\n",
       "                  district_en subdist_en  \n",
       "0                 Phrom Khiri  Thon Hong  \n",
       "1                    Tha Sala   Mo Khlan  \n",
       "2  Mueang Nakhon Si Thammarat   Pak Phun  \n",
       "3                      Phipun     Phipun  \n",
       "4                    Tha Sala   Don Tako  "
      ]
     },
     "execution_count": 6,
     "metadata": {},
     "output_type": "execute_result"
    }
   ],
   "source": [
    "province_entry = []\n",
    "for feature in data['features']:\n",
    "    prop = feature['properties']\n",
    "    \n",
    "    province_entry.append([\n",
    "        prop['PV_TN'],\n",
    "        prop['AP_TN'],\n",
    "        prop['TB_TN'],\n",
    "        prop['PV_EN'],\n",
    "        prop['AP_EN'],\n",
    "        prop['TB_EN'],\n",
    "    ])\n",
    "    \n",
    "province_entry = pd.DataFrame.from_records(province_entry, columns=['province_th', 'district_th', 'subdist_th',\n",
    "                                                                   'province_en', 'district_en', 'subdist_en'])\n",
    "\n",
    "province_entry.to_csv(os.path.join('..', 'data', 'shapefiles', 'Nakhon-Si-Thammarat-dictionary.csv'))\n",
    "province_entry.head()"
   ]
  },
  {
   "cell_type": "markdown",
   "metadata": {},
   "source": [
    "## Detection file"
   ]
  },
  {
   "cell_type": "code",
   "execution_count": 7,
   "metadata": {},
   "outputs": [],
   "source": [
    "with open(os.path.join('..', 'data','breeding-sites','detection.geojson')) as f:\n",
    "    detection = json.load(f)"
   ]
  },
  {
   "cell_type": "code",
   "execution_count": 8,
   "metadata": {},
   "outputs": [
    {
     "data": {
      "application/vnd.jupyter.widget-view+json": {
       "model_id": "def1be82711e4d2fb05001ddb3df2039",
       "version_major": 2,
       "version_minor": 0
      },
      "text/html": [
       "<p>Failed to display Jupyter Widget of type <code>HBox</code>.</p>\n",
       "<p>\n",
       "  If you're reading this message in the Jupyter Notebook or JupyterLab Notebook, it may mean\n",
       "  that the widgets JavaScript is still loading. If this message persists, it\n",
       "  likely means that the widgets JavaScript library is either not installed or\n",
       "  not enabled. See the <a href=\"https://ipywidgets.readthedocs.io/en/stable/user_install.html\">Jupyter\n",
       "  Widgets Documentation</a> for setup instructions.\n",
       "</p>\n",
       "<p>\n",
       "  If you're reading this message in another frontend (for example, a static\n",
       "  rendering on GitHub or <a href=\"https://nbviewer.jupyter.org/\">NBViewer</a>),\n",
       "  it may mean that your frontend doesn't currently support widgets.\n",
       "</p>\n"
      ],
      "text/plain": [
       "HBox(children=(IntProgress(value=0, max=42999), HTML(value='')))"
      ]
     },
     "metadata": {},
     "output_type": "display_data"
    },
    {
     "name": "stdout",
     "output_type": "stream",
     "text": [
      "\n"
     ]
    }
   ],
   "source": [
    "for feature in tqdm_notebook(detection['features']):\n",
    "    prop = feature['properties']\n",
    "    \n",
    "    province = prop['province']\n",
    "    district = prop['district']\n",
    "    subdist = prop['subdist']\n",
    "\n",
    "    df_tmp = province_entry.loc[\n",
    "        (province_entry['province_th'] == province) & \n",
    "        (province_entry['district_th'] == district) &\n",
    "        (province_entry['subdist_th'] == subdist)\n",
    "    ]\n",
    "    \n",
    "    province_en, district_en, subdist_en = df_tmp[['province_en','district_en', 'subdist_en']].values[0]\n",
    "    \n",
    "    prop['province_en'] = province_en\n",
    "    prop['district_en'] = district_en\n",
    "    prop['subdist_en'] = subdist_en"
   ]
  },
  {
   "cell_type": "code",
   "execution_count": 9,
   "metadata": {},
   "outputs": [],
   "source": [
    "with open(os.path.join('..', 'data','breeding-sites','detection-en.geojson'), 'w') as FILE:\n",
    "    json.dump(detection, FILE, indent=4, ensure_ascii=False, sort_keys=True)"
   ]
  }
 ],
 "metadata": {
  "kernelspec": {
   "display_name": "Python 3",
   "language": "python",
   "name": "python3"
  },
  "language_info": {
   "codemirror_mode": {
    "name": "ipython",
    "version": 3
   },
   "file_extension": ".py",
   "mimetype": "text/x-python",
   "name": "python",
   "nbconvert_exporter": "python",
   "pygments_lexer": "ipython3",
   "version": "3.5.2"
  }
 },
 "nbformat": 4,
 "nbformat_minor": 2
}
