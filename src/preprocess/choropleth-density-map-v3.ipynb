{
 "cells": [
  {
   "cell_type": "code",
   "execution_count": 10,
   "metadata": {},
   "outputs": [],
   "source": [
    "from IPython.core.interactiveshell import InteractiveShell\n",
    "InteractiveShell.ast_node_interactivity = \"all\"\n",
    "\n",
    "import os\n",
    "import json\n",
    "import pandas as pd\n",
    "import numpy as np\n",
    "from tqdm import tqdm_notebook"
   ]
  },
  {
   "cell_type": "markdown",
   "metadata": {},
   "source": [
    "## Load Previous Choropleth Map Data"
   ]
  },
  {
   "cell_type": "code",
   "execution_count": 7,
   "metadata": {},
   "outputs": [
    {
     "data": {
      "text/plain": [
       "{'AP_EN': 'Phrom Khiri',\n",
       " 'AP_IDN': '8002',\n",
       " 'AP_TN': 'พรหมคีรี',\n",
       " 'Area': 1070,\n",
       " 'Avg_BI': 20,\n",
       " 'Breeding_site_classes': {'bin': 1,\n",
       "  'bowl': 0,\n",
       "  'bucket': 314,\n",
       "  'cup': 37,\n",
       "  'jar': 177,\n",
       "  'pottedplant': 147,\n",
       "  'tire': 2,\n",
       "  'vase': 0},\n",
       " 'Breeding_site_counts': 678,\n",
       " 'Breteau_index': {'2011': 0,\n",
       "  '2012': 0,\n",
       "  '2013': 0,\n",
       "  '2014': 50,\n",
       "  '2015': 33,\n",
       "  '2016': 0,\n",
       "  '2017': 0},\n",
       " 'Dengue_cases': 25,\n",
       " 'Density': 6,\n",
       " 'Density_population': 8,\n",
       " 'PV_EN': 'Nakhon Si Thammarat',\n",
       " 'PV_IDN': '80',\n",
       " 'PV_TN': 'นครศรีธรรมราช',\n",
       " 'Population': 8387,\n",
       " 'TB_EN': 'Thon Hong',\n",
       " 'TB_IDN': '800204',\n",
       " 'TB_TN': 'ทอนหงส์'}"
      ]
     },
     "execution_count": 7,
     "metadata": {},
     "output_type": "execute_result"
    }
   ],
   "source": [
    "\n",
    "data_dir = os.path.join('..','..','data')\n",
    "\n",
    "with open(os.path.join(data_dir,'maps','Nakhon-Si-Thammarat-choropleth-each-class.geojson')) as f:\n",
    "    shapefile = json.load(f)\n",
    "shapefile['features'][0]['properties']"
   ]
  },
  {
   "cell_type": "markdown",
   "metadata": {},
   "source": [
    "## Load Survey Data"
   ]
  },
  {
   "cell_type": "code",
   "execution_count": 23,
   "metadata": {},
   "outputs": [
    {
     "data": {
      "text/html": [
       "<div>\n",
       "<style scoped>\n",
       "    .dataframe tbody tr th:only-of-type {\n",
       "        vertical-align: middle;\n",
       "    }\n",
       "\n",
       "    .dataframe tbody tr th {\n",
       "        vertical-align: top;\n",
       "    }\n",
       "\n",
       "    .dataframe thead th {\n",
       "        text-align: right;\n",
       "    }\n",
       "</style>\n",
       "<table border=\"1\" class=\"dataframe\">\n",
       "  <thead>\n",
       "    <tr style=\"text-align: right;\">\n",
       "      <th></th>\n",
       "      <th>addrcode</th>\n",
       "      <th>hi</th>\n",
       "      <th>ci</th>\n",
       "      <th>bi</th>\n",
       "    </tr>\n",
       "    <tr>\n",
       "      <th>date</th>\n",
       "      <th></th>\n",
       "      <th></th>\n",
       "      <th></th>\n",
       "      <th></th>\n",
       "    </tr>\n",
       "  </thead>\n",
       "  <tbody>\n",
       "    <tr>\n",
       "      <th>2015-01-01</th>\n",
       "      <td>810405</td>\n",
       "      <td>18.0</td>\n",
       "      <td>3.68</td>\n",
       "      <td>24.0</td>\n",
       "    </tr>\n",
       "  </tbody>\n",
       "</table>\n",
       "</div>"
      ],
      "text/plain": [
       "            addrcode    hi    ci    bi\n",
       "date                                  \n",
       "2015-01-01    810405  18.0  3.68  24.0"
      ]
     },
     "execution_count": 23,
     "metadata": {},
     "output_type": "execute_result"
    },
    {
     "data": {
      "text/html": [
       "<div>\n",
       "<style scoped>\n",
       "    .dataframe tbody tr th:only-of-type {\n",
       "        vertical-align: middle;\n",
       "    }\n",
       "\n",
       "    .dataframe tbody tr th {\n",
       "        vertical-align: top;\n",
       "    }\n",
       "\n",
       "    .dataframe thead th {\n",
       "        text-align: right;\n",
       "    }\n",
       "</style>\n",
       "<table border=\"1\" class=\"dataframe\">\n",
       "  <thead>\n",
       "    <tr style=\"text-align: right;\">\n",
       "      <th></th>\n",
       "      <th>addrcode</th>\n",
       "      <th>bin</th>\n",
       "      <th>bowl</th>\n",
       "      <th>bucket</th>\n",
       "      <th>cup</th>\n",
       "      <th>jar</th>\n",
       "      <th>pottedplant</th>\n",
       "      <th>tire</th>\n",
       "      <th>vase</th>\n",
       "      <th>total</th>\n",
       "    </tr>\n",
       "    <tr>\n",
       "      <th>date</th>\n",
       "      <th></th>\n",
       "      <th></th>\n",
       "      <th></th>\n",
       "      <th></th>\n",
       "      <th></th>\n",
       "      <th></th>\n",
       "      <th></th>\n",
       "      <th></th>\n",
       "      <th></th>\n",
       "      <th></th>\n",
       "    </tr>\n",
       "  </thead>\n",
       "  <tbody>\n",
       "    <tr>\n",
       "      <th>2016-02-01</th>\n",
       "      <td>810602</td>\n",
       "      <td>270</td>\n",
       "      <td>1</td>\n",
       "      <td>0</td>\n",
       "      <td>35</td>\n",
       "      <td>38</td>\n",
       "      <td>24</td>\n",
       "      <td>2</td>\n",
       "      <td>139</td>\n",
       "      <td>509</td>\n",
       "    </tr>\n",
       "  </tbody>\n",
       "</table>\n",
       "</div>"
      ],
      "text/plain": [
       "            addrcode  bin  bowl  bucket  cup  jar  pottedplant  tire  vase  \\\n",
       "date                                                                         \n",
       "2016-02-01    810602  270     1       0   35   38           24     2   139   \n",
       "\n",
       "            total  \n",
       "date               \n",
       "2016-02-01    509  "
      ]
     },
     "execution_count": 23,
     "metadata": {},
     "output_type": "execute_result"
    }
   ],
   "source": [
    "# Load Surveys Data\n",
    "def filter_survey(df_survey, index='bi'):\n",
    "    df_filtered = []\n",
    "    for addrcode in df_survey['addrcode'].unique():\n",
    "        tmp = df_survey.loc[df_survey['addrcode'] == addrcode].copy()\n",
    "        if len(tmp) == 1 and tmp[index].mean() < 100:\n",
    "            df_filtered.append(tmp.copy())\n",
    "        df_filtered.append(tmp[np.abs(tmp[index]-tmp[index].mean()) <= (1*tmp[index].std())].copy())\n",
    "    df_filtered = pd.concat(df_filtered, axis=0)\n",
    "    return df_filtered\n",
    "\n",
    "df_survey = pd.read_csv(os.path.join(data_dir,'breeding-sites','csv','addrcode-index','larval-survey.csv'))\n",
    "df_survey = df_survey.replace(0, np.nan)\n",
    "df_survey = df_survey.dropna(axis=0, how='any')\n",
    "df_survey = df_survey.reset_index(drop=True)\n",
    "\n",
    "df_survey['addrcode'] = df_survey['addrcode'].astype('int')\n",
    "df_survey['date'] = pd.to_datetime(df_survey['date'], format='%Y-%m')\n",
    "\n",
    "df_survey = df_survey.set_index('date')\n",
    "df_survey = df_survey.sort_index()\n",
    "df_survey = df_survey['2015':'2017']\n",
    "\n",
    "df_survey = filter_survey(df_survey, index='bi')\n",
    "\n",
    "df_survey.head(1)\n",
    "# print('Total data points:',len(df_survey))\n",
    "\n",
    "# Load Detected Breeding Sites\n",
    "df_detect = pd.read_csv(os.path.join(data_dir,'breeding-sites','csv','addrcode-index','detection.csv')) \n",
    "df_detect['date'] = pd.to_datetime(df_detect['date'], format='%Y-%m')\n",
    "df_detect['addrcode'] = df_detect['addrcode'].astype('int')\n",
    "df_detect = df_detect.set_index('date')\n",
    "df_detect = df_detect.sort_index()\n",
    "\n",
    "df_detect.head(1)"
   ]
  },
  {
   "cell_type": "markdown",
   "metadata": {},
   "source": [
    "## Helper Function"
   ]
  },
  {
   "cell_type": "code",
   "execution_count": 24,
   "metadata": {},
   "outputs": [],
   "source": [
    "def get_detect(df_detect, addrcode, columns=None):\n",
    "    if columns is None:\n",
    "        detect = round(df_detect.loc[df_detect['addrcode'] == addrcode].mean()['total'], 2)\n",
    "    else:\n",
    "        # Breeding Site Feature\n",
    "        detect = df_detect.loc[df_detect['addrcode'] == addrcode][columns].copy()\n",
    "    return detect\n",
    "\n",
    "def get_survey(df_survey, dengue_season, addrcode):\n",
    "    if dengue_season: \n",
    "        months = [6,7,8,9,10,11]\n",
    "    else: \n",
    "        months = [1,2,3,4,5,6,7,8,9,10,11,12]\n",
    "\n",
    "    survey = round(df_survey.loc[\n",
    "        (df_survey['addrcode'] == addrcode) & \n",
    "        (df_survey.index.month.isin(months))\n",
    "    ]['bi'].mean(), 2)\n",
    "    \n",
    "    return survey"
   ]
  },
  {
   "cell_type": "markdown",
   "metadata": {},
   "source": [
    "## Processing"
   ]
  },
  {
   "cell_type": "code",
   "execution_count": 27,
   "metadata": {},
   "outputs": [],
   "source": [
    "x = []\n",
    "cnt = 0\n",
    "\n",
    "mean_det, std_det = df_detect['total'].mean(), df_detect['total'].std()\n",
    "for ind, feature in enumerate(shapefile['features']):\n",
    "    \n",
    "    prop = feature['properties']\n",
    "    addrcode = int(prop['TB_IDN'])\n",
    "    \n",
    "    detect = get_detect(df_detect, addrcode)\n",
    "    survey_entire_year = get_survey(df_survey, dengue_season=False, addrcode=addrcode)\n",
    "    survey_dengue_season = get_survey(df_survey, dengue_season=True, addrcode=addrcode)\n",
    "    \n",
    "    if np.isnan(detect):\n",
    "        detect = 0\n",
    "    if np.isnan(survey_entire_year):\n",
    "        survey_entire_year = 0\n",
    "    if np.isnan(survey_dengue_season):\n",
    "        survey_dengue_season = 0\n",
    "\n",
    "    if detect > mean_det+1*std_det or detect < mean_det-1*std_det: \n",
    "        detect = survey_entire_year = survey_dengue_season = 0\n",
    "        \n",
    "    feature['properties']['BI_entire_year'] = survey_entire_year\n",
    "    feature['properties']['BI_dengue_season'] = survey_dengue_season"
   ]
  },
  {
   "cell_type": "code",
   "execution_count": 28,
   "metadata": {},
   "outputs": [],
   "source": [
    "with open(os.path.join(data_dir, 'maps', 'Nakhon-Si-Thammarat-choropleth-dengue-season.geojson'), 'w') as FILE:\n",
    "    json.dump(shapefile, FILE, indent=4, ensure_ascii=False, sort_keys=True)"
   ]
  }
 ],
 "metadata": {
  "kernelspec": {
   "display_name": "Python 3",
   "language": "python",
   "name": "python3"
  },
  "language_info": {
   "codemirror_mode": {
    "name": "ipython",
    "version": 3
   },
   "file_extension": ".py",
   "mimetype": "text/x-python",
   "name": "python",
   "nbconvert_exporter": "python",
   "pygments_lexer": "ipython3",
   "version": "3.5.2"
  }
 },
 "nbformat": 4,
 "nbformat_minor": 2
}
