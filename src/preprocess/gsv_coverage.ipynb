{
 "cells": [
  {
   "cell_type": "code",
   "execution_count": 1,
   "metadata": {},
   "outputs": [],
   "source": [
    "import pandas as pd\n",
    "import os, json\n",
    "import numpy as np\n",
    "from shapely.geometry import Polygon, Point\n",
    "from copy import deepcopy\n",
    "from tqdm import tqdm\n",
    "from scipy.stats.stats import pearsonr, spearmanr\n",
    "\n",
    "data_dir = os.path.join('..','..','data')"
   ]
  },
  {
   "cell_type": "code",
   "execution_count": 31,
   "metadata": {},
   "outputs": [],
   "source": [
    "def get_gsv_coverage(gsv_meta_filename, polygon_filename, out_filename, gsv_radius=50):\n",
    "    df_gsv = pd.read_csv(os.path.join(data_dir,'shapefiles','csv', gsv_meta_filename)) \n",
    "    df_gsv = df_gsv.drop(['date','degree'], axis=1)\n",
    "    df_gsv = df_gsv.drop_duplicates()\n",
    "    \n",
    "    with open(os.path.join(data_dir,'shapefiles','geojson',polygon_filename)) as f:\n",
    "        data_polygon = json.load(f)\n",
    "#     print(json.dumps(data_polygon['features'][0]['properties'], indent=2, ensure_ascii=False))\n",
    "    \n",
    "    gsvs = np.array(deepcopy(df_gsv.values))\n",
    "    \n",
    "    gsv_coverage = []\n",
    "    for feature in tqdm(data_polygon['features']):\n",
    "        prop = feature['properties']\n",
    "        addrcode = int(prop['addrcode'])\n",
    "\n",
    "        poly = Polygon(np.squeeze(feature['geometry']['coordinates'][0]))\n",
    "        poly_area = poly.area*111111\n",
    "\n",
    "        gsv_area = 0\n",
    "        for ind, gsv in enumerate(gsvs):\n",
    "            lat, lng = gsv\n",
    "            point = Point(lng, lat)\n",
    "\n",
    "            if poly.contains(point):\n",
    "                circle = point.buffer(gsv_radius/111111)\n",
    "                gsv_area += circle.area*111111\n",
    "\n",
    "        if gsv_area < 1: continue\n",
    "        gsv_coverage.append([addrcode, poly_area, gsv_area])\n",
    "        \n",
    "    df_coverage = pd.DataFrame.from_records(gsv_coverage, columns=['addrcode','land_area','image_area'])\n",
    "    df_coverage.image_area = df_coverage.image_area\n",
    "    df_coverage.image_area = df_coverage.image_area.round(4)\n",
    "    \n",
    "    print('Matadata length:', len(df_gsv))\n",
    "    print('Coverage length:', len(df_coverage))\n",
    "    print('Pearsonr:', np.round(pearsonr(df_coverage.land_area, df_coverage.image_area),4))\n",
    "    \n",
    "    df_coverage.to_csv(os.path.join(data_dir,'shapefiles','csv', out_filename), index=None)"
   ]
  },
  {
   "cell_type": "code",
   "execution_count": 5,
   "metadata": {},
   "outputs": [
    {
     "name": "stderr",
     "output_type": "stream",
     "text": [
      "100%|██████████| 170/170 [06:04<00:00,  2.14s/it]"
     ]
    },
    {
     "name": "stdout",
     "output_type": "stream",
     "text": [
      "Matadata length: 108280\n",
      "Coverage length: 170\n",
      "Pearsonr: [0.2528 0.0009]\n"
     ]
    },
    {
     "name": "stderr",
     "output_type": "stream",
     "text": [
      "\n"
     ]
    }
   ],
   "source": [
    "get_gsv_coverage('Nakhon-gsv-meta.csv', 'Nakhon-subdistricts.geojson', 'Nakhon-gsv-coverage.csv')"
   ]
  },
  {
   "cell_type": "code",
   "execution_count": 32,
   "metadata": {},
   "outputs": [
    {
     "name": "stderr",
     "output_type": "stream",
     "text": [
      "100%|██████████| 112/112 [01:57<00:00,  1.05s/it]"
     ]
    },
    {
     "name": "stdout",
     "output_type": "stream",
     "text": [
      "Matadata length: 50089\n",
      "Coverage length: 52\n",
      "Pearsonr: [0.5413 0.    ]\n"
     ]
    },
    {
     "name": "stderr",
     "output_type": "stream",
     "text": [
      "\n"
     ]
    }
   ],
   "source": [
    "get_gsv_coverage('Krabi-gsv-meta.csv', 'Krabi-subdistricts.geojson', 'Krabi-gsv-coverage.csv')"
   ]
  },
  {
   "cell_type": "code",
   "execution_count": 10,
   "metadata": {},
   "outputs": [
    {
     "name": "stderr",
     "output_type": "stream",
     "text": [
      "100%|██████████| 169/169 [07:18<00:00,  2.59s/it]"
     ]
    },
    {
     "name": "stdout",
     "output_type": "stream",
     "text": [
      "Matadata length: 125750\n",
      "Coverage length: 169\n",
      "Pearsonr: [0.5806 0.    ]\n"
     ]
    },
    {
     "name": "stderr",
     "output_type": "stream",
     "text": [
      "\n"
     ]
    }
   ],
   "source": [
    "get_gsv_coverage('Bangkok-gsv-meta.csv', 'Bangkok-subdistricts.geojson', 'Bangkok-gsv-coverage.csv')"
   ]
  },
  {
   "cell_type": "markdown",
   "metadata": {},
   "source": [
    "#### Merge gsv-coverages"
   ]
  },
  {
   "cell_type": "code",
   "execution_count": 47,
   "metadata": {},
   "outputs": [
    {
     "data": {
      "text/html": [
       "<div>\n",
       "<style scoped>\n",
       "    .dataframe tbody tr th:only-of-type {\n",
       "        vertical-align: middle;\n",
       "    }\n",
       "\n",
       "    .dataframe tbody tr th {\n",
       "        vertical-align: top;\n",
       "    }\n",
       "\n",
       "    .dataframe thead th {\n",
       "        text-align: right;\n",
       "    }\n",
       "</style>\n",
       "<table border=\"1\" class=\"dataframe\">\n",
       "  <thead>\n",
       "    <tr style=\"text-align: right;\">\n",
       "      <th></th>\n",
       "      <th>addrcode</th>\n",
       "      <th>land_area</th>\n",
       "      <th>image_area</th>\n",
       "    </tr>\n",
       "  </thead>\n",
       "  <tbody>\n",
       "    <tr>\n",
       "      <th>0</th>\n",
       "      <td>100508</td>\n",
       "      <td>212.97</td>\n",
       "      <td>194.85</td>\n",
       "    </tr>\n",
       "    <tr>\n",
       "      <th>1</th>\n",
       "      <td>104605</td>\n",
       "      <td>161.16</td>\n",
       "      <td>40.51</td>\n",
       "    </tr>\n",
       "    <tr>\n",
       "      <th>2</th>\n",
       "      <td>104604</td>\n",
       "      <td>98.90</td>\n",
       "      <td>28.09</td>\n",
       "    </tr>\n",
       "  </tbody>\n",
       "</table>\n",
       "</div>"
      ],
      "text/plain": [
       "   addrcode  land_area  image_area\n",
       "0    100508     212.97      194.85\n",
       "1    104605     161.16       40.51\n",
       "2    104604      98.90       28.09"
      ]
     },
     "execution_count": 47,
     "metadata": {},
     "output_type": "execute_result"
    }
   ],
   "source": [
    "files = ['Bangkok-gsv-coverage.csv','Nakhon-gsv-coverage.csv', 'Krabi-gsv-coverage.csv']\n",
    "concat = []\n",
    "for file in files:\n",
    "    df_tmp =  pd.read_csv(os.path.join(data_dir,'shapefiles','csv', file)) \n",
    "    concat.append(df_tmp)\n",
    "df_concat = pd.concat(concat, axis=0)\n",
    "df_concat = df_concat.round(2)\n",
    "df_concat.head(3)"
   ]
  },
  {
   "cell_type": "code",
   "execution_count": 48,
   "metadata": {},
   "outputs": [
    {
     "name": "stdout",
     "output_type": "stream",
     "text": [
      "length: 389 \n",
      "\n"
     ]
    }
   ],
   "source": [
    "print('length:', len(df_concat),'\\n')\n",
    "df_concat.to_csv(os.path.join(data_dir,'shapefiles','csv', 'gsv-coverage.csv'), index=None)"
   ]
  }
 ],
 "metadata": {
  "kernelspec": {
   "display_name": "Python 3",
   "language": "python",
   "name": "python3"
  },
  "language_info": {
   "codemirror_mode": {
    "name": "ipython",
    "version": 3
   },
   "file_extension": ".py",
   "mimetype": "text/x-python",
   "name": "python",
   "nbconvert_exporter": "python",
   "pygments_lexer": "ipython3",
   "version": "3.5.2"
  }
 },
 "nbformat": 4,
 "nbformat_minor": 2
}
