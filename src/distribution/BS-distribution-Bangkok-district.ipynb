{
 "cells": [
  {
   "cell_type": "markdown",
   "metadata": {},
   "source": [
    "# Breeding Site Distribution of Bangkok in District Level"
   ]
  },
  {
   "cell_type": "code",
   "execution_count": 36,
   "metadata": {},
   "outputs": [
    {
     "data": {
      "text/html": [
       "<style>.container { width:100% !important; }</style>"
      ],
      "text/plain": [
       "<IPython.core.display.HTML object>"
      ]
     },
     "metadata": {},
     "output_type": "display_data"
    },
    {
     "data": {
      "text/html": [
       "<script>requirejs.config({paths: { 'plotly': ['https://cdn.plot.ly/plotly-latest.min']},});if(!window.Plotly) {{require(['plotly'],function(plotly) {window.Plotly=plotly;});}}</script>"
      ],
      "text/vnd.plotly.v1+html": [
       "<script>requirejs.config({paths: { 'plotly': ['https://cdn.plot.ly/plotly-latest.min']},});if(!window.Plotly) {{require(['plotly'],function(plotly) {window.Plotly=plotly;});}}</script>"
      ]
     },
     "metadata": {},
     "output_type": "display_data"
    }
   ],
   "source": [
    "from IPython.core.display import display, HTML\n",
    "display(HTML(\"<style>.container { width:100% !important; }</style>\"))\n",
    "\n",
    "from IPython.core.interactiveshell import InteractiveShell\n",
    "InteractiveShell.ast_node_interactivity = \"all\"\n",
    "\n",
    "from plotly import tools\n",
    "from plotly.graph_objs import *\n",
    "from plotly.offline import download_plotlyjs, init_notebook_mode, plot, iplot\n",
    "init_notebook_mode(connected=True)\n",
    "\n",
    "import plotly.graph_objs as go\n",
    "import matplotlib as mpl\n",
    "import matplotlib.cm as cm\n",
    "import matplotlib.pyplot as plt\n",
    "import numpy as np\n",
    "import pandas as pd\n",
    "import seaborn as sns\n",
    "import os\n",
    "import json\n",
    "import itertools\n",
    "\n",
    "from tqdm import tqdm\n",
    "from copy import deepcopy\n",
    "from scipy.stats.stats import pearsonr, spearmanr\n",
    "from shapely.geometry import Polygon\n",
    "from collections import Counter\n",
    "\n",
    "sns.set(color_codes=True)\n",
    "\n",
    "data_dir = os.path.join('..','..','data')"
   ]
  },
  {
   "cell_type": "markdown",
   "metadata": {},
   "source": [
    "## 0. Helper Function"
   ]
  },
  {
   "cell_type": "code",
   "execution_count": 37,
   "metadata": {},
   "outputs": [],
   "source": [
    "def get_detect(df_detect, addrcode, columns=None):\n",
    "    if columns is None:\n",
    "        detect = round(df_detect.loc[df_detect['addrcode'] == addrcode].mean()['total'], 2)\n",
    "        cup =round(df_detect.loc[df_detect['addrcode'] == addrcode].mean()['cup'], 2)\n",
    "        vase = round(df_detect.loc[df_detect['addrcode'] == addrcode].mean()['vase'], 2)\n",
    "        detect = detect-cup-vase\n",
    "    else:\n",
    "        # Breeding Site Feature\n",
    "        detect = df_detect.loc[df_detect['addrcode'] == addrcode][columns].copy()\n",
    "    return detect\n",
    "\n",
    "def get_area(df_area, addrcode):\n",
    "    area = round(df_area.loc[df_area['addrcode'] == addrcode]['area'].mean(), 2)\n",
    "    return area\n",
    "\n",
    "def get_population(df_population, addrcode):\n",
    "    population = round(df_population.loc[df_population['addrcode'] == addrcode]['population'].mean(), 2)\n",
    "    return population\n",
    "\n",
    "def get_gsv_coverage(df_gsv_coverage, addrcode):\n",
    "    coverage = df_gsv_coverage.loc[df_gsv_coverage['addrcode'] == addrcode]['image_area'].mean()\n",
    "    return coverage\n",
    "\n",
    "def get_dict_info(df_dictionary, addrcode):\n",
    "    dict_info = df_dictionary.loc[df_dictionary['addrcode'] == addrcode]\n",
    "    return dict_info\n",
    "\n",
    "def get_percentage(part, whole):\n",
    "    return 100 * float(part)/float(whole)\n",
    "\n",
    "def get_hectare(area):\n",
    "    return area*111111*0.0001"
   ]
  },
  {
   "cell_type": "markdown",
   "metadata": {},
   "source": [
    "## 1. Load Data"
   ]
  },
  {
   "cell_type": "code",
   "execution_count": 38,
   "metadata": {},
   "outputs": [
    {
     "data": {
      "text/html": [
       "<div>\n",
       "<style scoped>\n",
       "    .dataframe tbody tr th:only-of-type {\n",
       "        vertical-align: middle;\n",
       "    }\n",
       "\n",
       "    .dataframe tbody tr th {\n",
       "        vertical-align: top;\n",
       "    }\n",
       "\n",
       "    .dataframe thead th {\n",
       "        text-align: right;\n",
       "    }\n",
       "</style>\n",
       "<table border=\"1\" class=\"dataframe\">\n",
       "  <thead>\n",
       "    <tr style=\"text-align: right;\">\n",
       "      <th></th>\n",
       "      <th>addrcode</th>\n",
       "      <th>bin</th>\n",
       "      <th>bowl</th>\n",
       "      <th>bucket</th>\n",
       "      <th>cup</th>\n",
       "      <th>jar</th>\n",
       "      <th>pottedplant</th>\n",
       "      <th>tire</th>\n",
       "      <th>vase</th>\n",
       "      <th>total</th>\n",
       "    </tr>\n",
       "  </thead>\n",
       "  <tbody>\n",
       "    <tr>\n",
       "      <th>0</th>\n",
       "      <td>1001</td>\n",
       "      <td>167</td>\n",
       "      <td>87</td>\n",
       "      <td>509</td>\n",
       "      <td>73</td>\n",
       "      <td>22</td>\n",
       "      <td>1543</td>\n",
       "      <td>101</td>\n",
       "      <td>25</td>\n",
       "      <td>2527</td>\n",
       "    </tr>\n",
       "  </tbody>\n",
       "</table>\n",
       "</div>"
      ],
      "text/plain": [
       "  addrcode  bin  bowl  bucket  cup  jar  pottedplant  tire  vase  total\n",
       "0     1001  167    87     509   73   22         1543   101    25   2527"
      ]
     },
     "execution_count": 38,
     "metadata": {},
     "output_type": "execute_result"
    },
    {
     "data": {
      "text/html": [
       "<div>\n",
       "<style scoped>\n",
       "    .dataframe tbody tr th:only-of-type {\n",
       "        vertical-align: middle;\n",
       "    }\n",
       "\n",
       "    .dataframe tbody tr th {\n",
       "        vertical-align: top;\n",
       "    }\n",
       "\n",
       "    .dataframe thead th {\n",
       "        text-align: right;\n",
       "    }\n",
       "</style>\n",
       "<table border=\"1\" class=\"dataframe\">\n",
       "  <thead>\n",
       "    <tr style=\"text-align: right;\">\n",
       "      <th></th>\n",
       "      <th>addrcode</th>\n",
       "      <th>area</th>\n",
       "    </tr>\n",
       "  </thead>\n",
       "  <tbody>\n",
       "    <tr>\n",
       "      <th>0</th>\n",
       "      <td>1001</td>\n",
       "      <td>49.81</td>\n",
       "    </tr>\n",
       "  </tbody>\n",
       "</table>\n",
       "</div>"
      ],
      "text/plain": [
       "  addrcode   area\n",
       "0     1001  49.81"
      ]
     },
     "execution_count": 38,
     "metadata": {},
     "output_type": "execute_result"
    },
    {
     "data": {
      "text/html": [
       "<div>\n",
       "<style scoped>\n",
       "    .dataframe tbody tr th:only-of-type {\n",
       "        vertical-align: middle;\n",
       "    }\n",
       "\n",
       "    .dataframe tbody tr th {\n",
       "        vertical-align: top;\n",
       "    }\n",
       "\n",
       "    .dataframe thead th {\n",
       "        text-align: right;\n",
       "    }\n",
       "</style>\n",
       "<table border=\"1\" class=\"dataframe\">\n",
       "  <thead>\n",
       "    <tr style=\"text-align: right;\">\n",
       "      <th></th>\n",
       "      <th>addrcode</th>\n",
       "      <th>population</th>\n",
       "    </tr>\n",
       "  </thead>\n",
       "  <tbody>\n",
       "    <tr>\n",
       "      <th>0</th>\n",
       "      <td>1001</td>\n",
       "      <td>52522</td>\n",
       "    </tr>\n",
       "  </tbody>\n",
       "</table>\n",
       "</div>"
      ],
      "text/plain": [
       "  addrcode  population\n",
       "0     1001       52522"
      ]
     },
     "execution_count": 38,
     "metadata": {},
     "output_type": "execute_result"
    },
    {
     "data": {
      "text/html": [
       "<div>\n",
       "<style scoped>\n",
       "    .dataframe tbody tr th:only-of-type {\n",
       "        vertical-align: middle;\n",
       "    }\n",
       "\n",
       "    .dataframe tbody tr th {\n",
       "        vertical-align: top;\n",
       "    }\n",
       "\n",
       "    .dataframe thead th {\n",
       "        text-align: right;\n",
       "    }\n",
       "</style>\n",
       "<table border=\"1\" class=\"dataframe\">\n",
       "  <thead>\n",
       "    <tr style=\"text-align: right;\">\n",
       "      <th></th>\n",
       "      <th>addrcode</th>\n",
       "      <th>district_th</th>\n",
       "      <th>district_en</th>\n",
       "      <th>province_th</th>\n",
       "      <th>province_en</th>\n",
       "    </tr>\n",
       "  </thead>\n",
       "  <tbody>\n",
       "    <tr>\n",
       "      <th>0</th>\n",
       "      <td>1001</td>\n",
       "      <td>พระนคร</td>\n",
       "      <td>Phra Nakhon</td>\n",
       "      <td>กรุงเทพมหานคร</td>\n",
       "      <td>Bangkok</td>\n",
       "    </tr>\n",
       "  </tbody>\n",
       "</table>\n",
       "</div>"
      ],
      "text/plain": [
       "  addrcode district_th  district_en    province_th province_en\n",
       "0     1001      พระนคร  Phra Nakhon  กรุงเทพมหานคร     Bangkok"
      ]
     },
     "execution_count": 38,
     "metadata": {},
     "output_type": "execute_result"
    },
    {
     "data": {
      "text/html": [
       "<div>\n",
       "<style scoped>\n",
       "    .dataframe tbody tr th:only-of-type {\n",
       "        vertical-align: middle;\n",
       "    }\n",
       "\n",
       "    .dataframe tbody tr th {\n",
       "        vertical-align: top;\n",
       "    }\n",
       "\n",
       "    .dataframe thead th {\n",
       "        text-align: right;\n",
       "    }\n",
       "</style>\n",
       "<table border=\"1\" class=\"dataframe\">\n",
       "  <thead>\n",
       "    <tr style=\"text-align: right;\">\n",
       "      <th></th>\n",
       "      <th>addrcode</th>\n",
       "      <th>land_area</th>\n",
       "      <th>image_area</th>\n",
       "    </tr>\n",
       "  </thead>\n",
       "  <tbody>\n",
       "    <tr>\n",
       "      <th>0</th>\n",
       "      <td>1001</td>\n",
       "      <td>49.81</td>\n",
       "      <td>69.02</td>\n",
       "    </tr>\n",
       "  </tbody>\n",
       "</table>\n",
       "</div>"
      ],
      "text/plain": [
       "  addrcode  land_area  image_area\n",
       "0     1001      49.81       69.02"
      ]
     },
     "execution_count": 38,
     "metadata": {},
     "output_type": "execute_result"
    }
   ],
   "source": [
    "# Load Detected Breeding Sites\n",
    "df_detect = pd.read_csv(os.path.join(data_dir,'breeding-sites','csv','addrcode-index','detection.csv')) \n",
    "df_detect['date'] = pd.to_datetime(df_detect['date'], format='%Y-%m')\n",
    "df_detect['addrcode'] = df_detect['addrcode'].astype('str')\n",
    "df_detect['addrcode'] = df_detect['addrcode'].str[:-2]\n",
    "df_detect = df_detect.groupby(['addrcode']).sum()\n",
    "df_detect = df_detect.reset_index()\n",
    "df_detect.head(1)\n",
    "# print('Total data points:',len(df_detect))\n",
    "\n",
    "# Area\n",
    "df_area = pd.read_csv(os.path.join(data_dir,'shapefiles','csv','subdistricts-area.csv')) \n",
    "df_area['addrcode'] = df_area['addrcode'].astype('str')\n",
    "df_area['addrcode'] = df_area['addrcode'].str[:-2]\n",
    "df_area = df_area.groupby(['addrcode']).sum()\n",
    "df_area = df_area.reset_index()\n",
    "df_area.head(1)\n",
    "# print('Total data points:',len(df_area))\n",
    "\n",
    "# Population \n",
    "df_population = pd.read_csv(os.path.join(data_dir,'population','addrcode-index','population.csv')) \n",
    "df_population['addrcode'] = df_population['addrcode'].astype('str')\n",
    "df_population['addrcode'] = df_population['addrcode'].str[:-2]\n",
    "df_population = df_population.groupby(['addrcode']).sum()\n",
    "df_population = df_population.reset_index()\n",
    "df_population.head(1)\n",
    "# print('Total data points:',len(df_population))\n",
    "\n",
    "df_dictionary = pd.read_csv(os.path.join(data_dir,'shapefiles','csv','addrcode-dictionary.csv')) \n",
    "df_dictionary['addrcode'] = df_dictionary['addrcode'].astype('str')\n",
    "df_dictionary['addrcode'] = df_dictionary['addrcode'].str[:-2]\n",
    "df_dictionary = df_dictionary.drop(['subdistrict_th','subdistrict_en','district_code','province_code','LAT','LONG','Population'], axis=1)\n",
    "df_dictionary = df_dictionary.drop_duplicates()\n",
    "df_dictionary.head(1)\n",
    "\n",
    "df_gsv_coverage = pd.read_csv(os.path.join(data_dir,'shapefiles','csv','gsv-coverage.csv')) \n",
    "df_gsv_coverage['addrcode'] = df_gsv_coverage['addrcode'].astype('str')\n",
    "df_gsv_coverage['addrcode'] = df_gsv_coverage['addrcode'].str[:-2]\n",
    "df_gsv_coverage = df_gsv_coverage.groupby(['addrcode']).sum()\n",
    "df_gsv_coverage = df_gsv_coverage.reset_index()\n",
    "df_gsv_coverage.head(1)"
   ]
  },
  {
   "cell_type": "code",
   "execution_count": 39,
   "metadata": {},
   "outputs": [],
   "source": [
    "brd_sites=['bin','bowl','bucket','cup','jar','pottedplant','tire','vase']\n",
    "distribution_entry = []\n",
    "p = 0\n",
    "for addrcode in df_detect['addrcode'].unique():\n",
    "    \n",
    "    if str(addrcode)[:2] == '10':\n",
    "        \n",
    "        dict_info = get_dict_info(df_dictionary, addrcode)\n",
    "        district = get_dict_info(df_dictionary, addrcode).iloc[0]['district_en']\n",
    "        land_area = get_hectare(get_area(df_area, addrcode))\n",
    "        image_area =  get_hectare(get_gsv_coverage(df_gsv_coverage, addrcode))\n",
    "        population = get_population(df_population, addrcode)\n",
    "        bs_total = get_detect(df_detect, addrcode)\n",
    "        bs_classes = get_detect(df_detect, addrcode, brd_sites)\n",
    "        \n",
    "        if np.isnan(population): continue\n",
    "\n",
    "        distribution_entry.append([\n",
    "            district,\n",
    "            land_area,\n",
    "            image_area,\n",
    "            population,\n",
    "            bs_total,\n",
    "            bs_total/land_area,\n",
    "            bs_total/image_area,\n",
    "            bs_total/population,\n",
    "            get_percentage(bs_classes.jar, bs_total),\n",
    "            get_percentage(bs_classes.bucket, bs_total),\n",
    "            get_percentage(bs_classes.pottedplant, bs_total),\n",
    "            get_percentage(bs_classes.tire, bs_total),\n",
    "            get_percentage(bs_classes.bin, bs_total),\n",
    "            get_percentage(bs_classes.bowl, bs_total),\n",
    "            get_percentage(bs_classes.cup, bs_total),\n",
    "            get_percentage(bs_classes.vase, bs_total)\n",
    "        ])"
   ]
  },
  {
   "cell_type": "code",
   "execution_count": 40,
   "metadata": {},
   "outputs": [
    {
     "data": {
      "text/html": [
       "<div>\n",
       "<style scoped>\n",
       "    .dataframe tbody tr th:only-of-type {\n",
       "        vertical-align: middle;\n",
       "    }\n",
       "\n",
       "    .dataframe tbody tr th {\n",
       "        vertical-align: top;\n",
       "    }\n",
       "\n",
       "    .dataframe thead th {\n",
       "        text-align: right;\n",
       "    }\n",
       "</style>\n",
       "<table border=\"1\" class=\"dataframe\">\n",
       "  <thead>\n",
       "    <tr style=\"text-align: right;\">\n",
       "      <th></th>\n",
       "      <th>District</th>\n",
       "      <th>Area (ha)</th>\n",
       "      <th>Area of Images (ha)</th>\n",
       "      <th>Population</th>\n",
       "      <th>No. of BS</th>\n",
       "      <th>BS/ha land</th>\n",
       "      <th>BS/ha image</th>\n",
       "      <th>BS/person</th>\n",
       "      <th>Jar (%)</th>\n",
       "      <th>Bucket (%)</th>\n",
       "      <th>Potted plant (%)</th>\n",
       "      <th>Tire (%)</th>\n",
       "      <th>Bin (%)</th>\n",
       "      <th>Bowl (%)</th>\n",
       "      <th>Cup (%)</th>\n",
       "      <th>Vase (%)</th>\n",
       "    </tr>\n",
       "  </thead>\n",
       "  <tbody>\n",
       "    <tr>\n",
       "      <th>0</th>\n",
       "      <td>Phra Nakhon</td>\n",
       "      <td>553.44</td>\n",
       "      <td>766.89</td>\n",
       "      <td>52522</td>\n",
       "      <td>2429</td>\n",
       "      <td>4.39</td>\n",
       "      <td>3.17</td>\n",
       "      <td>0.05</td>\n",
       "      <td>0.91</td>\n",
       "      <td>20.96</td>\n",
       "      <td>63.52</td>\n",
       "      <td>4.16</td>\n",
       "      <td>6.88</td>\n",
       "      <td>3.58</td>\n",
       "      <td>3.01</td>\n",
       "      <td>1.03</td>\n",
       "    </tr>\n",
       "    <tr>\n",
       "      <th>1</th>\n",
       "      <td>Dusit</td>\n",
       "      <td>1169.33</td>\n",
       "      <td>585.67</td>\n",
       "      <td>98450</td>\n",
       "      <td>1137</td>\n",
       "      <td>0.97</td>\n",
       "      <td>1.94</td>\n",
       "      <td>0.01</td>\n",
       "      <td>0.88</td>\n",
       "      <td>25.68</td>\n",
       "      <td>55.41</td>\n",
       "      <td>6.77</td>\n",
       "      <td>9.15</td>\n",
       "      <td>2.11</td>\n",
       "      <td>1.76</td>\n",
       "      <td>0.09</td>\n",
       "    </tr>\n",
       "    <tr>\n",
       "      <th>2</th>\n",
       "      <td>Nong Chok</td>\n",
       "      <td>24815.09</td>\n",
       "      <td>3832.77</td>\n",
       "      <td>167844</td>\n",
       "      <td>7395</td>\n",
       "      <td>0.30</td>\n",
       "      <td>1.93</td>\n",
       "      <td>0.04</td>\n",
       "      <td>2.29</td>\n",
       "      <td>36.23</td>\n",
       "      <td>40.96</td>\n",
       "      <td>9.13</td>\n",
       "      <td>10.76</td>\n",
       "      <td>0.64</td>\n",
       "      <td>0.41</td>\n",
       "      <td>0.09</td>\n",
       "    </tr>\n",
       "    <tr>\n",
       "      <th>3</th>\n",
       "      <td>Bang Rak</td>\n",
       "      <td>414.00</td>\n",
       "      <td>708.78</td>\n",
       "      <td>47308</td>\n",
       "      <td>1897</td>\n",
       "      <td>4.58</td>\n",
       "      <td>2.68</td>\n",
       "      <td>0.04</td>\n",
       "      <td>0.84</td>\n",
       "      <td>24.99</td>\n",
       "      <td>56.40</td>\n",
       "      <td>7.54</td>\n",
       "      <td>6.64</td>\n",
       "      <td>3.58</td>\n",
       "      <td>2.37</td>\n",
       "      <td>0.74</td>\n",
       "    </tr>\n",
       "    <tr>\n",
       "      <th>4</th>\n",
       "      <td>Bang Khen</td>\n",
       "      <td>4228.22</td>\n",
       "      <td>3962.22</td>\n",
       "      <td>190828</td>\n",
       "      <td>14766</td>\n",
       "      <td>3.49</td>\n",
       "      <td>3.73</td>\n",
       "      <td>0.08</td>\n",
       "      <td>1.77</td>\n",
       "      <td>29.41</td>\n",
       "      <td>51.90</td>\n",
       "      <td>5.60</td>\n",
       "      <td>10.44</td>\n",
       "      <td>0.88</td>\n",
       "      <td>0.58</td>\n",
       "      <td>0.19</td>\n",
       "    </tr>\n",
       "  </tbody>\n",
       "</table>\n",
       "</div>"
      ],
      "text/plain": [
       "      District  Area (ha)  Area of Images (ha)  Population  No. of BS  \\\n",
       "0  Phra Nakhon     553.44               766.89       52522       2429   \n",
       "1        Dusit    1169.33               585.67       98450       1137   \n",
       "2    Nong Chok   24815.09              3832.77      167844       7395   \n",
       "3     Bang Rak     414.00               708.78       47308       1897   \n",
       "4    Bang Khen    4228.22              3962.22      190828      14766   \n",
       "\n",
       "   BS/ha land  BS/ha image  BS/person  Jar (%)  Bucket (%)  Potted plant (%)  \\\n",
       "0        4.39         3.17       0.05     0.91       20.96             63.52   \n",
       "1        0.97         1.94       0.01     0.88       25.68             55.41   \n",
       "2        0.30         1.93       0.04     2.29       36.23             40.96   \n",
       "3        4.58         2.68       0.04     0.84       24.99             56.40   \n",
       "4        3.49         3.73       0.08     1.77       29.41             51.90   \n",
       "\n",
       "   Tire (%)  Bin (%)  Bowl (%)  Cup (%)  Vase (%)  \n",
       "0      4.16     6.88      3.58     3.01      1.03  \n",
       "1      6.77     9.15      2.11     1.76      0.09  \n",
       "2      9.13    10.76      0.64     0.41      0.09  \n",
       "3      7.54     6.64      3.58     2.37      0.74  \n",
       "4      5.60    10.44      0.88     0.58      0.19  "
      ]
     },
     "execution_count": 40,
     "metadata": {},
     "output_type": "execute_result"
    }
   ],
   "source": [
    "df_distribution = pd.DataFrame.from_records(\n",
    "    distribution_entry, \n",
    "    columns=[\n",
    "        'District',\n",
    "        'Area (ha)',\n",
    "        'Area of Images (ha)',\n",
    "        'Population',\n",
    "        'No. of BS',\n",
    "        'BS/ha land',\n",
    "        'BS/ha image',\n",
    "        'BS/person',\n",
    "        'Jar (%)',\n",
    "        'Bucket (%)',\n",
    "        'Potted plant (%)',\n",
    "        'Tire (%)',\n",
    "        'Bin (%)',\n",
    "        'Bowl (%)',\n",
    "        'Cup (%)',\n",
    "        'Vase (%)'\n",
    "    ])\n",
    "df_distribution = df_distribution.round(2)\n",
    "df_distribution[['No. of BS','Population']] = df_distribution[['No. of BS','Population']].astype(int)\n",
    "df_distribution.head()\n",
    "df_distribution.to_csv('Bangkok-dist.csv')"
   ]
  },
  {
   "cell_type": "markdown",
   "metadata": {},
   "source": [
    "## 2. Statistics"
   ]
  },
  {
   "cell_type": "code",
   "execution_count": 41,
   "metadata": {},
   "outputs": [
    {
     "data": {
      "text/html": [
       "<div>\n",
       "<style scoped>\n",
       "    .dataframe tbody tr th:only-of-type {\n",
       "        vertical-align: middle;\n",
       "    }\n",
       "\n",
       "    .dataframe tbody tr th {\n",
       "        vertical-align: top;\n",
       "    }\n",
       "\n",
       "    .dataframe thead th {\n",
       "        text-align: right;\n",
       "    }\n",
       "</style>\n",
       "<table border=\"1\" class=\"dataframe\">\n",
       "  <thead>\n",
       "    <tr style=\"text-align: right;\">\n",
       "      <th></th>\n",
       "      <th>Area (ha)</th>\n",
       "      <th>Area of Images (ha)</th>\n",
       "      <th>Population</th>\n",
       "      <th>No. of BS</th>\n",
       "      <th>BS/ha land</th>\n",
       "      <th>BS/ha image</th>\n",
       "      <th>BS/person</th>\n",
       "      <th>Jar (%)</th>\n",
       "      <th>Bucket (%)</th>\n",
       "      <th>Potted plant (%)</th>\n",
       "      <th>Tire (%)</th>\n",
       "      <th>Bin (%)</th>\n",
       "      <th>Bowl (%)</th>\n",
       "      <th>Cup (%)</th>\n",
       "      <th>Vase (%)</th>\n",
       "    </tr>\n",
       "  </thead>\n",
       "  <tbody>\n",
       "    <tr>\n",
       "      <th>count</th>\n",
       "      <td>46.00</td>\n",
       "      <td>46.00</td>\n",
       "      <td>46.00</td>\n",
       "      <td>46.00</td>\n",
       "      <td>46.00</td>\n",
       "      <td>46.00</td>\n",
       "      <td>46.00</td>\n",
       "      <td>46.00</td>\n",
       "      <td>46.00</td>\n",
       "      <td>46.00</td>\n",
       "      <td>46.00</td>\n",
       "      <td>46.00</td>\n",
       "      <td>46.00</td>\n",
       "      <td>46.00</td>\n",
       "      <td>46.00</td>\n",
       "    </tr>\n",
       "    <tr>\n",
       "      <th>mean</th>\n",
       "      <td>3375.08</td>\n",
       "      <td>1945.43</td>\n",
       "      <td>121459.61</td>\n",
       "      <td>5970.59</td>\n",
       "      <td>2.89</td>\n",
       "      <td>3.11</td>\n",
       "      <td>0.05</td>\n",
       "      <td>1.61</td>\n",
       "      <td>29.08</td>\n",
       "      <td>52.93</td>\n",
       "      <td>7.10</td>\n",
       "      <td>7.81</td>\n",
       "      <td>1.48</td>\n",
       "      <td>1.12</td>\n",
       "      <td>0.30</td>\n",
       "    </tr>\n",
       "    <tr>\n",
       "      <th>std</th>\n",
       "      <td>4444.59</td>\n",
       "      <td>1202.48</td>\n",
       "      <td>63804.99</td>\n",
       "      <td>3997.54</td>\n",
       "      <td>1.61</td>\n",
       "      <td>0.88</td>\n",
       "      <td>0.03</td>\n",
       "      <td>0.67</td>\n",
       "      <td>5.03</td>\n",
       "      <td>5.91</td>\n",
       "      <td>2.03</td>\n",
       "      <td>1.87</td>\n",
       "      <td>0.96</td>\n",
       "      <td>0.76</td>\n",
       "      <td>0.25</td>\n",
       "    </tr>\n",
       "    <tr>\n",
       "      <th>min</th>\n",
       "      <td>143.67</td>\n",
       "      <td>172.56</td>\n",
       "      <td>24785.00</td>\n",
       "      <td>656.00</td>\n",
       "      <td>0.30</td>\n",
       "      <td>1.37</td>\n",
       "      <td>0.01</td>\n",
       "      <td>0.46</td>\n",
       "      <td>20.96</td>\n",
       "      <td>34.35</td>\n",
       "      <td>4.16</td>\n",
       "      <td>3.78</td>\n",
       "      <td>0.41</td>\n",
       "      <td>0.41</td>\n",
       "      <td>0.07</td>\n",
       "    </tr>\n",
       "    <tr>\n",
       "      <th>25%</th>\n",
       "      <td>893.00</td>\n",
       "      <td>933.89</td>\n",
       "      <td>74875.75</td>\n",
       "      <td>2812.00</td>\n",
       "      <td>1.62</td>\n",
       "      <td>2.50</td>\n",
       "      <td>0.03</td>\n",
       "      <td>1.08</td>\n",
       "      <td>24.91</td>\n",
       "      <td>50.24</td>\n",
       "      <td>5.78</td>\n",
       "      <td>6.47</td>\n",
       "      <td>0.87</td>\n",
       "      <td>0.59</td>\n",
       "      <td>0.15</td>\n",
       "    </tr>\n",
       "    <tr>\n",
       "      <th>50%</th>\n",
       "      <td>1966.88</td>\n",
       "      <td>1574.94</td>\n",
       "      <td>106362.00</td>\n",
       "      <td>5283.50</td>\n",
       "      <td>2.96</td>\n",
       "      <td>3.24</td>\n",
       "      <td>0.04</td>\n",
       "      <td>1.48</td>\n",
       "      <td>29.49</td>\n",
       "      <td>53.90</td>\n",
       "      <td>6.76</td>\n",
       "      <td>7.59</td>\n",
       "      <td>1.02</td>\n",
       "      <td>0.84</td>\n",
       "      <td>0.21</td>\n",
       "    </tr>\n",
       "    <tr>\n",
       "      <th>75%</th>\n",
       "      <td>3726.28</td>\n",
       "      <td>2753.92</td>\n",
       "      <td>165415.50</td>\n",
       "      <td>8838.00</td>\n",
       "      <td>4.03</td>\n",
       "      <td>3.79</td>\n",
       "      <td>0.08</td>\n",
       "      <td>2.02</td>\n",
       "      <td>31.96</td>\n",
       "      <td>56.32</td>\n",
       "      <td>7.61</td>\n",
       "      <td>9.28</td>\n",
       "      <td>1.84</td>\n",
       "      <td>1.21</td>\n",
       "      <td>0.33</td>\n",
       "    </tr>\n",
       "    <tr>\n",
       "      <th>max</th>\n",
       "      <td>24815.09</td>\n",
       "      <td>5055.33</td>\n",
       "      <td>294501.00</td>\n",
       "      <td>14766.00</td>\n",
       "      <td>7.20</td>\n",
       "      <td>4.94</td>\n",
       "      <td>0.18</td>\n",
       "      <td>3.47</td>\n",
       "      <td>41.72</td>\n",
       "      <td>64.98</td>\n",
       "      <td>14.83</td>\n",
       "      <td>11.40</td>\n",
       "      <td>4.18</td>\n",
       "      <td>3.12</td>\n",
       "      <td>1.07</td>\n",
       "    </tr>\n",
       "  </tbody>\n",
       "</table>\n",
       "</div>"
      ],
      "text/plain": [
       "       Area (ha)  Area of Images (ha)  Population  No. of BS  BS/ha land  \\\n",
       "count      46.00                46.00       46.00      46.00       46.00   \n",
       "mean     3375.08              1945.43   121459.61    5970.59        2.89   \n",
       "std      4444.59              1202.48    63804.99    3997.54        1.61   \n",
       "min       143.67               172.56    24785.00     656.00        0.30   \n",
       "25%       893.00               933.89    74875.75    2812.00        1.62   \n",
       "50%      1966.88              1574.94   106362.00    5283.50        2.96   \n",
       "75%      3726.28              2753.92   165415.50    8838.00        4.03   \n",
       "max     24815.09              5055.33   294501.00   14766.00        7.20   \n",
       "\n",
       "       BS/ha image  BS/person  Jar (%)  Bucket (%)  Potted plant (%)  \\\n",
       "count        46.00      46.00    46.00       46.00             46.00   \n",
       "mean          3.11       0.05     1.61       29.08             52.93   \n",
       "std           0.88       0.03     0.67        5.03              5.91   \n",
       "min           1.37       0.01     0.46       20.96             34.35   \n",
       "25%           2.50       0.03     1.08       24.91             50.24   \n",
       "50%           3.24       0.04     1.48       29.49             53.90   \n",
       "75%           3.79       0.08     2.02       31.96             56.32   \n",
       "max           4.94       0.18     3.47       41.72             64.98   \n",
       "\n",
       "       Tire (%)  Bin (%)  Bowl (%)  Cup (%)  Vase (%)  \n",
       "count     46.00    46.00     46.00    46.00     46.00  \n",
       "mean       7.10     7.81      1.48     1.12      0.30  \n",
       "std        2.03     1.87      0.96     0.76      0.25  \n",
       "min        4.16     3.78      0.41     0.41      0.07  \n",
       "25%        5.78     6.47      0.87     0.59      0.15  \n",
       "50%        6.76     7.59      1.02     0.84      0.21  \n",
       "75%        7.61     9.28      1.84     1.21      0.33  \n",
       "max       14.83    11.40      4.18     3.12      1.07  "
      ]
     },
     "execution_count": 41,
     "metadata": {},
     "output_type": "execute_result"
    }
   ],
   "source": [
    "df_distribution.describe().round(2)\n",
    "df_distribution.describe().round(2).to_csv('Bangkok-dist-stat.csv')"
   ]
  },
  {
   "cell_type": "markdown",
   "metadata": {},
   "source": [
    "## 3. Boxplot"
   ]
  },
  {
   "cell_type": "code",
   "execution_count": 30,
   "metadata": {},
   "outputs": [
    {
     "data": {
      "text/plain": [
       "<matplotlib.figure.Figure at 0x7fedf3940a20>"
      ]
     },
     "execution_count": 30,
     "metadata": {},
     "output_type": "execute_result"
    },
    {
     "data": {
      "text/plain": [
       "<matplotlib.axes._subplots.AxesSubplot at 0x7fedf2e03828>"
      ]
     },
     "execution_count": 30,
     "metadata": {},
     "output_type": "execute_result"
    },
    {
     "data": {
      "image/png": "[encoded data removed]",
      "text/plain": [
       "<matplotlib.figure.Figure at 0x7fedf3940a20>"
      ]
     },
     "metadata": {},
     "output_type": "display_data"
    }
   ],
   "source": [
    "sns.set()\n",
    "plt.figure(figsize=(12,4))\n",
    "plt.style.use(['seaborn-notebook'])\n",
    "sns.boxplot(df_distribution['BS/ha land'])"
   ]
  },
  {
   "cell_type": "code",
   "execution_count": 31,
   "metadata": {},
   "outputs": [
    {
     "data": {
      "text/plain": [
       "<matplotlib.figure.Figure at 0x7fedf3945518>"
      ]
     },
     "execution_count": 31,
     "metadata": {},
     "output_type": "execute_result"
    },
    {
     "data": {
      "text/plain": [
       "<matplotlib.axes._subplots.AxesSubplot at 0x7fedf2e08b00>"
      ]
     },
     "execution_count": 31,
     "metadata": {},
     "output_type": "execute_result"
    },
    {
     "data": {
      "image/png": "[encoded data removed]",
      "text/plain": [
       "<matplotlib.figure.Figure at 0x7fedf3945518>"
      ]
     },
     "metadata": {},
     "output_type": "display_data"
    }
   ],
   "source": [
    "plt.figure(figsize=(12,4))\n",
    "sns.boxplot(df_distribution['BS/ha image'])"
   ]
  },
  {
   "cell_type": "code",
   "execution_count": 32,
   "metadata": {},
   "outputs": [
    {
     "data": {
      "text/plain": [
       "<matplotlib.figure.Figure at 0x7fedf2deefd0>"
      ]
     },
     "execution_count": 32,
     "metadata": {},
     "output_type": "execute_result"
    },
    {
     "data": {
      "text/plain": [
       "<matplotlib.axes._subplots.AxesSubplot at 0x7fedf3945128>"
      ]
     },
     "execution_count": 32,
     "metadata": {},
     "output_type": "execute_result"
    },
    {
     "data": {
      "image/png": "[encoded data removed]",
      "text/plain": [
       "<matplotlib.figure.Figure at 0x7fedf2deefd0>"
      ]
     },
     "metadata": {},
     "output_type": "display_data"
    }
   ],
   "source": [
    "plt.figure(figsize=(12,4))\n",
    "sns.boxplot(df_distribution['BS/person'])"
   ]
  },
  {
   "cell_type": "markdown",
   "metadata": {},
   "source": [
    "## 4. Distribution Plot"
   ]
  },
  {
   "cell_type": "code",
   "execution_count": 49,
   "metadata": {},
   "outputs": [
    {
     "data": {
      "text/plain": [
       "<matplotlib.figure.Figure at 0x7fedf2c3a780>"
      ]
     },
     "execution_count": 49,
     "metadata": {},
     "output_type": "execute_result"
    },
    {
     "data": {
      "text/plain": [
       "Text(0.5,1,'Bangkok-Districts')"
      ]
     },
     "execution_count": 49,
     "metadata": {},
     "output_type": "execute_result"
    },
    {
     "data": {
      "text/plain": [
       "<matplotlib.axes._subplots.AxesSubplot at 0x7fedf2a0e198>"
      ]
     },
     "execution_count": 49,
     "metadata": {},
     "output_type": "execute_result"
    },
    {
     "data": {
      "text/plain": [
       "<matplotlib.axes._subplots.AxesSubplot at 0x7fedf2a0e198>"
      ]
     },
     "execution_count": 49,
     "metadata": {},
     "output_type": "execute_result"
    },
    {
     "data": {
      "text/plain": [
       "<matplotlib.axes._subplots.AxesSubplot at 0x7fedf2a0e198>"
      ]
     },
     "execution_count": 49,
     "metadata": {},
     "output_type": "execute_result"
    },
    {
     "data": {
      "text/plain": [
       "<matplotlib.axes._subplots.AxesSubplot at 0x7fedf2a0e198>"
      ]
     },
     "execution_count": 49,
     "metadata": {},
     "output_type": "execute_result"
    },
    {
     "data": {
      "text/plain": [
       "<matplotlib.legend.Legend at 0x7fedf2e515c0>"
      ]
     },
     "execution_count": 49,
     "metadata": {},
     "output_type": "execute_result"
    },
    {
     "data": {
      "image/png": "[encoded data removed]",
      "text/plain": [
       "<matplotlib.figure.Figure at 0x7fedf2c3a780>"
      ]
     },
     "metadata": {},
     "output_type": "display_data"
    }
   ],
   "source": [
    "sns.set(font_scale=1.5)\n",
    "plt.figure(figsize=(12,6))\n",
    "plt.title('Bangkok-Districts')\n",
    "sns.distplot(df_distribution['Bin (%)'], label=\"Bin (%)\", axlabel='Percentage (%)')\n",
    "sns.distplot(df_distribution['Bucket (%)'], label=\"Bucket (%)\", axlabel='Percentage (%)')\n",
    "sns.distplot(df_distribution['Potted plant (%)'], label=\"Potted plant (%)\", axlabel='Percentage (%)')\n",
    "sns.distplot(df_distribution['Tire (%)'], label=\"Tire (%)\", axlabel='Percentage (%)')\n",
    "plt.legend()\n"
   ]
  },
  {
   "cell_type": "code",
   "execution_count": 48,
   "metadata": {},
   "outputs": [
    {
     "data": {
      "text/plain": [
       "<matplotlib.figure.Figure at 0x7fedf39fa080>"
      ]
     },
     "execution_count": 48,
     "metadata": {},
     "output_type": "execute_result"
    },
    {
     "data": {
      "text/plain": [
       "Text(0.5,1,'Bangkok-Districts')"
      ]
     },
     "execution_count": 48,
     "metadata": {},
     "output_type": "execute_result"
    },
    {
     "data": {
      "text/plain": [
       "<matplotlib.axes._subplots.AxesSubplot at 0x7fedf39f9d30>"
      ]
     },
     "execution_count": 48,
     "metadata": {},
     "output_type": "execute_result"
    },
    {
     "data": {
      "text/plain": [
       "<matplotlib.axes._subplots.AxesSubplot at 0x7fedf39f9d30>"
      ]
     },
     "execution_count": 48,
     "metadata": {},
     "output_type": "execute_result"
    },
    {
     "data": {
      "text/plain": [
       "<matplotlib.axes._subplots.AxesSubplot at 0x7fedf39f9d30>"
      ]
     },
     "execution_count": 48,
     "metadata": {},
     "output_type": "execute_result"
    },
    {
     "data": {
      "text/plain": [
       "<matplotlib.axes._subplots.AxesSubplot at 0x7fedf39f9d30>"
      ]
     },
     "execution_count": 48,
     "metadata": {},
     "output_type": "execute_result"
    },
    {
     "data": {
      "text/plain": [
       "<matplotlib.legend.Legend at 0x7fedf2bae358>"
      ]
     },
     "execution_count": 48,
     "metadata": {},
     "output_type": "execute_result"
    },
    {
     "data": {
      "image/png": "[encoded data removed]",
      "text/plain": [
       "<matplotlib.figure.Figure at 0x7fedf39fa080>"
      ]
     },
     "metadata": {},
     "output_type": "display_data"
    }
   ],
   "source": [
    "sns.set(font_scale=1.5)\n",
    "plt.figure(figsize=(12,6))\n",
    "plt.title('Bangkok-Districts')\n",
    "sns.distplot(df_distribution['Vase (%)'], label=\"Vase (%)\", axlabel='Percentage (%)')\n",
    "sns.distplot(df_distribution['Cup (%)'], label=\"Cup (%)\", axlabel='Percentage (%)')\n",
    "sns.distplot(df_distribution[['Jar (%)']], label=\"Jar (%)\", axlabel='Percentage (%)')\n",
    "sns.distplot(df_distribution['Bowl (%)'], label=\"Bowl (%)\", axlabel='Percentage (%)')\n",
    "plt.legend()"
   ]
  },
  {
   "cell_type": "code",
   "execution_count": null,
   "metadata": {},
   "outputs": [],
   "source": []
  }
 ],
 "metadata": {
  "kernelspec": {
   "display_name": "Python 3",
   "language": "python",
   "name": "python3"
  },
  "language_info": {
   "codemirror_mode": {
    "name": "ipython",
    "version": 3
   },
   "file_extension": ".py",
   "mimetype": "text/x-python",
   "name": "python",
   "nbconvert_exporter": "python",
   "pygments_lexer": "ipython3",
   "version": "3.5.2"
  }
 },
 "nbformat": 4,
 "nbformat_minor": 2
}
