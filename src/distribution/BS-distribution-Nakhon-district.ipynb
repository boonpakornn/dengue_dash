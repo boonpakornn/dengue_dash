{
 "cells": [
  {
   "cell_type": "markdown",
   "metadata": {},
   "source": [
    "# Breeding Site Distribution of Nakhon-Si-Thammarat in District Level"
   ]
  },
  {
   "cell_type": "code",
   "execution_count": 1,
   "metadata": {},
   "outputs": [
    {
     "data": {
      "text/html": [
       "<style>.container { width:100% !important; }</style>"
      ],
      "text/plain": [
       "<IPython.core.display.HTML object>"
      ]
     },
     "metadata": {},
     "output_type": "display_data"
    },
    {
     "data": {
      "text/html": [
       "<script>requirejs.config({paths: { 'plotly': ['https://cdn.plot.ly/plotly-latest.min']},});if(!window.Plotly) {{require(['plotly'],function(plotly) {window.Plotly=plotly;});}}</script>"
      ],
      "text/vnd.plotly.v1+html": [
       "<script>requirejs.config({paths: { 'plotly': ['https://cdn.plot.ly/plotly-latest.min']},});if(!window.Plotly) {{require(['plotly'],function(plotly) {window.Plotly=plotly;});}}</script>"
      ]
     },
     "metadata": {},
     "output_type": "display_data"
    }
   ],
   "source": [
    "from IPython.core.display import display, HTML\n",
    "display(HTML(\"<style>.container { width:100% !important; }</style>\"))\n",
    "\n",
    "from IPython.core.interactiveshell import InteractiveShell\n",
    "InteractiveShell.ast_node_interactivity = \"all\"\n",
    "\n",
    "from plotly import tools\n",
    "from plotly.graph_objs import *\n",
    "from plotly.offline import download_plotlyjs, init_notebook_mode, plot, iplot\n",
    "init_notebook_mode(connected=True)\n",
    "\n",
    "import plotly.graph_objs as go\n",
    "import matplotlib as mpl\n",
    "import matplotlib.cm as cm\n",
    "import matplotlib.pyplot as plt\n",
    "import numpy as np\n",
    "import pandas as pd\n",
    "import seaborn as sns\n",
    "import os\n",
    "import json\n",
    "import itertools\n",
    "\n",
    "from tqdm import tqdm\n",
    "from copy import deepcopy\n",
    "from scipy.stats.stats import pearsonr, spearmanr\n",
    "from shapely.geometry import Polygon\n",
    "from collections import Counter\n",
    "\n",
    "sns.set(color_codes=True)\n",
    "\n",
    "data_dir = os.path.join('..','..','data')"
   ]
  },
  {
   "cell_type": "markdown",
   "metadata": {},
   "source": [
    "## 0. Helper Function"
   ]
  },
  {
   "cell_type": "code",
   "execution_count": 12,
   "metadata": {},
   "outputs": [],
   "source": [
    "def get_detect(df_detect, addrcode, columns=None):\n",
    "    if columns is None:\n",
    "        detect = round(df_detect.loc[df_detect['addrcode'] == addrcode].mean()['total'], 2)\n",
    "    else:\n",
    "        # Breeding Site Feature\n",
    "        detect = df_detect.loc[df_detect['addrcode'] == addrcode][columns].copy()\n",
    "    return detect\n",
    "\n",
    "def get_area(df_area, addrcode):\n",
    "    area = round(df_area.loc[df_area['addrcode'] == addrcode]['area'].mean(), 2)\n",
    "    return area\n",
    "\n",
    "def get_population(df_population, addrcode):\n",
    "    population = round(df_population.loc[df_population['addrcode'] == addrcode]['population'].mean(), 2)\n",
    "    return population\n",
    "\n",
    "def get_gsv_coverage(df_gsv_coverage, addrcode):\n",
    "    coverage = df_gsv_coverage.loc[df_gsv_coverage['addrcode'] == addrcode]['image_area'].mean()\n",
    "    return coverage\n",
    "\n",
    "def get_dict_info(df_dictionary, addrcode):\n",
    "    dict_info = df_dictionary.loc[df_dictionary['addrcode'] == addrcode]\n",
    "    return dict_info\n",
    "\n",
    "def get_percentage(part, whole):\n",
    "    return 100 * float(part)/float(whole)\n",
    "\n",
    "def get_hectare(area):\n",
    "    return area*111111*0.0001"
   ]
  },
  {
   "cell_type": "markdown",
   "metadata": {},
   "source": [
    "## 1. Load Data"
   ]
  },
  {
   "cell_type": "code",
   "execution_count": 13,
   "metadata": {},
   "outputs": [
    {
     "data": {
      "text/html": [
       "<div>\n",
       "<style scoped>\n",
       "    .dataframe tbody tr th:only-of-type {\n",
       "        vertical-align: middle;\n",
       "    }\n",
       "\n",
       "    .dataframe tbody tr th {\n",
       "        vertical-align: top;\n",
       "    }\n",
       "\n",
       "    .dataframe thead th {\n",
       "        text-align: right;\n",
       "    }\n",
       "</style>\n",
       "<table border=\"1\" class=\"dataframe\">\n",
       "  <thead>\n",
       "    <tr style=\"text-align: right;\">\n",
       "      <th></th>\n",
       "      <th>addrcode</th>\n",
       "      <th>bin</th>\n",
       "      <th>bowl</th>\n",
       "      <th>bucket</th>\n",
       "      <th>cup</th>\n",
       "      <th>jar</th>\n",
       "      <th>pottedplant</th>\n",
       "      <th>tire</th>\n",
       "      <th>vase</th>\n",
       "      <th>total</th>\n",
       "    </tr>\n",
       "  </thead>\n",
       "  <tbody>\n",
       "    <tr>\n",
       "      <th>0</th>\n",
       "      <td>1001</td>\n",
       "      <td>167</td>\n",
       "      <td>87</td>\n",
       "      <td>509</td>\n",
       "      <td>73</td>\n",
       "      <td>22</td>\n",
       "      <td>1543</td>\n",
       "      <td>101</td>\n",
       "      <td>25</td>\n",
       "      <td>2527</td>\n",
       "    </tr>\n",
       "  </tbody>\n",
       "</table>\n",
       "</div>"
      ],
      "text/plain": [
       "  addrcode  bin  bowl  bucket  cup  jar  pottedplant  tire  vase  total\n",
       "0     1001  167    87     509   73   22         1543   101    25   2527"
      ]
     },
     "execution_count": 13,
     "metadata": {},
     "output_type": "execute_result"
    },
    {
     "data": {
      "text/html": [
       "<div>\n",
       "<style scoped>\n",
       "    .dataframe tbody tr th:only-of-type {\n",
       "        vertical-align: middle;\n",
       "    }\n",
       "\n",
       "    .dataframe tbody tr th {\n",
       "        vertical-align: top;\n",
       "    }\n",
       "\n",
       "    .dataframe thead th {\n",
       "        text-align: right;\n",
       "    }\n",
       "</style>\n",
       "<table border=\"1\" class=\"dataframe\">\n",
       "  <thead>\n",
       "    <tr style=\"text-align: right;\">\n",
       "      <th></th>\n",
       "      <th>addrcode</th>\n",
       "      <th>area</th>\n",
       "    </tr>\n",
       "  </thead>\n",
       "  <tbody>\n",
       "    <tr>\n",
       "      <th>0</th>\n",
       "      <td>1001</td>\n",
       "      <td>49.81</td>\n",
       "    </tr>\n",
       "  </tbody>\n",
       "</table>\n",
       "</div>"
      ],
      "text/plain": [
       "  addrcode   area\n",
       "0     1001  49.81"
      ]
     },
     "execution_count": 13,
     "metadata": {},
     "output_type": "execute_result"
    },
    {
     "data": {
      "text/html": [
       "<div>\n",
       "<style scoped>\n",
       "    .dataframe tbody tr th:only-of-type {\n",
       "        vertical-align: middle;\n",
       "    }\n",
       "\n",
       "    .dataframe tbody tr th {\n",
       "        vertical-align: top;\n",
       "    }\n",
       "\n",
       "    .dataframe thead th {\n",
       "        text-align: right;\n",
       "    }\n",
       "</style>\n",
       "<table border=\"1\" class=\"dataframe\">\n",
       "  <thead>\n",
       "    <tr style=\"text-align: right;\">\n",
       "      <th></th>\n",
       "      <th>addrcode</th>\n",
       "      <th>population</th>\n",
       "    </tr>\n",
       "  </thead>\n",
       "  <tbody>\n",
       "    <tr>\n",
       "      <th>0</th>\n",
       "      <td>1001</td>\n",
       "      <td>52522</td>\n",
       "    </tr>\n",
       "  </tbody>\n",
       "</table>\n",
       "</div>"
      ],
      "text/plain": [
       "  addrcode  population\n",
       "0     1001       52522"
      ]
     },
     "execution_count": 13,
     "metadata": {},
     "output_type": "execute_result"
    },
    {
     "data": {
      "text/html": [
       "<div>\n",
       "<style scoped>\n",
       "    .dataframe tbody tr th:only-of-type {\n",
       "        vertical-align: middle;\n",
       "    }\n",
       "\n",
       "    .dataframe tbody tr th {\n",
       "        vertical-align: top;\n",
       "    }\n",
       "\n",
       "    .dataframe thead th {\n",
       "        text-align: right;\n",
       "    }\n",
       "</style>\n",
       "<table border=\"1\" class=\"dataframe\">\n",
       "  <thead>\n",
       "    <tr style=\"text-align: right;\">\n",
       "      <th></th>\n",
       "      <th>addrcode</th>\n",
       "      <th>district_th</th>\n",
       "      <th>district_en</th>\n",
       "      <th>province_th</th>\n",
       "      <th>province_en</th>\n",
       "    </tr>\n",
       "  </thead>\n",
       "  <tbody>\n",
       "    <tr>\n",
       "      <th>0</th>\n",
       "      <td>1001</td>\n",
       "      <td>พระนคร</td>\n",
       "      <td>Phra Nakhon</td>\n",
       "      <td>กรุงเทพมหานคร</td>\n",
       "      <td>Bangkok</td>\n",
       "    </tr>\n",
       "  </tbody>\n",
       "</table>\n",
       "</div>"
      ],
      "text/plain": [
       "  addrcode district_th  district_en    province_th province_en\n",
       "0     1001      พระนคร  Phra Nakhon  กรุงเทพมหานคร     Bangkok"
      ]
     },
     "execution_count": 13,
     "metadata": {},
     "output_type": "execute_result"
    },
    {
     "data": {
      "text/html": [
       "<div>\n",
       "<style scoped>\n",
       "    .dataframe tbody tr th:only-of-type {\n",
       "        vertical-align: middle;\n",
       "    }\n",
       "\n",
       "    .dataframe tbody tr th {\n",
       "        vertical-align: top;\n",
       "    }\n",
       "\n",
       "    .dataframe thead th {\n",
       "        text-align: right;\n",
       "    }\n",
       "</style>\n",
       "<table border=\"1\" class=\"dataframe\">\n",
       "  <thead>\n",
       "    <tr style=\"text-align: right;\">\n",
       "      <th></th>\n",
       "      <th>addrcode</th>\n",
       "      <th>land_area</th>\n",
       "      <th>image_area</th>\n",
       "    </tr>\n",
       "  </thead>\n",
       "  <tbody>\n",
       "    <tr>\n",
       "      <th>0</th>\n",
       "      <td>1001</td>\n",
       "      <td>49.81</td>\n",
       "      <td>69.02</td>\n",
       "    </tr>\n",
       "  </tbody>\n",
       "</table>\n",
       "</div>"
      ],
      "text/plain": [
       "  addrcode  land_area  image_area\n",
       "0     1001      49.81       69.02"
      ]
     },
     "execution_count": 13,
     "metadata": {},
     "output_type": "execute_result"
    }
   ],
   "source": [
    "# Load Detected Breeding Sites\n",
    "df_detect = pd.read_csv(os.path.join(data_dir,'breeding-sites','csv','addrcode-index','detection.csv')) \n",
    "df_detect['date'] = pd.to_datetime(df_detect['date'], format='%Y-%m')\n",
    "df_detect['addrcode'] = df_detect['addrcode'].astype('str')\n",
    "df_detect['addrcode'] = df_detect['addrcode'].str[:-2]\n",
    "df_detect = df_detect.groupby(['addrcode']).sum()\n",
    "df_detect = df_detect.reset_index()\n",
    "df_detect.head(1)\n",
    "# print('Total data points:',len(df_detect))\n",
    "\n",
    "# Area\n",
    "df_area = pd.read_csv(os.path.join(data_dir,'shapefiles','csv','subdistricts-area.csv')) \n",
    "df_area['addrcode'] = df_area['addrcode'].astype('str')\n",
    "df_area['addrcode'] = df_area['addrcode'].str[:-2]\n",
    "df_area = df_area.groupby(['addrcode']).sum()\n",
    "df_area = df_area.reset_index()\n",
    "df_area.head(1)\n",
    "# print('Total data points:',len(df_area))\n",
    "\n",
    "# Population \n",
    "df_population = pd.read_csv(os.path.join(data_dir,'population','addrcode-index','population.csv')) \n",
    "df_population['addrcode'] = df_population['addrcode'].astype('str')\n",
    "df_population['addrcode'] = df_population['addrcode'].str[:-2]\n",
    "df_population = df_population.groupby(['addrcode']).sum()\n",
    "df_population = df_population.reset_index()\n",
    "df_population.head(1)\n",
    "# print('Total data points:',len(df_population))\n",
    "\n",
    "df_dictionary = pd.read_csv(os.path.join(data_dir,'shapefiles','csv','addrcode-dictionary.csv')) \n",
    "df_dictionary['addrcode'] = df_dictionary['addrcode'].astype('str')\n",
    "df_dictionary['addrcode'] = df_dictionary['addrcode'].str[:-2]\n",
    "df_dictionary = df_dictionary.drop(['subdistrict_th','subdistrict_en','district_code','province_code','LAT','LONG','Population'], axis=1)\n",
    "df_dictionary = df_dictionary.drop_duplicates()\n",
    "df_dictionary.head(1)\n",
    "\n",
    "df_gsv_coverage = pd.read_csv(os.path.join(data_dir,'shapefiles','csv','gsv-coverage.csv')) \n",
    "df_gsv_coverage['addrcode'] = df_gsv_coverage['addrcode'].astype('str')\n",
    "df_gsv_coverage['addrcode'] = df_gsv_coverage['addrcode'].str[:-2]\n",
    "df_gsv_coverage = df_gsv_coverage.groupby(['addrcode']).sum()\n",
    "df_gsv_coverage = df_gsv_coverage.reset_index()\n",
    "df_gsv_coverage.head(1)"
   ]
  },
  {
   "cell_type": "code",
   "execution_count": 31,
   "metadata": {},
   "outputs": [
    {
     "data": {
      "text/html": [
       "<div>\n",
       "<style scoped>\n",
       "    .dataframe tbody tr th:only-of-type {\n",
       "        vertical-align: middle;\n",
       "    }\n",
       "\n",
       "    .dataframe tbody tr th {\n",
       "        vertical-align: top;\n",
       "    }\n",
       "\n",
       "    .dataframe thead th {\n",
       "        text-align: right;\n",
       "    }\n",
       "</style>\n",
       "<table border=\"1\" class=\"dataframe\">\n",
       "  <thead>\n",
       "    <tr style=\"text-align: right;\">\n",
       "      <th></th>\n",
       "      <th>District</th>\n",
       "      <th>Area (ha)</th>\n",
       "      <th>Area of Images (ha)</th>\n",
       "      <th>Population</th>\n",
       "      <th>No. of BS</th>\n",
       "      <th>BS/ha land</th>\n",
       "      <th>BS/ha image</th>\n",
       "      <th>BS/person</th>\n",
       "      <th>Jar (%)</th>\n",
       "      <th>Bucket (%)</th>\n",
       "      <th>Potted plant (%)</th>\n",
       "      <th>Tire (%)</th>\n",
       "      <th>Bin (%)</th>\n",
       "      <th>Bowl (%)</th>\n",
       "      <th>Cup (%)</th>\n",
       "      <th>Vase (%)</th>\n",
       "    </tr>\n",
       "  </thead>\n",
       "  <tbody>\n",
       "    <tr>\n",
       "      <th>0</th>\n",
       "      <td>Mueang Nakhon Si Thammarat</td>\n",
       "      <td>56460.94</td>\n",
       "      <td>11149.66</td>\n",
       "      <td>271330</td>\n",
       "      <td>19915</td>\n",
       "      <td>0.35</td>\n",
       "      <td>1.79</td>\n",
       "      <td>0.07</td>\n",
       "      <td>1.78</td>\n",
       "      <td>41.91</td>\n",
       "      <td>36.77</td>\n",
       "      <td>6.30</td>\n",
       "      <td>11.77</td>\n",
       "      <td>0.57</td>\n",
       "      <td>0.81</td>\n",
       "      <td>0.10</td>\n",
       "    </tr>\n",
       "    <tr>\n",
       "      <th>1</th>\n",
       "      <td>Phrom Khiri</td>\n",
       "      <td>25009.86</td>\n",
       "      <td>1851.33</td>\n",
       "      <td>37513</td>\n",
       "      <td>2099</td>\n",
       "      <td>0.08</td>\n",
       "      <td>1.13</td>\n",
       "      <td>0.06</td>\n",
       "      <td>0.52</td>\n",
       "      <td>39.40</td>\n",
       "      <td>39.45</td>\n",
       "      <td>5.72</td>\n",
       "      <td>13.91</td>\n",
       "      <td>0.57</td>\n",
       "      <td>0.33</td>\n",
       "      <td>0.10</td>\n",
       "    </tr>\n",
       "    <tr>\n",
       "      <th>2</th>\n",
       "      <td>Lan Saka</td>\n",
       "      <td>34954.41</td>\n",
       "      <td>1524.44</td>\n",
       "      <td>40900</td>\n",
       "      <td>1479</td>\n",
       "      <td>0.04</td>\n",
       "      <td>0.97</td>\n",
       "      <td>0.04</td>\n",
       "      <td>2.10</td>\n",
       "      <td>46.79</td>\n",
       "      <td>31.58</td>\n",
       "      <td>5.07</td>\n",
       "      <td>13.79</td>\n",
       "      <td>0.34</td>\n",
       "      <td>0.27</td>\n",
       "      <td>0.07</td>\n",
       "    </tr>\n",
       "    <tr>\n",
       "      <th>3</th>\n",
       "      <td>Chawang</td>\n",
       "      <td>43949.84</td>\n",
       "      <td>2764.89</td>\n",
       "      <td>67293</td>\n",
       "      <td>3650</td>\n",
       "      <td>0.08</td>\n",
       "      <td>1.32</td>\n",
       "      <td>0.05</td>\n",
       "      <td>1.81</td>\n",
       "      <td>44.03</td>\n",
       "      <td>32.49</td>\n",
       "      <td>6.30</td>\n",
       "      <td>13.89</td>\n",
       "      <td>0.41</td>\n",
       "      <td>1.04</td>\n",
       "      <td>0.03</td>\n",
       "    </tr>\n",
       "    <tr>\n",
       "      <th>4</th>\n",
       "      <td>Phipun</td>\n",
       "      <td>50118.06</td>\n",
       "      <td>1186.33</td>\n",
       "      <td>29226</td>\n",
       "      <td>1812</td>\n",
       "      <td>0.04</td>\n",
       "      <td>1.53</td>\n",
       "      <td>0.06</td>\n",
       "      <td>1.77</td>\n",
       "      <td>51.27</td>\n",
       "      <td>32.62</td>\n",
       "      <td>6.07</td>\n",
       "      <td>6.40</td>\n",
       "      <td>0.72</td>\n",
       "      <td>0.77</td>\n",
       "      <td>0.39</td>\n",
       "    </tr>\n",
       "  </tbody>\n",
       "</table>\n",
       "</div>"
      ],
      "text/plain": [
       "                     District  Area (ha)  Area of Images (ha)  Population  \\\n",
       "0  Mueang Nakhon Si Thammarat   56460.94             11149.66      271330   \n",
       "1                 Phrom Khiri   25009.86              1851.33       37513   \n",
       "2                    Lan Saka   34954.41              1524.44       40900   \n",
       "3                     Chawang   43949.84              2764.89       67293   \n",
       "4                      Phipun   50118.06              1186.33       29226   \n",
       "\n",
       "   No. of BS  BS/ha land  BS/ha image  BS/person  Jar (%)  Bucket (%)  \\\n",
       "0      19915        0.35         1.79       0.07     1.78       41.91   \n",
       "1       2099        0.08         1.13       0.06     0.52       39.40   \n",
       "2       1479        0.04         0.97       0.04     2.10       46.79   \n",
       "3       3650        0.08         1.32       0.05     1.81       44.03   \n",
       "4       1812        0.04         1.53       0.06     1.77       51.27   \n",
       "\n",
       "   Potted plant (%)  Tire (%)  Bin (%)  Bowl (%)  Cup (%)  Vase (%)  \n",
       "0             36.77      6.30    11.77      0.57     0.81      0.10  \n",
       "1             39.45      5.72    13.91      0.57     0.33      0.10  \n",
       "2             31.58      5.07    13.79      0.34     0.27      0.07  \n",
       "3             32.49      6.30    13.89      0.41     1.04      0.03  \n",
       "4             32.62      6.07     6.40      0.72     0.77      0.39  "
      ]
     },
     "execution_count": 31,
     "metadata": {},
     "output_type": "execute_result"
    }
   ],
   "source": [
    "brd_sites=['bin','bowl','bucket','cup','jar','pottedplant','tire','vase']\n",
    "distribution_entry = []\n",
    "p = 0\n",
    "for addrcode in df_detect['addrcode'].unique():\n",
    "    \n",
    "    if str(addrcode)[:2] == '80':\n",
    "        \n",
    "        dict_info = get_dict_info(df_dictionary, addrcode)\n",
    "        district = get_dict_info(df_dictionary, addrcode).iloc[0]['district_en']\n",
    "        land_area = get_hectare(get_area(df_area, addrcode))\n",
    "        image_area =  get_hectare(get_gsv_coverage(df_gsv_coverage, addrcode))\n",
    "        population = get_population(df_population, addrcode)\n",
    "        bs_total = get_detect(df_detect, addrcode)\n",
    "        bs_classes = get_detect(df_detect, addrcode, brd_sites)\n",
    "        \n",
    "        if np.isnan(population): continue\n",
    "\n",
    "        distribution_entry.append([\n",
    "            district,\n",
    "            land_area,\n",
    "            image_area,\n",
    "            population,\n",
    "            bs_total,\n",
    "            bs_total/land_area,\n",
    "            bs_total/image_area,\n",
    "            bs_total/population,\n",
    "            get_percentage(bs_classes.jar, bs_total),\n",
    "            get_percentage(bs_classes.bucket, bs_total),\n",
    "            get_percentage(bs_classes.pottedplant, bs_total),\n",
    "            get_percentage(bs_classes.tire, bs_total),\n",
    "            get_percentage(bs_classes.bin, bs_total),\n",
    "            get_percentage(bs_classes.bowl, bs_total),\n",
    "            get_percentage(bs_classes.cup, bs_total),\n",
    "            get_percentage(bs_classes.vase, bs_total)\n",
    "        ])\n",
    "        \n",
    "df_distribution = pd.DataFrame.from_records(\n",
    "    distribution_entry, \n",
    "    columns=[\n",
    "        'District',\n",
    "        'Area (ha)',\n",
    "        'Area of Images (ha)',\n",
    "        'Population',\n",
    "        'No. of BS',\n",
    "        'BS/ha land',\n",
    "        'BS/ha image',\n",
    "        'BS/person',\n",
    "        'Jar (%)',\n",
    "        'Bucket (%)',\n",
    "        'Potted plant (%)',\n",
    "        'Tire (%)',\n",
    "        'Bin (%)',\n",
    "        'Bowl (%)',\n",
    "        'Cup (%)',\n",
    "        'Vase (%)'\n",
    "    ])\n",
    "df_distribution = df_distribution.round(2)\n",
    "df_distribution[['No. of BS','Population']] = df_distribution[['No. of BS','Population']].astype(int)\n",
    "df_distribution.head()\n",
    "df_distribution.to_csv('Nakhon-dist.csv')"
   ]
  },
  {
   "cell_type": "markdown",
   "metadata": {},
   "source": [
    "## 2. Statistics"
   ]
  },
  {
   "cell_type": "code",
   "execution_count": 33,
   "metadata": {},
   "outputs": [
    {
     "data": {
      "text/html": [
       "<div>\n",
       "<style scoped>\n",
       "    .dataframe tbody tr th:only-of-type {\n",
       "        vertical-align: middle;\n",
       "    }\n",
       "\n",
       "    .dataframe tbody tr th {\n",
       "        vertical-align: top;\n",
       "    }\n",
       "\n",
       "    .dataframe thead th {\n",
       "        text-align: right;\n",
       "    }\n",
       "</style>\n",
       "<table border=\"1\" class=\"dataframe\">\n",
       "  <thead>\n",
       "    <tr style=\"text-align: right;\">\n",
       "      <th></th>\n",
       "      <th>Area (ha)</th>\n",
       "      <th>Area of Images (ha)</th>\n",
       "      <th>Population</th>\n",
       "      <th>No. of BS</th>\n",
       "      <th>BS/ha land</th>\n",
       "      <th>BS/ha image</th>\n",
       "      <th>BS/person</th>\n",
       "      <th>Jar (%)</th>\n",
       "      <th>Bucket (%)</th>\n",
       "      <th>Potted plant (%)</th>\n",
       "      <th>Tire (%)</th>\n",
       "      <th>Bin (%)</th>\n",
       "      <th>Bowl (%)</th>\n",
       "      <th>Cup (%)</th>\n",
       "      <th>Vase (%)</th>\n",
       "    </tr>\n",
       "  </thead>\n",
       "  <tbody>\n",
       "    <tr>\n",
       "      <th>count</th>\n",
       "      <td>23.00</td>\n",
       "      <td>23.00</td>\n",
       "      <td>23.00</td>\n",
       "      <td>23.00</td>\n",
       "      <td>23.00</td>\n",
       "      <td>23.00</td>\n",
       "      <td>23.00</td>\n",
       "      <td>23.00</td>\n",
       "      <td>23.00</td>\n",
       "      <td>23.00</td>\n",
       "      <td>23.00</td>\n",
       "      <td>23.00</td>\n",
       "      <td>23.00</td>\n",
       "      <td>23.00</td>\n",
       "      <td>23.00</td>\n",
       "    </tr>\n",
       "    <tr>\n",
       "      <th>mean</th>\n",
       "      <td>43564.47</td>\n",
       "      <td>3513.65</td>\n",
       "      <td>68914.35</td>\n",
       "      <td>3678.65</td>\n",
       "      <td>0.08</td>\n",
       "      <td>0.99</td>\n",
       "      <td>0.05</td>\n",
       "      <td>2.70</td>\n",
       "      <td>44.56</td>\n",
       "      <td>31.66</td>\n",
       "      <td>9.98</td>\n",
       "      <td>9.82</td>\n",
       "      <td>0.57</td>\n",
       "      <td>0.62</td>\n",
       "      <td>0.09</td>\n",
       "    </tr>\n",
       "    <tr>\n",
       "      <th>std</th>\n",
       "      <td>20868.50</td>\n",
       "      <td>2470.37</td>\n",
       "      <td>57376.23</td>\n",
       "      <td>4017.14</td>\n",
       "      <td>0.07</td>\n",
       "      <td>0.33</td>\n",
       "      <td>0.02</td>\n",
       "      <td>1.89</td>\n",
       "      <td>9.95</td>\n",
       "      <td>5.61</td>\n",
       "      <td>4.49</td>\n",
       "      <td>4.82</td>\n",
       "      <td>0.25</td>\n",
       "      <td>0.22</td>\n",
       "      <td>0.09</td>\n",
       "    </tr>\n",
       "    <tr>\n",
       "      <th>min</th>\n",
       "      <td>15106.54</td>\n",
       "      <td>1014.67</td>\n",
       "      <td>19177.00</td>\n",
       "      <td>839.00</td>\n",
       "      <td>0.02</td>\n",
       "      <td>0.60</td>\n",
       "      <td>0.02</td>\n",
       "      <td>0.52</td>\n",
       "      <td>27.85</td>\n",
       "      <td>19.49</td>\n",
       "      <td>5.07</td>\n",
       "      <td>3.36</td>\n",
       "      <td>0.16</td>\n",
       "      <td>0.22</td>\n",
       "      <td>0.00</td>\n",
       "    </tr>\n",
       "    <tr>\n",
       "      <th>25%</th>\n",
       "      <td>26335.70</td>\n",
       "      <td>1732.83</td>\n",
       "      <td>31578.00</td>\n",
       "      <td>1656.50</td>\n",
       "      <td>0.04</td>\n",
       "      <td>0.69</td>\n",
       "      <td>0.04</td>\n",
       "      <td>1.45</td>\n",
       "      <td>38.98</td>\n",
       "      <td>28.46</td>\n",
       "      <td>6.30</td>\n",
       "      <td>6.90</td>\n",
       "      <td>0.40</td>\n",
       "      <td>0.50</td>\n",
       "      <td>0.04</td>\n",
       "    </tr>\n",
       "    <tr>\n",
       "      <th>50%</th>\n",
       "      <td>43526.29</td>\n",
       "      <td>2764.89</td>\n",
       "      <td>43588.00</td>\n",
       "      <td>2276.00</td>\n",
       "      <td>0.07</td>\n",
       "      <td>0.96</td>\n",
       "      <td>0.05</td>\n",
       "      <td>2.02</td>\n",
       "      <td>44.03</td>\n",
       "      <td>32.49</td>\n",
       "      <td>9.44</td>\n",
       "      <td>9.62</td>\n",
       "      <td>0.54</td>\n",
       "      <td>0.62</td>\n",
       "      <td>0.09</td>\n",
       "    </tr>\n",
       "    <tr>\n",
       "      <th>75%</th>\n",
       "      <td>55126.39</td>\n",
       "      <td>4934.50</td>\n",
       "      <td>84269.00</td>\n",
       "      <td>3998.50</td>\n",
       "      <td>0.09</td>\n",
       "      <td>1.22</td>\n",
       "      <td>0.06</td>\n",
       "      <td>3.28</td>\n",
       "      <td>49.73</td>\n",
       "      <td>34.48</td>\n",
       "      <td>10.85</td>\n",
       "      <td>11.89</td>\n",
       "      <td>0.70</td>\n",
       "      <td>0.78</td>\n",
       "      <td>0.12</td>\n",
       "    </tr>\n",
       "    <tr>\n",
       "      <th>max</th>\n",
       "      <td>92218.91</td>\n",
       "      <td>11149.66</td>\n",
       "      <td>271330.00</td>\n",
       "      <td>19915.00</td>\n",
       "      <td>0.35</td>\n",
       "      <td>1.79</td>\n",
       "      <td>0.08</td>\n",
       "      <td>7.25</td>\n",
       "      <td>65.91</td>\n",
       "      <td>43.84</td>\n",
       "      <td>21.48</td>\n",
       "      <td>23.03</td>\n",
       "      <td>1.39</td>\n",
       "      <td>1.04</td>\n",
       "      <td>0.39</td>\n",
       "    </tr>\n",
       "  </tbody>\n",
       "</table>\n",
       "</div>"
      ],
      "text/plain": [
       "       Area (ha)  Area of Images (ha)  Population  No. of BS  BS/ha land  \\\n",
       "count      23.00                23.00       23.00      23.00       23.00   \n",
       "mean    43564.47              3513.65    68914.35    3678.65        0.08   \n",
       "std     20868.50              2470.37    57376.23    4017.14        0.07   \n",
       "min     15106.54              1014.67    19177.00     839.00        0.02   \n",
       "25%     26335.70              1732.83    31578.00    1656.50        0.04   \n",
       "50%     43526.29              2764.89    43588.00    2276.00        0.07   \n",
       "75%     55126.39              4934.50    84269.00    3998.50        0.09   \n",
       "max     92218.91             11149.66   271330.00   19915.00        0.35   \n",
       "\n",
       "       BS/ha image  BS/person  Jar (%)  Bucket (%)  Potted plant (%)  \\\n",
       "count        23.00      23.00    23.00       23.00             23.00   \n",
       "mean          0.99       0.05     2.70       44.56             31.66   \n",
       "std           0.33       0.02     1.89        9.95              5.61   \n",
       "min           0.60       0.02     0.52       27.85             19.49   \n",
       "25%           0.69       0.04     1.45       38.98             28.46   \n",
       "50%           0.96       0.05     2.02       44.03             32.49   \n",
       "75%           1.22       0.06     3.28       49.73             34.48   \n",
       "max           1.79       0.08     7.25       65.91             43.84   \n",
       "\n",
       "       Tire (%)  Bin (%)  Bowl (%)  Cup (%)  Vase (%)  \n",
       "count     23.00    23.00     23.00    23.00     23.00  \n",
       "mean       9.98     9.82      0.57     0.62      0.09  \n",
       "std        4.49     4.82      0.25     0.22      0.09  \n",
       "min        5.07     3.36      0.16     0.22      0.00  \n",
       "25%        6.30     6.90      0.40     0.50      0.04  \n",
       "50%        9.44     9.62      0.54     0.62      0.09  \n",
       "75%       10.85    11.89      0.70     0.78      0.12  \n",
       "max       21.48    23.03      1.39     1.04      0.39  "
      ]
     },
     "execution_count": 33,
     "metadata": {},
     "output_type": "execute_result"
    }
   ],
   "source": [
    "df_distribution.describe().round(2)\n",
    "df_distribution.describe().round(2).to_csv('Nakhon-dist-stat.csv')"
   ]
  },
  {
   "cell_type": "markdown",
   "metadata": {},
   "source": [
    "## 3. Boxplot"
   ]
  },
  {
   "cell_type": "code",
   "execution_count": 26,
   "metadata": {},
   "outputs": [
    {
     "data": {
      "text/plain": [
       "<matplotlib.figure.Figure at 0x7fc9bbda3d30>"
      ]
     },
     "execution_count": 26,
     "metadata": {},
     "output_type": "execute_result"
    },
    {
     "data": {
      "text/plain": [
       "<matplotlib.axes._subplots.AxesSubplot at 0x7fc9bbd92978>"
      ]
     },
     "execution_count": 26,
     "metadata": {},
     "output_type": "execute_result"
    },
    {
     "data": {
      "image/png": "[encoded data removed]",
      "text/plain": [
       "<matplotlib.figure.Figure at 0x7fc9bbda3d30>"
      ]
     },
     "metadata": {},
     "output_type": "display_data"
    }
   ],
   "source": [
    "sns.set()\n",
    "plt.figure(figsize=(12,4))\n",
    "plt.style.use(['seaborn-notebook'])\n",
    "sns.boxplot(df_distribution['BS/ha land'])"
   ]
  },
  {
   "cell_type": "code",
   "execution_count": 27,
   "metadata": {},
   "outputs": [
    {
     "data": {
      "text/plain": [
       "<matplotlib.figure.Figure at 0x7fc9bbe7ae80>"
      ]
     },
     "execution_count": 27,
     "metadata": {},
     "output_type": "execute_result"
    },
    {
     "data": {
      "text/plain": [
       "<matplotlib.axes._subplots.AxesSubplot at 0x7fc9c0853a90>"
      ]
     },
     "execution_count": 27,
     "metadata": {},
     "output_type": "execute_result"
    },
    {
     "data": {
      "image/png": "[encoded data removed]",
      "text/plain": [
       "<matplotlib.figure.Figure at 0x7fc9bbe7ae80>"
      ]
     },
     "metadata": {},
     "output_type": "display_data"
    }
   ],
   "source": [
    "plt.figure(figsize=(12,4))\n",
    "sns.boxplot(df_distribution['BS/ha image'])"
   ]
  },
  {
   "cell_type": "code",
   "execution_count": 28,
   "metadata": {},
   "outputs": [
    {
     "data": {
      "text/plain": [
       "<matplotlib.figure.Figure at 0x7fc9bbd692b0>"
      ]
     },
     "execution_count": 28,
     "metadata": {},
     "output_type": "execute_result"
    },
    {
     "data": {
      "text/plain": [
       "<matplotlib.axes._subplots.AxesSubplot at 0x7fc9bbe7aeb8>"
      ]
     },
     "execution_count": 28,
     "metadata": {},
     "output_type": "execute_result"
    },
    {
     "data": {
      "image/png": "[encoded data removed]",
      "text/plain": [
       "<matplotlib.figure.Figure at 0x7fc9bbd692b0>"
      ]
     },
     "metadata": {},
     "output_type": "display_data"
    }
   ],
   "source": [
    "plt.figure(figsize=(12,4))\n",
    "sns.boxplot(df_distribution['BS/person'])"
   ]
  },
  {
   "cell_type": "markdown",
   "metadata": {},
   "source": [
    "## 4. Distribution Plot"
   ]
  },
  {
   "cell_type": "code",
   "execution_count": 35,
   "metadata": {},
   "outputs": [
    {
     "data": {
      "text/plain": [
       "<matplotlib.figure.Figure at 0x7fc9bbbfbb00>"
      ]
     },
     "execution_count": 35,
     "metadata": {},
     "output_type": "execute_result"
    },
    {
     "data": {
      "text/plain": [
       "Text(0.5,1,'Nakhon-Districts')"
      ]
     },
     "execution_count": 35,
     "metadata": {},
     "output_type": "execute_result"
    },
    {
     "data": {
      "text/plain": [
       "<matplotlib.axes._subplots.AxesSubplot at 0x7fc9bbbfb9b0>"
      ]
     },
     "execution_count": 35,
     "metadata": {},
     "output_type": "execute_result"
    },
    {
     "data": {
      "text/plain": [
       "<matplotlib.axes._subplots.AxesSubplot at 0x7fc9bbbfb9b0>"
      ]
     },
     "execution_count": 35,
     "metadata": {},
     "output_type": "execute_result"
    },
    {
     "data": {
      "text/plain": [
       "<matplotlib.axes._subplots.AxesSubplot at 0x7fc9bbbfb9b0>"
      ]
     },
     "execution_count": 35,
     "metadata": {},
     "output_type": "execute_result"
    },
    {
     "data": {
      "text/plain": [
       "<matplotlib.axes._subplots.AxesSubplot at 0x7fc9bbbfb9b0>"
      ]
     },
     "execution_count": 35,
     "metadata": {},
     "output_type": "execute_result"
    },
    {
     "data": {
      "text/plain": [
       "<matplotlib.legend.Legend at 0x7fc9bbbf5d68>"
      ]
     },
     "execution_count": 35,
     "metadata": {},
     "output_type": "execute_result"
    },
    {
     "data": {
      "image/png": "[encoded data removed]",
      "text/plain": [
       "<matplotlib.figure.Figure at 0x7fc9bbbfbb00>"
      ]
     },
     "metadata": {},
     "output_type": "display_data"
    }
   ],
   "source": [
    "sns.set(font_scale=1.5)\n",
    "plt.figure(figsize=(12,6))\n",
    "plt.title('Nakhon-Districts')\n",
    "sns.distplot(df_distribution['Bin (%)'], label=\"Bin (%)\", axlabel='Percentage (%)')\n",
    "sns.distplot(df_distribution['Bucket (%)'], label=\"Bucket (%)\", axlabel='Percentage (%)')\n",
    "sns.distplot(df_distribution['Potted plant (%)'], label=\"Potted plant (%)\", axlabel='Percentage (%)')\n",
    "sns.distplot(df_distribution['Tire (%)'], label=\"Tire (%)\", axlabel='Percentage (%)')\n",
    "plt.legend()\n"
   ]
  },
  {
   "cell_type": "code",
   "execution_count": 34,
   "metadata": {},
   "outputs": [
    {
     "data": {
      "text/plain": [
       "<matplotlib.figure.Figure at 0x7fc9bbbfbdd8>"
      ]
     },
     "execution_count": 34,
     "metadata": {},
     "output_type": "execute_result"
    },
    {
     "data": {
      "text/plain": [
       "Text(0.5,1,'Nakhon-Districts')"
      ]
     },
     "execution_count": 34,
     "metadata": {},
     "output_type": "execute_result"
    },
    {
     "data": {
      "text/plain": [
       "<matplotlib.axes._subplots.AxesSubplot at 0x7fc9bbd52cf8>"
      ]
     },
     "execution_count": 34,
     "metadata": {},
     "output_type": "execute_result"
    },
    {
     "data": {
      "text/plain": [
       "<matplotlib.axes._subplots.AxesSubplot at 0x7fc9bbd52cf8>"
      ]
     },
     "execution_count": 34,
     "metadata": {},
     "output_type": "execute_result"
    },
    {
     "data": {
      "text/plain": [
       "<matplotlib.axes._subplots.AxesSubplot at 0x7fc9bbd52cf8>"
      ]
     },
     "execution_count": 34,
     "metadata": {},
     "output_type": "execute_result"
    },
    {
     "data": {
      "text/plain": [
       "<matplotlib.axes._subplots.AxesSubplot at 0x7fc9bbd52cf8>"
      ]
     },
     "execution_count": 34,
     "metadata": {},
     "output_type": "execute_result"
    },
    {
     "data": {
      "text/plain": [
       "<matplotlib.legend.Legend at 0x7fc9bbd97978>"
      ]
     },
     "execution_count": 34,
     "metadata": {},
     "output_type": "execute_result"
    },
    {
     "data": {
      "image/png": "[encoded data removed]",
      "text/plain": [
       "<matplotlib.figure.Figure at 0x7fc9bbbfbdd8>"
      ]
     },
     "metadata": {},
     "output_type": "display_data"
    }
   ],
   "source": [
    "sns.set(font_scale=1.5)\n",
    "plt.figure(figsize=(12,6))\n",
    "plt.title('Nakhon-Districts')\n",
    "sns.distplot(df_distribution['Vase (%)'], label=\"Vase (%)\", axlabel='Percentage (%)')\n",
    "sns.distplot(df_distribution['Cup (%)'], label=\"Cup (%)\", axlabel='Percentage (%)')\n",
    "sns.distplot(df_distribution[['Jar (%)']], label=\"Jar (%)\", axlabel='Percentage (%)')\n",
    "sns.distplot(df_distribution['Bowl (%)'], label=\"Bowl (%)\", axlabel='Percentage (%)')\n",
    "plt.legend()"
   ]
  },
  {
   "cell_type": "code",
   "execution_count": null,
   "metadata": {},
   "outputs": [],
   "source": []
  }
 ],
 "metadata": {
  "kernelspec": {
   "display_name": "Python 3",
   "language": "python",
   "name": "python3"
  },
  "language_info": {
   "codemirror_mode": {
    "name": "ipython",
    "version": 3
   },
   "file_extension": ".py",
   "mimetype": "text/x-python",
   "name": "python",
   "nbconvert_exporter": "python",
   "pygments_lexer": "ipython3",
   "version": "3.5.2"
  }
 },
 "nbformat": 4,
 "nbformat_minor": 2
}
