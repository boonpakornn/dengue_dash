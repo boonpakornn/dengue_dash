{
 "cells": [
  {
   "cell_type": "code",
   "execution_count": 142,
   "metadata": {},
   "outputs": [
    {
     "data": {
      "text/html": [
       "<div>\n",
       "<style scoped>\n",
       "    .dataframe tbody tr th:only-of-type {\n",
       "        vertical-align: middle;\n",
       "    }\n",
       "\n",
       "    .dataframe tbody tr th {\n",
       "        vertical-align: top;\n",
       "    }\n",
       "\n",
       "    .dataframe thead th {\n",
       "        text-align: right;\n",
       "    }\n",
       "</style>\n",
       "<table border=\"1\" class=\"dataframe\">\n",
       "  <thead>\n",
       "    <tr style=\"text-align: right;\">\n",
       "      <th></th>\n",
       "      <th>addrcode</th>\n",
       "      <th>household</th>\n",
       "    </tr>\n",
       "  </thead>\n",
       "  <tbody>\n",
       "    <tr>\n",
       "      <th>0</th>\n",
       "      <td>800706</td>\n",
       "      <td>2239</td>\n",
       "    </tr>\n",
       "    <tr>\n",
       "      <th>1</th>\n",
       "      <td>800710</td>\n",
       "      <td>2661</td>\n",
       "    </tr>\n",
       "    <tr>\n",
       "      <th>2</th>\n",
       "      <td>800705</td>\n",
       "      <td>3639</td>\n",
       "    </tr>\n",
       "    <tr>\n",
       "      <th>3</th>\n",
       "      <td>801905</td>\n",
       "      <td>2393</td>\n",
       "    </tr>\n",
       "    <tr>\n",
       "      <th>4</th>\n",
       "      <td>800114</td>\n",
       "      <td>1703</td>\n",
       "    </tr>\n",
       "  </tbody>\n",
       "</table>\n",
       "</div>"
      ],
      "text/plain": [
       "   addrcode  household\n",
       "0    800706       2239\n",
       "1    800710       2661\n",
       "2    800705       3639\n",
       "3    801905       2393\n",
       "4    800114       1703"
      ]
     },
     "execution_count": 142,
     "metadata": {},
     "output_type": "execute_result"
    }
   ],
   "source": [
    "from bs4 import BeautifulSoup\n",
    "from selenium import webdriver\n",
    "import pandas as pd\n",
    "import time\n",
    "\n",
    "# areas to retrieve\n",
    "addrcodes = ['800706','800710','800705','801905','800114','800112','801904','800113',\n",
    "             '800404','800415','801704','801701','801703','800502','800903']\n",
    "\n",
    "households = []\n",
    "for addrcode in addrcodes:\n",
    "    \n",
    "    # wired addcode format, e.g., 800706 has to be 80070706.\n",
    "    url = 'http://stat.bora.dopa.go.th/stat/statnew/statTDD/views/showVillageData.php?rcode='+\\\n",
    "           str(addrcode[:4])+str(addrcode[2:])+'&statType=1&year=59'\n",
    "        \n",
    "    client = webdriver.Chrome()\n",
    "    client.get(url)\n",
    "\n",
    "    # wait for the page to load content\n",
    "    time.sleep(3)\n",
    "\n",
    "    soup = BeautifulSoup(client.page_source,'html.parser')\n",
    "    household = int(soup.find('tbody').find('tr').findAll('td')[-1:][0].text.replace(',',''))\n",
    "    \n",
    "    households.append([int(addrcode), household])\n",
    "\n",
    "    client.close()\n",
    "\n",
    "df = pd.DataFrame.from_records(households, columns=['addrcode','household'])\n",
    "df.head()"
   ]
  },
  {
   "cell_type": "code",
   "execution_count": 145,
   "metadata": {},
   "outputs": [],
   "source": [
    "df.to_csv('dengue-season-household.csv')"
   ]
  }
 ],
 "metadata": {
  "kernelspec": {
   "display_name": "Python 3",
   "language": "python",
   "name": "python3"
  },
  "language_info": {
   "codemirror_mode": {
    "name": "ipython",
    "version": 3
   },
   "file_extension": ".py",
   "mimetype": "text/x-python",
   "name": "python",
   "nbconvert_exporter": "python",
   "pygments_lexer": "ipython3",
   "version": "3.5.2"
  }
 },
 "nbformat": 4,
 "nbformat_minor": 2
}
