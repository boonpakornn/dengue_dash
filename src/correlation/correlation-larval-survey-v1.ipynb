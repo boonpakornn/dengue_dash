{
 "cells": [
  {
   "cell_type": "markdown",
   "metadata": {},
   "source": [
    "# Correlation between Detected Breeding Sites and Larval Survey"
   ]
  },
  {
   "cell_type": "code",
   "execution_count": 1,
   "metadata": {},
   "outputs": [
    {
     "data": {
      "text/html": [
       "<style>.container { width:100% !important; }</style>"
      ],
      "text/plain": [
       "<IPython.core.display.HTML object>"
      ]
     },
     "metadata": {},
     "output_type": "display_data"
    }
   ],
   "source": [
    "from IPython.core.display import display, HTML\n",
    "display(HTML(\"<style>.container { width:100% !important; }</style>\"))\n",
    "\n",
    "from IPython.core.interactiveshell import InteractiveShell\n",
    "InteractiveShell.ast_node_interactivity = \"all\""
   ]
  },
  {
   "cell_type": "code",
   "execution_count": 3,
   "metadata": {},
   "outputs": [
    {
     "data": {
      "text/html": [
       "<script>requirejs.config({paths: { 'plotly': ['https://cdn.plot.ly/plotly-latest.min']},});if(!window.Plotly) {{require(['plotly'],function(plotly) {window.Plotly=plotly;});}}</script>"
      ],
      "text/vnd.plotly.v1+html": [
       "<script>requirejs.config({paths: { 'plotly': ['https://cdn.plot.ly/plotly-latest.min']},});if(!window.Plotly) {{require(['plotly'],function(plotly) {window.Plotly=plotly;});}}</script>"
      ]
     },
     "metadata": {},
     "output_type": "display_data"
    }
   ],
   "source": [
    "from plotly import tools\n",
    "from plotly.graph_objs import *\n",
    "from plotly.offline import download_plotlyjs, init_notebook_mode, plot, iplot\n",
    "init_notebook_mode(connected=True)\n",
    "\n",
    "import plotly.graph_objs as go\n",
    "\n",
    "import matplotlib as mpl\n",
    "import matplotlib.cm as cm\n",
    "import matplotlib.pyplot as plt\n",
    "import numpy as np\n",
    "import pandas as pd\n",
    "import os, graphviz\n",
    "from sklearn import *\n",
    "\n",
    "from copy import deepcopy\n",
    "from scipy.stats.stats import pearsonr, spearmanr\n",
    "from shapely.geometry import Polygon\n",
    "from collections import Counter\n",
    "\n",
    "loo = model_selection.LeaveOneOut()\n",
    "\n",
    "month = ['Jan','Feb','Mar','Apr','May','Jun','Jul','Aug','Sep','Oct','Nov','Dec']\n",
    "categories = np.array(['bin','bowl','bucket','cup','jar','pottedplant','tire','vase']).reshape(-1,1)"
   ]
  },
  {
   "cell_type": "code",
   "execution_count": 4,
   "metadata": {},
   "outputs": [
    {
     "data": {
      "text/html": [
       "<script>requirejs.config({paths: { 'plotly': ['https://cdn.plot.ly/plotly-latest.min']},});if(!window.Plotly) {{require(['plotly'],function(plotly) {window.Plotly=plotly;});}}</script>"
      ],
      "text/vnd.plotly.v1+html": [
       "<script>requirejs.config({paths: { 'plotly': ['https://cdn.plot.ly/plotly-latest.min']},});if(!window.Plotly) {{require(['plotly'],function(plotly) {window.Plotly=plotly;});}}</script>"
      ]
     },
     "metadata": {},
     "output_type": "display_data"
    }
   ],
   "source": [
    "import visualizer\n",
    "import data_loader\n",
    "\n",
    "df_loader = data_loader.df_loader()\n",
    "\n",
    "df_survey = df_loader.load_survey()\n",
    "df_filtered = df_loader.load_filterd('bi')\n",
    "df_area = df_loader.load_area()\n",
    "df_detect = df_loader.load_detect()\n",
    "\n",
    "df_population = df_loader.load_population()\n",
    "df_dengue_cases = df_loader.load_cases()"
   ]
  },
  {
   "cell_type": "code",
   "execution_count": 6,
   "metadata": {},
   "outputs": [
    {
     "data": {
      "text/html": [
       "<div>\n",
       "<style scoped>\n",
       "    .dataframe tbody tr th:only-of-type {\n",
       "        vertical-align: middle;\n",
       "    }\n",
       "\n",
       "    .dataframe tbody tr th {\n",
       "        vertical-align: top;\n",
       "    }\n",
       "\n",
       "    .dataframe thead th {\n",
       "        text-align: right;\n",
       "    }\n",
       "</style>\n",
       "<table border=\"1\" class=\"dataframe\">\n",
       "  <thead>\n",
       "    <tr style=\"text-align: right;\">\n",
       "      <th></th>\n",
       "      <th>district</th>\n",
       "      <th>subdist</th>\n",
       "      <th>village</th>\n",
       "      <th>hi</th>\n",
       "      <th>ci</th>\n",
       "      <th>bi</th>\n",
       "    </tr>\n",
       "    <tr>\n",
       "      <th>date</th>\n",
       "      <th></th>\n",
       "      <th></th>\n",
       "      <th></th>\n",
       "      <th></th>\n",
       "      <th></th>\n",
       "      <th></th>\n",
       "    </tr>\n",
       "  </thead>\n",
       "  <tbody>\n",
       "    <tr>\n",
       "      <th>2015-02-01</th>\n",
       "      <td>ขนอม</td>\n",
       "      <td>ขนอม</td>\n",
       "      <td>บางโหนด</td>\n",
       "      <td>16.0</td>\n",
       "      <td>2.44</td>\n",
       "      <td>15.0</td>\n",
       "    </tr>\n",
       "    <tr>\n",
       "      <th>2015-02-01</th>\n",
       "      <td>ฉวาง</td>\n",
       "      <td>นาแว</td>\n",
       "      <td>ห้วยทรายขาว</td>\n",
       "      <td>15.0</td>\n",
       "      <td>1.87</td>\n",
       "      <td>18.0</td>\n",
       "    </tr>\n",
       "    <tr>\n",
       "      <th>2015-02-01</th>\n",
       "      <td>เฉลิมพระเกียรติ</td>\n",
       "      <td>ทางพูน</td>\n",
       "      <td>สะเพรง</td>\n",
       "      <td>10.0</td>\n",
       "      <td>2.35</td>\n",
       "      <td>10.0</td>\n",
       "    </tr>\n",
       "    <tr>\n",
       "      <th>2015-02-01</th>\n",
       "      <td>ชะอวด</td>\n",
       "      <td>บ้านตูล</td>\n",
       "      <td>กุมแป</td>\n",
       "      <td>19.0</td>\n",
       "      <td>3.42</td>\n",
       "      <td>31.0</td>\n",
       "    </tr>\n",
       "    <tr>\n",
       "      <th>2015-02-01</th>\n",
       "      <td>ช้างกลาง</td>\n",
       "      <td>ช้างกลาง</td>\n",
       "      <td>หน้าเหมน</td>\n",
       "      <td>16.0</td>\n",
       "      <td>2.06</td>\n",
       "      <td>20.0</td>\n",
       "    </tr>\n",
       "  </tbody>\n",
       "</table>\n",
       "</div>"
      ],
      "text/plain": [
       "                   district   subdist      village    hi    ci    bi\n",
       "date                                                                \n",
       "2015-02-01             ขนอม      ขนอม      บางโหนด  16.0  2.44  15.0\n",
       "2015-02-01             ฉวาง      นาแว  ห้วยทรายขาว  15.0  1.87  18.0\n",
       "2015-02-01  เฉลิมพระเกียรติ    ทางพูน       สะเพรง  10.0  2.35  10.0\n",
       "2015-02-01            ชะอวด   บ้านตูล        กุมแป  19.0  3.42  31.0\n",
       "2015-02-01         ช้างกลาง  ช้างกลาง     หน้าเหมน  16.0  2.06  20.0"
      ]
     },
     "execution_count": 6,
     "metadata": {},
     "output_type": "execute_result"
    },
    {
     "name": "stdout",
     "output_type": "stream",
     "text": [
      "Total: 484\n"
     ]
    }
   ],
   "source": [
    "df_survey.head()\n",
    "print('Total:', len(df_survey))"
   ]
  },
  {
   "cell_type": "code",
   "execution_count": 7,
   "metadata": {},
   "outputs": [
    {
     "data": {
      "text/html": [
       "<div>\n",
       "<style scoped>\n",
       "    .dataframe tbody tr th:only-of-type {\n",
       "        vertical-align: middle;\n",
       "    }\n",
       "\n",
       "    .dataframe tbody tr th {\n",
       "        vertical-align: top;\n",
       "    }\n",
       "\n",
       "    .dataframe thead th {\n",
       "        text-align: right;\n",
       "    }\n",
       "</style>\n",
       "<table border=\"1\" class=\"dataframe\">\n",
       "  <thead>\n",
       "    <tr style=\"text-align: right;\">\n",
       "      <th></th>\n",
       "      <th>district</th>\n",
       "      <th>subdist</th>\n",
       "      <th>village</th>\n",
       "      <th>hi</th>\n",
       "      <th>ci</th>\n",
       "      <th>bi</th>\n",
       "    </tr>\n",
       "    <tr>\n",
       "      <th>date</th>\n",
       "      <th></th>\n",
       "      <th></th>\n",
       "      <th></th>\n",
       "      <th></th>\n",
       "      <th></th>\n",
       "      <th></th>\n",
       "    </tr>\n",
       "  </thead>\n",
       "  <tbody>\n",
       "    <tr>\n",
       "      <th>2015-02-01</th>\n",
       "      <td>ขนอม</td>\n",
       "      <td>ขนอม</td>\n",
       "      <td>บางโหนด</td>\n",
       "      <td>16.0</td>\n",
       "      <td>2.44</td>\n",
       "      <td>15.0</td>\n",
       "    </tr>\n",
       "    <tr>\n",
       "      <th>2015-05-01</th>\n",
       "      <td>ขนอม</td>\n",
       "      <td>ขนอม</td>\n",
       "      <td>บางโหนด</td>\n",
       "      <td>5.0</td>\n",
       "      <td>0.93</td>\n",
       "      <td>5.0</td>\n",
       "    </tr>\n",
       "    <tr>\n",
       "      <th>2015-02-01</th>\n",
       "      <td>ฉวาง</td>\n",
       "      <td>นาแว</td>\n",
       "      <td>ห้วยทรายขาว</td>\n",
       "      <td>15.0</td>\n",
       "      <td>1.87</td>\n",
       "      <td>18.0</td>\n",
       "    </tr>\n",
       "    <tr>\n",
       "      <th>2015-03-01</th>\n",
       "      <td>ฉวาง</td>\n",
       "      <td>นาแว</td>\n",
       "      <td>ไสโคกเกาะ</td>\n",
       "      <td>20.0</td>\n",
       "      <td>3.27</td>\n",
       "      <td>20.0</td>\n",
       "    </tr>\n",
       "    <tr>\n",
       "      <th>2015-03-01</th>\n",
       "      <td>ฉวาง</td>\n",
       "      <td>นาแว</td>\n",
       "      <td>วังโก</td>\n",
       "      <td>15.0</td>\n",
       "      <td>2.91</td>\n",
       "      <td>15.0</td>\n",
       "    </tr>\n",
       "  </tbody>\n",
       "</table>\n",
       "</div>"
      ],
      "text/plain": [
       "           district subdist      village    hi    ci    bi\n",
       "date                                                      \n",
       "2015-02-01     ขนอม    ขนอม      บางโหนด  16.0  2.44  15.0\n",
       "2015-05-01     ขนอม    ขนอม      บางโหนด   5.0  0.93   5.0\n",
       "2015-02-01     ฉวาง    นาแว  ห้วยทรายขาว  15.0  1.87  18.0\n",
       "2015-03-01     ฉวาง    นาแว    ไสโคกเกาะ  20.0  3.27  20.0\n",
       "2015-03-01     ฉวาง    นาแว        วังโก  15.0  2.91  15.0"
      ]
     },
     "execution_count": 7,
     "metadata": {},
     "output_type": "execute_result"
    },
    {
     "data": {
      "text/plain": [
       "376"
      ]
     },
     "execution_count": 7,
     "metadata": {},
     "output_type": "execute_result"
    }
   ],
   "source": [
    "df_filtered.head()\n",
    "len(df_filtered)"
   ]
  },
  {
   "cell_type": "code",
   "execution_count": 8,
   "metadata": {},
   "outputs": [
    {
     "data": {
      "text/html": [
       "<div>\n",
       "<style scoped>\n",
       "    .dataframe tbody tr th:only-of-type {\n",
       "        vertical-align: middle;\n",
       "    }\n",
       "\n",
       "    .dataframe tbody tr th {\n",
       "        vertical-align: top;\n",
       "    }\n",
       "\n",
       "    .dataframe thead th {\n",
       "        text-align: right;\n",
       "    }\n",
       "</style>\n",
       "<table border=\"1\" class=\"dataframe\">\n",
       "  <thead>\n",
       "    <tr style=\"text-align: right;\">\n",
       "      <th></th>\n",
       "      <th>district</th>\n",
       "      <th>subdist</th>\n",
       "      <th>bin</th>\n",
       "      <th>bowl</th>\n",
       "      <th>bucket</th>\n",
       "      <th>cup</th>\n",
       "      <th>jar</th>\n",
       "      <th>pottedplant</th>\n",
       "      <th>tire</th>\n",
       "      <th>vase</th>\n",
       "      <th>total</th>\n",
       "    </tr>\n",
       "    <tr>\n",
       "      <th>date</th>\n",
       "      <th></th>\n",
       "      <th></th>\n",
       "      <th></th>\n",
       "      <th></th>\n",
       "      <th></th>\n",
       "      <th></th>\n",
       "      <th></th>\n",
       "      <th></th>\n",
       "      <th></th>\n",
       "      <th></th>\n",
       "      <th></th>\n",
       "    </tr>\n",
       "  </thead>\n",
       "  <tbody>\n",
       "    <tr>\n",
       "      <th>2016-03-01</th>\n",
       "      <td>ร่อนพิบูลย์</td>\n",
       "      <td>ร่อนพิบูลย์</td>\n",
       "      <td>2</td>\n",
       "      <td>0</td>\n",
       "      <td>46</td>\n",
       "      <td>47</td>\n",
       "      <td>0</td>\n",
       "      <td>19</td>\n",
       "      <td>59</td>\n",
       "      <td>0</td>\n",
       "      <td>173</td>\n",
       "    </tr>\n",
       "    <tr>\n",
       "      <th>2016-03-01</th>\n",
       "      <td>ทุ่งสง</td>\n",
       "      <td>กะปาง</td>\n",
       "      <td>6</td>\n",
       "      <td>8</td>\n",
       "      <td>71</td>\n",
       "      <td>160</td>\n",
       "      <td>1</td>\n",
       "      <td>18</td>\n",
       "      <td>266</td>\n",
       "      <td>1</td>\n",
       "      <td>531</td>\n",
       "    </tr>\n",
       "    <tr>\n",
       "      <th>2016-03-01</th>\n",
       "      <td>ชะอวด</td>\n",
       "      <td>ชะอวด</td>\n",
       "      <td>5</td>\n",
       "      <td>14</td>\n",
       "      <td>46</td>\n",
       "      <td>200</td>\n",
       "      <td>7</td>\n",
       "      <td>37</td>\n",
       "      <td>329</td>\n",
       "      <td>1</td>\n",
       "      <td>639</td>\n",
       "    </tr>\n",
       "    <tr>\n",
       "      <th>2016-03-01</th>\n",
       "      <td>ทุ่งใหญ่</td>\n",
       "      <td>ท่ายาง</td>\n",
       "      <td>5</td>\n",
       "      <td>13</td>\n",
       "      <td>46</td>\n",
       "      <td>228</td>\n",
       "      <td>13</td>\n",
       "      <td>83</td>\n",
       "      <td>912</td>\n",
       "      <td>0</td>\n",
       "      <td>1300</td>\n",
       "    </tr>\n",
       "    <tr>\n",
       "      <th>2016-03-01</th>\n",
       "      <td>จุฬาภรณ์</td>\n",
       "      <td>บ้านควนมุด</td>\n",
       "      <td>2</td>\n",
       "      <td>1</td>\n",
       "      <td>101</td>\n",
       "      <td>100</td>\n",
       "      <td>3</td>\n",
       "      <td>42</td>\n",
       "      <td>142</td>\n",
       "      <td>0</td>\n",
       "      <td>391</td>\n",
       "    </tr>\n",
       "  </tbody>\n",
       "</table>\n",
       "</div>"
      ],
      "text/plain": [
       "               district      subdist  bin  bowl  bucket  cup  jar  \\\n",
       "date                                                                \n",
       "2016-03-01  ร่อนพิบูลย์  ร่อนพิบูลย์    2     0      46   47    0   \n",
       "2016-03-01       ทุ่งสง        กะปาง    6     8      71  160    1   \n",
       "2016-03-01        ชะอวด        ชะอวด    5    14      46  200    7   \n",
       "2016-03-01     ทุ่งใหญ่       ท่ายาง    5    13      46  228   13   \n",
       "2016-03-01     จุฬาภรณ์   บ้านควนมุด    2     1     101  100    3   \n",
       "\n",
       "            pottedplant  tire  vase  total  \n",
       "date                                        \n",
       "2016-03-01           19    59     0    173  \n",
       "2016-03-01           18   266     1    531  \n",
       "2016-03-01           37   329     1    639  \n",
       "2016-03-01           83   912     0   1300  \n",
       "2016-03-01           42   142     0    391  "
      ]
     },
     "execution_count": 8,
     "metadata": {},
     "output_type": "execute_result"
    },
    {
     "name": "stdout",
     "output_type": "stream",
     "text": [
      "Total: 167\n"
     ]
    }
   ],
   "source": [
    "df_detect.head()\n",
    "print('Total:', len(df_detect))"
   ]
  },
  {
   "cell_type": "code",
   "execution_count": 9,
   "metadata": {},
   "outputs": [
    {
     "data": {
      "text/html": [
       "<div>\n",
       "<style scoped>\n",
       "    .dataframe tbody tr th:only-of-type {\n",
       "        vertical-align: middle;\n",
       "    }\n",
       "\n",
       "    .dataframe tbody tr th {\n",
       "        vertical-align: top;\n",
       "    }\n",
       "\n",
       "    .dataframe thead th {\n",
       "        text-align: right;\n",
       "    }\n",
       "</style>\n",
       "<table border=\"1\" class=\"dataframe\">\n",
       "  <thead>\n",
       "    <tr style=\"text-align: right;\">\n",
       "      <th></th>\n",
       "      <th>district</th>\n",
       "      <th>subdist</th>\n",
       "      <th>area</th>\n",
       "    </tr>\n",
       "  </thead>\n",
       "  <tbody>\n",
       "    <tr>\n",
       "      <th>0</th>\n",
       "      <td>พรหมคีรี</td>\n",
       "      <td>ทอนหงส์</td>\n",
       "      <td>1070.58</td>\n",
       "    </tr>\n",
       "    <tr>\n",
       "      <th>1</th>\n",
       "      <td>ท่าศาลา</td>\n",
       "      <td>โมคลาน</td>\n",
       "      <td>341.44</td>\n",
       "    </tr>\n",
       "    <tr>\n",
       "      <th>2</th>\n",
       "      <td>เมืองนครศรีธรรมราช</td>\n",
       "      <td>ปากพูน</td>\n",
       "      <td>856.09</td>\n",
       "    </tr>\n",
       "    <tr>\n",
       "      <th>3</th>\n",
       "      <td>พิปูน</td>\n",
       "      <td>พิปูน</td>\n",
       "      <td>451.83</td>\n",
       "    </tr>\n",
       "    <tr>\n",
       "      <th>4</th>\n",
       "      <td>ท่าศาลา</td>\n",
       "      <td>ดอนตะโก</td>\n",
       "      <td>275.56</td>\n",
       "    </tr>\n",
       "  </tbody>\n",
       "</table>\n",
       "</div>"
      ],
      "text/plain": [
       "             district  subdist     area\n",
       "0            พรหมคีรี  ทอนหงส์  1070.58\n",
       "1             ท่าศาลา   โมคลาน   341.44\n",
       "2  เมืองนครศรีธรรมราช   ปากพูน   856.09\n",
       "3               พิปูน    พิปูน   451.83\n",
       "4             ท่าศาลา  ดอนตะโก   275.56"
      ]
     },
     "execution_count": 9,
     "metadata": {},
     "output_type": "execute_result"
    },
    {
     "data": {
      "text/plain": [
       "170"
      ]
     },
     "execution_count": 9,
     "metadata": {},
     "output_type": "execute_result"
    }
   ],
   "source": [
    "df_area.head()\n",
    "len(df_area)"
   ]
  },
  {
   "cell_type": "code",
   "execution_count": 9,
   "metadata": {},
   "outputs": [
    {
     "data": {
      "text/html": [
       "<div>\n",
       "<style scoped>\n",
       "    .dataframe tbody tr th:only-of-type {\n",
       "        vertical-align: middle;\n",
       "    }\n",
       "\n",
       "    .dataframe tbody tr th {\n",
       "        vertical-align: top;\n",
       "    }\n",
       "\n",
       "    .dataframe thead th {\n",
       "        text-align: right;\n",
       "    }\n",
       "</style>\n",
       "<table border=\"1\" class=\"dataframe\">\n",
       "  <thead>\n",
       "    <tr style=\"text-align: right;\">\n",
       "      <th></th>\n",
       "      <th>district</th>\n",
       "      <th>subdist</th>\n",
       "      <th>n_villages</th>\n",
       "      <th>population</th>\n",
       "      <th>area</th>\n",
       "    </tr>\n",
       "  </thead>\n",
       "  <tbody>\n",
       "    <tr>\n",
       "      <th>0</th>\n",
       "      <td>เมืองนครศรีธรรมราช</td>\n",
       "      <td>ในเมือง</td>\n",
       "      <td>0</td>\n",
       "      <td>43327</td>\n",
       "      <td>NaN</td>\n",
       "    </tr>\n",
       "    <tr>\n",
       "      <th>1</th>\n",
       "      <td>เมืองนครศรีธรรมราช</td>\n",
       "      <td>ท่าวัง</td>\n",
       "      <td>0</td>\n",
       "      <td>17346</td>\n",
       "      <td>NaN</td>\n",
       "    </tr>\n",
       "    <tr>\n",
       "      <th>2</th>\n",
       "      <td>เมืองนครศรีธรรมราช</td>\n",
       "      <td>คลัง</td>\n",
       "      <td>0</td>\n",
       "      <td>17568</td>\n",
       "      <td>NaN</td>\n",
       "    </tr>\n",
       "    <tr>\n",
       "      <th>3</th>\n",
       "      <td>เมืองนครศรีธรรมราช</td>\n",
       "      <td>ท่าไร่</td>\n",
       "      <td>6</td>\n",
       "      <td>8224</td>\n",
       "      <td>48.83</td>\n",
       "    </tr>\n",
       "    <tr>\n",
       "      <th>4</th>\n",
       "      <td>เมืองนครศรีธรรมราช</td>\n",
       "      <td>ปากนคร</td>\n",
       "      <td>6</td>\n",
       "      <td>15137</td>\n",
       "      <td>55.83</td>\n",
       "    </tr>\n",
       "  </tbody>\n",
       "</table>\n",
       "</div>"
      ],
      "text/plain": [
       "             district  subdist  n_villages  population   area\n",
       "0  เมืองนครศรีธรรมราช  ในเมือง           0       43327    NaN\n",
       "1  เมืองนครศรีธรรมราช   ท่าวัง           0       17346    NaN\n",
       "2  เมืองนครศรีธรรมราช     คลัง           0       17568    NaN\n",
       "3  เมืองนครศรีธรรมราช   ท่าไร่           6        8224  48.83\n",
       "4  เมืองนครศรีธรรมราช   ปากนคร           6       15137  55.83"
      ]
     },
     "execution_count": 9,
     "metadata": {},
     "output_type": "execute_result"
    },
    {
     "data": {
      "text/plain": [
       "169"
      ]
     },
     "execution_count": 9,
     "metadata": {},
     "output_type": "execute_result"
    }
   ],
   "source": [
    "df_population.head()\n",
    "len(df_population)"
   ]
  },
  {
   "cell_type": "markdown",
   "metadata": {},
   "source": [
    "## Visualize average breteau index value for each month"
   ]
  },
  {
   "cell_type": "code",
   "execution_count": 10,
   "metadata": {},
   "outputs": [
    {
     "data": {
      "application/vnd.plotly.v1+json": {
       "data": [
        {
         "marker": {
          "color": "rgb(158,202,225)",
          "line": {
           "color": "rgb(8,48,107)",
           "width": 1.5
          }
         },
         "opacity": 0.8,
         "text": [
          22,
          27,
          19,
          26,
          18,
          22,
          15,
          20,
          20,
          18,
          29,
          20
         ],
         "textposition": "auto",
         "type": "bar",
         "uid": "51f2c8",
         "x": [
          "Jan",
          "Feb",
          "Mar",
          "Apr",
          "May",
          "Jun",
          "Jul",
          "Aug",
          "Sep",
          "Oct",
          "Nov",
          "Dec"
         ],
         "y": [
          22,
          27,
          19,
          26,
          18,
          22,
          15,
          20,
          20,
          18,
          29,
          20
         ]
        }
       ],
       "layout": {
        "height": 550,
        "title": "Average BI for each Month",
        "width": 750,
        "xaxis": {
         "autorange": true,
         "range": [
          -0.5,
          11.5
         ],
         "title": "month",
         "type": "category"
        },
        "yaxis": {
         "autorange": true,
         "range": [
          0,
          30.526315789473685
         ],
         "title": "avg bi",
         "type": "linear"
        }
       }
      },
      "text/html": [
       "<div id=\"5ec5cda2-bb7d-4eb7-b88d-1928037e4f59\" style=\"height: 550px; width: 750px;\" class=\"plotly-graph-div\"></div><script type=\"text/javascript\">require([\"plotly\"], function(Plotly) { window.PLOTLYENV=window.PLOTLYENV || {};window.PLOTLYENV.BASE_URL=\"https://plot.ly\";Plotly.newPlot(\"5ec5cda2-bb7d-4eb7-b88d-1928037e4f59\", [{\"textposition\": \"auto\", \"marker\": {\"line\": {\"width\": 1.5, \"color\": \"rgb(8,48,107)\"}, \"color\": \"rgb(158,202,225)\"}, \"y\": [22.0, 27.0, 19.0, 26.0, 18.0, 22.0, 15.0, 20.0, 20.0, 18.0, 29.0, 20.0], \"text\": [22.0, 27.0, 19.0, 26.0, 18.0, 22.0, 15.0, 20.0, 20.0, 18.0, 29.0, 20.0], \"type\": \"bar\", \"x\": [\"Jan\", \"Feb\", \"Mar\", \"Apr\", \"May\", \"Jun\", \"Jul\", \"Aug\", \"Sep\", \"Oct\", \"Nov\", \"Dec\"], \"opacity\": 0.8}], {\"title\": \"Average BI for each Month\", \"width\": 750, \"xaxis\": {\"title\": \"month\"}, \"yaxis\": {\"title\": \"avg bi\"}, \"height\": 550}, {\"showLink\": true, \"linkText\": \"Export to plot.ly\"})});</script>"
      ],
      "text/vnd.plotly.v1+html": [
       "<div id=\"5ec5cda2-bb7d-4eb7-b88d-1928037e4f59\" style=\"height: 550px; width: 750px;\" class=\"plotly-graph-div\"></div><script type=\"text/javascript\">require([\"plotly\"], function(Plotly) { window.PLOTLYENV=window.PLOTLYENV || {};window.PLOTLYENV.BASE_URL=\"https://plot.ly\";Plotly.newPlot(\"5ec5cda2-bb7d-4eb7-b88d-1928037e4f59\", [{\"textposition\": \"auto\", \"marker\": {\"line\": {\"width\": 1.5, \"color\": \"rgb(8,48,107)\"}, \"color\": \"rgb(158,202,225)\"}, \"y\": [22.0, 27.0, 19.0, 26.0, 18.0, 22.0, 15.0, 20.0, 20.0, 18.0, 29.0, 20.0], \"text\": [22.0, 27.0, 19.0, 26.0, 18.0, 22.0, 15.0, 20.0, 20.0, 18.0, 29.0, 20.0], \"type\": \"bar\", \"x\": [\"Jan\", \"Feb\", \"Mar\", \"Apr\", \"May\", \"Jun\", \"Jul\", \"Aug\", \"Sep\", \"Oct\", \"Nov\", \"Dec\"], \"opacity\": 0.8}], {\"title\": \"Average BI for each Month\", \"width\": 750, \"xaxis\": {\"title\": \"month\"}, \"yaxis\": {\"title\": \"avg bi\"}, \"height\": 550}, {\"showLink\": true, \"linkText\": \"Export to plot.ly\"})});</script>"
      ]
     },
     "metadata": {},
     "output_type": "display_data"
    }
   ],
   "source": [
    "key, val = [], []\n",
    "for m in range(12):\n",
    "    key.append(month[m])\n",
    "    val.append(round(df_filtered[df_filtered.index.month == m+1]['bi'].mean(),0))\n",
    "\n",
    "trace_bar = go.Bar( \n",
    "    x = key,\n",
    "    y = val,\n",
    "    text = val,\n",
    "    textposition = 'auto',\n",
    "    marker=dict(\n",
    "                color='rgb(158,202,225)',\n",
    "                line=dict(\n",
    "                    color='rgb(8,48,107)',\n",
    "                    width=1.5),\n",
    "            ),\n",
    "    opacity=0.8\n",
    ")\n",
    "layout = go.Layout(\n",
    "    title='Average BI for each Month',\n",
    "    height=550,\n",
    "    width=750,\n",
    "    yaxis= dict(title='avg bi'),\n",
    "    xaxis= dict(title='month')\n",
    ")\n",
    "fig = go.Figure(data=[trace_bar], layout=layout)\n",
    "iplot(fig)"
   ]
  },
  {
   "cell_type": "markdown",
   "metadata": {},
   "source": [
    "## Visualize number of detected breeding sites (containers)  for each month"
   ]
  },
  {
   "cell_type": "code",
   "execution_count": 11,
   "metadata": {},
   "outputs": [
    {
     "data": {
      "application/vnd.plotly.v1+json": {
       "data": [
        {
         "marker": {
          "color": "rgb(158,202,225)",
          "line": {
           "color": "rgb(8,48,107)",
           "width": 1.5
          }
         },
         "opacity": 0.8,
         "text": [
          null,
          null,
          481,
          368,
          562,
          631,
          145,
          null,
          null,
          null,
          null,
          919
         ],
         "textposition": "auto",
         "type": "bar",
         "uid": "6f3f2c",
         "x": [
          "Jan",
          "Feb",
          "Mar",
          "Apr",
          "May",
          "Jun",
          "Jul",
          "Aug",
          "Sep",
          "Oct",
          "Nov",
          "Dec"
         ],
         "y": [
          null,
          null,
          481,
          368,
          562,
          631,
          145,
          null,
          null,
          null,
          null,
          919
         ]
        }
       ],
       "layout": {
        "height": 550,
        "title": "Number of detected breeding sites for each Month",
        "width": 750,
        "xaxis": {
         "autorange": true,
         "range": [
          -0.5,
          11.5
         ],
         "title": "month",
         "type": "category"
        },
        "yaxis": {
         "autorange": true,
         "range": [
          0,
          967.3684210526316
         ],
         "title": "Number of containers",
         "type": "linear"
        }
       }
      },
      "text/html": [
       "<div id=\"ed3fa3de-eaaf-4a3c-b163-ffc375c9ae00\" style=\"height: 550px; width: 750px;\" class=\"plotly-graph-div\"></div><script type=\"text/javascript\">require([\"plotly\"], function(Plotly) { window.PLOTLYENV=window.PLOTLYENV || {};window.PLOTLYENV.BASE_URL=\"https://plot.ly\";Plotly.newPlot(\"ed3fa3de-eaaf-4a3c-b163-ffc375c9ae00\", [{\"textposition\": \"auto\", \"marker\": {\"line\": {\"width\": 1.5, \"color\": \"rgb(8,48,107)\"}, \"color\": \"rgb(158,202,225)\"}, \"y\": [null, null, 481.0, 368.0, 562.0, 631.0, 145.0, null, null, null, null, 919.0], \"text\": [null, null, 481.0, 368.0, 562.0, 631.0, 145.0, null, null, null, null, 919.0], \"type\": \"bar\", \"x\": [\"Jan\", \"Feb\", \"Mar\", \"Apr\", \"May\", \"Jun\", \"Jul\", \"Aug\", \"Sep\", \"Oct\", \"Nov\", \"Dec\"], \"opacity\": 0.8}], {\"title\": \"Number of detected breeding sites for each Month\", \"width\": 750, \"xaxis\": {\"title\": \"month\"}, \"yaxis\": {\"title\": \"Number of containers\"}, \"height\": 550}, {\"showLink\": true, \"linkText\": \"Export to plot.ly\"})});</script>"
      ],
      "text/vnd.plotly.v1+html": [
       "<div id=\"ed3fa3de-eaaf-4a3c-b163-ffc375c9ae00\" style=\"height: 550px; width: 750px;\" class=\"plotly-graph-div\"></div><script type=\"text/javascript\">require([\"plotly\"], function(Plotly) { window.PLOTLYENV=window.PLOTLYENV || {};window.PLOTLYENV.BASE_URL=\"https://plot.ly\";Plotly.newPlot(\"ed3fa3de-eaaf-4a3c-b163-ffc375c9ae00\", [{\"textposition\": \"auto\", \"marker\": {\"line\": {\"width\": 1.5, \"color\": \"rgb(8,48,107)\"}, \"color\": \"rgb(158,202,225)\"}, \"y\": [null, null, 481.0, 368.0, 562.0, 631.0, 145.0, null, null, null, null, 919.0], \"text\": [null, null, 481.0, 368.0, 562.0, 631.0, 145.0, null, null, null, null, 919.0], \"type\": \"bar\", \"x\": [\"Jan\", \"Feb\", \"Mar\", \"Apr\", \"May\", \"Jun\", \"Jul\", \"Aug\", \"Sep\", \"Oct\", \"Nov\", \"Dec\"], \"opacity\": 0.8}], {\"title\": \"Number of detected breeding sites for each Month\", \"width\": 750, \"xaxis\": {\"title\": \"month\"}, \"yaxis\": {\"title\": \"Number of containers\"}, \"height\": 550}, {\"showLink\": true, \"linkText\": \"Export to plot.ly\"})});</script>"
      ]
     },
     "metadata": {},
     "output_type": "display_data"
    }
   ],
   "source": [
    "key, val = [], []\n",
    "for m in range(12):\n",
    "    key.append(month[m])\n",
    "    val.append(round(df_detect[df_detect.index.month == m+1]['total'].mean(),0))\n",
    "\n",
    "trace_bar = go.Bar( \n",
    "    x = key,\n",
    "    y = val,\n",
    "    text = val,\n",
    "    textposition = 'auto',\n",
    "    marker=dict(\n",
    "                color='rgb(158,202,225)',\n",
    "                line=dict(\n",
    "                    color='rgb(8,48,107)',\n",
    "                    width=1.5),\n",
    "            ),\n",
    "    opacity=0.8\n",
    ")\n",
    "layout = go.Layout(\n",
    "    title='Number of detected breeding sites for each Month',\n",
    "    height=550,\n",
    "    width=750,\n",
    "    yaxis= dict(title='Number of containers'),\n",
    "    xaxis= dict(title='month')\n",
    ")\n",
    "fig = go.Figure(data=[trace_bar], layout=layout)\n",
    "iplot(fig)"
   ]
  },
  {
   "cell_type": "code",
   "execution_count": 11,
   "metadata": {},
   "outputs": [],
   "source": [
    "# trace = go.Scatter(\n",
    "#     x = df_area['area'], y = df_population['area'], mode = 'markers',\n",
    "#     marker = dict(size = 12, opacity = 0.3)\n",
    "# )\n",
    "# iplot(go.Figure(data=[trace]))"
   ]
  },
  {
   "cell_type": "markdown",
   "metadata": {},
   "source": [
    "# Correlation\n",
    "Perform correlation between number of detected containers and breteau index"
   ]
  },
  {
   "cell_type": "markdown",
   "metadata": {},
   "source": [
    "## Filter outliers in each class"
   ]
  },
  {
   "cell_type": "code",
   "execution_count": 12,
   "metadata": {},
   "outputs": [],
   "source": [
    "# df_category_stat = []\n",
    "# for column in np.squeeze(categories):\n",
    "#     mean_det, std_det = df_detect[column].mean(), df_detect[column].std()\n",
    "#     df_category_stat.append([column, mean_det, std_det])\n",
    "    \n",
    "# df_category_stat = pd.DataFrame.from_records(df_category_stat)\n",
    "# df_category_stat.columns = ['class','mean','std']\n",
    "# df_category_stat = df_category_stat.set_index('class')\n",
    "# df_category_stat"
   ]
  },
  {
   "cell_type": "markdown",
   "metadata": {},
   "source": [
    "## Regression Models"
   ]
  },
  {
   "cell_type": "code",
   "execution_count": 13,
   "metadata": {},
   "outputs": [],
   "source": [
    "def plot_regression(regr, name):\n",
    "    \n",
    "    regr.fit(X, y)\n",
    "    \n",
    "    try: coef = regr.coef_.reshape(-1,1)\n",
    "    except: pass\n",
    "\n",
    "    try: coef = regr.feature_importances_.reshape(-1,1)\n",
    "    except: pass\n",
    "    \n",
    "#     df_coef = pd.DataFrame.from_records(np.concatenate((features_name, coef), axis=1))\n",
    "#     df_coef.columns = ['class', 'coef']\n",
    "#     df_coef['coef'] = df_coef['coef'].astype(float).round(4)\n",
    "    \n",
    "    y_pred, y_true = [], []\n",
    "    for train_index, test_index in loo.split(X):\n",
    "\n",
    "        X_train, X_test = X[train_index], X[test_index]\n",
    "        Y_train, Y_test = y[train_index], y[test_index]\n",
    "\n",
    "        _=regr.fit(X_train, Y_train)\n",
    "\n",
    "        pred = regr.predict(X_test)\n",
    "        y_pred.append(np.squeeze(pred))\n",
    "        y_true.append(np.squeeze(Y_test))\n",
    "\n",
    "    y_pred = np.array(y_pred)\n",
    "    y_true = np.array(y_true)\n",
    "\n",
    "    print('R-squared:', metrics.r2_score(y_true, y_pred))\n",
    "    print('Person:', pearsonr(y_true, y_pred))\n",
    "    print(spearmanr(y_true, y_pred),'\\n')\n",
    "\n",
    "    trace_1 = go.Scatter(\n",
    "        x = y_true, y = y_pred, mode = 'markers', name='Scatter',\n",
    "        marker = dict(size = 12, opacity = 0.5)\n",
    "    )\n",
    "    \n",
    "    xs = np.array(y_true)\n",
    "    ys = np.array(y_pred)\n",
    "\n",
    "    regr = linear_model.LinearRegression()\n",
    "    regr.fit(xs.reshape(-1, 1), ys.reshape(-1, 1))\n",
    "\n",
    "    ys_pred = regr.predict(xs.reshape(-1, 1))\n",
    "    trace_2 = go.Scatter(\n",
    "        x = xs, y = np.squeeze(ys_pred), name='Regression',\n",
    "        mode = 'lines', line = dict(width = 4)\n",
    "    )\n",
    "\n",
    "#     coef = np.squeeze(coef)\n",
    "#     coef = 100.0 * (coef / coef.max())\n",
    "#     sorted_idx = np.argsort(coef)[::-1]\n",
    "#     pos = np.arange(sorted_idx.shape[0]) + .5\n",
    "    \n",
    "#     trace_3 = go.Bar(\n",
    "#         x = np.squeeze(features_name[sorted_idx]),\n",
    "#         y = coef[sorted_idx],\n",
    "#         name='Variable Importance',\n",
    "#         marker=dict(\n",
    "#                     color='rgb(158,202,225)',\n",
    "#                     line=dict(\n",
    "#                         color='rgb(8,48,107)',\n",
    "#                         width=1.5),\n",
    "#                 ),\n",
    "#         opacity=0.8\n",
    "#     )\n",
    "\n",
    "    \n",
    "    fig = tools.make_subplots(\n",
    "        rows=1, cols=1, \n",
    "#         subplot_titles=(\n",
    "#             'Correlation Subplot',\n",
    "#             'Variable Importance Subplot',\n",
    "#         ),\n",
    "        vertical_spacing = 0.15\n",
    "    )\n",
    "\n",
    "    fig.append_trace(trace_1, 1, 1)\n",
    "    fig.append_trace(trace_2, 1, 1)\n",
    "#     fig.append_trace(trace_3, 1, 1)\n",
    "    \n",
    "    fig['layout'].update(width=650,title=name, font=dict(size=16))\n",
    "    fig['layout']['xaxis1'].update(title='Breteau index')\n",
    "#     fig['layout']['xaxis1'].update(title='Breeding site')\n",
    "    \n",
    "    fig['layout']['yaxis1'].update(title='Predicted')\n",
    "#     fig['layout']['yaxis1'].update(title='Relative Importance')\n",
    "    \n",
    "    iplot(fig)\n",
    "    \n",
    "#     return df_coef"
   ]
  },
  {
   "cell_type": "code",
   "execution_count": 14,
   "metadata": {},
   "outputs": [],
   "source": [
    "def plot_one_regression(regr, name):\n",
    "    \n",
    "    regr.fit(X, y)   \n",
    "    \n",
    "    y_pred, y_true = [], []\n",
    "    for train_index, test_index in loo.split(X):\n",
    "\n",
    "        X_train, X_test = X[train_index], X[test_index]\n",
    "        Y_train, Y_test = y[train_index], y[test_index]\n",
    "\n",
    "        _=regr.fit(X_train, Y_train)\n",
    "\n",
    "        pred = regr.predict(X_test)\n",
    "        y_pred.append(np.squeeze(pred))\n",
    "        y_true.append(np.squeeze(Y_test))\n",
    "\n",
    "    y_pred = np.array(y_pred)\n",
    "    y_true = np.array(y_true)\n",
    "    \n",
    "    r2 = round(metrics.r2_score(y_true, y_pred),4)\n",
    "    pearson = round(pearsonr(y_true, y_pred)[0],4)\n",
    "    spearman = round(spearmanr(y_true, y_pred)[0],4)\n",
    "    \n",
    "    print('R-squared:', metrics.r2_score(y_true, y_pred))\n",
    "    print('Person:', pearsonr(y_true, y_pred))\n",
    "    print(spearmanr(y_true, y_pred),'\\n')\n",
    "\n",
    "    trace_1 = go.Scatter(\n",
    "        x = y_true, y = y_pred, mode = 'markers', name='Scatter',\n",
    "        marker = dict(size = 12, opacity = 0.5)\n",
    "    )\n",
    "    \n",
    "    xs = np.array(y_true)\n",
    "    ys = np.array(y_pred)\n",
    "\n",
    "    regr = linear_model.LinearRegression()\n",
    "    regr.fit(xs.reshape(-1, 1), ys.reshape(-1, 1))\n",
    "\n",
    "    ys_pred = regr.predict(xs.reshape(-1, 1))\n",
    "    trace_2 = go.Scatter(\n",
    "        x = xs, y = np.squeeze(ys_pred), name='Regression',\n",
    "        mode = 'lines', line = dict(width = 4)\n",
    "    )\n",
    "\n",
    "    \n",
    "    fig = tools.make_subplots(\n",
    "        rows=1, cols=1\n",
    "    )\n",
    "\n",
    "    fig.append_trace(trace_1, 1, 1)\n",
    "    fig.append_trace(trace_2, 1, 1)\n",
    "    \n",
    "    name += 'R-squared: ' + str(r2) + \\\n",
    "    ', Pearson: ' + str(pearson) + \\\n",
    "    ', Spearman: ' + str(spearman)\n",
    "    \n",
    "    fig['layout'].update(width=650,title=name, font=dict(size=16))\n",
    "    fig['layout']['xaxis1'].update(title='Breteau index')\n",
    "    \n",
    "    fig['layout']['yaxis1'].update(title='Predicted')\n",
    "    \n",
    "    iplot(fig)"
   ]
  },
  {
   "cell_type": "markdown",
   "metadata": {},
   "source": [
    "## Selecte Features Used"
   ]
  },
  {
   "cell_type": "code",
   "execution_count": 13,
   "metadata": {},
   "outputs": [
    {
     "data": {
      "text/plain": [
       "array([['bin'],\n",
       "       ['bowl'],\n",
       "       ['bucket'],\n",
       "       ['jar'],\n",
       "       ['pottedplant'],\n",
       "       ['tire']], dtype='<U11')"
      ]
     },
     "execution_count": 13,
     "metadata": {},
     "output_type": "execute_result"
    },
    {
     "data": {
      "text/plain": [
       "(6, 1)"
      ]
     },
     "execution_count": 13,
     "metadata": {},
     "output_type": "execute_result"
    }
   ],
   "source": [
    "# features_name = np.concatenate((categories,[['month']]), axis=0)    \n",
    "# features_name = np.concatenate((categories,[['month'], ['area'], ['popluation']]), axis=0)    \n",
    "# features_name = np.array([['bucket'], ['jar'], ['pottedplant'], ['month'], ['area'], ['popluation']])\n",
    "# features_name = np.array([['bucket'], ['jar'], ['pottedplant']])\n",
    "# features_name = np.array([['bucket'], ['jar'], ['pottedplant'], ['month']])\n",
    "\n",
    "features_name = np.array([['bin'], ['bowl'], ['bucket'], ['jar'], ['pottedplant'], ['tire']])\n",
    "\n",
    "# features_name = deepcopy(categories)\n",
    "\n",
    "features_name\n",
    "features_name.shape"
   ]
  },
  {
   "cell_type": "code",
   "execution_count": 16,
   "metadata": {},
   "outputs": [
    {
     "data": {
      "text/html": [
       "<div>\n",
       "<style scoped>\n",
       "    .dataframe tbody tr th:only-of-type {\n",
       "        vertical-align: middle;\n",
       "    }\n",
       "\n",
       "    .dataframe tbody tr th {\n",
       "        vertical-align: top;\n",
       "    }\n",
       "\n",
       "    .dataframe thead th {\n",
       "        text-align: right;\n",
       "    }\n",
       "</style>\n",
       "<table border=\"1\" class=\"dataframe\">\n",
       "  <thead>\n",
       "    <tr style=\"text-align: right;\">\n",
       "      <th></th>\n",
       "      <th>district</th>\n",
       "      <th>subdist</th>\n",
       "      <th>bin</th>\n",
       "      <th>bowl</th>\n",
       "      <th>bucket</th>\n",
       "      <th>cup</th>\n",
       "      <th>jar</th>\n",
       "      <th>pottedplant</th>\n",
       "      <th>tire</th>\n",
       "      <th>vase</th>\n",
       "      <th>total</th>\n",
       "      <th>brd_total</th>\n",
       "    </tr>\n",
       "    <tr>\n",
       "      <th>date</th>\n",
       "      <th></th>\n",
       "      <th></th>\n",
       "      <th></th>\n",
       "      <th></th>\n",
       "      <th></th>\n",
       "      <th></th>\n",
       "      <th></th>\n",
       "      <th></th>\n",
       "      <th></th>\n",
       "      <th></th>\n",
       "      <th></th>\n",
       "      <th></th>\n",
       "    </tr>\n",
       "  </thead>\n",
       "  <tbody>\n",
       "    <tr>\n",
       "      <th>2016-03-01</th>\n",
       "      <td>ร่อนพิบูลย์</td>\n",
       "      <td>ร่อนพิบูลย์</td>\n",
       "      <td>2</td>\n",
       "      <td>0</td>\n",
       "      <td>59</td>\n",
       "      <td>46</td>\n",
       "      <td>47</td>\n",
       "      <td>19</td>\n",
       "      <td>0</td>\n",
       "      <td>0</td>\n",
       "      <td>173</td>\n",
       "      <td>127</td>\n",
       "    </tr>\n",
       "    <tr>\n",
       "      <th>2016-03-01</th>\n",
       "      <td>ทุ่งสง</td>\n",
       "      <td>กะปาง</td>\n",
       "      <td>6</td>\n",
       "      <td>1</td>\n",
       "      <td>266</td>\n",
       "      <td>71</td>\n",
       "      <td>160</td>\n",
       "      <td>18</td>\n",
       "      <td>1</td>\n",
       "      <td>8</td>\n",
       "      <td>531</td>\n",
       "      <td>459</td>\n",
       "    </tr>\n",
       "    <tr>\n",
       "      <th>2016-03-01</th>\n",
       "      <td>ชะอวด</td>\n",
       "      <td>ชะอวด</td>\n",
       "      <td>5</td>\n",
       "      <td>1</td>\n",
       "      <td>329</td>\n",
       "      <td>46</td>\n",
       "      <td>200</td>\n",
       "      <td>37</td>\n",
       "      <td>7</td>\n",
       "      <td>14</td>\n",
       "      <td>639</td>\n",
       "      <td>592</td>\n",
       "    </tr>\n",
       "    <tr>\n",
       "      <th>2016-03-01</th>\n",
       "      <td>ทุ่งใหญ่</td>\n",
       "      <td>ท่ายาง</td>\n",
       "      <td>5</td>\n",
       "      <td>0</td>\n",
       "      <td>912</td>\n",
       "      <td>46</td>\n",
       "      <td>228</td>\n",
       "      <td>83</td>\n",
       "      <td>13</td>\n",
       "      <td>13</td>\n",
       "      <td>1300</td>\n",
       "      <td>1254</td>\n",
       "    </tr>\n",
       "    <tr>\n",
       "      <th>2016-03-01</th>\n",
       "      <td>จุฬาภรณ์</td>\n",
       "      <td>บ้านควนมุด</td>\n",
       "      <td>2</td>\n",
       "      <td>0</td>\n",
       "      <td>142</td>\n",
       "      <td>101</td>\n",
       "      <td>100</td>\n",
       "      <td>42</td>\n",
       "      <td>3</td>\n",
       "      <td>1</td>\n",
       "      <td>391</td>\n",
       "      <td>290</td>\n",
       "    </tr>\n",
       "  </tbody>\n",
       "</table>\n",
       "</div>"
      ],
      "text/plain": [
       "               district      subdist  bin  bowl  bucket  cup  jar  \\\n",
       "date                                                                \n",
       "2016-03-01  ร่อนพิบูลย์  ร่อนพิบูลย์    2     0      59   46   47   \n",
       "2016-03-01       ทุ่งสง        กะปาง    6     1     266   71  160   \n",
       "2016-03-01        ชะอวด        ชะอวด    5     1     329   46  200   \n",
       "2016-03-01     ทุ่งใหญ่       ท่ายาง    5     0     912   46  228   \n",
       "2016-03-01     จุฬาภรณ์   บ้านควนมุด    2     0     142  101  100   \n",
       "\n",
       "            pottedplant  tire  vase  total  brd_total  \n",
       "date                                                   \n",
       "2016-03-01           19     0     0    173        127  \n",
       "2016-03-01           18     1     8    531        459  \n",
       "2016-03-01           37     7    14    639        592  \n",
       "2016-03-01           83    13    13   1300       1254  \n",
       "2016-03-01           42     3     1    391        290  "
      ]
     },
     "execution_count": 16,
     "metadata": {},
     "output_type": "execute_result"
    }
   ],
   "source": [
    "df_detect['brd_total'] = df_detect['total']-df_detect['cup']-df_detect['bowl']\n",
    "df_detect.head()"
   ]
  },
  {
   "cell_type": "code",
   "execution_count": 24,
   "metadata": {},
   "outputs": [
    {
     "name": "stdout",
     "output_type": "stream",
     "text": [
      "X_train.shape: (53, 4)\n",
      "\n",
      "R-squared: -2.944187145101225\n",
      "Person: (0.3415996038632038, 0.01230101858605397)\n",
      "SpearmanrResult(correlation=0.35785145010693775, pvalue=0.008517807331374678) \n",
      "\n"
     ]
    },
    {
     "data": {
      "text/plain": [
       "LinearRegression(copy_X=True, fit_intercept=True, n_jobs=1, normalize=False)"
      ]
     },
     "execution_count": 24,
     "metadata": {},
     "output_type": "execute_result"
    },
    {
     "data": {
      "application/vnd.plotly.v1+json": {
       "data": [
        {
         "marker": {
          "opacity": 0.4,
          "size": 15
         },
         "mode": "markers",
         "name": "Subdistrict",
         "type": "scatter",
         "uid": "66172e",
         "x": [
          15.73,
          10,
          30.22,
          27,
          15,
          33.5,
          9.5,
          22.12,
          33.5,
          35.5,
          38.33,
          72,
          41.25,
          15,
          13.21,
          5.58,
          6.3,
          6.18,
          17.15,
          31.82,
          29.45,
          23.01,
          15,
          7.5,
          31.25,
          32.5,
          42.5,
          17.86,
          57.5,
          57.5,
          12.5,
          54.5,
          33.12,
          68,
          18.96,
          70,
          33.33,
          32.5,
          16.2,
          50,
          30,
          10,
          30,
          53.33,
          37.5,
          62.78,
          40,
          43,
          25.83,
          50,
          42.5,
          22.5,
          22.5
         ],
         "y": [
          1.4326908483836698,
          1.680239633061874,
          0.4567866403342603,
          0.8918776157002966,
          0.6502534705139997,
          0.6333015748472791,
          3.9925263054380964,
          0.25454221390457726,
          0.36641432472605345,
          0.607251990112692,
          0.26965751777678537,
          1.8040717597258618,
          1.004264303473949,
          1.5487465181058495,
          0.8652740513606747,
          0.3005201897701097,
          0.6071308108966093,
          0.3028310859956359,
          0.9915385219919838,
          0.3155094549728827,
          2.1396050389653922,
          0.46569960183122555,
          0.5896069287141905,
          0.4764957887681054,
          1.7173264532774328,
          0.9834107745992648,
          0.979881003496289,
          0.399676079517254,
          4.409071700239471,
          3.100802982506453,
          0.8975396853331455,
          0.3047523886841941,
          1.3785551422056883,
          1.2387387387387387,
          0.4412530490311618,
          0.95525712694639,
          0.7888980528561695,
          0.5038056705265932,
          0.7272361674318845,
          1.4384396586753354,
          1.3931937008860085,
          0.03430645908698736,
          0.9363861535673292,
          4.916685347082119,
          0.77748777708341,
          0.8198988140749296,
          1.3202644753797081,
          2.233411256968171,
          0.1213580160948582,
          1.6590953979853844,
          2.9287757867790996,
          0.589966693346415,
          1.9305812281782708
         ]
        },
        {
         "line": {
          "width": 4
         },
         "mode": "lines",
         "name": "Regression",
         "type": "scatter",
         "uid": "ef9847",
         "x": [
          15.73,
          10,
          30.22,
          27,
          15,
          33.5,
          9.5,
          22.12,
          33.5,
          35.5,
          38.33,
          72,
          41.25,
          15,
          13.21,
          5.58,
          6.3,
          6.18,
          17.15,
          31.82,
          29.45,
          23.01,
          15,
          7.5,
          31.25,
          32.5,
          42.5,
          17.86,
          57.5,
          57.5,
          12.5,
          54.5,
          33.12,
          68,
          18.96,
          70,
          33.33,
          32.5,
          16.2,
          50,
          30,
          10,
          30,
          53.33,
          37.5,
          62.78,
          40,
          43,
          25.83,
          50,
          42.5,
          22.5,
          22.5
         ],
         "y": [
          0.8650015503971245,
          0.7478709045034496,
          1.1612010371334853,
          1.0953789289698497,
          0.8500791469935672,
          1.2282496442070023,
          0.7376500802544379,
          0.9956236842994948,
          1.2282496442070023,
          1.2691329412030496,
          1.326982806452456,
          2.015253111380908,
          1.386672420066685,
          0.8500791469935672,
          0.8134885961821052,
          0.6575188181421856,
          0.6722368050607626,
          0.6697838072409997,
          0.8940286912643178,
          1.193907674730323,
          1.1454609677900072,
          1.0138167514627356,
          0.8500791469935672,
          0.6967667832583908,
          1.1822559350864497,
          1.207807995708979,
          1.4122244806892144,
          0.9085422616979145,
          1.718849208159567,
          1.718849208159567,
          0.7989750257485084,
          1.6575242626654965,
          1.2204818177777534,
          1.9334865173888143,
          0.9310280750457405,
          1.9743698143848611,
          1.2247745639623384,
          1.207807995708979,
          0.8746091251911955,
          1.5655368444243907,
          1.1567038744639202,
          0.7478709045034496,
          1.1567038744639202,
          1.633607533922809,
          1.3100162381990965,
          1.8267811122291313,
          1.3611203594441554,
          1.422445304938226,
          1.0714622002271619,
          1.5655368444243907,
          1.4122244806892144,
          1.0033915107287437,
          1.0033915107287437
         ]
        }
       ],
       "layout": {
        "autosize": true,
        "font": {
         "size": 16
        },
        "title": "Entire year (53 data points): Linear Regression<br>Pearson: 0.350, Spearman: 0.358",
        "xaxis": {
         "autorange": true,
         "range": [
          0.20105822043207588,
          77.37894177956792
         ],
         "title": "Breteau index",
         "type": "linear"
        },
        "yaxis": {
         "autorange": true,
         "range": [
          -0.45166391154626245,
          5.402655717715368
         ],
         "title": "Total # of detected containers<br>divided by area",
         "type": "linear"
        }
       }
      },
      "text/html": [
       "<div id=\"230c8f32-b481-438f-84b7-4f797224d511\" style=\"height: 525px; width: 650px;\" class=\"plotly-graph-div\"></div><script type=\"text/javascript\">require([\"plotly\"], function(Plotly) { window.PLOTLYENV=window.PLOTLYENV || {};window.PLOTLYENV.BASE_URL=\"https://plot.ly\";Plotly.newPlot(\"230c8f32-b481-438f-84b7-4f797224d511\", [{\"name\": \"Subdistrict\", \"x\": [15.73, 10.0, 30.22, 27.0, 15.0, 33.5, 9.5, 22.12, 33.5, 35.5, 38.33, 72.0, 41.25, 15.0, 13.21, 5.58, 6.3, 6.18, 17.15, 31.82, 29.45, 23.01, 15.0, 7.5, 31.25, 32.5, 42.5, 17.86, 57.5, 57.5, 12.5, 54.5, 33.12, 68.0, 18.96, 70.0, 33.33, 32.5, 16.2, 50.0, 30.0, 10.0, 30.0, 53.33, 37.5, 62.78, 40.0, 43.0, 25.83, 50.0, 42.5, 22.5, 22.5], \"mode\": \"markers\", \"marker\": {\"opacity\": 0.4, \"size\": 15}, \"y\": [1.4326908483836698, 1.680239633061874, 0.4567866403342603, 0.8918776157002966, 0.6502534705139997, 0.6333015748472791, 3.9925263054380964, 0.25454221390457726, 0.36641432472605345, 0.607251990112692, 0.26965751777678537, 1.8040717597258618, 1.004264303473949, 1.5487465181058495, 0.8652740513606747, 0.3005201897701097, 0.6071308108966093, 0.3028310859956359, 0.9915385219919838, 0.3155094549728827, 2.1396050389653922, 0.46569960183122555, 0.5896069287141905, 0.4764957887681054, 1.7173264532774328, 0.9834107745992648, 0.979881003496289, 0.399676079517254, 4.409071700239471, 3.100802982506453, 0.8975396853331455, 0.3047523886841941, 1.3785551422056883, 1.2387387387387387, 0.4412530490311618, 0.95525712694639, 0.7888980528561695, 0.5038056705265932, 0.7272361674318845, 1.4384396586753354, 1.3931937008860085, 0.03430645908698736, 0.9363861535673292, 4.916685347082119, 0.77748777708341, 0.8198988140749296, 1.3202644753797081, 2.233411256968171, 0.1213580160948582, 1.6590953979853844, 2.9287757867790996, 0.589966693346415, 1.9305812281782708], \"type\": \"scatter\"}, {\"name\": \"Regression\", \"x\": [15.73, 10.0, 30.22, 27.0, 15.0, 33.5, 9.5, 22.12, 33.5, 35.5, 38.33, 72.0, 41.25, 15.0, 13.21, 5.58, 6.3, 6.18, 17.15, 31.82, 29.45, 23.01, 15.0, 7.5, 31.25, 32.5, 42.5, 17.86, 57.5, 57.5, 12.5, 54.5, 33.12, 68.0, 18.96, 70.0, 33.33, 32.5, 16.2, 50.0, 30.0, 10.0, 30.0, 53.33, 37.5, 62.78, 40.0, 43.0, 25.83, 50.0, 42.5, 22.5, 22.5], \"mode\": \"lines\", \"line\": {\"width\": 4}, \"y\": [0.8650015503971245, 0.7478709045034496, 1.1612010371334853, 1.0953789289698497, 0.8500791469935672, 1.2282496442070023, 0.7376500802544379, 0.9956236842994948, 1.2282496442070023, 1.2691329412030496, 1.326982806452456, 2.015253111380908, 1.386672420066685, 0.8500791469935672, 0.8134885961821052, 0.6575188181421856, 0.6722368050607626, 0.6697838072409997, 0.8940286912643178, 1.193907674730323, 1.1454609677900072, 1.0138167514627356, 0.8500791469935672, 0.6967667832583908, 1.1822559350864497, 1.207807995708979, 1.4122244806892144, 0.9085422616979145, 1.718849208159567, 1.718849208159567, 0.7989750257485084, 1.6575242626654965, 1.2204818177777534, 1.9334865173888143, 0.9310280750457405, 1.9743698143848611, 1.2247745639623384, 1.207807995708979, 0.8746091251911955, 1.5655368444243907, 1.1567038744639202, 0.7478709045034496, 1.1567038744639202, 1.633607533922809, 1.3100162381990965, 1.8267811122291313, 1.3611203594441554, 1.422445304938226, 1.0714622002271619, 1.5655368444243907, 1.4122244806892144, 1.0033915107287437, 1.0033915107287437], \"type\": \"scatter\"}], {\"font\": {\"size\": 16}, \"width\": 650, \"title\": \"Entire year (53 data points): Linear Regression<br>Pearson: 0.350, Spearman: 0.358\", \"xaxis\": {\"title\": \"Breteau index\"}, \"yaxis\": {\"title\": \"Total # of detected containers<br>divided by area\"}}, {\"linkText\": \"Export to plot.ly\", \"showLink\": true})});</script>"
      ],
      "text/vnd.plotly.v1+html": [
       "<div id=\"230c8f32-b481-438f-84b7-4f797224d511\" style=\"height: 525px; width: 650px;\" class=\"plotly-graph-div\"></div><script type=\"text/javascript\">require([\"plotly\"], function(Plotly) { window.PLOTLYENV=window.PLOTLYENV || {};window.PLOTLYENV.BASE_URL=\"https://plot.ly\";Plotly.newPlot(\"230c8f32-b481-438f-84b7-4f797224d511\", [{\"name\": \"Subdistrict\", \"x\": [15.73, 10.0, 30.22, 27.0, 15.0, 33.5, 9.5, 22.12, 33.5, 35.5, 38.33, 72.0, 41.25, 15.0, 13.21, 5.58, 6.3, 6.18, 17.15, 31.82, 29.45, 23.01, 15.0, 7.5, 31.25, 32.5, 42.5, 17.86, 57.5, 57.5, 12.5, 54.5, 33.12, 68.0, 18.96, 70.0, 33.33, 32.5, 16.2, 50.0, 30.0, 10.0, 30.0, 53.33, 37.5, 62.78, 40.0, 43.0, 25.83, 50.0, 42.5, 22.5, 22.5], \"mode\": \"markers\", \"marker\": {\"opacity\": 0.4, \"size\": 15}, \"y\": [1.4326908483836698, 1.680239633061874, 0.4567866403342603, 0.8918776157002966, 0.6502534705139997, 0.6333015748472791, 3.9925263054380964, 0.25454221390457726, 0.36641432472605345, 0.607251990112692, 0.26965751777678537, 1.8040717597258618, 1.004264303473949, 1.5487465181058495, 0.8652740513606747, 0.3005201897701097, 0.6071308108966093, 0.3028310859956359, 0.9915385219919838, 0.3155094549728827, 2.1396050389653922, 0.46569960183122555, 0.5896069287141905, 0.4764957887681054, 1.7173264532774328, 0.9834107745992648, 0.979881003496289, 0.399676079517254, 4.409071700239471, 3.100802982506453, 0.8975396853331455, 0.3047523886841941, 1.3785551422056883, 1.2387387387387387, 0.4412530490311618, 0.95525712694639, 0.7888980528561695, 0.5038056705265932, 0.7272361674318845, 1.4384396586753354, 1.3931937008860085, 0.03430645908698736, 0.9363861535673292, 4.916685347082119, 0.77748777708341, 0.8198988140749296, 1.3202644753797081, 2.233411256968171, 0.1213580160948582, 1.6590953979853844, 2.9287757867790996, 0.589966693346415, 1.9305812281782708], \"type\": \"scatter\"}, {\"name\": \"Regression\", \"x\": [15.73, 10.0, 30.22, 27.0, 15.0, 33.5, 9.5, 22.12, 33.5, 35.5, 38.33, 72.0, 41.25, 15.0, 13.21, 5.58, 6.3, 6.18, 17.15, 31.82, 29.45, 23.01, 15.0, 7.5, 31.25, 32.5, 42.5, 17.86, 57.5, 57.5, 12.5, 54.5, 33.12, 68.0, 18.96, 70.0, 33.33, 32.5, 16.2, 50.0, 30.0, 10.0, 30.0, 53.33, 37.5, 62.78, 40.0, 43.0, 25.83, 50.0, 42.5, 22.5, 22.5], \"mode\": \"lines\", \"line\": {\"width\": 4}, \"y\": [0.8650015503971245, 0.7478709045034496, 1.1612010371334853, 1.0953789289698497, 0.8500791469935672, 1.2282496442070023, 0.7376500802544379, 0.9956236842994948, 1.2282496442070023, 1.2691329412030496, 1.326982806452456, 2.015253111380908, 1.386672420066685, 0.8500791469935672, 0.8134885961821052, 0.6575188181421856, 0.6722368050607626, 0.6697838072409997, 0.8940286912643178, 1.193907674730323, 1.1454609677900072, 1.0138167514627356, 0.8500791469935672, 0.6967667832583908, 1.1822559350864497, 1.207807995708979, 1.4122244806892144, 0.9085422616979145, 1.718849208159567, 1.718849208159567, 0.7989750257485084, 1.6575242626654965, 1.2204818177777534, 1.9334865173888143, 0.9310280750457405, 1.9743698143848611, 1.2247745639623384, 1.207807995708979, 0.8746091251911955, 1.5655368444243907, 1.1567038744639202, 0.7478709045034496, 1.1567038744639202, 1.633607533922809, 1.3100162381990965, 1.8267811122291313, 1.3611203594441554, 1.422445304938226, 1.0714622002271619, 1.5655368444243907, 1.4122244806892144, 1.0033915107287437, 1.0033915107287437], \"type\": \"scatter\"}], {\"font\": {\"size\": 16}, \"width\": 650, \"title\": \"Entire year (53 data points): Linear Regression<br>Pearson: 0.350, Spearman: 0.358\", \"xaxis\": {\"title\": \"Breteau index\"}, \"yaxis\": {\"title\": \"Total # of detected containers<br>divided by area\"}}, {\"linkText\": \"Export to plot.ly\", \"showLink\": true})});</script>"
      ]
     },
     "metadata": {},
     "output_type": "display_data"
    }
   ],
   "source": [
    "x_train, y_train = [], [] \n",
    "xs, ys = [], []\n",
    "\n",
    "column = 'total'\n",
    "\n",
    "mean_det, std_det = df_detect[column].mean(), df_detect[column].std()\n",
    "\n",
    "subdist_list = df_survey['subdist'].unique()\n",
    "for subdist in subdist_list:\n",
    "    detect = round(df_detect.loc[df_detect['subdist'] == subdist][column].mean(),2)\n",
    "    area = round(df_area.loc[df_area['subdist'] == subdist]['area'].mean(),2)\n",
    "    \n",
    "    population = round(df_population.loc[df_population['subdist'] == subdist]['population'].mean(),2)\n",
    "    n_villages = round(df_population.loc[df_population['subdist'] == subdist]['n_villages'].mean(),2)\n",
    "    \n",
    "    survey = round(df_filtered.loc[(df_filtered['subdist'] == subdist) \n",
    "#                                    & (df_filtered.index.month.isin([6,7,8,9,10,11]))\n",
    "                                  ]['bi'].mean(), 2)\n",
    "\n",
    "    if np.isnan(detect) or np.isnan(survey): continue\n",
    "    if detect > mean_det+1*std_det or detect < mean_det-1*std_det: continue\n",
    "    \n",
    "    xs.append(survey)\n",
    "    ys.append((detect)/(area))\n",
    "    \n",
    "    x = df_detect.loc[df_detect['subdist'] == subdist].copy()\n",
    "#     x = x[['bin','bowl','bucket','cup','jar','pottedplant','tire','vase']].copy()\n",
    "#     x = x[['bin','bowl','bucket', 'jar','pottedplant','tire']].copy()\n",
    "\n",
    "    x = x[['bucket','jar','pottedplant']].copy()\n",
    "\n",
    "   \n",
    "    month = df_detect.loc[df_detect['subdist'] == subdist].index.month[0]\n",
    "    \n",
    "    y_dengue_season = 1 if month in [6,7,8,9,10] else 0\n",
    "    n_dengue_season = 0 if month in [6,7,8,9,10] else 1\n",
    "\n",
    "    features = list(np.squeeze(x.values)/area) + [month]\n",
    "#     features = list(np.squeeze(x.values))\n",
    "#     features = np.array(detect/area)\n",
    "    \n",
    "    x_train.append(np.array(features))\n",
    "    y_train.append(survey)\n",
    "    \n",
    "\n",
    "X = np.array(x_train)\n",
    "y = np.array(y_train)\n",
    "print('X_train.shape:', X.shape)\n",
    "\n",
    "print('\\nR-squared:', metrics.r2_score(xs, ys))\n",
    "print('Person:', pearsonr(xs, ys))\n",
    "print(spearmanr(xs, ys),'\\n')\n",
    "\n",
    "trace = go.Scatter(\n",
    "    x = xs, y = ys, mode = 'markers', name='Subdistrict',\n",
    "    marker = dict(size = 15, opacity = 0.4)\n",
    ")\n",
    "\n",
    "xs = np.array(xs)\n",
    "ys = np.array(ys)\n",
    "\n",
    "regr = linear_model.LinearRegression()\n",
    "regr.fit(xs.reshape(-1, 1), ys.reshape(-1, 1))\n",
    "\n",
    "ys_pred = regr.predict(xs.reshape(-1, 1))\n",
    "trace_2 = go.Scatter(\n",
    "    x = xs, y = np.squeeze(ys_pred), mode = 'lines', line = dict(width = 4), name='Regression'\n",
    ")\n",
    "\n",
    "layout = dict(\n",
    "    title = 'Entire year (53 data points): Linear Regression<br>' \\\n",
    "            'Pearson: 0.350, Spearman: 0.358',\n",
    "    width=650, \n",
    "    xaxis = dict(title = 'Breteau index'),\n",
    "    yaxis = dict(title = 'Total # of detected containers<br>divided by area'),\n",
    "    font=dict(size=16)\n",
    ")\n",
    "iplot(go.Figure(data=[trace,trace_2], layout=layout))"
   ]
  },
  {
   "cell_type": "code",
   "execution_count": 18,
   "metadata": {},
   "outputs": [
    {
     "data": {
      "text/plain": [
       "LinearRegression(copy_X=True, fit_intercept=True, n_jobs=1, normalize=False)"
      ]
     },
     "execution_count": 18,
     "metadata": {},
     "output_type": "execute_result"
    },
    {
     "name": "stdout",
     "output_type": "stream",
     "text": [
      "\n",
      "R-squared: 0.11669028935949799\n",
      "Person: (0.34159960386320365, 0.012301018586054015)\n",
      "SpearmanrResult(correlation=0.35785145010693775, pvalue=0.008517807331374678) \n",
      "\n"
     ]
    }
   ],
   "source": [
    "regr.fit(ys.reshape(-1, 1), xs.reshape(-1, 1))\n",
    "pred = np.squeeze(regr.predict(ys.reshape(-1, 1)))\n",
    "\n",
    "print('\\nR-squared:', metrics.r2_score(xs, pred))\n",
    "print('Person:', pearsonr(xs, pred))\n",
    "print(spearmanr(xs, pred),'\\n')"
   ]
  },
  {
   "cell_type": "code",
   "execution_count": 21,
   "metadata": {},
   "outputs": [],
   "source": [
    "# parameter_grid_gb = {\n",
    "#     'max_depth': [3, 4, 5, 6, 7, 8],\n",
    "#     'max_features': [2, 3, 4],\n",
    "#     'subsample': [0.6, 0.8, 1],\n",
    "#     'learning_rate':[0.03, 0.05, 0.1]\n",
    "# }\n",
    "\n",
    "# parameter_grid_tree = {\n",
    "#     'max_depth': [3, 4, 5, 6, 7, 8],\n",
    "#     'max_features': [2, 3, 4],\n",
    "# }\n",
    "\n",
    "# parameter_grid_svr = {\n",
    "#     'kernel': ['linear','poly','rbf'],\n",
    "#     'degree': [1,2,3,4,5,6]\n",
    "# }\n",
    "\n",
    "\n",
    "# parameter_grid_ada = {\n",
    "#     'base_estimator': [svr, dt],\n",
    "#     'n_estimators': [5, 10, 15, 20, 25],\n",
    "#     'loss': ['linear', 'square', 'exponential'],\n",
    "#     'learning_rate':[0.1]\n",
    "# }"
   ]
  },
  {
   "cell_type": "code",
   "execution_count": 26,
   "metadata": {},
   "outputs": [],
   "source": [
    "# grid_search = model_selection.GridSearchCV(\n",
    "#     estimator=ensemble.GradientBoostingRegressor(),\n",
    "#     param_grid=parameter_grid_gb, \n",
    "#     cv=loo,\n",
    "#     n_jobs=8\n",
    "# )\n",
    "\n",
    "# _=grid_search.fit(X, y)\n",
    "# grid_search.best_score_\n",
    "# grid_search.best_params_\n",
    "\n",
    "\n",
    "# grid_search = model_selection.GridSearchCV(\n",
    "#     estimator=ensemble.RandomForestRegressor(), \n",
    "#     param_grid=parameter_grid_tree, \n",
    "#     cv=loo,\n",
    "#     n_jobs=1\n",
    "# )\n",
    "\n",
    "# _=grid_search.fit(X, y)\n",
    "# grid_search.best_score_\n",
    "# grid_search.best_params_\n",
    "\n",
    "# grid_search = model_selection.GridSearchCV(estimator=svm.SVR(), \n",
    "#                                            param_grid=parameter_grid_svr, \n",
    "#                                            cv=10,\n",
    "#                                            n_jobs=8)\n",
    "\n",
    "# _=grid_search.fit(X, y)\n",
    "# grid_search.best_score_\n",
    "# grid_search.best_params_"
   ]
  },
  {
   "cell_type": "code",
   "execution_count": null,
   "metadata": {},
   "outputs": [],
   "source": [
    "X = X.reshape(-1,1)"
   ]
  },
  {
   "cell_type": "code",
   "execution_count": 27,
   "metadata": {},
   "outputs": [
    {
     "data": {
      "text/plain": [
       "array([0.73759296, 0.44316285, 0.0880255 , 4.        ])"
      ]
     },
     "execution_count": 27,
     "metadata": {},
     "output_type": "execute_result"
    },
    {
     "data": {
      "text/plain": [
       "(53, 4)"
      ]
     },
     "execution_count": 27,
     "metadata": {},
     "output_type": "execute_result"
    }
   ],
   "source": [
    "X[0]\n",
    "X.shape"
   ]
  },
  {
   "cell_type": "code",
   "execution_count": 19,
   "metadata": {},
   "outputs": [],
   "source": [
    "svr = svm.SVR(kernel='poly',  degree=3)\n",
    "rf = ensemble.RandomForestRegressor(max_depth=3, max_features=3)\n",
    "dt = tree.DecisionTreeRegressor(max_depth=3, max_features=3)\n",
    "gb = ensemble.GradientBoostingRegressor(learning_rate=0.00/9, max_depth=3, max_features=3, subsample=1)\n",
    "\n",
    "linear = linear_model.LinearRegression()\n",
    "bayes = linear_model.BayesianRidge()\n",
    "knn = neighbors.KNeighborsRegressor()\n",
    "\n",
    "bag_rf = ensemble.BaggingRegressor(rf)\n",
    "bag_svr = ensemble.BaggingRegressor(svr)\n",
    "\n",
    "ada = ensemble.AdaBoostRegressor()\n",
    "ada_svr = ensemble.AdaBoostRegressor(svm.NuSVR(kernel='poly', degree=3, tol=12.3, gamma=0.28), learning_rate=0.001, loss='linear')\n",
    "ada_dt = ensemble.AdaBoostRegressor(dt, learning_rate=0.03, loss='linear')\n",
    "ada_rf = ensemble.AdaBoostRegressor(rf, learning_rate=0.03, loss='linear')\n",
    "\n",
    "regrs = [\n",
    "#     [linear, 'Linear Regression'],\n",
    "#     [svm.NuSVR(kernel='poly', degree=3, tol=12.3, gamma=0.3), 'NuSVR'],\n",
    "#     [svm.SVR(kernel='poly', degree=3, tol=1), 'SVR'],\n",
    "#     [bayes, 'Bayesian Ridge'],\n",
    "#     [rf, 'Random Forest'],\n",
    "#     [dt, 'Decision Tree'],\n",
    "#     [gb, 'Gradient Boosting'],\n",
    "#     [ada_svr, 'Ada SVR'],\n",
    "#     [ada_dt, 'Ada DT'],\n",
    "#     [ada_rf, 'Ada RF'],\n",
    "#     [knn, 'KNeighbors'],\n",
    "#     [bag_rf, 'Bagging RF'],\n",
    "#     [bag_svr, 'Bagging SVR']\n",
    "]"
   ]
  },
  {
   "cell_type": "code",
   "execution_count": 28,
   "metadata": {},
   "outputs": [
    {
     "data": {
      "text/html": [
       "<div>\n",
       "<style scoped>\n",
       "    .dataframe tbody tr th:only-of-type {\n",
       "        vertical-align: middle;\n",
       "    }\n",
       "\n",
       "    .dataframe tbody tr th {\n",
       "        vertical-align: top;\n",
       "    }\n",
       "\n",
       "    .dataframe thead th {\n",
       "        text-align: right;\n",
       "    }\n",
       "</style>\n",
       "<table border=\"1\" class=\"dataframe\">\n",
       "  <thead>\n",
       "    <tr style=\"text-align: right;\">\n",
       "      <th></th>\n",
       "      <th>R-squared</th>\n",
       "      <th>Pearson</th>\n",
       "      <th>Spearman</th>\n",
       "    </tr>\n",
       "  </thead>\n",
       "  <tbody>\n",
       "    <tr>\n",
       "      <th>NuSVR-1</th>\n",
       "      <td>0.181</td>\n",
       "      <td>0.4261</td>\n",
       "      <td>0.446</td>\n",
       "    </tr>\n",
       "    <tr>\n",
       "      <th>Average</th>\n",
       "      <td>0.181</td>\n",
       "      <td>0.4261</td>\n",
       "      <td>0.446</td>\n",
       "    </tr>\n",
       "  </tbody>\n",
       "</table>\n",
       "</div>"
      ],
      "text/plain": [
       "         R-squared  Pearson  Spearman\n",
       "NuSVR-1      0.181   0.4261     0.446\n",
       "Average      0.181   0.4261     0.446"
      ]
     },
     "execution_count": 28,
     "metadata": {},
     "output_type": "execute_result"
    }
   ],
   "source": [
    "regrs = [\n",
    "#     [linear, 'Linear Regression'],\n",
    "    [svm.NuSVR(kernel='poly', degree=3, tol=12.3, gamma=0.28), 'NuSVR'],\n",
    "#     [svm.SVR(kernel='poly', degree=3, tol=1), 'SVR'],\n",
    "#     [bayes, 'Bayesian Ridge'],\n",
    "#     [rf, 'Random Forest'],\n",
    "#     [dt, 'Decision Tree'],\n",
    "#     [gb, 'Gradient Boosting'],\n",
    "#     [ada_svr, 'Ada SVR'],\n",
    "]\n",
    "\n",
    "df_selection = []\n",
    "for k in range(1):\n",
    "    df_compare = []\n",
    "    for regr, name in regrs:\n",
    "        y_pred, y_true = [], []\n",
    "        for train_index, test_index in loo.split(X):\n",
    "            X_train, X_test = X[train_index], X[test_index]\n",
    "            Y_train, Y_test = y[train_index], y[test_index]\n",
    "            _=regr.fit(X_train, Y_train)\n",
    "            pred = regr.predict(X_test)\n",
    "            y_true.append(np.squeeze(Y_test))\n",
    "            y_pred.append(np.squeeze(pred))\n",
    "\n",
    "        y_true = np.array(y_true)\n",
    "        y_pred = np.array(y_pred)\n",
    "\n",
    "        df_compare.append([\n",
    "            name+'-'+str(k+1),\n",
    "            metrics.r2_score(y_true, y_pred),\n",
    "            pearsonr(y_true, y_pred)[0],\n",
    "            spearmanr(y_true, y_pred)[0]\n",
    "        ])\n",
    "\n",
    "    df_compare = pd.DataFrame.from_records(df_compare)\n",
    "    df_compare.columns = ['Model','R-squared','Pearson','Spearman']\n",
    "    df_compare = df_compare.set_index('Model')\n",
    "    df_compare = df_compare.round(4)\n",
    "    df_selection.append(df_compare)\n",
    "df_selection = pd.concat(df_selection, axis=0)\n",
    "\n",
    "tmp = pd.DataFrame([[df_selection['R-squared'].mean(), \n",
    "                     df_selection['Pearson'].mean(), \n",
    "                     df_selection['Spearman'].mean()]])\n",
    "tmp.columns = ['R-squared','Pearson','Spearman']\n",
    "tmp.index = ['Average']\n",
    "\n",
    "df_selection = df_selection.append(tmp)\n",
    "df_selection"
   ]
  },
  {
   "cell_type": "code",
   "execution_count": 30,
   "metadata": {},
   "outputs": [
    {
     "name": "stdout",
     "output_type": "stream",
     "text": [
      "R-squared: 0.18097336328228186\n",
      "Person: (0.42613722141249766, 0.0014649903995768562)\n",
      "SpearmanrResult(correlation=0.4459633971977265, pvalue=0.0008175740595549722) \n",
      "\n",
      "This is the format of your plot grid:\n",
      "[ (1,1) x1,y1 ]\n",
      "\n"
     ]
    },
    {
     "data": {
      "application/vnd.plotly.v1+json": {
       "data": [
        {
         "marker": {
          "opacity": 0.5,
          "size": 12
         },
         "mode": "markers",
         "name": "Scatter",
         "type": "scatter",
         "uid": "9a8644",
         "x": [
          15.73,
          10,
          30.22,
          27,
          15,
          33.5,
          9.5,
          22.12,
          33.5,
          35.5,
          38.33,
          72,
          41.25,
          15,
          13.21,
          5.58,
          6.3,
          6.18,
          17.15,
          31.82,
          29.45,
          23.01,
          15,
          7.5,
          31.25,
          32.5,
          42.5,
          17.86,
          57.5,
          57.5,
          12.5,
          54.5,
          33.12,
          68,
          18.96,
          70,
          33.33,
          32.5,
          16.2,
          50,
          30,
          10,
          30,
          53.33,
          37.5,
          62.78,
          40,
          43,
          25.83,
          50,
          42.5,
          22.5,
          22.5
         ],
         "xaxis": "x",
         "y": [
          32.00093203796827,
          36.68852582872257,
          29.440844269886504,
          30.35863731755849,
          28.256845705629118,
          30.625884158334273,
          45.50597952005932,
          26.98816357098861,
          28.248524694380606,
          26.926255567179357,
          26.027982386610937,
          33.33196916686189,
          30.23045130658818,
          31.96098653375862,
          11.435655183291434,
          27.30407632553736,
          27.669673486730634,
          27.30374816073934,
          23.043906627582793,
          27.011009564595426,
          31.953275070550017,
          27.39244000054278,
          28.199650169130347,
          27.434925998697814,
          31.985500283480928,
          29.04953268022084,
          34.1193148889547,
          27.1479499104825,
          66.35837024259993,
          47.49467330863619,
          29.614300255646658,
          29.425180268880958,
          30.422253171860408,
          34.94111979303155,
          27.993911942775675,
          31.662868316728158,
          30.65020904544949,
          26.971896884133006,
          30.000507698036227,
          35.441009237134885,
          33.60337201525172,
          22.99088501636912,
          30.248984920311045,
          54.45578483838341,
          30.482507486660282,
          29.585982532570416,
          32.56896610919365,
          35.16536787953637,
          25.16010766344431,
          28.622298178201277,
          38.66676945083452,
          28.07143404280909,
          32.32733156208705
         ],
         "yaxis": "y"
        },
        {
         "line": {
          "width": 4
         },
         "mode": "lines",
         "name": "Regression",
         "type": "scatter",
         "uid": "75cae8",
         "x": [
          15.73,
          10,
          30.22,
          27,
          15,
          33.5,
          9.5,
          22.12,
          33.5,
          35.5,
          38.33,
          72,
          41.25,
          15,
          13.21,
          5.58,
          6.3,
          6.18,
          17.15,
          31.82,
          29.45,
          23.01,
          15,
          7.5,
          31.25,
          32.5,
          42.5,
          17.86,
          57.5,
          57.5,
          12.5,
          54.5,
          33.12,
          68,
          18.96,
          70,
          33.33,
          32.5,
          16.2,
          50,
          30,
          10,
          30,
          53.33,
          37.5,
          62.78,
          40,
          43,
          25.83,
          50,
          42.5,
          22.5,
          22.5
         ],
         "xaxis": "x",
         "y": [
          28.3757729171716,
          27.27886662290589,
          31.149624959738805,
          30.533213394723873,
          28.236027438146472,
          31.77752245453663,
          27.18315054138183,
          29.599024439049064,
          31.77752245453663,
          32.16038678063286,
          32.70213980205903,
          39.14766073188912,
          33.26112171815953,
          28.236027438146472,
          27.893363866290343,
          26.432736462233215,
          26.57056761962786,
          26.547595760062087,
          28.647606588699922,
          31.455916420615793,
          31.002222194191756,
          29.769399064161888,
          28.236027438146472,
          26.8002862152856,
          31.346800087678368,
          31.58609029148851,
          33.50041192196968,
          28.783523424464086,
          36.371894367691425,
          36.371894367691425,
          27.757447030526183,
          35.79759787854707,
          31.704778232578345,
          38.38193207969665,
          28.994098803817014,
          38.76479640579288,
          31.74497898681845,
          31.58609029148851,
          28.465746033804212,
          34.93615314483055,
          31.10750988386822,
          27.27886662290589,
          31.10750988386822,
          35.573622247780776,
          32.543251106729095,
          37.38265618858548,
          33.02183151434939,
          33.59612800349373,
          30.309237763957576,
          34.93615314483055,
          33.50041192196968,
          29.67176866100735,
          29.67176866100735
         ],
         "yaxis": "y"
        }
       ],
       "layout": {
        "autosize": true,
        "font": {
         "size": 16
        },
        "title": "Entire year (53 data points): NuSVR<br>R-squared: 0.181, Pearson: 0.4261, Spearman: 0.446",
        "xaxis": {
         "anchor": "y",
         "autorange": true,
         "domain": [
          0,
          1
         ],
         "range": [
          0.5511030478955004,
          77.0288969521045
         ],
         "title": "Breteau index",
         "type": "linear"
        },
        "yaxis": {
         "anchor": "x",
         "autorange": true,
         "domain": [
          0,
          1
         ],
         "range": [
          6.482110225739505,
          71.31191520015186
         ],
         "title": "Predicted",
         "type": "linear"
        }
       }
      },
      "text/html": [
       "<div id=\"c9178c83-9500-43e2-81c7-52a99bea219f\" style=\"height: 525px; width: 650px;\" class=\"plotly-graph-div\"></div><script type=\"text/javascript\">require([\"plotly\"], function(Plotly) { window.PLOTLYENV=window.PLOTLYENV || {};window.PLOTLYENV.BASE_URL=\"https://plot.ly\";Plotly.newPlot(\"c9178c83-9500-43e2-81c7-52a99bea219f\", [{\"name\": \"Scatter\", \"yaxis\": \"y1\", \"mode\": \"markers\", \"marker\": {\"size\": 12, \"opacity\": 0.5}, \"xaxis\": \"x1\", \"x\": [15.73, 10.0, 30.22, 27.0, 15.0, 33.5, 9.5, 22.12, 33.5, 35.5, 38.33, 72.0, 41.25, 15.0, 13.21, 5.58, 6.3, 6.18, 17.15, 31.82, 29.45, 23.01, 15.0, 7.5, 31.25, 32.5, 42.5, 17.86, 57.5, 57.5, 12.5, 54.5, 33.12, 68.0, 18.96, 70.0, 33.33, 32.5, 16.2, 50.0, 30.0, 10.0, 30.0, 53.33, 37.5, 62.78, 40.0, 43.0, 25.83, 50.0, 42.5, 22.5, 22.5], \"y\": [32.00093203796827, 36.68852582872257, 29.440844269886504, 30.35863731755849, 28.256845705629118, 30.625884158334273, 45.50597952005932, 26.98816357098861, 28.248524694380606, 26.926255567179357, 26.027982386610937, 33.33196916686189, 30.23045130658818, 31.96098653375862, 11.435655183291434, 27.30407632553736, 27.669673486730634, 27.30374816073934, 23.043906627582793, 27.011009564595426, 31.953275070550017, 27.39244000054278, 28.199650169130347, 27.434925998697814, 31.985500283480928, 29.04953268022084, 34.1193148889547, 27.1479499104825, 66.35837024259993, 47.49467330863619, 29.614300255646658, 29.425180268880958, 30.422253171860408, 34.94111979303155, 27.993911942775675, 31.662868316728158, 30.65020904544949, 26.971896884133006, 30.000507698036227, 35.441009237134885, 33.60337201525172, 22.99088501636912, 30.248984920311045, 54.45578483838341, 30.482507486660282, 29.585982532570416, 32.56896610919365, 35.16536787953637, 25.16010766344431, 28.622298178201277, 38.66676945083452, 28.07143404280909, 32.32733156208705], \"type\": \"scatter\"}, {\"name\": \"Regression\", \"yaxis\": \"y1\", \"mode\": \"lines\", \"xaxis\": \"x1\", \"x\": [15.73, 10.0, 30.22, 27.0, 15.0, 33.5, 9.5, 22.12, 33.5, 35.5, 38.33, 72.0, 41.25, 15.0, 13.21, 5.58, 6.3, 6.18, 17.15, 31.82, 29.45, 23.01, 15.0, 7.5, 31.25, 32.5, 42.5, 17.86, 57.5, 57.5, 12.5, 54.5, 33.12, 68.0, 18.96, 70.0, 33.33, 32.5, 16.2, 50.0, 30.0, 10.0, 30.0, 53.33, 37.5, 62.78, 40.0, 43.0, 25.83, 50.0, 42.5, 22.5, 22.5], \"line\": {\"width\": 4}, \"y\": [28.3757729171716, 27.27886662290589, 31.149624959738805, 30.533213394723873, 28.236027438146472, 31.77752245453663, 27.18315054138183, 29.599024439049064, 31.77752245453663, 32.16038678063286, 32.70213980205903, 39.14766073188912, 33.26112171815953, 28.236027438146472, 27.893363866290343, 26.432736462233215, 26.57056761962786, 26.547595760062087, 28.647606588699922, 31.455916420615793, 31.002222194191756, 29.769399064161888, 28.236027438146472, 26.8002862152856, 31.346800087678368, 31.58609029148851, 33.50041192196968, 28.783523424464086, 36.371894367691425, 36.371894367691425, 27.757447030526183, 35.79759787854707, 31.704778232578345, 38.38193207969665, 28.994098803817014, 38.76479640579288, 31.74497898681845, 31.58609029148851, 28.465746033804212, 34.93615314483055, 31.10750988386822, 27.27886662290589, 31.10750988386822, 35.573622247780776, 32.543251106729095, 37.38265618858548, 33.02183151434939, 33.59612800349373, 30.309237763957576, 34.93615314483055, 33.50041192196968, 29.67176866100735, 29.67176866100735], \"type\": \"scatter\"}], {\"xaxis1\": {\"title\": \"Breteau index\", \"domain\": [0.0, 1.0], \"anchor\": \"y1\"}, \"font\": {\"size\": 16}, \"width\": 650, \"yaxis1\": {\"title\": \"Predicted\", \"domain\": [0.0, 1.0], \"anchor\": \"x1\"}, \"title\": \"Entire year (53 data points): NuSVR<br>R-squared: 0.181, Pearson: 0.4261, Spearman: 0.446\"}, {\"linkText\": \"Export to plot.ly\", \"showLink\": true})});</script>"
      ],
      "text/vnd.plotly.v1+html": [
       "<div id=\"c9178c83-9500-43e2-81c7-52a99bea219f\" style=\"height: 525px; width: 650px;\" class=\"plotly-graph-div\"></div><script type=\"text/javascript\">require([\"plotly\"], function(Plotly) { window.PLOTLYENV=window.PLOTLYENV || {};window.PLOTLYENV.BASE_URL=\"https://plot.ly\";Plotly.newPlot(\"c9178c83-9500-43e2-81c7-52a99bea219f\", [{\"name\": \"Scatter\", \"yaxis\": \"y1\", \"mode\": \"markers\", \"marker\": {\"size\": 12, \"opacity\": 0.5}, \"xaxis\": \"x1\", \"x\": [15.73, 10.0, 30.22, 27.0, 15.0, 33.5, 9.5, 22.12, 33.5, 35.5, 38.33, 72.0, 41.25, 15.0, 13.21, 5.58, 6.3, 6.18, 17.15, 31.82, 29.45, 23.01, 15.0, 7.5, 31.25, 32.5, 42.5, 17.86, 57.5, 57.5, 12.5, 54.5, 33.12, 68.0, 18.96, 70.0, 33.33, 32.5, 16.2, 50.0, 30.0, 10.0, 30.0, 53.33, 37.5, 62.78, 40.0, 43.0, 25.83, 50.0, 42.5, 22.5, 22.5], \"y\": [32.00093203796827, 36.68852582872257, 29.440844269886504, 30.35863731755849, 28.256845705629118, 30.625884158334273, 45.50597952005932, 26.98816357098861, 28.248524694380606, 26.926255567179357, 26.027982386610937, 33.33196916686189, 30.23045130658818, 31.96098653375862, 11.435655183291434, 27.30407632553736, 27.669673486730634, 27.30374816073934, 23.043906627582793, 27.011009564595426, 31.953275070550017, 27.39244000054278, 28.199650169130347, 27.434925998697814, 31.985500283480928, 29.04953268022084, 34.1193148889547, 27.1479499104825, 66.35837024259993, 47.49467330863619, 29.614300255646658, 29.425180268880958, 30.422253171860408, 34.94111979303155, 27.993911942775675, 31.662868316728158, 30.65020904544949, 26.971896884133006, 30.000507698036227, 35.441009237134885, 33.60337201525172, 22.99088501636912, 30.248984920311045, 54.45578483838341, 30.482507486660282, 29.585982532570416, 32.56896610919365, 35.16536787953637, 25.16010766344431, 28.622298178201277, 38.66676945083452, 28.07143404280909, 32.32733156208705], \"type\": \"scatter\"}, {\"name\": \"Regression\", \"yaxis\": \"y1\", \"mode\": \"lines\", \"xaxis\": \"x1\", \"x\": [15.73, 10.0, 30.22, 27.0, 15.0, 33.5, 9.5, 22.12, 33.5, 35.5, 38.33, 72.0, 41.25, 15.0, 13.21, 5.58, 6.3, 6.18, 17.15, 31.82, 29.45, 23.01, 15.0, 7.5, 31.25, 32.5, 42.5, 17.86, 57.5, 57.5, 12.5, 54.5, 33.12, 68.0, 18.96, 70.0, 33.33, 32.5, 16.2, 50.0, 30.0, 10.0, 30.0, 53.33, 37.5, 62.78, 40.0, 43.0, 25.83, 50.0, 42.5, 22.5, 22.5], \"line\": {\"width\": 4}, \"y\": [28.3757729171716, 27.27886662290589, 31.149624959738805, 30.533213394723873, 28.236027438146472, 31.77752245453663, 27.18315054138183, 29.599024439049064, 31.77752245453663, 32.16038678063286, 32.70213980205903, 39.14766073188912, 33.26112171815953, 28.236027438146472, 27.893363866290343, 26.432736462233215, 26.57056761962786, 26.547595760062087, 28.647606588699922, 31.455916420615793, 31.002222194191756, 29.769399064161888, 28.236027438146472, 26.8002862152856, 31.346800087678368, 31.58609029148851, 33.50041192196968, 28.783523424464086, 36.371894367691425, 36.371894367691425, 27.757447030526183, 35.79759787854707, 31.704778232578345, 38.38193207969665, 28.994098803817014, 38.76479640579288, 31.74497898681845, 31.58609029148851, 28.465746033804212, 34.93615314483055, 31.10750988386822, 27.27886662290589, 31.10750988386822, 35.573622247780776, 32.543251106729095, 37.38265618858548, 33.02183151434939, 33.59612800349373, 30.309237763957576, 34.93615314483055, 33.50041192196968, 29.67176866100735, 29.67176866100735], \"type\": \"scatter\"}], {\"xaxis1\": {\"title\": \"Breteau index\", \"domain\": [0.0, 1.0], \"anchor\": \"y1\"}, \"font\": {\"size\": 16}, \"width\": 650, \"yaxis1\": {\"title\": \"Predicted\", \"domain\": [0.0, 1.0], \"anchor\": \"x1\"}, \"title\": \"Entire year (53 data points): NuSVR<br>R-squared: 0.181, Pearson: 0.4261, Spearman: 0.446\"}, {\"linkText\": \"Export to plot.ly\", \"showLink\": true})});</script>"
      ]
     },
     "metadata": {},
     "output_type": "display_data"
    }
   ],
   "source": [
    "k = 0\n",
    "plot_one_regression(\n",
    "    regrs[k][0], \n",
    "    'Entire year ('+str(X.shape[0])+' data points): '+regrs[k][1]+'<br>'\n",
    ")"
   ]
  },
  {
   "cell_type": "code",
   "execution_count": 20,
   "metadata": {},
   "outputs": [
    {
     "data": {
      "application/vnd.plotly.v1+json": {
       "data": [
        {
         "marker": {
          "color": "rgb(158,202,225)",
          "line": {
           "color": "rgb(8,48,107)",
           "width": 1.5
          }
         },
         "name": "Variable Importance",
         "opacity": 0.8,
         "type": "bar",
         "uid": "174bdc",
         "x": [
          "jar",
          "pottedplant",
          "tire",
          "bucket",
          "bin",
          "bowl"
         ],
         "y": [
          100,
          61.12808915448766,
          32.163661149232446,
          18.494210367163515,
          9.48487453760372,
          1.3552926652571264
         ]
        }
       ],
       "layout": {
        "autosize": true,
        "font": {
         "size": 16
        },
        "title": "Gradient Boosting",
        "xaxis": {
         "autorange": true,
         "range": [
          -0.5,
          5.5
         ],
         "title": "Breeding site",
         "type": "category"
        },
        "yaxis": {
         "autorange": true,
         "range": [
          0,
          105.26315789473684
         ],
         "title": "Relative Importance",
         "type": "linear"
        }
       }
      },
      "text/html": [
       "<div id=\"85f85ab2-5ce9-43fa-8379-b3d125f7473e\" style=\"height: 525px; width: 650px;\" class=\"plotly-graph-div\"></div><script type=\"text/javascript\">require([\"plotly\"], function(Plotly) { window.PLOTLYENV=window.PLOTLYENV || {};window.PLOTLYENV.BASE_URL=\"https://plot.ly\";Plotly.newPlot(\"85f85ab2-5ce9-43fa-8379-b3d125f7473e\", [{\"name\": \"Variable Importance\", \"type\": \"bar\", \"marker\": {\"line\": {\"color\": \"rgb(8,48,107)\", \"width\": 1.5}, \"color\": \"rgb(158,202,225)\"}, \"y\": [100.0, 61.12808915448766, 32.163661149232446, 18.494210367163515, 9.48487453760372, 1.3552926652571264], \"x\": [\"jar\", \"pottedplant\", \"tire\", \"bucket\", \"bin\", \"bowl\"], \"opacity\": 0.8}], {\"yaxis\": {\"title\": \"Relative Importance\"}, \"title\": \"Gradient Boosting\", \"width\": 650, \"xaxis\": {\"title\": \"Breeding site\"}, \"font\": {\"size\": 16}}, {\"linkText\": \"Export to plot.ly\", \"showLink\": true})});</script>"
      ],
      "text/vnd.plotly.v1+html": [
       "<div id=\"85f85ab2-5ce9-43fa-8379-b3d125f7473e\" style=\"height: 525px; width: 650px;\" class=\"plotly-graph-div\"></div><script type=\"text/javascript\">require([\"plotly\"], function(Plotly) { window.PLOTLYENV=window.PLOTLYENV || {};window.PLOTLYENV.BASE_URL=\"https://plot.ly\";Plotly.newPlot(\"85f85ab2-5ce9-43fa-8379-b3d125f7473e\", [{\"name\": \"Variable Importance\", \"type\": \"bar\", \"marker\": {\"line\": {\"color\": \"rgb(8,48,107)\", \"width\": 1.5}, \"color\": \"rgb(158,202,225)\"}, \"y\": [100.0, 61.12808915448766, 32.163661149232446, 18.494210367163515, 9.48487453760372, 1.3552926652571264], \"x\": [\"jar\", \"pottedplant\", \"tire\", \"bucket\", \"bin\", \"bowl\"], \"opacity\": 0.8}], {\"yaxis\": {\"title\": \"Relative Importance\"}, \"title\": \"Gradient Boosting\", \"width\": 650, \"xaxis\": {\"title\": \"Breeding site\"}, \"font\": {\"size\": 16}}, {\"linkText\": \"Export to plot.ly\", \"showLink\": true})});</script>"
      ]
     },
     "metadata": {},
     "output_type": "display_data"
    }
   ],
   "source": [
    "visualizer.plot_importance(regrs[2][0], regrs[2][1], X, y, loo, features_name)"
   ]
  }
 ],
 "metadata": {
  "kernelspec": {
   "display_name": "Python 3",
   "language": "python",
   "name": "python3"
  },
  "language_info": {
   "codemirror_mode": {
    "name": "ipython",
    "version": 3
   },
   "file_extension": ".py",
   "mimetype": "text/x-python",
   "name": "python",
   "nbconvert_exporter": "python",
   "pygments_lexer": "ipython3",
   "version": "3.5.2"
  }
 },
 "nbformat": 4,
 "nbformat_minor": 2
}
